{
 "cells": [
  {
   "cell_type": "markdown",
   "metadata": {},
   "source": [
    "# 階層的クラスタ分析"
   ]
  },
  {
   "cell_type": "markdown",
   "metadata": {},
   "source": [
    "<img src='slides/40.png'>"
   ]
  },
  {
   "cell_type": "code",
   "execution_count": null,
   "metadata": {},
   "outputs": [],
   "source": [
    "import pandas as pd\n",
    "\n",
    "# 上記、クラスタリング用データ\n",
    "data = [\n",
    "    [5, 1],\n",
    "    [4, 2],\n",
    "    [1, 5],\n",
    "    [5, 4],\n",
    "    [5, 5]\n",
    "]\n",
    "\n",
    "# pandas DataFrame に変換\n",
    "df = pd.DataFrame(data, columns=['attr1', 'attr2'], index=['x1', 'x2', 'x3', 'x4', 'x5'])\n",
    "\n",
    "# 確認\n",
    "df"
   ]
  },
  {
   "cell_type": "markdown",
   "metadata": {},
   "source": [
    "<hr>\n",
    "\n",
    "### 距離の計算"
   ]
  },
  {
   "cell_type": "code",
   "execution_count": null,
   "metadata": {},
   "outputs": [],
   "source": [
    "# pdist: 2点間の距離を計算\n",
    "# - スライドの例に合わせて、ユークリッド距離の二乗で計算\n",
    "# - 計算結果は、データの組み合わせだけ\n",
    "from scipy.spatial.distance import pdist\n",
    "\n",
    "dist = pdist(df, lambda x, y: ((x - y) ** 2).sum())\n",
    "\n",
    "# 確認\n",
    "dist"
   ]
  },
  {
   "cell_type": "code",
   "execution_count": null,
   "metadata": {},
   "outputs": [],
   "source": [
    "# pdist で計算した距離を確認しやすいように、対称距離行列を作成\n",
    "# squareform: 対称行列を作成\n",
    "from scipy.spatial.distance import squareform\n",
    "\n",
    "pd.DataFrame(squareform(dist), columns=df.index, index=df.index)"
   ]
  },
  {
   "cell_type": "markdown",
   "metadata": {},
   "source": [
    "以下のスライドの表と、同じになっていることを確認。\n",
    "\n",
    "![非類似度](slides/40_1.png)\n"
   ]
  },
  {
   "cell_type": "markdown",
   "metadata": {},
   "source": [
    "<hr>\n",
    "\n",
    "### 距離の計算 (2)\n",
    "\n",
    "- ユークリッド距離\n",
    "- マンハッタン距離（市街区距離）"
   ]
  },
  {
   "cell_type": "code",
   "execution_count": null,
   "metadata": {},
   "outputs": [],
   "source": [
    "# pdist のオプションでユークリッド距離を指定\n",
    "# - metric='euclidean'\n",
    "pd.DataFrame(squareform(pdist(df, metric='euclidean')), columns=df.index, index=df.index)"
   ]
  },
  {
   "cell_type": "code",
   "execution_count": null,
   "metadata": {},
   "outputs": [],
   "source": [
    "# マンハッタン距離（市街区距離）\n",
    "# - metric='cityblock'\n",
    "pd.DataFrame(squareform(pdist(df, metric='cityblock')), columns=df.index, index=df.index)"
   ]
  },
  {
   "cell_type": "markdown",
   "metadata": {},
   "source": [
    "<hr>\n",
    "\n",
    "### 樹形図の作成\n",
    "\n",
    "pdist で作成した距離をもとに階層的凝集クラスタリングを行い、樹形図を作成。"
   ]
  },
  {
   "cell_type": "code",
   "execution_count": null,
   "metadata": {},
   "outputs": [],
   "source": [
    "# pdist: 2点間の距離を計算\n",
    "# - ユークリッド距離の二乗で計算\n",
    "dist = pdist(df, lambda x, y: ((x - y) ** 2).sum())\n",
    "dist"
   ]
  },
  {
   "cell_type": "code",
   "execution_count": null,
   "metadata": {},
   "outputs": [],
   "source": [
    "# linkage: 階層的凝集クラスタリング\n",
    "# - method='single' 最小非類似度\n",
    "from scipy.cluster.hierarchy import linkage\n",
    "clusters = linkage(dist, method='single')\n",
    "\n",
    "# dendrogram: 樹形図の作成\n",
    "from scipy.cluster.hierarchy import dendrogram\n",
    "dendr = dendrogram(clusters, labels=df.index)"
   ]
  },
  {
   "cell_type": "code",
   "execution_count": null,
   "metadata": {},
   "outputs": [],
   "source": [
    "# 階層的凝集クラスタリング\n",
    "# - method='complete' 最大非類似度\n",
    "dendr = dendrogram(linkage(dist, method='complete'), labels=df.index)"
   ]
  },
  {
   "cell_type": "code",
   "execution_count": null,
   "metadata": {},
   "outputs": [],
   "source": [
    "# 階層的凝集クラスタリング\n",
    "# - method='average' 平均非類似度\n",
    "dendr = dendrogram(linkage(dist, method='average'), labels=df.index)"
   ]
  },
  {
   "cell_type": "code",
   "execution_count": null,
   "metadata": {},
   "outputs": [],
   "source": [
    "# 階層的凝集クラスタリング\n",
    "# - method='centroid' 重心法\n",
    "dendr = dendrogram(linkage(dist, method='centroid'), labels=df.index)"
   ]
  },
  {
   "cell_type": "code",
   "execution_count": null,
   "metadata": {},
   "outputs": [],
   "source": [
    "# 階層的凝集クラスタリング\n",
    "# - method='ward' Ward法\n",
    "dendr = dendrogram(linkage(dist, method='ward'), labels=df.index)"
   ]
  },
  {
   "cell_type": "markdown",
   "metadata": {},
   "source": [
    "<hr>\n",
    "\n",
    "### 樹形図の作成 (2)\n",
    "\n",
    "linkage で距離の計算まで処理して階層的凝集クラスタリングを行い、樹形図を作成。\n",
    "\n",
    "- metric に距離の計算方法を指定。"
   ]
  },
  {
   "cell_type": "code",
   "execution_count": null,
   "metadata": {},
   "outputs": [],
   "source": [
    "dendr = dendrogram(linkage(df.values, method='single',\n",
    "                           metric=(lambda x, y: ((x - y) ** 2).sum())),\n",
    "                   labels=df.index)"
   ]
  },
  {
   "cell_type": "code",
   "execution_count": null,
   "metadata": {},
   "outputs": [],
   "source": [
    "dendr = dendrogram(linkage(df.values, method='single', metric='euclidean'), labels=df.index)"
   ]
  },
  {
   "cell_type": "code",
   "execution_count": null,
   "metadata": {},
   "outputs": [],
   "source": []
  }
 ],
 "metadata": {
  "kernelspec": {
   "display_name": "base",
   "language": "python",
   "name": "python3"
  },
  "language_info": {
   "codemirror_mode": {
    "name": "ipython",
    "version": 3
   },
   "file_extension": ".py",
   "mimetype": "text/x-python",
   "name": "python",
   "nbconvert_exporter": "python",
   "pygments_lexer": "ipython3",
   "version": "3.9.15 | packaged by conda-forge | (main, Nov 22 2022, 08:52:10) \n[Clang 14.0.6 ]"
  },
  "vscode": {
   "interpreter": {
    "hash": "d451e6fd3e3a90eb92742bb146e8e20c8a00180dad068226f141e79828259f8f"
   }
  }
 },
 "nbformat": 4,
 "nbformat_minor": 4
}
