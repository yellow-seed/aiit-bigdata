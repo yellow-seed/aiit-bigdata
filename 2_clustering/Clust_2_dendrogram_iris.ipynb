{
 "cells": [
  {
   "cell_type": "markdown",
   "metadata": {},
   "source": [
    "# 階層的クラスタ分析\n",
    "\n",
    "Iris（あやめ）を対象として階層的クラスタ分析\n",
    "\n",
    "- 特徴量\n",
    "  - sepal_length （がく片の長さ）\n",
    "  - sepal_width （がく片の幅）\n",
    "  - petal_length （花弁の長さ）\n",
    "  - petal_width （花弁の幅）\n",
    "- 種 (species) のカテゴリ\n",
    "  - setosa ， versicolor ， virginica"
   ]
  },
  {
   "cell_type": "code",
   "execution_count": null,
   "metadata": {},
   "outputs": [],
   "source": [
    "import pandas as pd\n",
    "import numpy as np\n",
    "import seaborn as sns\n",
    "import matplotlib.pyplot as plt\n",
    "from scipy.cluster.hierarchy import linkage, dendrogram\n",
    "\n",
    "iris = sns.load_dataset('iris')\n",
    "\n",
    "# 各種を確認\n",
    "iris.iloc[[0, 50, 100]]"
   ]
  },
  {
   "cell_type": "code",
   "execution_count": null,
   "metadata": {},
   "outputs": [],
   "source": [
    "# 散布図でデータの重なりを見る\n",
    "sns.pairplot(iris, hue='species')"
   ]
  },
  {
   "cell_type": "code",
   "execution_count": null,
   "metadata": {},
   "outputs": [],
   "source": [
    "# クラスタリング対象のデータから species 列を削除\n",
    "X = iris.drop(['species'], axis=1)\n",
    "\n",
    "# 階層的凝集クラスタリング\n",
    "# - metric='euclidean' ユークリッド距離\n",
    "# - method='single' 最小非類似度\n",
    "clusters = linkage(X.values, method='single', metric='euclidean')\n",
    "\n",
    "# 樹形図を作成\n",
    "plt.figure(figsize=(50, 20))\n",
    "dendr = dendrogram(clusters, labels=X.index, leaf_font_size=14)"
   ]
  },
  {
   "cell_type": "code",
   "execution_count": null,
   "metadata": {},
   "outputs": [],
   "source": [
    "# - method='complete' 最大非類似度\n",
    "plt.figure(figsize=(50, 20))\n",
    "clusters = linkage(X.values, method='complete', metric='euclidean')\n",
    "dendr = dendrogram(clusters, labels=X.index, leaf_font_size=14)"
   ]
  },
  {
   "cell_type": "code",
   "execution_count": null,
   "metadata": {},
   "outputs": [],
   "source": [
    "# - method='average' 平均非類似度\n",
    "plt.figure(figsize=(50, 20))\n",
    "clusters = linkage(X.values, method='average', metric='euclidean')\n",
    "dendr = dendrogram(clusters, labels=X.index, leaf_font_size=14)"
   ]
  },
  {
   "cell_type": "markdown",
   "metadata": {},
   "source": [
    "### クラスタの類似度の違い\n",
    "\n",
    "- 最小非類似度では、データを1つ1つ統合しながら、クラスタが大きくなる傾向がある。\n",
    "- 一方、最大非類似度、平均非類似度では、クラスタが同程度の大きさになる傾向がある。\n",
    "\n",
    "<hr>\n",
    "\n",
    "### ヒートマップ付きの樹形図\n",
    "\n",
    "ヒートマップは、数値の大小を色の濃さで表現する。\n",
    "\n",
    "- 枝が最も長いところのヒートマップの濃淡の違い\n",
    "- その下のクラスタのヒートマップの濃淡の違い\n",
    "\n",
    "から、クラスタの切れ目が見えやすい。"
   ]
  },
  {
   "cell_type": "code",
   "execution_count": null,
   "metadata": {},
   "outputs": [],
   "source": [
    "# - method='single' 最小非類似度\n",
    "sns.clustermap(X, method='single', metric='euclidean', figsize=(14, 18),\n",
    "               col_cluster=False)"
   ]
  },
  {
   "cell_type": "code",
   "execution_count": null,
   "metadata": {},
   "outputs": [],
   "source": [
    "# - method='complete' 最大非類似度\n",
    "sns.clustermap(X, method='complete', metric='euclidean', figsize=(14, 18),\n",
    "               col_cluster=False)"
   ]
  },
  {
   "cell_type": "code",
   "execution_count": null,
   "metadata": {},
   "outputs": [],
   "source": [
    "# - method='average' 平均非類似度\n",
    "sns.clustermap(X, method='average', metric='euclidean', figsize=(14, 18),\n",
    "               col_cluster=False)"
   ]
  },
  {
   "cell_type": "code",
   "execution_count": null,
   "metadata": {},
   "outputs": [],
   "source": [
    "# - method='centroid' 重心法\n",
    "sns.clustermap(X, method='centroid', metric='euclidean', figsize=(14, 18),\n",
    "               col_cluster=False)"
   ]
  },
  {
   "cell_type": "code",
   "execution_count": null,
   "metadata": {},
   "outputs": [],
   "source": [
    "# - method='ward' Ward法\n",
    "sns.clustermap(X, method='ward', metric='euclidean', figsize=(14, 18),\n",
    "               col_cluster=False)"
   ]
  },
  {
   "cell_type": "markdown",
   "metadata": {},
   "source": [
    "<hr>\n",
    "\n",
    "### クラスタ番号の取得\n",
    "\n",
    "階層的クラスタ分析の結果を取得する。"
   ]
  },
  {
   "cell_type": "code",
   "execution_count": null,
   "metadata": {},
   "outputs": [],
   "source": [
    "# linkage で距離の計算まで処理\n",
    "# - metric='euclidean' ユークリッド距離\n",
    "# - method='ward' ward法\n",
    "row_clusters = linkage(X.values, method='ward', metric='euclidean')\n",
    "# 樹形図を作成\n",
    "plt.figure(figsize=(50, 20))\n",
    "row_dendr = dendrogram(row_clusters, labels=X.index, leaf_font_size=14)"
   ]
  },
  {
   "cell_type": "markdown",
   "metadata": {},
   "source": [
    "クラスタ数 3 のところの結果を取得する。"
   ]
  },
  {
   "cell_type": "code",
   "execution_count": null,
   "metadata": {},
   "outputs": [],
   "source": [
    "from scipy.cluster.hierarchy import cut_tree\n",
    "# cut_tree: 指定したクラスタ数でのラベル（クラスタ番号）を取得\n",
    "# - np.ndarray.flatten: cut_tree は多次元配列で返すので、1次元配列に変換\n",
    "labels = np.ndarray.flatten(cut_tree(row_clusters, 3))\n",
    "\n",
    "# クロス集計により species と比較する。\n",
    "pd.crosstab(labels, iris.species)"
   ]
  },
  {
   "cell_type": "code",
   "execution_count": null,
   "metadata": {},
   "outputs": [],
   "source": [
    "# クラスタリング結果を散布図で描画\n",
    "sns.scatterplot(x=X.petal_length, y=X.petal_width, hue=labels)"
   ]
  },
  {
   "cell_type": "markdown",
   "metadata": {},
   "source": [
    "<hr>\n",
    "\n",
    "### クラスタリング方法の違いによる結果の差を散布図で確認\n",
    "\n",
    "クラスタ数は 3 に固定。"
   ]
  },
  {
   "cell_type": "code",
   "execution_count": null,
   "metadata": {},
   "outputs": [],
   "source": [
    "methods = {'single': '最小非類似度',\n",
    "           'complete': '最大非類似度',\n",
    "           'average': '平均非類似度',\n",
    "           'centroid': '重心法',\n",
    "           'ward': 'Ward法'}\n",
    "\n",
    "for m in methods:\n",
    "    row_clusters = linkage(X.values, method=m, metric='euclidean')\n",
    "    labels = np.ndarray.flatten(cut_tree(row_clusters, 3))\n",
    "    print(methods[m])\n",
    "    sns.scatterplot(x=X.petal_length, y=X.petal_width, hue=labels)\n",
    "    plt.show()"
   ]
  }
 ],
 "metadata": {
  "kernelspec": {
   "display_name": "base",
   "language": "python",
   "name": "python3"
  },
  "language_info": {
   "codemirror_mode": {
    "name": "ipython",
    "version": 3
   },
   "file_extension": ".py",
   "mimetype": "text/x-python",
   "name": "python",
   "nbconvert_exporter": "python",
   "pygments_lexer": "ipython3",
   "version": "3.9.13 (main, Aug 25 2022, 18:24:45) \n[Clang 12.0.0 ]"
  },
  "vscode": {
   "interpreter": {
    "hash": "d451e6fd3e3a90eb92742bb146e8e20c8a00180dad068226f141e79828259f8f"
   }
  }
 },
 "nbformat": 4,
 "nbformat_minor": 4
}
