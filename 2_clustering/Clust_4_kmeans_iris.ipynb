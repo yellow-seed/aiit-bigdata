{
 "cells": [
  {
   "cell_type": "markdown",
   "metadata": {},
   "source": [
    "# 非階層的クラスタ分析\n",
    "\n",
    "Iris を対象として非階層的クラスタ分析\n",
    "\n",
    "- 非階層的クラスタ分析ではクラスタ数を決めてデータをグループに分割\n",
    "- 適切なクラスタ数の推定"
   ]
  },
  {
   "cell_type": "code",
   "execution_count": null,
   "metadata": {},
   "outputs": [],
   "source": [
    "import pandas as pd\n",
    "import seaborn as sns\n",
    "import matplotlib.pyplot as plt\n",
    "# K-means\n",
    "from sklearn.cluster import KMeans\n",
    "\n",
    "iris = sns.load_dataset('iris')\n",
    "\n",
    "# クラスタリング対象のデータから species 列を削除\n",
    "# - 散布図で見やすいように、分類への影響が小さい sepal_length, sepal_width 列も削除\n",
    "X = iris.drop(['sepal_length', 'sepal_width', 'species'], axis=1)"
   ]
  },
  {
   "cell_type": "markdown",
   "metadata": {},
   "source": [
    "Iris の species は3種類であることがわかっているため、クラスタ数 3 でクラスタリングし、クラスタリング結果を散布図で描画。"
   ]
  },
  {
   "cell_type": "code",
   "execution_count": null,
   "metadata": {},
   "outputs": [],
   "source": [
    "model = KMeans(n_clusters=3)\n",
    "model.fit(X)\n",
    "# クラスタリング結果を散布図で描画\n",
    "sns.scatterplot(x=X.petal_length, y=X.petal_width, hue=model.labels_)\n",
    "# 重心をプロット\n",
    "plt.scatter(model.cluster_centers_[:,0], model.cluster_centers_[:,1],\n",
    "            marker='*', color='red', s=150)"
   ]
  },
  {
   "cell_type": "code",
   "execution_count": null,
   "metadata": {},
   "outputs": [],
   "source": [
    "def kmeans_plot(n):\n",
    "    print('n_clusters:', n)\n",
    "    model = KMeans(n_clusters=n)\n",
    "    model.fit(X)\n",
    "    # クラスタリング結果を散布図を描画\n",
    "    sns.scatterplot(x=X.petal_length, y=X.petal_width, hue=model.labels_)\n",
    "    # 重心をプロット\n",
    "    plt.scatter(model.cluster_centers_[:,0], model.cluster_centers_[:,1],\n",
    "                marker='*', color='red', s=150)\n",
    "    plt.show()"
   ]
  },
  {
   "cell_type": "markdown",
   "metadata": {},
   "source": [
    "クラスタ数が不明であるとすると、複数のクラスタ数で試行することになる。<br>\n",
    "そこで、クラスタ数を 2~4 に変化させて、クラスタリング結果を散布図を描画。"
   ]
  },
  {
   "cell_type": "code",
   "execution_count": null,
   "metadata": {},
   "outputs": [],
   "source": [
    "for n in range(2, 5):\n",
    "    kmeans_plot(n)"
   ]
  },
  {
   "cell_type": "markdown",
   "metadata": {},
   "source": [
    "クラスタリングの結果：\n",
    "\n",
    "- クラスタ数が 2,3 はどちらであっても良さそうに見える。\n",
    "- クラスタ数が 3 で良ければ、4 も十分にあり得そうに見える。\n",
    "\n",
    "どのクラスタ数が適切か、指標が必要。\n",
    "\n",
    "<hr>\n",
    "\n",
    "## クラスタ数の推定\n",
    "\n",
    "- エルボー法\n",
    "- シルエット分析"
   ]
  },
  {
   "cell_type": "code",
   "execution_count": null,
   "metadata": {},
   "outputs": [],
   "source": [
    "# エルボー法\n",
    "# https://github.com/rasbt/python-machine-learning-book-2nd-edition/blob/master/code/ch11/ch11.py\n",
    "import matplotlib.pyplot as plt\n",
    "distortions = []\n",
    "for n in range(1, 11):\n",
    "    model = KMeans(n_clusters=n, random_state=0)\n",
    "    model.fit(X)\n",
    "    distortions.append(model.inertia_)\n",
    "\n",
    "sns.lineplot(x=range(1, 11), y=distortions, marker='o')\n",
    "plt.xlabel('Number of Clusters')\n",
    "plt.show()"
   ]
  },
  {
   "cell_type": "markdown",
   "metadata": {},
   "source": [
    "見るところ\n",
    "- 最も折れ曲がりがあるところ"
   ]
  },
  {
   "cell_type": "code",
   "execution_count": null,
   "metadata": {},
   "outputs": [],
   "source": [
    "# シルエット分析\n",
    "# https://github.com/rasbt/python-machine-learning-book-2nd-edition/blob/master/code/ch11/ch11.py\n",
    "import numpy as np\n",
    "from sklearn.metrics import silhouette_samples\n",
    "from matplotlib import cm\n",
    "\n",
    "def silhouette(n):\n",
    "    model = KMeans(n_clusters=n, random_state=0)\n",
    "    model.fit(X)\n",
    "    cluster_labels = set(model.labels_)\n",
    "    n_clusters = len(cluster_labels)\n",
    "    silhouette_vals = silhouette_samples(X, model.labels_, metric='euclidean')\n",
    "    y_lower, y_upper = 0, 0\n",
    "    yticks = []\n",
    "    for i, c in enumerate(cluster_labels):\n",
    "        c_silhouette_vals = silhouette_vals[model.labels_ == c]\n",
    "        c_silhouette_vals.sort()\n",
    "        y_upper += len(c_silhouette_vals)\n",
    "        color = cm.jet(float(i) / n_clusters)\n",
    "        plt.barh(range(y_lower, y_upper), c_silhouette_vals, height=1.0,\n",
    "                 edgecolor='none', color=color)\n",
    "        yticks.append((y_lower + y_upper) / 2.)\n",
    "        y_lower += len(c_silhouette_vals)\n",
    "\n",
    "    silhouette_avg = np.mean(silhouette_vals)\n",
    "    plt.axvline(silhouette_avg, color=\"red\", linestyle=\"--\")\n",
    "    plt.show()\n",
    "    print('{} Clusters: Average silhouette coefficient: {:.3f}'.format(n, silhouette_avg))\n",
    "\n",
    "for n in range(2, 5):\n",
    "    silhouette(n)"
   ]
  },
  {
   "cell_type": "markdown",
   "metadata": {},
   "source": [
    "見るところ：\n",
    "- シルエット係数\n",
    "- 長さと幅が揃い方"
   ]
  },
  {
   "cell_type": "code",
   "execution_count": null,
   "metadata": {},
   "outputs": [],
   "source": []
  }
 ],
 "metadata": {
  "kernelspec": {
   "display_name": "Python 3 (ipykernel)",
   "language": "python",
   "name": "python3"
  },
  "language_info": {
   "codemirror_mode": {
    "name": "ipython",
    "version": 3
   },
   "file_extension": ".py",
   "mimetype": "text/x-python",
   "name": "python",
   "nbconvert_exporter": "python",
   "pygments_lexer": "ipython3",
   "version": "3.9.15"
  }
 },
 "nbformat": 4,
 "nbformat_minor": 4
}
