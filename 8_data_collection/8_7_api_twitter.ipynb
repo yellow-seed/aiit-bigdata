{
 "cells": [
  {
   "cell_type": "markdown",
   "id": "519339e3-aaa8-407a-bb32-86c4d603240a",
   "metadata": {},
   "source": [
    "## Twitter API V2\n",
    "\n",
    "- API V1とV2は異なることに注意\n",
    "- 月に取得可能なtweetの上限は 500,000（Dashboardで確認可能）\n",
    "\n",
    "### TwitterAPI V2 利用申請\n",
    "\n",
    "1. Twitter にログイン<br>\n",
    "アカウントが無ければ、AIITのアカウントでGoogle認証 (OAuth) が簡単\n",
    "2. 電話番号を登録（登録しないと5で先に進めない）<br>\n",
    "https://help.twitter.com/ja/managing-your-account/how-to-add-a-phone-number-to-your-account\n",
    "3. https://developer.twitter.com/ にアクセスし、右上の Sign up をクリック\n",
    "4. 質問に答えて Let's do this をクリック\n",
    "5. Developer agreement & policy の Accept Terms & Conditions に同意のチェックを入れて Submit をクリック\n",
    "6. 認証メールが届くので Confirm your email をクリック\n",
    "7. アプリケーションの名前を入力し Get keys をクリック\n",
    "8. Here are your keys. で表示された3つのパスワード (API Key, API Key Secret, Bearer Token) を保存\n",
    "9. Dashboard をクリックすると、上記3つのパスワードを保存したか再度確認されるので、Yes, I saved them をクリック\n",
    "10. Dashboard が表示される<br>\n",
    "https://developer.twitter.com/en/portal/dashboard\n",
    "\n",
    "参考\n",
    "- 【2022年最新版】面倒な利用申請が不要に！TwitterAPI v2の申請方法<br>\n",
    "https://manumaruscript.com/twitterapi-v2-howtouse/\n",
    "\n",
    "### ユーザー認証の設定\n",
    "\n",
    "1. Dashboard の左側 Projects & Apps から、利用申請の7で入力したアプリケーションを選択<br>\n",
    "https://developer.twitter.com/en/portal/dashboard\n",
    "2. User authentication settings の Set up をクリック\n",
    "3. 以下の例を参考に入力して Save をクリック\n",
    "   - App permissions: Read and write\n",
    "   - Type of App: Web App, Automated App or Bot\n",
    "   - App info\n",
    "     - Callback URI / Redirect URL: https://twitter.com/\n",
    "     - Website URL: https://twitter.com/\n",
    "4. Here is your OAuth 2.0 Client ID and Client Secret で表示された2つのパスワード (Client ID, Client Secret) を保存\n",
    "5. Done をクリックすると、上記のパスワードを保存したか再度確認されるので、Yes, I saved it をクリック\n",
    "\n",
    "### ソフトウェアのインストール\n",
    "\n",
    "```\n",
    "conda install -c conda-forge tweepy\n",
    "```\n",
    "https://anaconda.org/conda-forge/tweepy\n",
    "\n",
    "### Tweets の取得"
   ]
  },
  {
   "cell_type": "code",
   "execution_count": null,
   "id": "38c2ec27-20ad-4310-8118-995db3b23d42",
   "metadata": {},
   "outputs": [],
   "source": [
    "# OAuth 2.0 認証用トークン\n",
    "# Bearer_Token='{TwitterAPI V2 利用申請の 8 で保存した Bearer Token}'\n",
    "\n",
    "# 上記内容を _my_token.py に保存\n",
    "from _my_token import Bearer_Token"
   ]
  },
  {
   "cell_type": "code",
   "execution_count": null,
   "id": "a6b99a97-d433-4ca7-8381-c73f1b52c37a",
   "metadata": {},
   "outputs": [],
   "source": [
    "import tweepy\n",
    "\n",
    "# アクセス用Clientの作成\n",
    "client = tweepy.Client(bearer_token=Bearer_Token)\n",
    "\n",
    "# Tweetの検索\n",
    "# -is:retweet RTの除外\n",
    "# lang:ja 日本語\n",
    "tweets = client.search_recent_tweets(query='AIIT -is:retweet lang:ja', max_results=10)\n",
    "\n",
    "# 確認\n",
    "tweets"
   ]
  },
  {
   "cell_type": "code",
   "execution_count": null,
   "id": "81795a1f-a3eb-4579-b5eb-97c38ebbd0d3",
   "metadata": {},
   "outputs": [],
   "source": [
    "import pandas as pd\n",
    "\n",
    "df = pd.DataFrame(tweets.data)\n",
    "\n",
    "# 確認\n",
    "df"
   ]
  },
  {
   "cell_type": "markdown",
   "id": "ca927a85-00ed-49f9-9807-29a749d9ddf4",
   "metadata": {},
   "source": [
    "### 「いいね」情報の取得"
   ]
  },
  {
   "cell_type": "code",
   "execution_count": null,
   "id": "ba4c7c69-dbfa-481b-bb6b-839aa5961a61",
   "metadata": {},
   "outputs": [],
   "source": [
    "# Tweetの検索\n",
    "# - tweet_fields: public_metrics に「いいね」情報 (like_count) が入っている\n",
    "tweets = client.search_recent_tweets(query='AIIT -is:retweet lang:ja', max_results=10,\n",
    "                                     tweet_fields = ['author_id', 'public_metrics'])"
   ]
  },
  {
   "cell_type": "code",
   "execution_count": null,
   "id": "43aed839-0008-467c-a434-1111a1e2b857",
   "metadata": {},
   "outputs": [],
   "source": [
    "df = pd.DataFrame(tweets.data)\n",
    "\n",
    "# 確認\n",
    "df"
   ]
  },
  {
   "cell_type": "code",
   "execution_count": null,
   "id": "fad6c201-9c86-43a2-a7d0-89721b699273",
   "metadata": {},
   "outputs": [],
   "source": [
    "# public_metrics を展開して DataFrame を作成\n",
    "df_public_metrics = pd.DataFrame(df.public_metrics.tolist())\n",
    "\n",
    "# 確認\n",
    "df_public_metrics"
   ]
  },
  {
   "cell_type": "code",
   "execution_count": null,
   "id": "50a2541d-ad46-4c56-a1ee-95b3a24cfec4",
   "metadata": {},
   "outputs": [],
   "source": [
    "# 不要な public_metrics の削除\n",
    "_df = df.drop('public_metrics', axis=1)\n",
    "\n",
    "# 結合\n",
    "df = _df.join(df_public_metrics)\n",
    "\n",
    "# 確認\n",
    "df"
   ]
  },
  {
   "cell_type": "markdown",
   "id": "24120795-19b9-45d4-a6d1-08b71e38bc68",
   "metadata": {},
   "source": [
    "### 「いいね」したユーザ情報取得"
   ]
  },
  {
   "cell_type": "code",
   "execution_count": null,
   "id": "77826786-d09d-4211-b7bb-dcc9cdfc5122",
   "metadata": {},
   "outputs": [],
   "source": [
    "# 「いいね」がついた最初のtweetのIDを取得\n",
    "tweet_id = df.query('like_count > 0').id.iloc[0]\n",
    "\n",
    "# 「いいね」したユーザ情報取得\n",
    "liking_users = client.get_liking_users(id=tweet_id)\n",
    "\n",
    "# 確認\n",
    "liking_users.data"
   ]
  },
  {
   "cell_type": "markdown",
   "id": "dacacba4-0b63-49ad-b3e3-3cb159dad67c",
   "metadata": {},
   "source": [
    "### ユーザ情報、フォロー情報、フォロワー情報"
   ]
  },
  {
   "cell_type": "code",
   "execution_count": null,
   "id": "0bead208-a025-4580-9ad8-8fb1223bcfec",
   "metadata": {},
   "outputs": [],
   "source": [
    "# AIIT公式アカウント\n",
    "user_id = 371614476\n",
    "\n",
    "# ユーザ情報の取得\n",
    "user_info = client.get_user(id=user_id)\n",
    "\n",
    "# 確認\n",
    "user_info.data"
   ]
  },
  {
   "cell_type": "code",
   "execution_count": null,
   "id": "a124ce9d-0ad2-478d-b3a6-f0a7b560c23b",
   "metadata": {},
   "outputs": [],
   "source": [
    "# フォローしているユーザ情報の取得\n",
    "users_following = client.get_users_following(id=user_id)\n",
    "\n",
    "# 確認\n",
    "users_following.data"
   ]
  },
  {
   "cell_type": "code",
   "execution_count": null,
   "id": "d1cd8318-d74e-4136-bac4-1309b7ad5055",
   "metadata": {},
   "outputs": [],
   "source": [
    "# ユーザーのフォロワー情報の取得\n",
    "get_users_followers = client.get_users_followers(id=user_id)\n",
    "\n",
    "# 確認\n",
    "get_users_followers.data"
   ]
  }
 ],
 "metadata": {
  "kernelspec": {
   "display_name": "Python 3 (ipykernel)",
   "language": "python",
   "name": "python3"
  },
  "language_info": {
   "codemirror_mode": {
    "name": "ipython",
    "version": 3
   },
   "file_extension": ".py",
   "mimetype": "text/x-python",
   "name": "python",
   "nbconvert_exporter": "python",
   "pygments_lexer": "ipython3",
   "version": "3.9.13"
  }
 },
 "nbformat": 4,
 "nbformat_minor": 5
}
