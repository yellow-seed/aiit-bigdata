{
 "cells": [
  {
   "cell_type": "markdown",
   "id": "c00dc3bb-ee24-461a-bac1-8d82ecb8e39e",
   "metadata": {},
   "source": [
    "## Wordファイルからのテキスト取得\n",
    "\n",
    "【お知らせ】新型コロナウイルスワクチンの3回目接種について 2022/4/26<br>\n",
    "https://aiit.cybozu.com/g/bulletin/view.csp?aid=6967\n",
    "\n",
    "\n",
    "### ソフトウェアのインストール\n",
    "\n",
    "```\n",
    "conda install -c conda-forge python-docx\n",
    "```\n",
    "https://anaconda.org/conda-forge/python-docx\n",
    "\n",
    "### テキストの取得\n",
    "\n",
    "1. 通常のテキスト"
   ]
  },
  {
   "cell_type": "code",
   "execution_count": 1,
   "id": "78e04cd1-2065-442d-a387-b04c9806c6b2",
   "metadata": {},
   "outputs": [
    {
     "name": "stdout",
     "output_type": "stream",
     "text": [
      "2022年４月22日\n",
      " \n",
      "\n",
      "\n",
      "\n",
      "\n",
      "都が設置する新型コロナワクチン大規模接種会場における接種について\n",
      "\n",
      "\n",
      "東京都公立大学法人（東京都立大学、東京都立産業技術大学院大学、東京都立産業技術高等専門学校）は、新型コロナウイルス感染症対策の有効な手段であるワクチン接種を一層加速するため、東京都と連携し、東京都立大学の南大沢キャンパス及び荒川キャンパスにおいて新型コロナウイルスワクチンの接種会場を、以下のとおり開設しており、各会場において、事前予約なしの方、また、40歳以上の方もワクチンの接種が可能となりましたので、お知らせします。\n",
      "\n",
      "\n",
      "１　予約不要のワクチン接種（３回目）\n",
      "　お住まいの区市町村から配付された新型コロナワクチン接種券及び身分証明書（運転免許証等）をお持ちいただいた方に、予約なしでワクチン接種を行います。\n",
      "\n",
      "〇使用ワクチン\n",
      "　武田／モデルナ社製\n",
      "○実施会場・対象者等\n",
      "　　※40歳以上の方への対象者の拡大については、４月22日（金）から実施\n",
      "\n",
      "\n",
      "２　その他\n",
      "（１）接種には、お住まいの自治体が発行する接種券及び本人確認書類が必要となります。\n",
      "（２）接種日現在、２回目接種完了から６か月以上経過した方が対象となります。接種券をお持ちでも、２回目接種完了から６か月未満の方は接種できませんので御注意ください。１・２回目接種日が記載された接種済証等をお持ちいただくと当日の確認がスムーズになります。\n",
      "（３）学生・教職員向けの従来どおりの予約についても引き続き可能となっていますので、御活用ください。\n",
      "　　　（）\n",
      "　　　※本ＵＲＬは東京都公立大学法人（都立大・産技大・都立産技高専）関係者専用（非公開）で、皆さんにのみお知らせしています。学外者に漏れることがないように、情報の取扱いには御注意ください。\n",
      "（４）ワクチン接種会場の最新情報等は、東京都福祉保健局ホームページにて御確認いただけます。（）\n"
     ]
    }
   ],
   "source": [
    "import docx\n",
    "\n",
    "doc= docx.Document('data/本学学生の皆さんへ.docx')\n",
    "\n",
    "for p in doc.paragraphs:\n",
    "    print(p.text)"
   ]
  },
  {
   "cell_type": "markdown",
   "id": "12d66d03-7925-4d02-b1a1-a0cb8c5a3f3a",
   "metadata": {},
   "source": [
    "2. 表の中のテキストも含めて取得\n",
    "\n",
    "- テキストは変数 text に追加\n",
    "- 全ては抽出できていない（URL等）"
   ]
  },
  {
   "cell_type": "code",
   "execution_count": 2,
   "id": "87848b51-a808-4eb3-a29f-8719d8bffe02",
   "metadata": {},
   "outputs": [
    {
     "name": "stdout",
     "output_type": "stream",
     "text": [
      "['2022年４月22日', ' ', '', '', '', '', '都が設置する新型コロナワクチン大規模接種会場における接種について', '', '', '東京都公立大学法人（東京都立大学、東京都立産業技術大学院大学、東京都立産業技術高等専門学校）は、新型コロナウイルス感染症対策の有効な手段であるワクチン接種を一層加速するため、東京都と連携し、東京都立大学の南大沢キャンパス及び荒川キャンパスにおいて新型コロナウイルスワクチンの接種会場を、以下のとおり開設しており、各会場において、事前予約なしの方、また、40歳以上の方もワクチンの接種が可能となりましたので、お知らせします。', '', '', '１\\u3000予約不要のワクチン接種（３回目）', '\\u3000お住まいの区市町村から配付された新型コロナワクチン接種券及び身分証明書（運転免許証等）をお持ちいただいた方に、予約なしでワクチン接種を行います。', '', '〇使用ワクチン', '\\u3000武田／モデルナ社製', '○実施会場・対象者等', '会場名（所在地）', '実施時期', '受付時間', '対象者', '東京都立大学ワクチン接種会場（荒川キャンパス）', '（荒川区東尾久７－２－10\\u3000荒川キャンパス内体育館）', '令和４年４月５日（火）～', '12時から17時まで', '都内在住、在勤、在学の18歳以上の方※', '東京都立大学ワクチン接種会場（南大沢キャンパス）', '（八王子市南大沢１－１\\u3000南大沢キャンパス内講堂）', '令和４年４月18日（月）～', '12時から17時まで', '都内在住、在勤、在学の18歳以上の方※', '\\u3000\\u3000※40歳以上の方への対象者の拡大については、４月22日（金）から実施', '', '', '２\\u3000その他', '（１）接種には、お住まいの自治体が発行する接種券及び本人確認書類が必要となります。', '（２）接種日現在、２回目接種完了から６か月以上経過した方が対象となります。接種券をお持ちでも、２回目接種完了から６か月未満の方は接種できませんので御注意ください。１・２回目接種日が記載された接種済証等をお持ちいただくと当日の確認がスムーズになります。', '（３）学生・教職員向けの従来どおりの予約についても引き続き可能となっていますので、御活用ください。', '\\u3000\\u3000\\u3000（）', '\\u3000\\u3000\\u3000※本ＵＲＬは東京都公立大学法人（都立大・産技大・都立産技高専）関係者専用（非公開）で、皆さんにのみお知らせしています。学外者に漏れることがないように、情報の取扱いには御注意ください。', '（４）ワクチン接種会場の最新情報等は、東京都福祉保健局ホームページにて御確認いただけます。（）']\n"
     ]
    }
   ],
   "source": [
    "from docx.oxml.text.paragraph import CT_P\n",
    "from docx.oxml.table import CT_Tbl\n",
    "from docx.text.paragraph import Paragraph\n",
    "from docx.table import Table\n",
    "\n",
    "text = []\n",
    "\n",
    "for e in doc.element.body.iterchildren():\n",
    "    if isinstance(e, CT_P):\n",
    "        text.append(Paragraph(e, doc).text)\n",
    "    if isinstance(e, CT_Tbl):\n",
    "        for row in Table(e, doc).rows:\n",
    "            for cell in row.cells:\n",
    "                for p in cell.paragraphs:\n",
    "                    text.append(p.text)\n",
    "\n",
    "print(text)"
   ]
  },
  {
   "cell_type": "markdown",
   "id": "15bb9e4f-d2af-4cc8-bbb3-745253df8aea",
   "metadata": {},
   "source": [
    "3. テキスト中の URL の取得"
   ]
  },
  {
   "cell_type": "code",
   "execution_count": 3,
   "id": "b4409b3e-dc5f-41c6-a455-a54339da6bc9",
   "metadata": {},
   "outputs": [
    {
     "name": "stdout",
     "output_type": "stream",
     "text": [
      "https://www.fukushihoken.metro.tokyo.lg.jp/iryo/kansen/coronavaccine/index.html\n",
      "https://www.tokyovaccine-rsv.metro.tokyo.lg.jp/pages/tm315542.html\n"
     ]
    }
   ],
   "source": [
    "from docx.opc.constants import RELATIONSHIP_TYPE as RT\n",
    "\n",
    "rels = doc.part.rels\n",
    "for r in rels:\n",
    "    if rels[r].reltype == RT.HYPERLINK:\n",
    "        print(rels[r]._target)"
   ]
  }
 ],
 "metadata": {
  "kernelspec": {
   "display_name": "base",
   "language": "python",
   "name": "python3"
  },
  "language_info": {
   "codemirror_mode": {
    "name": "ipython",
    "version": 3
   },
   "file_extension": ".py",
   "mimetype": "text/x-python",
   "name": "python",
   "nbconvert_exporter": "python",
   "pygments_lexer": "ipython3",
   "version": "3.9.13"
  },
  "vscode": {
   "interpreter": {
    "hash": "d451e6fd3e3a90eb92742bb146e8e20c8a00180dad068226f141e79828259f8f"
   }
  }
 },
 "nbformat": 4,
 "nbformat_minor": 5
}
