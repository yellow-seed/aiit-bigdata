{
 "cells": [
  {
   "cell_type": "markdown",
   "id": "ed9a8951-6c53-46ac-b666-29121bb80a19",
   "metadata": {},
   "source": [
    "## 大きな DataFrame の保存\n",
    "\n",
    "- CSV\n",
    "- Pickle"
   ]
  },
  {
   "cell_type": "code",
   "execution_count": 1,
   "id": "a0190415-2135-4cfe-adf7-348b36e504c5",
   "metadata": {},
   "outputs": [
    {
     "name": "stdout",
     "output_type": "stream",
     "text": [
      "<class 'pandas.core.frame.DataFrame'>\n",
      "RangeIndex: 70000 entries, 0 to 69999\n",
      "Columns: 784 entries, pixel1 to pixel784\n",
      "dtypes: float64(784)\n",
      "memory usage: 418.7 MB\n"
     ]
    }
   ],
   "source": [
    "import pandas as pd\n",
    "from sklearn.datasets import fetch_openml\n",
    "\n",
    "# MNISTデータを DataFrame で取得\n",
    "df_X, df_y = fetch_openml('mnist_784', version=1, return_X_y=True, as_frame=True)\n",
    "\n",
    "# メモリ使用量\n",
    "df_X.info(memory_usage=True)"
   ]
  },
  {
   "cell_type": "code",
   "execution_count": null,
   "id": "fc8130cc-0ded-4103-99a0-e12c45879067",
   "metadata": {},
   "outputs": [],
   "source": [
    "# ファイルがあれば削除\n",
    "import os\n",
    "\n",
    "csv_file = 'MNIST_X.csv'\n",
    "pickle_file = 'MNIST.pkl'\n",
    "pickle_gz_file = 'MNIST.pkl.gz'\n",
    "\n",
    "for f in [csv_file, pickle_file, pickle_gz_file]:\n",
    "    try:\n",
    "        os.remove(f)\n",
    "    except Exception:\n",
    "        pass"
   ]
  },
  {
   "cell_type": "code",
   "execution_count": null,
   "id": "87752e44-d622-4c34-807d-4b9c16bdbdbf",
   "metadata": {},
   "outputs": [],
   "source": [
    "%%time\n",
    "\n",
    "# CSVに保存\n",
    "df_X.to_csv(csv_file)\n",
    "\n",
    "print('{:.2f}MB'.format(os.path.getsize(csv_file)/(1024*1024)))"
   ]
  },
  {
   "cell_type": "code",
   "execution_count": null,
   "id": "8ee615f0-c591-443b-ac76-de0d0dd251a0",
   "metadata": {},
   "outputs": [],
   "source": [
    "%%time\n",
    "\n",
    "# CSVから読み込み\n",
    "df = pd.read_csv(csv_file)"
   ]
  },
  {
   "cell_type": "code",
   "execution_count": null,
   "id": "f7687f2f-ed65-4104-a94e-d285598cd29f",
   "metadata": {},
   "outputs": [],
   "source": [
    "%%time\n",
    "\n",
    "# Pickleに保存\n",
    "df_X.to_pickle(pickle_file)\n",
    "\n",
    "print('{:.2f}MB'.format(os.path.getsize(pickle_file)/(1024*1024)))"
   ]
  },
  {
   "cell_type": "code",
   "execution_count": null,
   "id": "d58ea768-9931-4985-b54f-f3ffe397b968",
   "metadata": {},
   "outputs": [],
   "source": [
    "%%time\n",
    "\n",
    "# Pickleから読み込み\n",
    "df = pd.read_pickle(pickle_file)"
   ]
  },
  {
   "cell_type": "code",
   "execution_count": null,
   "id": "ea783aec-9ed5-437a-b07e-4f4abdab064f",
   "metadata": {},
   "outputs": [],
   "source": [
    "%%time\n",
    "\n",
    "# Pickleを圧縮して保存\n",
    "# - compression: 圧縮方法とオプション（比較的高速に保存する例）\n",
    "df_X.to_pickle(pickle_gz_file, compression={'method': 'gzip', 'compresslevel': 1, 'mtime': 1})\n",
    "\n",
    "print('{:.2f}MB'.format(os.path.getsize(pickle_gz_file)/(1024*1024)))"
   ]
  },
  {
   "cell_type": "code",
   "execution_count": null,
   "id": "a49192be-0fb2-47dc-a370-13a02cd196dc",
   "metadata": {},
   "outputs": [],
   "source": [
    "%%time\n",
    "\n",
    "# Pickleから読み込み\n",
    "df = pd.read_pickle(pickle_gz_file)"
   ]
  }
 ],
 "metadata": {
  "kernelspec": {
   "display_name": "base",
   "language": "python",
   "name": "python3"
  },
  "language_info": {
   "codemirror_mode": {
    "name": "ipython",
    "version": 3
   },
   "file_extension": ".py",
   "mimetype": "text/x-python",
   "name": "python",
   "nbconvert_exporter": "python",
   "pygments_lexer": "ipython3",
   "version": "3.9.13 (main, Aug 25 2022, 18:24:45) \n[Clang 12.0.0 ]"
  },
  "vscode": {
   "interpreter": {
    "hash": "d451e6fd3e3a90eb92742bb146e8e20c8a00180dad068226f141e79828259f8f"
   }
  }
 },
 "nbformat": 4,
 "nbformat_minor": 5
}
