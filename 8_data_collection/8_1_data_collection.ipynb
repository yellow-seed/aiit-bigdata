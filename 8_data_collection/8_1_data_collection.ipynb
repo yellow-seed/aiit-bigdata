{
 "cells": [
  {
   "attachments": {},
   "cell_type": "markdown",
   "id": "62ec0072-246d-4f95-9fe9-f33916264920",
   "metadata": {
    "tags": []
   },
   "source": [
    "# 第8回 インターネットからのデータ収集\n",
    "\n",
    "- プログラムでの処理による自動化\n",
    "- データ収集\n",
    "- データの保存・読み込み"
   ]
  },
  {
   "cell_type": "markdown",
   "id": "bdeaf7f4-7e00-4339-86cd-93f2552a9e78",
   "metadata": {},
   "source": [
    "## データ収集\n",
    "\n",
    "- インターネットからは様々なデータが収集・取得可能\n",
    "  - 政府や企業の公開データ\n",
    "  - API (Twitter, Google Play Store, YouTube, etc)\n",
    "  - Webページ\n",
    "- データの形式は様々\n",
    "  - ファイル (Excel, Word, PDF)\n",
    "  - 画像イメージ\n",
    "  - Webページ (HTML)\n",
    "  - その他\n",
    "- 多くの対象には対応したパッケージ（ライブラリ）が開発されている\n",
    "  - Google Play Store Review https://pypi.org/project/google-play-scraper/\n",
    "  - YouTube https://anaconda.org/conda-forge/google-api-python-client"
   ]
  },
  {
   "cell_type": "markdown",
   "id": "b6101687-dff2-4fcb-b43d-485c267d0c93",
   "metadata": {},
   "source": [
    "## プログラムでの処理による自動化\n",
    "\n",
    "なぜプログラムでデータ収集・取得するのか？\n",
    "\n",
    "- 手作業でのデータ収集・取得は手間がかかる\n",
    "  - 特に（手作業では面倒な）繰り返し処理\n",
    "- プログラムで処理することにより自動化が可能\n",
    "  - 定型処理は自動化しやすい"
   ]
  },
  {
   "cell_type": "markdown",
   "id": "fef5b3de-9113-4c6b-bcad-e0e12f900fa5",
   "metadata": {},
   "source": [
    "## データの保存・読み込み\n",
    "\n",
    "Pandasで大量・巨大なデータを処理"
   ]
  },
  {
   "cell_type": "markdown",
   "id": "2ed7c241-5505-4ed0-a141-33afa42a1dd5",
   "metadata": {},
   "source": [
    "## 注意\n",
    "\n",
    "インターネット上で収集・取得できるからといって、自由に使用可能であるとは限らないため注意すること。\n",
    "\n",
    "- 著作権\n",
    "- 利用規約\n",
    "- 個人情報\n",
    "- Webサイトの負荷"
   ]
  },
  {
   "cell_type": "markdown",
   "id": "ad28f214-218d-4ed4-a592-f3ebaeeaa22a",
   "metadata": {},
   "source": [
    "## 参考図書\n",
    "\n",
    "概要を知るには良いが、ソースコードはそのままでは動かないことが多い。\n",
    "\n",
    "- pythonクローリング&スクレイピング 増補改訂版<br>\n",
    "https://gihyo.jp/book/2019/978-4-297-10738-3\n",
    "- 退屈なことはPythonにやらせよう<br>\n",
    "https://www.oreilly.co.jp/books/9784873117782/"
   ]
  }
 ],
 "metadata": {
  "kernelspec": {
   "display_name": "base",
   "language": "python",
   "name": "python3"
  },
  "language_info": {
   "codemirror_mode": {
    "name": "ipython",
    "version": 3
   },
   "file_extension": ".py",
   "mimetype": "text/x-python",
   "name": "python",
   "nbconvert_exporter": "python",
   "pygments_lexer": "ipython3",
   "version": "3.9.13 (main, Aug 25 2022, 18:24:45) \n[Clang 12.0.0 ]"
  },
  "vscode": {
   "interpreter": {
    "hash": "d451e6fd3e3a90eb92742bb146e8e20c8a00180dad068226f141e79828259f8f"
   }
  }
 },
 "nbformat": 4,
 "nbformat_minor": 5
}
