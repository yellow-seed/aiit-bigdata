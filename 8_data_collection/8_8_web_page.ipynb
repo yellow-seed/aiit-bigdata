{
 "cells": [
  {
   "cell_type": "markdown",
   "id": "3ab74fc7-6ea4-4906-a57a-230f1cb6326e",
   "metadata": {},
   "source": [
    "## Webスクレイピング\n",
    "\n",
    "Webサイトからのデータ収集\n",
    "- スクレイピング\n",
    "  - Webページをダウンロードし（必要な）情報を取得\n",
    "- クローリング\n",
    "  - Webページのリンクをたどることで、あるWebサイトの全て（一部）をダウンロード\n",
    "\n",
    "Webスクレイピングの方法\n",
    "- 商品：Octoparse https://www.octoparse.jp\n",
    "- パッケージ\n",
    "\n",
    "### robots.txt\n",
    "\n",
    "- Webサイトのトップページに配置されるテキストファイル\n",
    "- クローリングについての指示を記載\n",
    "  - クローリングを禁止するクローラ\n",
    "  - クローリングを許可・禁止するパス（フォルダ）\n",
    "  - クローリングの間隔\n",
    "\n",
    "同様の情報はHTMLのmetaタグに記載されることもある。\n",
    "以下は、アーカイブとして保存することを許可しないことを表す。\n",
    "```\n",
    "<meta name=\"robots\" content=\"noarchive\">\n",
    "```\n",
    "\n",
    "robots.txt, robot metaタグ自体には強制力は無く、紳士協定と言えるものであるが、指示に従うべき。\n",
    "\n",
    "### ソフトウェアのインストール\n",
    "\n",
    "requests, bs4 パッケージが無いとエラーが出る場合は、端末（ターミナル等）で以下のコマンドによりインストール：\n",
    "```\n",
    "conda install requests\n",
    "conda install beautifulsoup4\n",
    "```\n",
    "\n",
    "### Webページからテキストの取得"
   ]
  },
  {
   "cell_type": "code",
   "execution_count": 1,
   "id": "5486457f-9464-46c3-ab6b-cb91188421c5",
   "metadata": {},
   "outputs": [
    {
     "data": {
      "text/plain": [
       "<Response [200]>"
      ]
     },
     "execution_count": 1,
     "metadata": {},
     "output_type": "execute_result"
    }
   ],
   "source": [
    "import requests\n",
    "\n",
    "# AIIT 学長あいさつ\n",
    "url='https://aiit.ac.jp/about/message/'\n",
    "\n",
    "# URLからデータ取得 (GET)\n",
    "res = requests.get(url)\n",
    "\n",
    "# 結果の確認\n",
    "res"
   ]
  },
  {
   "cell_type": "code",
   "execution_count": 2,
   "id": "12a2464f-898f-49d7-9825-b8e62465aaff",
   "metadata": {},
   "outputs": [
    {
     "data": {
      "text/plain": [
       "200"
      ]
     },
     "execution_count": 2,
     "metadata": {},
     "output_type": "execute_result"
    }
   ],
   "source": [
    "# ステータスコード\n",
    "# - 200番台：成功\n",
    "#   - 200: OK\n",
    "# - 400番台：リクエストに誤り\n",
    "#   - 404: Not Found\n",
    "# - 500番台：サーバが処理に失敗\n",
    "#   - 503: Service Unavailable\n",
    "res.status_code"
   ]
  },
  {
   "cell_type": "code",
   "execution_count": 3,
   "id": "776f3749-b7cf-45de-8838-1fae722acccb",
   "metadata": {},
   "outputs": [
    {
     "data": {
      "text/plain": [
       "b'<!DOCTYPE html>\\n<html lang=\"ja\">\\n   <head prefix=\"og: http://ogp.me/ns# fb: http://ogp.me/ns/fb# article: http://ogp.me/ns/article#\">\\n\\n<!-- Global site tag (gtag.js) - Google Analytics -->\\n<script async=\"async\" src=\"https://www.googletagmanager.com/gtag/js?id=UA-4739369-2\"></script>\\n<script>\\n  window.dataLayer = window.dataLayer || [];\\n  function gtag(){dataLayer.push(arguments);}\\n  gtag(\\'js\\', new Date());\\n\\n  gtag(\\'config\\', \\'UA-4739369-2\\');\\n</script>\\n\\n<!-- Google tag (gtag.js) -->\\n<script async=\"async\" src=\"https://www.googletagmanager.com/gtag/js?id=AW-10955379423\"></script>\\n<script>\\n  window.dataLayer = window.dataLayer || [];\\n  function gtag(){dataLayer.push(arguments);}\\n  gtag(\\'js\\', new Date());\\n\\n  gtag(\\'config\\', \\'AW-10955379423\\');\\n</script>\\n\\n<meta charset=\"UTF-8\"/>\\n      <meta name=\"viewport\" content=\"width=device-width, user-scalable=yes\"/>\\n      <meta name=\"format-detection\" content=\"telephone=no\"/>\\n      <meta http-equiv=\"X-UA-Compatible\" content=\"IE=edge\"/>\\n      <meta name=\"keywords\" content=\"\\xe5\\xad\\xa6\\xe9\\x95\\xb7\\xe3\\x81\\x82\\xe3\\x81\\x84\\xe3\\x81\\x95\\xe3\\x81\\xa4,\\xe5\\xb0\\x82\\xe9\\x96\\x80\\xe8\\x81\\xb7\\xe5\\xa4\\xa7\\xe5\\xad\\xa6\\xe9\\x99\\xa2,\\xe7\\x94\\xa3\\xe6\\xa5\\xad\\xe6\\x8a\\x80\\xe8\\xa1\\x93\\xe5\\xa4\\xa7\\xe5\\xad\\xa6\\xe9\\x99\\xa2\\xe5\\xa4\\xa7\\xe5\\xad\\xa6\"/>\\n      <meta name=\"description\" content=\"\\xe7\\x94\\xa3\\xe6\\xa5\\xad\\xe6\\x8a\\x80\\xe8\\xa1\\x93\\xe5\\xa4\\xa7\\xe5\\xad\\xa6\\xe9\\x99\\xa2\\xe5\\xa4\\xa7\\xe5\\xad\\xa6\\xe3\\x81\\xae\\xe5\\x85\\xac\\xe5\\xbc\\x8f\\xe3\\x82\\xb5\\xe3\\x82\\xa4\\xe3\\x83\\x88\\xe3\\x81\\xa7\\xe3\\x81\\x99\\xe3\\x80\\x82\\xe5\\xad\\xa6\\xe9\\x95\\xb7\\xe3\\x81\\x82\\xe3\\x81\\x84\\xe3\\x81\\x95\\xe3\\x81\\xa4\\xe3\\x83\\x9a\\xe3\\x83\\xbc\\xe3\\x82\\xb8\\xe3\\x81\\xa7\\xe3\\x81\\x99\\xe3\\x80\\x82\\xe5\\xad\\xa6\\xe9\\x95\\xb7\\xe3\\x80\\x81\\xe5\\xb7\\x9d\\xe7\\x94\\xb0\\xe3\\x80\\x80\\xe8\\xaa\\xa0\\xe4\\xb8\\x80\\xe3\\x81\\x8b\\xe3\\x82\\x89\\xe3\\x81\\xae\\xe3\\x83\\xa1\\xe3\\x83\\x83\\xe3\\x82\\xbb\\xe3\\x83\\xbc\\xe3\\x82\\xb8\\xe3\\x82\\x92\\xe6\\x8e\\xb2\\xe8\\xbc\\x89\\xe3\\x81\\x97\\xe3\\x81\\xa6\\xe3\\x81\\x84\\xe3\\x81\\xbe\\xe3\\x81\\x99\\xe3\\x80\\x82\"/>\\n      <meta property=\"og:title\" content=\"\\xe5\\xad\\xa6\\xe9\\x95\\xb7\\xe3\\x81\\x82\\xe3\\x81\\x84\\xe3\\x81\\x95\\xe3\\x81\\xa4 | \\xe5\\xa4\\xa7\\xe5\\xad\\xa6\\xe6\\xa1\\x88\\xe5\\x86\\x85 | AIIT\\xe6\\x9d\\xb1\\xe4\\xba\\xac\\xe9\\x83\\xbd\\xe7\\xab\\x8b\\xe7\\x94\\xa3\\xe6\\xa5\\xad\\xe6\\x8a\\x80\\xe8\\xa1\\x93\\xe5\\xa4\\xa7\\xe5\\xad\\xa6\\xe9\\x99\\xa2\\xe5\\xa4\\xa7\\xe5\\xad\\xa6\"/>\\n      <meta property=\"og:type\" content=\"article\"/>\\n      <meta property=\"og:url\" content=\"https://aiit.ac.jp/about/message/\"/>\\n      <meta property=\"og:image\" content=\"\"/>\\n      <meta name=\"og:description\" content=\"\\xe7\\x94\\xa3\\xe6\\xa5\\xad\\xe6\\x8a\\x80\\xe8\\xa1\\x93\\xe5\\xa4\\xa7\\xe5\\xad\\xa6\\xe9\\x99\\xa2\\xe5\\xa4\\xa7\\xe5\\xad\\xa6\\xe3\\x81\\xae\\xe5\\x85\\xac\\xe5\\xbc\\x8f\\xe3\\x82\\xb5\\xe3\\x82\\xa4\\xe3\\x83\\x88\\xe3\\x81\\xa7\\xe3\\x81\\x99\\xe3\\x80\\x82\\xe5\\xad\\xa6\\xe9\\x95\\xb7\\xe3\\x81\\x82\\xe3\\x81\\x84\\xe3\\x81\\x95\\xe3\\x81\\xa4\\xe3\\x83\\x9a\\xe3\\x83\\xbc\\xe3\\x82\\xb8\\xe3\\x81\\xa7\\xe3\\x81\\x99\\xe3\\x80\\x82\\xe5\\xad\\xa6\\xe9\\x95\\xb7\\xe3\\x80\\x81\\xe5\\xb7\\x9d\\xe7\\x94\\xb0\\xe3\\x80\\x80\\xe8\\xaa\\xa0\\xe4\\xb8\\x80\\xe3\\x81\\x8b\\xe3\\x82\\x89\\xe3\\x81\\xae\\xe3\\x83\\xa1\\xe3\\x83\\x83\\xe3\\x82\\xbb\\xe3\\x83\\xbc\\xe3\\x82\\xb8\\xe3\\x82\\x92\\xe6\\x8e\\xb2\\xe8\\xbc\\x89\\xe3\\x81\\x97\\xe3\\x81\\xa6\\xe3\\x81\\x84\\xe3\\x81\\xbe\\xe3\\x81\\x99\\xe3\\x80\\x82\"/>\\n      <title>\\xe5\\xad\\xa6\\xe9\\x95\\xb7\\xe3\\x81\\x82\\xe3\\x81\\x84\\xe3\\x81\\x95\\xe3\\x81\\xa4 | \\xe5\\xa4\\xa7\\xe5\\xad\\xa6\\xe6\\xa1\\x88\\xe5\\x86\\x85 | AIIT\\xe6\\x9d\\xb1\\xe4\\xba\\xac\\xe9\\x83\\xbd\\xe7\\xab\\x8b\\xe7\\x94\\xa3\\xe6\\xa5\\xad\\xe6\\x8a\\x80\\xe8\\xa1\\x93\\xe5\\xa4\\xa7\\xe5\\xad\\xa6\\xe9\\x99\\xa2\\xe5\\xa4\\xa7\\xe5\\xad\\xa6</title>\\n      <link rel=\"stylesheet\" href=\"/assets/css/content.css\"/>\\n      <script src=\"/assets/js/jquery-3.4.1.min.js\"></script>\\n      <script src=\"/assets/js/common.js\"></script>\\n\\n\\n\\n\\n\\n\\n\\n<!-- Facebook Pixel Code -->\\n<script>\\n!function(f,b,e,v,n,t,s){if(f.fbq)return;n=f.fbq=function(){n.callMethod?\\nn.callMethod.apply(n,arguments):n.queue.push(arguments)};if(!f._fbq)f._fbq=n;\\nn.push=n;n.loaded=!0;n.version=\\'2.0\\';n.queue=[];t=b.createElement(e);t.async=!0;\\nt.src=v;s=b.getElementsByTagName(e)[0];s.parentNode.insertBefore(t,s)}(window,\\ndocument,\\'script\\',\\'//connect.facebook.net/en_US/fbevents.js\\');\\n\\nfbq(\\'init\\', \\'580797698734152\\');\\nfbq(\\'track\\', \"PageView\");</script>\\n<noscript><img height=\"1\" width=\"1\" style=\"display:none\" src=\"https://www.facebook.com/tr?id=580797698734152&amp;ev=PageView&amp;noscript=1\" alt=\"\" /></noscript>\\n<!-- End Facebook Pixel Code -->\\n\\n</head>\\n   <body>\\n\\n<div id=\"fb-root\"><!-- --></div>\\n<script async=\"async\" defer=\"defer\" crossorigin=\"anonymous\" src=\"https://connect.facebook.net/ja_JP/sdk.js#xfbml=1&amp;version=v6.0\"></script>\\n\\n<ul class=\"skip_links\">\\n<li>\\n            <a href=\"#mainContents\">\\xe3\\x81\\x93\\xe3\\x81\\xae\\xe3\\x83\\x9a\\xe3\\x83\\xbc\\xe3\\x82\\xb8\\xe3\\x81\\xae\\xe6\\x9c\\xac\\xe6\\x96\\x87\\xe3\\x81\\xb8</a>\\n         </li>\\n<li>\\n            <a href=\"#globalNav\">\\xe3\\x83\\xa1\\xe3\\x82\\xa4\\xe3\\x83\\xb3\\xe3\\x83\\xa1\\xe3\\x83\\x8b\\xe3\\x83\\xa5\\xe3\\x83\\xbc\\xe3\\x81\\xb8\\xef\\xbc\\x88\\xe3\\x83\\x95\\xe3\\x82\\xa9\\xe3\\x83\\xbc\\xe3\\x82\\xab\\xe3\\x82\\xb9\\xe3\\x81\\x99\\xe3\\x82\\x8b\\xe3\\x81\\xa8\\xe4\\xb8\\x8b\\xe5\\xb1\\xa4\\xe3\\x83\\xaa\\xe3\\x83\\xb3\\xe3\\x82\\xaf\\xe3\\x81\\x8c\\xe5\\xb1\\x95\\xe9\\x96\\x8b\\xe3\\x81\\x95\\xe3\\x82\\x8c\\xe3\\x81\\xbe\\xe3\\x81\\x99\\xef\\xbc\\x89</a>\\n         </li>\\n<li>\\n            <a href=\"#localNav\">\\xe3\\x80\\x8c\\xe5\\xa4\\xa7\\xe5\\xad\\xa6\\xe6\\xa1\\x88\\xe5\\x86\\x85\\xe3\\x80\\x8d\\xe3\\x81\\xae\\xe3\\x82\\xb5\\xe3\\x83\\x96\\xe3\\x83\\xa1\\xe3\\x83\\x8b\\xe3\\x83\\xa5\\xe3\\x83\\xbc\\xe3\\x81\\xb8</a>\\n         </li>\\n</ul>\\n\\n<header class=\"header\" id=\"pagetop\">\\n<div class=\"header_logo\">\\n            <a href=\"/\" >\\n               <img src=\"/assets/img/logo_aiit_jp.svg\" alt=\"\\xe6\\x9d\\xb1\\xe4\\xba\\xac\\xe9\\x83\\xbd\\xe7\\xab\\x8b\\xe7\\x94\\xa3\\xe6\\xa5\\xad\\xe6\\x8a\\x80\\xe8\\xa1\\x93\\xe5\\xa4\\xa7\\xe5\\xad\\xa6\\xe9\\x99\\xa2\\xe5\\xa4\\xa7\\xe5\\xad\\xa6\"/></a>\\n         </div>\\n<nav class=\"header_nav\" id=\"js_header_nav\">\\n<p class=\"header_nav_home\">\\n               <a href=\"/\" >HOME</a>\\n            </p>\\n<div class=\"header_nav_main_wrapper\">\\n<ul class=\"header_nav_main\" id=\"globalNav\">\\n<li data-nav-name=\"about\">\\n                     <strong>\\n                        <a href=\"/about/\" >\\xe5\\xa4\\xa7\\xe5\\xad\\xa6\\xe6\\xa1\\x88\\xe5\\x86\\x85</a>\\n                     </strong>\\n                  </li>\\n<li data-nav-name=\"education\">\\n<a href=\"/education/\" >\\xe6\\x95\\x99\\xe8\\x82\\xb2\\xe3\\x81\\xae\\xe7\\x89\\xb9\\xe8\\x89\\xb2</a>\\n                  </li>\\n<li data-nav-name=\"master_program\">\\n                     <a href=\"/master_program/\" >\\xe5\\xb0\\x82\\xe6\\x94\\xbb\\xe3\\x83\\xbb\\xe3\\x82\\xb3\\xe3\\x83\\xbc\\xe3\\x82\\xb9</a>\\n                  </li>\\n<li data-nav-name=\"support\">\\n                     <a href=\"/support/\" >\\xe5\\xad\\xa6\\xe7\\x94\\x9f\\xe7\\x94\\x9f\\xe6\\xb4\\xbb\\xe3\\x83\\xbb\\xe3\\x82\\xad\\xe3\\x83\\xa3\\xe3\\x83\\xaa\\xe3\\x82\\xa2\\xe6\\x94\\xaf\\xe6\\x8f\\xb4</a>\\n                  </li>\\n<li data-nav-name=\"research_collab\">\\n                     <a href=\"/research_collab/\" >\\xe7\\xa0\\x94\\xe7\\xa9\\xb6\\xe6\\xb4\\xbb\\xe5\\x8b\\x95\\xe3\\x83\\xbb\\xe7\\x94\\xa3\\xe5\\xad\\xa6\\xe9\\x80\\xa3\\xe6\\x90\\xba</a>\\n                  </li>\\n<li data-nav-name=\"admission\">\\n                     <a href=\"/admission/\" >\\xe5\\x85\\xa5\\xe5\\xad\\xa6\\xe6\\xa1\\x88\\xe5\\x86\\x85</a>\\n                  </li>\\n</ul>\\n</div>\\n<ul class=\"header_nav_sub\">\\n<li>\\n                  <a href=\"/prospective/\" >\\xe5\\x8f\\x97\\xe9\\xa8\\x93\\xe7\\x94\\x9f\\xe3\\x83\\xbb\\xe7\\xa4\\xbe\\xe4\\xbc\\x9a\\xe4\\xba\\xba\\xe3\\x81\\xae\\xe6\\x96\\xb9\\xe3\\x81\\xb8</a>\\n               </li>\\n<li>\\n                  <a href=\"/company/\" >\\xe4\\xbc\\x81\\xe6\\xa5\\xad\\xe3\\x81\\xae\\xe6\\x96\\xb9\\xe3\\x81\\xb8</a>\\n               </li>\\n<li>\\n                  <a href=\"/alumni/\" >\\xe4\\xbf\\xae\\xe4\\xba\\x86\\xe7\\x94\\x9f\\xe3\\x81\\xae\\xe6\\x96\\xb9\\xe3\\x81\\xb8</a>\\n               </li>\\n<li>\\n                  <a href=\"/student/\" >AIIT\\xe3\\x83\\x9d\\xe3\\x83\\xbc\\xe3\\x82\\xbf\\xe3\\x83\\xab</a>\\n               </li>\\n</ul>\\n<ul class=\"header_nav_utility\">\\n<li>\\n                  <a href=\"/about/access/\" >\\xe3\\x82\\xa2\\xe3\\x82\\xaf\\xe3\\x82\\xbb\\xe3\\x82\\xb9</a>\\n               </li>\\n<li>\\n                  <a href=\"/admission/document.html\" >\\xe8\\xb3\\x87\\xe6\\x96\\x99\\xe8\\xab\\x8b\\xe6\\xb1\\x82</a>\\n               </li>\\n<li>\\n                  <a href=\"/contact/\" >\\xe3\\x81\\x8a\\xe5\\x95\\x8f\\xe3\\x81\\x84\\xe5\\x90\\x88\\xe3\\x82\\x8f\\xe3\\x81\\x9b</a>\\n               </li>\\n<li class=\"header_nav_search\">\\n<script async=\"\" src=\"https://cse.google.com/cse.js?cx=016538476209261646359:pew7tf9u0gd\"></script>\\n<div class=\"gcse-search\"><!-- --></div>\\n</li>\\n</ul>\\n</nav>\\n<p class=\"header_nav_english\">\\n            <a href=\"/english/\" >English</a>\\n         </p>\\n</header>\\n      <nav class=\"breadcrumb\">\\n         <ol itemprop=\"breadcrumb\" itemscope=\"itemscope\" itemtype=\"http://schema.org/BreadcrumbList\">\\n            <li itemprop=\"itemListElement\" itemscope=\"\" itemtype=\"http://schema.org/ListItem\">\\n               <a itemprop=\"item\" href=\"/\" >\\n                  <span itemprop=\"name\">HOME</span></a>\\n               <meta itemprop=\"position\" content=\"1\"/>\\n            </li>\\n            <li itemprop=\"itemListElement\" itemscope=\"\" itemtype=\"http://schema.org/ListItem\">\\n               <a itemprop=\"item\" href=\"/about/\" >\\n                  <span itemprop=\"name\">\\xe5\\xa4\\xa7\\xe5\\xad\\xa6\\xe6\\xa1\\x88\\xe5\\x86\\x85</span></a>\\n               <meta itemprop=\"position\" content=\"2\"/>\\n            </li>\\n            <li itemprop=\"itemListElement\" itemscope=\"\" itemtype=\"http://schema.org/ListItem\">\\n               <a itemprop=\"item\" href=\"/about/message/\" >\\n                  <span itemprop=\"name\">\\xe5\\xad\\xa6\\xe9\\x95\\xb7\\xe3\\x81\\x82\\xe3\\x81\\x84\\xe3\\x81\\x95\\xe3\\x81\\xa4</span></a>\\n               <meta itemprop=\"position\" content=\"3\"/>\\n            </li>\\n         </ol>\\n      </nav>\\n      <div class=\"container\">\\n         <main id=\"mainContents\">\\n            <article>\\n                     <h1>\\xe5\\xad\\xa6\\xe9\\x95\\xb7\\xe3\\x81\\x82\\xe3\\x81\\x84\\xe3\\x81\\x95\\xe3\\x81\\xa4</h1>\\n                  <h2>\\xe9\\xab\\x98\\xe3\\x81\\x84\\xe5\\xbf\\x97\\xe3\\x82\\x92\\xe6\\x8c\\x81\\xe3\\x81\\xa3\\xe3\\x81\\x9f\\xe5\\xad\\xa6\\xe7\\x94\\x9f\\xe3\\x81\\x8c\\xe9\\x9b\\x86\\xe3\\x81\\x86\\xe5\\xa4\\xa7\\xe5\\xad\\xa6\\xe9\\x99\\xa2\\xe3\\x81\\x8c\\xe3\\x81\\x93\\xe3\\x81\\x93\\xe3\\x81\\xab\\xe3\\x81\\x82\\xe3\\x82\\x8a\\xe3\\x81\\xbe\\xe3\\x81\\x99</h2>\\n\\t\\t\\t<div class=\"wm-roundL-medium\">\\n        <div class=\"wm-roundL-medium-img\">\\n          <figure>\\n            <img src=\"/images/jp/about/hashimoto_gakucho.png\"  alt=\"\\xe5\\xad\\xa6\\xe9\\x95\\xb7\\xe3\\x80\\x80\\xe6\\xa9\\x8b\\xe6\\x9c\\xac\\xe6\\xb4\\x8b\\xe5\\xbf\\x97\"/>\\n            \\n          </figure>\\n        </div>\\n\\t\\t\\t\\t<p>\\xe4\\xb8\\x96\\xe3\\x81\\xae\\xe4\\xb8\\xad\\xe3\\x81\\xa7\\xe8\\xb5\\xb7\\xe3\\x81\\x93\\xe3\\x81\\xa3\\xe3\\x81\\xa6\\xe3\\x81\\xbb\\xe3\\x81\\x97\\xe3\\x81\\x84\\xe5\\xa4\\x89\\xe5\\x8c\\x96\\xe3\\x82\\x92\\xe8\\xb5\\xb7\\xe3\\x81\\x93\\xe3\\x81\\x99\\xe4\\xba\\xba\\xe3\\x81\\xab\\xe3\\x81\\xaa\\xe3\\x82\\x8c\\xe3\\x80\\x82 <br/>\\xe3\\x83\\xbcMahatma Gandhi\\xef\\xbc\\x881869-1948\\xef\\xbc\\x89</p>\\n\\n<p>\\xe6\\x9c\\xac\\xe5\\xad\\xa6\\xe3\\x81\\xaf\\xe3\\x80\\x81\\xe6\\x9d\\xb1\\xe4\\xba\\xac\\xe9\\x83\\xbd\\xe3\\x81\\x8c\\xe8\\xa8\\xad\\xe7\\xbd\\xae\\xe3\\x81\\x97\\xe3\\x81\\x9f\\xe5\\xb0\\x82\\xe9\\x96\\x80\\xe8\\x81\\xb7\\xe5\\xa4\\xa7\\xe5\\xad\\xa6\\xe9\\x99\\xa2\\xe3\\x81\\xa7\\xe3\\x81\\x82\\xe3\\x82\\x8a\\xe3\\x80\\x81\\xe5\\x9b\\xbd\\xe5\\x86\\x85\\xe5\\xa4\\x96\\xe3\\x81\\xae\\xe7\\x94\\xa3\\xe6\\xa5\\xad\\xe6\\x8a\\x80\\xe8\\xa1\\x93\\xe5\\x88\\x86\\xe9\\x87\\x8e\\xe3\\x81\\xab\\xe3\\x81\\x8a\\xe3\\x81\\x84\\xe3\\x81\\xa6\\xe6\\xb4\\xbb\\xe8\\xba\\x8d\\xe3\\x81\\xa7\\xe3\\x81\\x8d\\xe3\\x82\\x8b\\xe9\\xab\\x98\\xe5\\xba\\xa6\\xe3\\x81\\xa7\\xe5\\xb0\\x82\\xe9\\x96\\x80\\xe7\\x9a\\x84\\xe3\\x81\\xaa\\xe7\\x9f\\xa5\\xe8\\xad\\x98\\xe3\\x83\\xbb\\xe3\\x82\\xb9\\xe3\\x82\\xad\\xe3\\x83\\xab\\xe3\\x81\\xa8\\xe5\\xae\\x9f\\xe5\\x8b\\x99\\xe9\\x81\\x82\\xe8\\xa1\\x8c\\xe8\\x83\\xbd\\xe5\\x8a\\x9b\\xe3\\x82\\x92\\xe5\\x82\\x99\\xe3\\x81\\x88\\xe3\\x81\\x9f\\xe9\\xab\\x98\\xe5\\xba\\xa6\\xe5\\xb0\\x82\\xe9\\x96\\x80\\xe8\\x81\\xb7\\xe6\\xa5\\xad\\xe4\\xba\\xba\\xe3\\x82\\x92\\xe9\\xa4\\x8a\\xe6\\x88\\x90\\xe3\\x81\\x99\\xe3\\x82\\x8b\\xe3\\x81\\x93\\xe3\\x81\\xa8\\xe3\\x82\\x92\\xe7\\x9b\\xae\\xe7\\x9a\\x84\\xe3\\x81\\xa8\\xe3\\x81\\x97\\xe3\\x81\\xbe\\xe3\\x81\\x99\\xe3\\x80\\x82</p>\\n<p>\\xe6\\x9c\\xac\\xe5\\xad\\xa6\\xe3\\x81\\xae\\xe7\\x94\\xa3\\xe6\\xa5\\xad\\xe6\\x8a\\x80\\xe8\\xa1\\x93\\xe5\\xb0\\x82\\xe6\\x94\\xbb\\xe3\\x81\\xaf3\\xe3\\x82\\xb3\\xe3\\x83\\xbc\\xe3\\x82\\xb9\\xe5\\x88\\xb6\\xe3\\x82\\x92\\xe3\\x81\\xa8\\xe3\\x81\\xa3\\xe3\\x81\\xa6\\xe3\\x81\\x84\\xe3\\x81\\xbe\\xe3\\x81\\x99\\xe3\\x80\\x82\\xe3\\x81\\x99\\xe3\\x81\\xaa\\xe3\\x82\\x8f\\xe3\\x81\\xa1\\xe3\\x80\\x81\\xe8\\xb5\\xb7\\xe6\\xa5\\xad\\xe3\\x80\\x81\\xe4\\xbc\\x81\\xe6\\xa5\\xad\\xe5\\x86\\x85\\xe6\\x96\\xb0\\xe8\\xa6\\x8f\\xe4\\xba\\x8b\\xe6\\xa5\\xad\\xe3\\x80\\x81\\xe4\\xba\\x8b\\xe6\\xa5\\xad\\xe6\\x89\\xbf\\xe7\\xb6\\x99\\xe3\\x82\\x92\\xe9\\x80\\x9a\\xe3\\x81\\x97\\xe3\\x81\\xa6\\xe6\\x9c\\xaa\\xe6\\x9d\\xa5\\xe3\\x81\\xae\\xe4\\xbe\\xa1\\xe5\\x80\\xa4\\xe3\\x81\\xa5\\xe3\\x81\\x8f\\xe3\\x82\\x8a\\xe3\\x82\\x92\\xe6\\x8b\\x85\\xe3\\x81\\x86\\xe3\\x80\\x8c\\xe4\\xba\\x8b\\xe6\\xa5\\xad\\xe3\\x82\\xa4\\xe3\\x83\\x8e\\xe3\\x83\\x99\\xe3\\x83\\xbc\\xe3\\x82\\xbf\\xe3\\x83\\xbc\\xe3\\x80\\x8d\\xe3\\x82\\x92\\xe8\\x82\\xb2\\xe6\\x88\\x90\\xe3\\x81\\x99\\xe3\\x82\\x8b\\xe4\\xba\\x8b\\xe6\\xa5\\xad\\xe8\\xa8\\xad\\xe8\\xa8\\x88\\xe5\\xb7\\xa5\\xe5\\xad\\xa6\\xe3\\x82\\xb3\\xe3\\x83\\xbc\\xe3\\x82\\xb9\\xe3\\x80\\x81\\xe6\\x83\\x85\\xe5\\xa0\\xb1\\xe7\\xb3\\xbb\\xe3\\x81\\xae\\xe4\\xb8\\x8a\\xe6\\xb5\\x81\\xe5\\xb7\\xa5\\xe7\\xa8\\x8b\\xe3\\x81\\xae\\xe3\\x83\\x9e\\xe3\\x83\\x8d\\xe3\\x82\\xb8\\xe3\\x83\\xa1\\xe3\\x83\\xb3\\xe3\\x83\\x88\\xe8\\x83\\xbd\\xe5\\x8a\\x9b\\xe3\\x82\\x92\\xe5\\x82\\x99\\xe3\\x81\\x88\\xe9\\xab\\x98\\xe5\\xba\\xa6\\xe3\\x81\\xaaIT\\xe6\\x8a\\x80\\xe8\\xa1\\x93\\xe8\\x80\\x85\\xe3\\x81\\xa7\\xe3\\x81\\x82\\xe3\\x82\\x8b\\xe3\\x80\\x8c\\xe6\\x83\\x85\\xe5\\xa0\\xb1\\xe3\\x82\\xa2\\xe3\\x83\\xbc\\xe3\\x82\\xad\\xe3\\x83\\x86\\xe3\\x82\\xaf\\xe3\\x83\\x88\\xe3\\x80\\x8d\\xe3\\x82\\x92\\xe8\\x82\\xb2\\xe6\\x88\\x90\\xe3\\x81\\x99\\xe3\\x82\\x8b\\xe6\\x83\\x85\\xe5\\xa0\\xb1\\xe3\\x82\\xa2\\xe3\\x83\\xbc\\xe3\\x82\\xad\\xe3\\x83\\x86\\xe3\\x82\\xaf\\xe3\\x83\\x81\\xe3\\x83\\xa3\\xe3\\x82\\xb3\\xe3\\x83\\xbc\\xe3\\x82\\xb9\\xe3\\x80\\x81\\xe3\\x83\\x87\\xe3\\x82\\xb6\\xe3\\x82\\xa4\\xe3\\x83\\xb3\\xe3\\x81\\xa8AI\\xe3\\x83\\xbb\\xe3\\x83\\x87\\xe3\\x83\\xbc\\xe3\\x82\\xbf\\xe3\\x82\\xb5\\xe3\\x82\\xa4\\xe3\\x82\\xa8\\xe3\\x83\\xb3\\xe3\\x82\\xb9\\xe6\\x8a\\x80\\xe8\\xa1\\x93\\xe3\\x82\\x92\\xe8\\x9e\\x8d\\xe5\\x90\\x88\\xe3\\x81\\x97\\xe3\\x81\\xa6\\xe4\\xbe\\xa1\\xe5\\x80\\xa4\\xe5\\x89\\xb5\\xe9\\x80\\xa0\\xe3\\x82\\x92\\xe3\\x82\\x82\\xe3\\x81\\x9f\\xe3\\x82\\x89\\xe3\\x81\\x99\\xe3\\x80\\x8c\\xe3\\x82\\x82\\xe3\\x81\\xae\\xe3\\x81\\xa5\\xe3\\x81\\x8f\\xe3\\x82\\x8a\\xe3\\x82\\xa2\\xe3\\x83\\xbc\\xe3\\x82\\xad\\xe3\\x83\\x86\\xe3\\x82\\xaf\\xe3\\x83\\x88\\xe3\\x80\\x8d\\xe3\\x82\\x92\\xe8\\x82\\xb2\\xe6\\x88\\x90\\xe3\\x81\\x99\\xe3\\x82\\x8b\\xe5\\x89\\xb5\\xe9\\x80\\xa0\\xe6\\x8a\\x80\\xe8\\xa1\\x93\\xe3\\x82\\xb3\\xe3\\x83\\xbc\\xe3\\x82\\xb9\\xe3\\x81\\x8c\\xe3\\x81\\x82\\xe3\\x82\\x8a\\xe3\\x81\\xbe\\xe3\\x81\\x99\\xe3\\x80\\x82</p>\\n<p>\\xe6\\x9c\\xac\\xe5\\xad\\xa6\\xe3\\x81\\xae\\xe6\\x95\\x99\\xe5\\x93\\xa1\\xe7\\xb5\\x84\\xe7\\xb9\\x94\\xe3\\x81\\xaf\\xe3\\x80\\x81\\xe5\\xad\\xa6\\xe8\\xa1\\x93\\xe7\\x9a\\x84\\xe7\\xa0\\x94\\xe7\\xa9\\xb6\\xe3\\x82\\x92\\xe6\\x8b\\x85\\xe3\\x81\\x88\\xe3\\x82\\x8b\\xe6\\x95\\x99\\xe5\\x93\\xa1\\xe3\\x81\\xab\\xe5\\x8a\\xa0\\xe3\\x81\\x88\\xe3\\x81\\xa6\\xe7\\x94\\xa3\\xe6\\xa5\\xad\\xe7\\x95\\x8c\\xe3\\x81\\xae\\xe5\\xae\\x9f\\xe5\\xad\\xa6\\xe3\\x82\\x92\\xe4\\xbc\\x9d\\xe3\\x81\\x88\\xe3\\x82\\x8b\\xe3\\x81\\x93\\xe3\\x81\\xa8\\xe3\\x81\\xae\\xe3\\x81\\xa7\\xe3\\x81\\x8d\\xe3\\x82\\x8b\\xe6\\x95\\x99\\xe5\\x93\\xa1\\xe3\\x81\\x8b\\xe3\\x82\\x89\\xe6\\xa7\\x8b\\xe6\\x88\\x90\\xe3\\x81\\x95\\xe3\\x82\\x8c\\xe3\\x81\\xa6\\xe3\\x81\\x8a\\xe3\\x82\\x8a\\xe3\\x80\\x81\\xe5\\xad\\xa6\\xe7\\x94\\x9f\\xe3\\x81\\xbf\\xe3\\x81\\xaa\\xe3\\x81\\x95\\xe3\\x82\\x93\\xe3\\x81\\x8c\\xe3\\x80\\x81\\xe7\\xa0\\x94\\xe7\\xa9\\xb6\\xe3\\x81\\xa0\\xe3\\x81\\x91\\xe3\\x81\\xa7\\xe3\\x81\\xaf\\xe3\\x81\\xaa\\xe3\\x81\\x8f\\xe3\\x80\\x81\\xe7\\x94\\xa3\\xe6\\xa5\\xad\\xe6\\x8a\\x80\\xe8\\xa1\\x93\\xe5\\x88\\x86\\xe9\\x87\\x8e\\xe3\\x81\\xab\\xe3\\x81\\x8a\\xe3\\x81\\x84\\xe3\\x81\\xa6\\xe6\\x96\\xb0\\xe3\\x81\\x9f\\xe3\\x81\\xaa\\xe4\\xbe\\xa1\\xe5\\x80\\xa4\\xe3\\x82\\x92\\xe7\\xa4\\xba\\xe3\\x81\\x99\\xe3\\x81\\x93\\xe3\\x81\\xa8\\xe3\\x81\\xae\\xe3\\x81\\xa7\\xe3\\x81\\x8d\\xe3\\x82\\x8b\\xe8\\x83\\xbd\\xe5\\x8a\\x9b\\xe7\\x8d\\xb2\\xe5\\xbe\\x97\\xe3\\x81\\x8c\\xe8\\xa1\\x8c\\xe3\\x81\\x88\\xe3\\x82\\x8b\\xe3\\x82\\x88\\xe3\\x81\\x86\\xe3\\x81\\xaa\\xe6\\x95\\x99\\xe8\\x82\\xb2\\xe3\\x83\\x97\\xe3\\x83\\xad\\xe3\\x82\\xb0\\xe3\\x83\\xa9\\xe3\\x83\\xa0\\xe3\\x82\\x92\\xe5\\xae\\x9f\\xe6\\x96\\xbd\\xe3\\x81\\x97\\xe3\\x81\\xa6\\xe3\\x81\\x84\\xe3\\x81\\xbe\\xe3\\x81\\x99\\xe3\\x80\\x82</p>\\n<p>\\xe6\\x9c\\xac\\xe5\\xad\\xa6\\xe3\\x81\\xaf\\xe5\\xa4\\x9a\\xe6\\xa7\\x98\\xe6\\x80\\xa7\\xe3\\x82\\x92\\xe9\\x87\\x8d\\xe3\\x82\\x93\\xe3\\x81\\x98\\xe3\\x81\\xa6\\xe3\\x81\\x84\\xe3\\x81\\xbe\\xe3\\x81\\x99\\xe3\\x80\\x82\\xe3\\x81\\x93\\xe3\\x81\\xae\\xe5\\xa4\\x9a\\xe6\\xa7\\x98\\xe6\\x80\\xa7\\xe3\\x81\\xa8\\xe3\\x81\\xaf\\xe3\\x80\\x81\\xe5\\xad\\xa6\\xe7\\x94\\x9f\\xe3\\x81\\xbf\\xe3\\x81\\xaa\\xe3\\x81\\x95\\xe3\\x82\\x93\\xe3\\x81\\xae\\xe8\\x83\\x8c\\xe6\\x99\\xaf\\xe3\\x81\\x8c\\xe7\\xa4\\xbe\\xe4\\xbc\\x9a\\xe4\\xba\\xba\\xe6\\x8a\\x80\\xe8\\xa1\\x93\\xe8\\x80\\x85\\xe3\\x83\\xbb\\xe7\\xae\\xa1\\xe7\\x90\\x86\\xe8\\x81\\xb7\\xe3\\x80\\x81\\xe5\\xad\\xa6\\xe9\\x83\\xa8\\xe5\\x8d\\x92\\xe3\\x80\\x81\\xe4\\xbc\\x81\\xe6\\xa5\\xad\\xe7\\xb5\\x8c\\xe5\\x96\\xb6\\xe8\\x80\\x85\\xe3\\x80\\x81\\xe3\\x82\\xb9\\xe3\\x82\\xbf\\xe3\\x83\\xbc\\xe3\\x83\\x88\\xe3\\x82\\xa2\\xe3\\x83\\x83\\xe3\\x83\\x97\\xe3\\x82\\x92\\xe5\\xbf\\x97\\xe3\\x81\\x99\\xe6\\x96\\xb9\\xe7\\xad\\x89\\xe3\\x80\\x81\\xe3\\x81\\x8a\\xe3\\x82\\x88\\xe3\\x81\\xb3\\xe3\\x80\\x81\\xe5\\xb9\\xb4\\xe9\\xbd\\xa2\\xe5\\xb1\\xa4\\xe3\\x81\\x8c\\xe5\\xa4\\x9a\\xe6\\xa7\\x98\\xe3\\x81\\xa7\\xe3\\x81\\x82\\xe3\\x82\\x8b\\xe3\\x81\\x93\\xe3\\x81\\xa8\\xe3\\x80\\x82\\xe6\\x9c\\xac\\xe5\\xad\\xa6\\xe3\\x81\\x8c\\xe8\\xbc\\xa9\\xe5\\x87\\xba\\xe3\\x81\\x99\\xe3\\x82\\x8b\\xe3\\x82\\xad\\xe3\\x83\\xa3\\xe3\\x83\\xaa\\xe3\\x82\\xa2\\xe3\\x83\\xa2\\xe3\\x83\\x87\\xe3\\x83\\xab\\xe3\\x81\\xae\\xe8\\xb3\\x87\\xe8\\xb3\\xaa\\xe3\\x80\\x81\\xe7\\x9f\\xa5\\xe8\\xad\\x98\\xe3\\x80\\x81\\xe3\\x82\\xb9\\xe3\\x82\\xad\\xe3\\x83\\xab\\xe3\\x80\\x81\\xe8\\x83\\xbd\\xe5\\x8a\\x9b\\xe3\\x81\\x8c\\xe5\\xad\\xa6\\xe9\\x9a\\x9b\\xe7\\x9a\\x84\\xe3\\x81\\xab\\xe5\\xa4\\x9a\\xe6\\xa7\\x98\\xe3\\x81\\xa7\\xe3\\x81\\x82\\xe3\\x82\\x8b\\xe3\\x81\\x93\\xe3\\x81\\xa8\\xe3\\x80\\x82\\xe5\\x80\\x8b\\xe3\\x80\\x85\\xe4\\xba\\xba\\xe3\\x81\\xae\\xe5\\x89\\xb5\\xe9\\x80\\xa0\\xe6\\x80\\xa7\\xe3\\x80\\x81\\xe7\\x8b\\xac\\xe8\\x87\\xaa\\xe6\\x80\\xa7\\xe3\\x80\\x81\\xe4\\xbe\\xa1\\xe5\\x80\\xa4\\xe8\\xa6\\xb3\\xe3\\x81\\x8c\\xe5\\xa4\\x9a\\xe6\\xa7\\x98\\xe3\\x81\\xa7\\xe3\\x81\\x82\\xe3\\x82\\x8b\\xe3\\x81\\x93\\xe3\\x81\\xa8\\xe3\\x80\\x82\\xe3\\x81\\x93\\xe3\\x82\\x8c\\xe3\\x82\\x89\\xe3\\x82\\x92\\xe6\\x9c\\xac\\xe5\\xad\\xa6\\xe3\\x81\\xaf\\xe5\\x8f\\x97\\xe5\\xae\\xb9\\xe3\\x81\\x97\\xe3\\x81\\x9f\\xe4\\xb8\\x8a\\xe3\\x81\\xa7\\xe3\\x80\\x81\\xe7\\x8b\\xac\\xe8\\x87\\xaa\\xe3\\x81\\xae\\xe6\\x95\\x99\\xe8\\x82\\xb2\\xe7\\xa0\\x94\\xe7\\xa9\\xb6\\xe3\\x81\\xa8\\xe7\\xa4\\xbe\\xe4\\xbc\\x9a\\xe8\\xb2\\xa2\\xe7\\x8c\\xae\\xe3\\x82\\x92\\xe5\\xae\\x9f\\xe6\\x96\\xbd\\xe3\\x81\\x97\\xe3\\x81\\xa6\\xe3\\x81\\x84\\xe3\\x81\\xbe\\xe3\\x81\\x99\\xe3\\x80\\x82</p>\\n<p>\\xe6\\x9c\\xac\\xe5\\xad\\xa6\\xe3\\x81\\xab\\xe5\\x85\\xa5\\xe5\\xad\\xa6\\xe3\\x81\\x95\\xe3\\x82\\x8c\\xe3\\x81\\xa6\\xe3\\x80\\x81\\xe3\\x81\\x93\\xe3\\x81\\xae\\xe5\\xa4\\x9a\\xe6\\xa7\\x98\\xe3\\x81\\xaa\\xe4\\xbe\\xa1\\xe5\\x80\\xa4\\xe8\\xa6\\xb3\\xe3\\x81\\xab\\xe8\\xa7\\xa6\\xe3\\x82\\x8c\\xe3\\x82\\x8b\\xe3\\x81\\x93\\xe3\\x81\\xa8\\xe3\\x81\\xa7\\xe3\\x80\\x81\\xe6\\x96\\xb0\\xe9\\xae\\xae\\xe3\\x81\\xaa\\xe5\\x95\\x93\\xe7\\x99\\xba\\xe3\\x82\\x84\\xe6\\xb0\\x97\\xe4\\xbb\\x98\\xe3\\x81\\x8d\\xe3\\x82\\x92\\xe5\\xbe\\x97\\xe3\\x82\\x89\\xe3\\x82\\x8c\\xe3\\x82\\x8b\\xe3\\x81\\x93\\xe3\\x81\\xa8\\xe3\\x81\\xa7\\xe3\\x81\\x97\\xe3\\x82\\x87\\xe3\\x81\\x86\\xe3\\x80\\x82\\xe3\\x81\\x93\\xe3\\x82\\x8c\\xe3\\x81\\xab\\xe3\\x82\\x88\\xe3\\x82\\x8a\\xe3\\x80\\x81\\xe6\\xb7\\xb1\\xe3\\x81\\x84\\xe5\\xad\\xa6\\xe3\\x81\\xb3\\xe3\\x81\\xae\\xe4\\xbe\\xa1\\xe5\\x80\\xa4\\xe3\\x81\\xab\\xe6\\xb0\\x97\\xe4\\xbb\\x98\\xe3\\x81\\x8f\\xe3\\x81\\xa7\\xe3\\x81\\x97\\xe3\\x82\\x87\\xe3\\x81\\x86\\xe3\\x80\\x82\\xe3\\x81\\x9d\\xe3\\x81\\x97\\xe3\\x81\\xa6\\xe3\\x80\\x81\\xe5\\xad\\xa6\\xe3\\x81\\xb6\\xe3\\x81\\x93\\xe3\\x81\\xa8\\xe3\\x81\\xa7\\xe3\\x81\\xbf\\xe3\\x81\\xaa\\xe3\\x81\\x95\\xe3\\x82\\x93\\xe3\\x81\\xae\\xe6\\x89\\x8d\\xe8\\x83\\xbd\\xe3\\x81\\xaf\\xe9\\x96\\x8b\\xe8\\x8a\\xb1\\xe3\\x81\\x99\\xe3\\x82\\x8b\\xe3\\x81\\xa7\\xe3\\x81\\x97\\xe3\\x82\\x87\\xe3\\x81\\x86\\xe3\\x80\\x82\\xe3\\x81\\x9d\\xe3\\x81\\xae\\xe6\\x89\\x8d\\xe8\\x83\\xbd\\xe3\\x81\\xae\\xe7\\x99\\xba\\xe6\\x8f\\xae\\xe3\\x81\\xaf\\xe3\\x80\\x81\\xe7\\xa4\\xbe\\xe4\\xbc\\x9a\\xe3\\x82\\x84\\xe7\\x92\\xb0\\xe5\\xa2\\x83\\xe3\\x81\\x9d\\xe3\\x81\\x97\\xe3\\x81\\xa6\\xe4\\xba\\xba\\xe3\\x81\\xae\\xe4\\xbe\\xa1\\xe5\\x80\\xa4\\xe8\\xa6\\xb3\\xe3\\x82\\x92\\xe3\\x82\\x88\\xe3\\x82\\x8a\\xe8\\x89\\xaf\\xe3\\x81\\x8f\\xe5\\xa4\\x89\\xe3\\x81\\x88\\xe3\\x82\\x8b\\xe3\\x81\\x9f\\xe3\\x82\\x81\\xe3\\x81\\xab\\xe8\\xa1\\x8c\\xe3\\x82\\x8f\\xe3\\x82\\x8c\\xe3\\x82\\x8b\\xe3\\x80\\x81\\xe3\\x81\\x9d\\xe3\\x81\\xae\\xe3\\x82\\x88\\xe3\\x81\\x86\\xe3\\x81\\xaa\\xe4\\xba\\xba\\xe6\\x9d\\x90\\xe3\\x82\\x92\\xe6\\x9c\\xac\\xe5\\xad\\xa6\\xe3\\x81\\xaf\\xe4\\xb8\\x96\\xe3\\x81\\xab\\xe9\\x80\\x81\\xe3\\x82\\x8a\\xe5\\x87\\xba\\xe3\\x81\\x97\\xe3\\x81\\xbe\\xe3\\x81\\x99\\xe3\\x80\\x82</p>\\n\\n<p>\\xe3\\x81\\xbf\\xe3\\x81\\xaa\\xe3\\x81\\x95\\xe3\\x82\\x93\\xe3\\x81\\xae\\xe5\\x85\\xa5\\xe5\\xad\\xa6\\xe3\\x82\\x92\\xe3\\x81\\x8a\\xe5\\xbe\\x85\\xe3\\x81\\xa1\\xe3\\x81\\x97\\xe3\\x81\\xa6\\xe3\\x81\\x84\\xe3\\x81\\xbe\\xe3\\x81\\x99\\xe3\\x80\\x82</p>\\n\\n\\t\\t\\t</div>\\n                     <p class=\"wm-right\">\\xe6\\x9d\\xb1\\xe4\\xba\\xac\\xe9\\x83\\xbd\\xe7\\xab\\x8b\\xe7\\x94\\xa3\\xe6\\xa5\\xad\\xe6\\x8a\\x80\\xe8\\xa1\\x93\\xe5\\xa4\\xa7\\xe5\\xad\\xa6\\xe9\\x99\\xa2\\xe5\\xa4\\xa7\\xe5\\xad\\xa6\\xe3\\x80\\x80\\xe5\\xad\\xa6\\xe9\\x95\\xb7<br/>\\xe6\\xa9\\x8b\\xe6\\x9c\\xac\\xe3\\x80\\x80\\xe6\\xb4\\x8b\\xe5\\xbf\\x97</p>\\n                  </article>\\n         </main>\\n         <nav class=\"localnavi\" id=\"localNav\">\\n            <ul class=\"localnavi_item\">\\n               <li>\\n                  <a href=\"/about/\" >\\xe5\\xa4\\xa7\\xe5\\xad\\xa6\\xe6\\xa1\\x88\\xe5\\x86\\x85</a>\\n                  <ul>\\n                     <li class=\"localnavi_item_root\">\\n                        <strong>\\n                           <a href=\"/about/message/\" >\\xe5\\xad\\xa6\\xe9\\x95\\xb7\\xe3\\x81\\x82\\xe3\\x81\\x84\\xe3\\x81\\x95\\xe3\\x81\\xa4</a>\\n                        </strong>\\n                        <ul>\\n                           <li>\\n                              <a href=\"/about/message/successive.html\" >\\xe6\\xad\\xb4\\xe4\\xbb\\xa3\\xe5\\xad\\xa6\\xe9\\x95\\xb7</a>\\n                           </li>\\n                        </ul>\\n                     </li>\\n                     <li>\\n                        <a href=\"/about/overview/\" >\\xe5\\xa4\\xa7\\xe5\\xad\\xa6\\xe6\\xa6\\x82\\xe8\\xa6\\x81</a>\\n                     </li>\\n                     <li>\\n                        <a href=\"/about/education/\" >\\xe6\\x95\\x99\\xe8\\x82\\xb2\\xe6\\x83\\x85\\xe5\\xa0\\xb1\\xe3\\x81\\xae\\xe5\\x85\\xac\\xe8\\xa1\\xa8</a>\\n                     </li>\\n                     <li>\\n                        <a href=\"/about/council/\" >\\xe9\\x81\\x8b\\xe5\\x96\\xb6\\xe8\\xab\\xae\\xe5\\x95\\x8f\\xe4\\xbc\\x9a\\xe8\\xad\\xb0</a>\\n                     </li>\\n                     <li>\\n                        <a href=\"/about/donation/\" >\\xe5\\xaf\\x84\\xe9\\x99\\x84\\xe9\\x87\\x91\\xe3\\x81\\xae\\xe3\\x81\\x8a\\xe7\\x94\\xb3\\xe8\\xbe\\xbc\\xe6\\x96\\xb9\\xe6\\xb3\\x95</a>\\n                     </li>\\n                     <li>\\n                        <a href=\"/about/library/\" >\\xe5\\x9b\\xb3\\xe6\\x9b\\xb8\\xe9\\xa4\\xa8</a>\\n                     </li>\\n                     <li>\\n                        <a href=\"/about/access/\" >\\xe3\\x82\\xa2\\xe3\\x82\\xaf\\xe3\\x82\\xbb\\xe3\\x82\\xb9</a>\\n                     </li>\\n                  </ul>\\n               </li>\\n            </ul>\\n         </nav>\\n      </div>\\n                     \\n                     <p class=\"to_page_top\">\\n                        <a href=\"#pagetop\">PAGE TOP</a>\\n                     </p>\\n                     <footer class=\"footer\">\\n                        <ul class=\"footer_link\">\\n                           <li>\\n                              <a href=\"/about/education/\" >\\xe6\\x95\\x99\\xe8\\x82\\xb2\\xe6\\x83\\x85\\xe5\\xa0\\xb1\\xe3\\x81\\xae\\xe5\\x85\\xac\\xe8\\xa1\\xa8</a>\\n                           </li>\\n                           <li>\\n                              <a href=\"/contact/\" >\\xe3\\x81\\x8a\\xe5\\x95\\x8f\\xe3\\x81\\x84\\xe5\\x90\\x88\\xe3\\x82\\x8f\\xe3\\x81\\x9b</a>\\n                           </li>\\n                           <li>\\n                              <a href=\"/privacy/\" >\\xe3\\x83\\x97\\xe3\\x83\\xa9\\xe3\\x82\\xa4\\xe3\\x83\\x90\\xe3\\x82\\xb7\\xe3\\x83\\xbc\\xe3\\x83\\x9d\\xe3\\x83\\xaa\\xe3\\x82\\xb7\\xe3\\x83\\xbc</a>\\n                           </li>\\n                           <li>\\n                              <a href=\"/site_policy/\" >\\xe3\\x82\\xb5\\xe3\\x82\\xa4\\xe3\\x83\\x88\\xe3\\x83\\x9d\\xe3\\x83\\xaa\\xe3\\x82\\xb7\\xe3\\x83\\xbc</a>\\n                           </li>\\n                           <li>\\n                              <a href=\"/social_media/\" >\\xe3\\x82\\xbd\\xe3\\x83\\xbc\\xe3\\x82\\xb7\\xe3\\x83\\xa3\\xe3\\x83\\xab\\xe3\\x83\\xa1\\xe3\\x83\\x87\\xe3\\x82\\xa3\\xe3\\x82\\xa2\\xe3\\x83\\x9d\\xe3\\x83\\xaa\\xe3\\x82\\xb7\\xe3\\x83\\xbc</a>\\n                           </li>\\n                           <li>\\n                              <a href=\"/links/\" >\\xe3\\x83\\xaa\\xe3\\x83\\xb3\\xe3\\x82\\xaf\\xe9\\x9b\\x86</a>\\n                           </li>\\n                           <li>\\n                              <a href=\"/sitemap/\" >\\xe3\\x82\\xb5\\xe3\\x82\\xa4\\xe3\\x83\\x88\\xe3\\x83\\x9e\\xe3\\x83\\x83\\xe3\\x83\\x97</a>\\n                           </li>\\n                        </ul>\\n                        <ul class=\"footer_link footer_em\">\\n                           <li>\\n                              <a href=\"http://www.houjin-tmu.ac.jp/\" target=\"_blank\">\\xe6\\x9d\\xb1\\xe4\\xba\\xac\\xe9\\x83\\xbd\\xe5\\x85\\xac\\xe7\\xab\\x8b\\xe5\\xa4\\xa7\\xe5\\xad\\xa6\\xe6\\xb3\\x95\\xe4\\xba\\xba</a>\\n                           </li>\\n                           <li>\\n                              <a href=\"http://www.tmu.ac.jp/\" target=\"_blank\">\\xe6\\x9d\\xb1\\xe4\\xba\\xac\\xe9\\x83\\xbd\\xe7\\xab\\x8b\\xe5\\xa4\\xa7\\xe5\\xad\\xa6</a>\\n                           </li>\\n                           <li>\\n                              <a href=\"http://www.metro-cit.ac.jp/\" target=\"_blank\">\\xe6\\x9d\\xb1\\xe4\\xba\\xac\\xe9\\x83\\xbd\\xe7\\xab\\x8b\\xe7\\x94\\xa3\\xe6\\xa5\\xad\\xe6\\x8a\\x80\\xe8\\xa1\\x93\\xe9\\xab\\x98\\xe7\\xad\\x89\\xe5\\xb0\\x82\\xe9\\x96\\x80\\xe5\\xad\\xa6\\xe6\\xa0\\xa1</a>\\n                           </li>\\n                           <li>\\n                              <a href=\"https://sites.google.com/view/apenweb/ \" target=\"_blank\">APEN</a>\\n                           </li>\\n                           <li>\\n                              <a href=\"https://www.houjin-tmu.ac.jp/recruit_teacher/\" target=\"_blank\">\\xe6\\x95\\x99\\xe5\\x93\\xa1\\xe6\\x8e\\xa1\\xe7\\x94\\xa8\\xe6\\x83\\x85\\xe5\\xa0\\xb1</a>\\n                           </li>\\n                           <li>\\n                              <a href=\"https://www.houjin-tmu.ac.jp/recruit_staff/\" target=\"_blank\">\\xe8\\x81\\xb7\\xe5\\x93\\xa1\\xe6\\x8e\\xa1\\xe7\\x94\\xa8\\xe6\\x83\\x85\\xe5\\xa0\\xb1</a>\\n                           </li>\\n                        </ul>\\n                        <p class=\"footer_copyright\">\\n                           <small>Copyright &copy; Advanced Institute of Industrial Technology All Rights Reserved.</small>\\n                        </p>\\n                     </footer>\\n                  \\n\\n\\n\\n</body>\\n</html>'"
      ]
     },
     "execution_count": 3,
     "metadata": {},
     "output_type": "execute_result"
    }
   ],
   "source": [
    "# 取得したデータ\n",
    "res.content"
   ]
  },
  {
   "cell_type": "code",
   "execution_count": 4,
   "id": "60a3fd0b-b553-41ff-ab47-66ecad15a139",
   "metadata": {},
   "outputs": [
    {
     "data": {
      "text/plain": [
       "'UTF-8'"
      ]
     },
     "execution_count": 4,
     "metadata": {},
     "output_type": "execute_result"
    }
   ],
   "source": [
    "# データのエンコーディング\n",
    "res.encoding"
   ]
  },
  {
   "cell_type": "code",
   "execution_count": 5,
   "id": "3fb6ee6a-59a9-44fe-bdfe-df89f10103ea",
   "metadata": {},
   "outputs": [
    {
     "data": {
      "text/plain": [
       "'<!DOCTYPE html>\\n<html lang=\"ja\">\\n   <head prefix=\"og: http://ogp.me/ns# fb: http://ogp.me/ns/fb# article: http://ogp.me/ns/article#\">\\n\\n<!-- Global site tag (gtag.js) - Google Analytics -->\\n<script async=\"async\" src=\"https://www.googletagmanager.com/gtag/js?id=UA-4739369-2\"></script>\\n<script>\\n  window.dataLayer = window.dataLayer || [];\\n  function gtag(){dataLayer.push(arguments);}\\n  gtag(\\'js\\', new Date());\\n\\n  gtag(\\'config\\', \\'UA-4739369-2\\');\\n</script>\\n\\n<!-- Google tag (gtag.js) -->\\n<script async=\"async\" src=\"https://www.googletagmanager.com/gtag/js?id=AW-10955379423\"></script>\\n<script>\\n  window.dataLayer = window.dataLayer || [];\\n  function gtag(){dataLayer.push(arguments);}\\n  gtag(\\'js\\', new Date());\\n\\n  gtag(\\'config\\', \\'AW-10955379423\\');\\n</script>\\n\\n<meta charset=\"UTF-8\"/>\\n      <meta name=\"viewport\" content=\"width=device-width, user-scalable=yes\"/>\\n      <meta name=\"format-detection\" content=\"telephone=no\"/>\\n      <meta http-equiv=\"X-UA-Compatible\" content=\"IE=edge\"/>\\n      <meta name=\"keywords\" content=\"学長あいさつ,専門職大学院,産業技術大学院大学\"/>\\n      <meta name=\"description\" content=\"産業技術大学院大学の公式サイトです。学長あいさつページです。学長、川田\\u3000誠一からのメッセージを掲載しています。\"/>\\n      <meta property=\"og:title\" content=\"学長あいさつ | 大学案内 | AIIT東京都立産業技術大学院大学\"/>\\n      <meta property=\"og:type\" content=\"article\"/>\\n      <meta property=\"og:url\" content=\"https://aiit.ac.jp/about/message/\"/>\\n      <meta property=\"og:image\" content=\"\"/>\\n      <meta name=\"og:description\" content=\"産業技術大学院大学の公式サイトです。学長あいさつページです。学長、川田\\u3000誠一からのメッセージを掲載しています。\"/>\\n      <title>学長あいさつ | 大学案内 | AIIT東京都立産業技術大学院大学</title>\\n      <link rel=\"stylesheet\" href=\"/assets/css/content.css\"/>\\n      <script src=\"/assets/js/jquery-3.4.1.min.js\"></script>\\n      <script src=\"/assets/js/common.js\"></script>\\n\\n\\n\\n\\n\\n\\n\\n<!-- Facebook Pixel Code -->\\n<script>\\n!function(f,b,e,v,n,t,s){if(f.fbq)return;n=f.fbq=function(){n.callMethod?\\nn.callMethod.apply(n,arguments):n.queue.push(arguments)};if(!f._fbq)f._fbq=n;\\nn.push=n;n.loaded=!0;n.version=\\'2.0\\';n.queue=[];t=b.createElement(e);t.async=!0;\\nt.src=v;s=b.getElementsByTagName(e)[0];s.parentNode.insertBefore(t,s)}(window,\\ndocument,\\'script\\',\\'//connect.facebook.net/en_US/fbevents.js\\');\\n\\nfbq(\\'init\\', \\'580797698734152\\');\\nfbq(\\'track\\', \"PageView\");</script>\\n<noscript><img height=\"1\" width=\"1\" style=\"display:none\" src=\"https://www.facebook.com/tr?id=580797698734152&amp;ev=PageView&amp;noscript=1\" alt=\"\" /></noscript>\\n<!-- End Facebook Pixel Code -->\\n\\n</head>\\n   <body>\\n\\n<div id=\"fb-root\"><!-- --></div>\\n<script async=\"async\" defer=\"defer\" crossorigin=\"anonymous\" src=\"https://connect.facebook.net/ja_JP/sdk.js#xfbml=1&amp;version=v6.0\"></script>\\n\\n<ul class=\"skip_links\">\\n<li>\\n            <a href=\"#mainContents\">このページの本文へ</a>\\n         </li>\\n<li>\\n            <a href=\"#globalNav\">メインメニューへ（フォーカスすると下層リンクが展開されます）</a>\\n         </li>\\n<li>\\n            <a href=\"#localNav\">「大学案内」のサブメニューへ</a>\\n         </li>\\n</ul>\\n\\n<header class=\"header\" id=\"pagetop\">\\n<div class=\"header_logo\">\\n            <a href=\"/\" >\\n               <img src=\"/assets/img/logo_aiit_jp.svg\" alt=\"東京都立産業技術大学院大学\"/></a>\\n         </div>\\n<nav class=\"header_nav\" id=\"js_header_nav\">\\n<p class=\"header_nav_home\">\\n               <a href=\"/\" >HOME</a>\\n            </p>\\n<div class=\"header_nav_main_wrapper\">\\n<ul class=\"header_nav_main\" id=\"globalNav\">\\n<li data-nav-name=\"about\">\\n                     <strong>\\n                        <a href=\"/about/\" >大学案内</a>\\n                     </strong>\\n                  </li>\\n<li data-nav-name=\"education\">\\n<a href=\"/education/\" >教育の特色</a>\\n                  </li>\\n<li data-nav-name=\"master_program\">\\n                     <a href=\"/master_program/\" >専攻・コース</a>\\n                  </li>\\n<li data-nav-name=\"support\">\\n                     <a href=\"/support/\" >学生生活・キャリア支援</a>\\n                  </li>\\n<li data-nav-name=\"research_collab\">\\n                     <a href=\"/research_collab/\" >研究活動・産学連携</a>\\n                  </li>\\n<li data-nav-name=\"admission\">\\n                     <a href=\"/admission/\" >入学案内</a>\\n                  </li>\\n</ul>\\n</div>\\n<ul class=\"header_nav_sub\">\\n<li>\\n                  <a href=\"/prospective/\" >受験生・社会人の方へ</a>\\n               </li>\\n<li>\\n                  <a href=\"/company/\" >企業の方へ</a>\\n               </li>\\n<li>\\n                  <a href=\"/alumni/\" >修了生の方へ</a>\\n               </li>\\n<li>\\n                  <a href=\"/student/\" >AIITポータル</a>\\n               </li>\\n</ul>\\n<ul class=\"header_nav_utility\">\\n<li>\\n                  <a href=\"/about/access/\" >アクセス</a>\\n               </li>\\n<li>\\n                  <a href=\"/admission/document.html\" >資料請求</a>\\n               </li>\\n<li>\\n                  <a href=\"/contact/\" >お問い合わせ</a>\\n               </li>\\n<li class=\"header_nav_search\">\\n<script async=\"\" src=\"https://cse.google.com/cse.js?cx=016538476209261646359:pew7tf9u0gd\"></script>\\n<div class=\"gcse-search\"><!-- --></div>\\n</li>\\n</ul>\\n</nav>\\n<p class=\"header_nav_english\">\\n            <a href=\"/english/\" >English</a>\\n         </p>\\n</header>\\n      <nav class=\"breadcrumb\">\\n         <ol itemprop=\"breadcrumb\" itemscope=\"itemscope\" itemtype=\"http://schema.org/BreadcrumbList\">\\n            <li itemprop=\"itemListElement\" itemscope=\"\" itemtype=\"http://schema.org/ListItem\">\\n               <a itemprop=\"item\" href=\"/\" >\\n                  <span itemprop=\"name\">HOME</span></a>\\n               <meta itemprop=\"position\" content=\"1\"/>\\n            </li>\\n            <li itemprop=\"itemListElement\" itemscope=\"\" itemtype=\"http://schema.org/ListItem\">\\n               <a itemprop=\"item\" href=\"/about/\" >\\n                  <span itemprop=\"name\">大学案内</span></a>\\n               <meta itemprop=\"position\" content=\"2\"/>\\n            </li>\\n            <li itemprop=\"itemListElement\" itemscope=\"\" itemtype=\"http://schema.org/ListItem\">\\n               <a itemprop=\"item\" href=\"/about/message/\" >\\n                  <span itemprop=\"name\">学長あいさつ</span></a>\\n               <meta itemprop=\"position\" content=\"3\"/>\\n            </li>\\n         </ol>\\n      </nav>\\n      <div class=\"container\">\\n         <main id=\"mainContents\">\\n            <article>\\n                     <h1>学長あいさつ</h1>\\n                  <h2>高い志を持った学生が集う大学院がここにあります</h2>\\n\\t\\t\\t<div class=\"wm-roundL-medium\">\\n        <div class=\"wm-roundL-medium-img\">\\n          <figure>\\n            <img src=\"/images/jp/about/hashimoto_gakucho.png\"  alt=\"学長\\u3000橋本洋志\"/>\\n            \\n          </figure>\\n        </div>\\n\\t\\t\\t\\t<p>世の中で起こってほしい変化を起こす人になれ。 <br/>ーMahatma Gandhi（1869-1948）</p>\\n\\n<p>本学は、東京都が設置した専門職大学院であり、国内外の産業技術分野において活躍できる高度で専門的な知識・スキルと実務遂行能力を備えた高度専門職業人を養成することを目的とします。</p>\\n<p>本学の産業技術専攻は3コース制をとっています。すなわち、起業、企業内新規事業、事業承継を通して未来の価値づくりを担う「事業イノベーター」を育成する事業設計工学コース、情報系の上流工程のマネジメント能力を備え高度なIT技術者である「情報アーキテクト」を育成する情報アーキテクチャコース、デザインとAI・データサイエンス技術を融合して価値創造をもたらす「ものづくりアーキテクト」を育成する創造技術コースがあります。</p>\\n<p>本学の教員組織は、学術的研究を担える教員に加えて産業界の実学を伝えることのできる教員から構成されており、学生みなさんが、研究だけではなく、産業技術分野において新たな価値を示すことのできる能力獲得が行えるような教育プログラムを実施しています。</p>\\n<p>本学は多様性を重んじています。この多様性とは、学生みなさんの背景が社会人技術者・管理職、学部卒、企業経営者、スタートアップを志す方等、および、年齢層が多様であること。本学が輩出するキャリアモデルの資質、知識、スキル、能力が学際的に多様であること。個々人の創造性、独自性、価値観が多様であること。これらを本学は受容した上で、独自の教育研究と社会貢献を実施しています。</p>\\n<p>本学に入学されて、この多様な価値観に触れることで、新鮮な啓発や気付きを得られることでしょう。これにより、深い学びの価値に気付くでしょう。そして、学ぶことでみなさんの才能は開花するでしょう。その才能の発揮は、社会や環境そして人の価値観をより良く変えるために行われる、そのような人材を本学は世に送り出します。</p>\\n\\n<p>みなさんの入学をお待ちしています。</p>\\n\\n\\t\\t\\t</div>\\n                     <p class=\"wm-right\">東京都立産業技術大学院大学\\u3000学長<br/>橋本\\u3000洋志</p>\\n                  </article>\\n         </main>\\n         <nav class=\"localnavi\" id=\"localNav\">\\n            <ul class=\"localnavi_item\">\\n               <li>\\n                  <a href=\"/about/\" >大学案内</a>\\n                  <ul>\\n                     <li class=\"localnavi_item_root\">\\n                        <strong>\\n                           <a href=\"/about/message/\" >学長あいさつ</a>\\n                        </strong>\\n                        <ul>\\n                           <li>\\n                              <a href=\"/about/message/successive.html\" >歴代学長</a>\\n                           </li>\\n                        </ul>\\n                     </li>\\n                     <li>\\n                        <a href=\"/about/overview/\" >大学概要</a>\\n                     </li>\\n                     <li>\\n                        <a href=\"/about/education/\" >教育情報の公表</a>\\n                     </li>\\n                     <li>\\n                        <a href=\"/about/council/\" >運営諮問会議</a>\\n                     </li>\\n                     <li>\\n                        <a href=\"/about/donation/\" >寄附金のお申込方法</a>\\n                     </li>\\n                     <li>\\n                        <a href=\"/about/library/\" >図書館</a>\\n                     </li>\\n                     <li>\\n                        <a href=\"/about/access/\" >アクセス</a>\\n                     </li>\\n                  </ul>\\n               </li>\\n            </ul>\\n         </nav>\\n      </div>\\n                     \\n                     <p class=\"to_page_top\">\\n                        <a href=\"#pagetop\">PAGE TOP</a>\\n                     </p>\\n                     <footer class=\"footer\">\\n                        <ul class=\"footer_link\">\\n                           <li>\\n                              <a href=\"/about/education/\" >教育情報の公表</a>\\n                           </li>\\n                           <li>\\n                              <a href=\"/contact/\" >お問い合わせ</a>\\n                           </li>\\n                           <li>\\n                              <a href=\"/privacy/\" >プライバシーポリシー</a>\\n                           </li>\\n                           <li>\\n                              <a href=\"/site_policy/\" >サイトポリシー</a>\\n                           </li>\\n                           <li>\\n                              <a href=\"/social_media/\" >ソーシャルメディアポリシー</a>\\n                           </li>\\n                           <li>\\n                              <a href=\"/links/\" >リンク集</a>\\n                           </li>\\n                           <li>\\n                              <a href=\"/sitemap/\" >サイトマップ</a>\\n                           </li>\\n                        </ul>\\n                        <ul class=\"footer_link footer_em\">\\n                           <li>\\n                              <a href=\"http://www.houjin-tmu.ac.jp/\" target=\"_blank\">東京都公立大学法人</a>\\n                           </li>\\n                           <li>\\n                              <a href=\"http://www.tmu.ac.jp/\" target=\"_blank\">東京都立大学</a>\\n                           </li>\\n                           <li>\\n                              <a href=\"http://www.metro-cit.ac.jp/\" target=\"_blank\">東京都立産業技術高等専門学校</a>\\n                           </li>\\n                           <li>\\n                              <a href=\"https://sites.google.com/view/apenweb/ \" target=\"_blank\">APEN</a>\\n                           </li>\\n                           <li>\\n                              <a href=\"https://www.houjin-tmu.ac.jp/recruit_teacher/\" target=\"_blank\">教員採用情報</a>\\n                           </li>\\n                           <li>\\n                              <a href=\"https://www.houjin-tmu.ac.jp/recruit_staff/\" target=\"_blank\">職員採用情報</a>\\n                           </li>\\n                        </ul>\\n                        <p class=\"footer_copyright\">\\n                           <small>Copyright &copy; Advanced Institute of Industrial Technology All Rights Reserved.</small>\\n                        </p>\\n                     </footer>\\n                  \\n\\n\\n\\n</body>\\n</html>'"
      ]
     },
     "execution_count": 5,
     "metadata": {},
     "output_type": "execute_result"
    }
   ],
   "source": [
    "# 取得したデータをデコードした HTML\n",
    "res.text"
   ]
  },
  {
   "cell_type": "code",
   "execution_count": 6,
   "id": "093885b5-ab35-4cb1-aaf3-b5b14ca6c512",
   "metadata": {},
   "outputs": [
    {
     "name": "stdout",
     "output_type": "stream",
     "text": [
      "<!DOCTYPE html>\n",
      "<html lang=\"ja\">\n",
      " <head prefix=\"og: http://ogp.me/ns# fb: http://ogp.me/ns/fb# article: http://ogp.me/ns/article#\">\n",
      "  <!-- Global site tag (gtag.js) - Google Analytics -->\n",
      "  <script async=\"async\" src=\"https://www.googletagmanager.com/gtag/js?id=UA-4739369-2\">\n",
      "  </script>\n",
      "  <script>\n",
      "   window.dataLayer = window.dataLayer || [];\n",
      "  function gtag(){dataLayer.push(arguments);}\n",
      "  gtag('js', new Date());\n",
      "\n",
      "  gtag('config', 'UA-4739369-2');\n",
      "  </script>\n",
      "  <!-- Google tag (gtag.js) -->\n",
      "  <script async=\"async\" src=\"https://www.googletagmanager.com/gtag/js?id=AW-10955379423\">\n",
      "  </script>\n",
      "  <script>\n",
      "   window.dataLayer = window.dataLayer || [];\n",
      "  function gtag(){dataLayer.push(arguments);}\n",
      "  gtag('js', new Date());\n",
      "\n",
      "  gtag('config', 'AW-10955379423');\n",
      "  </script>\n",
      "  <meta charset=\"utf-8\"/>\n",
      "  <meta content=\"width=device-width, user-scalable=yes\" name=\"viewport\"/>\n",
      "  <meta content=\"telephone=no\" name=\"format-detection\"/>\n",
      "  <meta content=\"IE=edge\" http-equiv=\"X-UA-Compatible\"/>\n",
      "  <meta content=\"学長あいさつ,専門職大学院,産業技術大学院大学\" name=\"keywords\"/>\n",
      "  <meta content=\"産業技術大学院大学の公式サイトです。学長あいさつページです。学長、川田　誠一からのメッセージを掲載しています。\" name=\"description\"/>\n",
      "  <meta content=\"学長あいさつ | 大学案内 | AIIT東京都立産業技術大学院大学\" property=\"og:title\"/>\n",
      "  <meta content=\"article\" property=\"og:type\"/>\n",
      "  <meta content=\"https://aiit.ac.jp/about/message/\" property=\"og:url\"/>\n",
      "  <meta content=\"\" property=\"og:image\"/>\n",
      "  <meta content=\"産業技術大学院大学の公式サイトです。学長あいさつページです。学長、川田　誠一からのメッセージを掲載しています。\" name=\"og:description\"/>\n",
      "  <title>\n",
      "   学長あいさつ | 大学案内 | AIIT東京都立産業技術大学院大学\n",
      "  </title>\n",
      "  <link href=\"/assets/css/content.css\" rel=\"stylesheet\"/>\n",
      "  <script src=\"/assets/js/jquery-3.4.1.min.js\">\n",
      "  </script>\n",
      "  <script src=\"/assets/js/common.js\">\n",
      "  </script>\n",
      "  <!-- Facebook Pixel Code -->\n",
      "  <script>\n",
      "   !function(f,b,e,v,n,t,s){if(f.fbq)return;n=f.fbq=function(){n.callMethod?\n",
      "n.callMethod.apply(n,arguments):n.queue.push(arguments)};if(!f._fbq)f._fbq=n;\n",
      "n.push=n;n.loaded=!0;n.version='2.0';n.queue=[];t=b.createElement(e);t.async=!0;\n",
      "t.src=v;s=b.getElementsByTagName(e)[0];s.parentNode.insertBefore(t,s)}(window,\n",
      "document,'script','//connect.facebook.net/en_US/fbevents.js');\n",
      "\n",
      "fbq('init', '580797698734152');\n",
      "fbq('track', \"PageView\");\n",
      "  </script>\n",
      "  <noscript>\n",
      "   <img alt=\"\" height=\"1\" src=\"https://www.facebook.com/tr?id=580797698734152&amp;ev=PageView&amp;noscript=1\" style=\"display:none\" width=\"1\"/>\n",
      "  </noscript>\n",
      "  <!-- End Facebook Pixel Code -->\n",
      " </head>\n",
      " <body>\n",
      "  <div id=\"fb-root\">\n",
      "   <!-- -->\n",
      "  </div>\n",
      "  <script async=\"async\" crossorigin=\"anonymous\" defer=\"defer\" src=\"https://connect.facebook.net/ja_JP/sdk.js#xfbml=1&amp;version=v6.0\">\n",
      "  </script>\n",
      "  <ul class=\"skip_links\">\n",
      "   <li>\n",
      "    <a href=\"#mainContents\">\n",
      "     このページの本文へ\n",
      "    </a>\n",
      "   </li>\n",
      "   <li>\n",
      "    <a href=\"#globalNav\">\n",
      "     メインメニューへ（フォーカスすると下層リンクが展開されます）\n",
      "    </a>\n",
      "   </li>\n",
      "   <li>\n",
      "    <a href=\"#localNav\">\n",
      "     「大学案内」のサブメニューへ\n",
      "    </a>\n",
      "   </li>\n",
      "  </ul>\n",
      "  <header class=\"header\" id=\"pagetop\">\n",
      "   <div class=\"header_logo\">\n",
      "    <a href=\"/\">\n",
      "     <img alt=\"東京都立産業技術大学院大学\" src=\"/assets/img/logo_aiit_jp.svg\"/>\n",
      "    </a>\n",
      "   </div>\n",
      "   <nav class=\"header_nav\" id=\"js_header_nav\">\n",
      "    <p class=\"header_nav_home\">\n",
      "     <a href=\"/\">\n",
      "      HOME\n",
      "     </a>\n",
      "    </p>\n",
      "    <div class=\"header_nav_main_wrapper\">\n",
      "     <ul class=\"header_nav_main\" id=\"globalNav\">\n",
      "      <li data-nav-name=\"about\">\n",
      "       <strong>\n",
      "        <a href=\"/about/\">\n",
      "         大学案内\n",
      "        </a>\n",
      "       </strong>\n",
      "      </li>\n",
      "      <li data-nav-name=\"education\">\n",
      "       <a href=\"/education/\">\n",
      "        教育の特色\n",
      "       </a>\n",
      "      </li>\n",
      "      <li data-nav-name=\"master_program\">\n",
      "       <a href=\"/master_program/\">\n",
      "        専攻・コース\n",
      "       </a>\n",
      "      </li>\n",
      "      <li data-nav-name=\"support\">\n",
      "       <a href=\"/support/\">\n",
      "        学生生活・キャリア支援\n",
      "       </a>\n",
      "      </li>\n",
      "      <li data-nav-name=\"research_collab\">\n",
      "       <a href=\"/research_collab/\">\n",
      "        研究活動・産学連携\n",
      "       </a>\n",
      "      </li>\n",
      "      <li data-nav-name=\"admission\">\n",
      "       <a href=\"/admission/\">\n",
      "        入学案内\n",
      "       </a>\n",
      "      </li>\n",
      "     </ul>\n",
      "    </div>\n",
      "    <ul class=\"header_nav_sub\">\n",
      "     <li>\n",
      "      <a href=\"/prospective/\">\n",
      "       受験生・社会人の方へ\n",
      "      </a>\n",
      "     </li>\n",
      "     <li>\n",
      "      <a href=\"/company/\">\n",
      "       企業の方へ\n",
      "      </a>\n",
      "     </li>\n",
      "     <li>\n",
      "      <a href=\"/alumni/\">\n",
      "       修了生の方へ\n",
      "      </a>\n",
      "     </li>\n",
      "     <li>\n",
      "      <a href=\"/student/\">\n",
      "       AIITポータル\n",
      "      </a>\n",
      "     </li>\n",
      "    </ul>\n",
      "    <ul class=\"header_nav_utility\">\n",
      "     <li>\n",
      "      <a href=\"/about/access/\">\n",
      "       アクセス\n",
      "      </a>\n",
      "     </li>\n",
      "     <li>\n",
      "      <a href=\"/admission/document.html\">\n",
      "       資料請求\n",
      "      </a>\n",
      "     </li>\n",
      "     <li>\n",
      "      <a href=\"/contact/\">\n",
      "       お問い合わせ\n",
      "      </a>\n",
      "     </li>\n",
      "     <li class=\"header_nav_search\">\n",
      "      <script async=\"\" src=\"https://cse.google.com/cse.js?cx=016538476209261646359:pew7tf9u0gd\">\n",
      "      </script>\n",
      "      <div class=\"gcse-search\">\n",
      "       <!-- -->\n",
      "      </div>\n",
      "     </li>\n",
      "    </ul>\n",
      "   </nav>\n",
      "   <p class=\"header_nav_english\">\n",
      "    <a href=\"/english/\">\n",
      "     English\n",
      "    </a>\n",
      "   </p>\n",
      "  </header>\n",
      "  <nav class=\"breadcrumb\">\n",
      "   <ol itemprop=\"breadcrumb\" itemscope=\"itemscope\" itemtype=\"http://schema.org/BreadcrumbList\">\n",
      "    <li itemprop=\"itemListElement\" itemscope=\"\" itemtype=\"http://schema.org/ListItem\">\n",
      "     <a href=\"/\" itemprop=\"item\">\n",
      "      <span itemprop=\"name\">\n",
      "       HOME\n",
      "      </span>\n",
      "     </a>\n",
      "     <meta content=\"1\" itemprop=\"position\"/>\n",
      "    </li>\n",
      "    <li itemprop=\"itemListElement\" itemscope=\"\" itemtype=\"http://schema.org/ListItem\">\n",
      "     <a href=\"/about/\" itemprop=\"item\">\n",
      "      <span itemprop=\"name\">\n",
      "       大学案内\n",
      "      </span>\n",
      "     </a>\n",
      "     <meta content=\"2\" itemprop=\"position\"/>\n",
      "    </li>\n",
      "    <li itemprop=\"itemListElement\" itemscope=\"\" itemtype=\"http://schema.org/ListItem\">\n",
      "     <a href=\"/about/message/\" itemprop=\"item\">\n",
      "      <span itemprop=\"name\">\n",
      "       学長あいさつ\n",
      "      </span>\n",
      "     </a>\n",
      "     <meta content=\"3\" itemprop=\"position\"/>\n",
      "    </li>\n",
      "   </ol>\n",
      "  </nav>\n",
      "  <div class=\"container\">\n",
      "   <main id=\"mainContents\">\n",
      "    <article>\n",
      "     <h1>\n",
      "      学長あいさつ\n",
      "     </h1>\n",
      "     <h2>\n",
      "      高い志を持った学生が集う大学院がここにあります\n",
      "     </h2>\n",
      "     <div class=\"wm-roundL-medium\">\n",
      "      <div class=\"wm-roundL-medium-img\">\n",
      "       <figure>\n",
      "        <img alt=\"学長　橋本洋志\" src=\"/images/jp/about/hashimoto_gakucho.png\"/>\n",
      "       </figure>\n",
      "      </div>\n",
      "      <p>\n",
      "       世の中で起こってほしい変化を起こす人になれ。\n",
      "       <br/>\n",
      "       ーMahatma Gandhi（1869-1948）\n",
      "      </p>\n",
      "      <p>\n",
      "       本学は、東京都が設置した専門職大学院であり、国内外の産業技術分野において活躍できる高度で専門的な知識・スキルと実務遂行能力を備えた高度専門職業人を養成することを目的とします。\n",
      "      </p>\n",
      "      <p>\n",
      "       本学の産業技術専攻は3コース制をとっています。すなわち、起業、企業内新規事業、事業承継を通して未来の価値づくりを担う「事業イノベーター」を育成する事業設計工学コース、情報系の上流工程のマネジメント能力を備え高度なIT技術者である「情報アーキテクト」を育成する情報アーキテクチャコース、デザインとAI・データサイエンス技術を融合して価値創造をもたらす「ものづくりアーキテクト」を育成する創造技術コースがあります。\n",
      "      </p>\n",
      "      <p>\n",
      "       本学の教員組織は、学術的研究を担える教員に加えて産業界の実学を伝えることのできる教員から構成されており、学生みなさんが、研究だけではなく、産業技術分野において新たな価値を示すことのできる能力獲得が行えるような教育プログラムを実施しています。\n",
      "      </p>\n",
      "      <p>\n",
      "       本学は多様性を重んじています。この多様性とは、学生みなさんの背景が社会人技術者・管理職、学部卒、企業経営者、スタートアップを志す方等、および、年齢層が多様であること。本学が輩出するキャリアモデルの資質、知識、スキル、能力が学際的に多様であること。個々人の創造性、独自性、価値観が多様であること。これらを本学は受容した上で、独自の教育研究と社会貢献を実施しています。\n",
      "      </p>\n",
      "      <p>\n",
      "       本学に入学されて、この多様な価値観に触れることで、新鮮な啓発や気付きを得られることでしょう。これにより、深い学びの価値に気付くでしょう。そして、学ぶことでみなさんの才能は開花するでしょう。その才能の発揮は、社会や環境そして人の価値観をより良く変えるために行われる、そのような人材を本学は世に送り出します。\n",
      "      </p>\n",
      "      <p>\n",
      "       みなさんの入学をお待ちしています。\n",
      "      </p>\n",
      "     </div>\n",
      "     <p class=\"wm-right\">\n",
      "      東京都立産業技術大学院大学　学長\n",
      "      <br/>\n",
      "      橋本　洋志\n",
      "     </p>\n",
      "    </article>\n",
      "   </main>\n",
      "   <nav class=\"localnavi\" id=\"localNav\">\n",
      "    <ul class=\"localnavi_item\">\n",
      "     <li>\n",
      "      <a href=\"/about/\">\n",
      "       大学案内\n",
      "      </a>\n",
      "      <ul>\n",
      "       <li class=\"localnavi_item_root\">\n",
      "        <strong>\n",
      "         <a href=\"/about/message/\">\n",
      "          学長あいさつ\n",
      "         </a>\n",
      "        </strong>\n",
      "        <ul>\n",
      "         <li>\n",
      "          <a href=\"/about/message/successive.html\">\n",
      "           歴代学長\n",
      "          </a>\n",
      "         </li>\n",
      "        </ul>\n",
      "       </li>\n",
      "       <li>\n",
      "        <a href=\"/about/overview/\">\n",
      "         大学概要\n",
      "        </a>\n",
      "       </li>\n",
      "       <li>\n",
      "        <a href=\"/about/education/\">\n",
      "         教育情報の公表\n",
      "        </a>\n",
      "       </li>\n",
      "       <li>\n",
      "        <a href=\"/about/council/\">\n",
      "         運営諮問会議\n",
      "        </a>\n",
      "       </li>\n",
      "       <li>\n",
      "        <a href=\"/about/donation/\">\n",
      "         寄附金のお申込方法\n",
      "        </a>\n",
      "       </li>\n",
      "       <li>\n",
      "        <a href=\"/about/library/\">\n",
      "         図書館\n",
      "        </a>\n",
      "       </li>\n",
      "       <li>\n",
      "        <a href=\"/about/access/\">\n",
      "         アクセス\n",
      "        </a>\n",
      "       </li>\n",
      "      </ul>\n",
      "     </li>\n",
      "    </ul>\n",
      "   </nav>\n",
      "  </div>\n",
      "  <p class=\"to_page_top\">\n",
      "   <a href=\"#pagetop\">\n",
      "    PAGE TOP\n",
      "   </a>\n",
      "  </p>\n",
      "  <footer class=\"footer\">\n",
      "   <ul class=\"footer_link\">\n",
      "    <li>\n",
      "     <a href=\"/about/education/\">\n",
      "      教育情報の公表\n",
      "     </a>\n",
      "    </li>\n",
      "    <li>\n",
      "     <a href=\"/contact/\">\n",
      "      お問い合わせ\n",
      "     </a>\n",
      "    </li>\n",
      "    <li>\n",
      "     <a href=\"/privacy/\">\n",
      "      プライバシーポリシー\n",
      "     </a>\n",
      "    </li>\n",
      "    <li>\n",
      "     <a href=\"/site_policy/\">\n",
      "      サイトポリシー\n",
      "     </a>\n",
      "    </li>\n",
      "    <li>\n",
      "     <a href=\"/social_media/\">\n",
      "      ソーシャルメディアポリシー\n",
      "     </a>\n",
      "    </li>\n",
      "    <li>\n",
      "     <a href=\"/links/\">\n",
      "      リンク集\n",
      "     </a>\n",
      "    </li>\n",
      "    <li>\n",
      "     <a href=\"/sitemap/\">\n",
      "      サイトマップ\n",
      "     </a>\n",
      "    </li>\n",
      "   </ul>\n",
      "   <ul class=\"footer_link footer_em\">\n",
      "    <li>\n",
      "     <a href=\"http://www.houjin-tmu.ac.jp/\" target=\"_blank\">\n",
      "      東京都公立大学法人\n",
      "     </a>\n",
      "    </li>\n",
      "    <li>\n",
      "     <a href=\"http://www.tmu.ac.jp/\" target=\"_blank\">\n",
      "      東京都立大学\n",
      "     </a>\n",
      "    </li>\n",
      "    <li>\n",
      "     <a href=\"http://www.metro-cit.ac.jp/\" target=\"_blank\">\n",
      "      東京都立産業技術高等専門学校\n",
      "     </a>\n",
      "    </li>\n",
      "    <li>\n",
      "     <a href=\"https://sites.google.com/view/apenweb/ \" target=\"_blank\">\n",
      "      APEN\n",
      "     </a>\n",
      "    </li>\n",
      "    <li>\n",
      "     <a href=\"https://www.houjin-tmu.ac.jp/recruit_teacher/\" target=\"_blank\">\n",
      "      教員採用情報\n",
      "     </a>\n",
      "    </li>\n",
      "    <li>\n",
      "     <a href=\"https://www.houjin-tmu.ac.jp/recruit_staff/\" target=\"_blank\">\n",
      "      職員採用情報\n",
      "     </a>\n",
      "    </li>\n",
      "   </ul>\n",
      "   <p class=\"footer_copyright\">\n",
      "    <small>\n",
      "     Copyright © Advanced Institute of Industrial Technology All Rights Reserved.\n",
      "    </small>\n",
      "   </p>\n",
      "  </footer>\n",
      " </body>\n",
      "</html>\n"
     ]
    }
   ],
   "source": [
    "from bs4 import BeautifulSoup\n",
    "\n",
    "# 取得したデータからの必要なデータ抽出（準備）\n",
    "# - 'html.parser': 標準のHTML解析器\n",
    "soup = BeautifulSoup(res.content, 'html.parser')\n",
    "\n",
    "# 結果の確認\n",
    "# - prettify(): HTMLの構造がわかりやすいように出力\n",
    "print(soup.prettify())"
   ]
  },
  {
   "cell_type": "code",
   "execution_count": 7,
   "id": "6935741f-f7f3-4db6-8ad7-061eb3757acd",
   "metadata": {},
   "outputs": [
    {
     "data": {
      "text/plain": [
       "bs4.BeautifulSoup"
      ]
     },
     "execution_count": 7,
     "metadata": {},
     "output_type": "execute_result"
    }
   ],
   "source": [
    "type(soup)"
   ]
  },
  {
   "cell_type": "code",
   "execution_count": 8,
   "id": "f5b11778-c23f-48e8-9513-fc6a3718387f",
   "metadata": {},
   "outputs": [
    {
     "data": {
      "text/plain": [
       "'\\n\\n\\n\\n\\n\\n\\n\\n\\n\\n\\n\\n\\n\\n\\n\\n\\n\\n\\n\\n学長あいさつ | 大学案内 | AIIT東京都立産業技術大学院大学\\n\\n\\n\\n\\n\\n\\n\\n\\n\\n\\n\\n\\n\\nこのページの本文へ\\n\\n\\nメインメニューへ（フォーカスすると下層リンクが展開されます）\\n\\n\\n「大学案内」のサブメニューへ\\n\\n\\n\\n\\n\\n\\n\\n\\n\\nHOME\\n\\n\\n\\n\\n\\n大学案内\\n\\n\\n\\n教育の特色\\n\\n\\n専攻・コース\\n\\n\\n学生生活・キャリア支援\\n\\n\\n研究活動・産学連携\\n\\n\\n入学案内\\n\\n\\n\\n\\n\\n受験生・社会人の方へ\\n\\n\\n企業の方へ\\n\\n\\n修了生の方へ\\n\\n\\nAIITポータル\\n\\n\\n\\n\\nアクセス\\n\\n\\n資料請求\\n\\n\\nお問い合わせ\\n\\n\\n\\n\\n\\n\\n\\n\\nEnglish\\n\\n\\n\\n\\n\\n\\nHOME\\n\\n\\n\\n\\n大学案内\\n\\n\\n\\n\\n学長あいさつ\\n\\n\\n\\n\\n\\n\\n\\n学長あいさつ\\n高い志を持った学生が集う大学院がここにあります\\n\\n\\n\\n\\n\\n\\n世の中で起こってほしい変化を起こす人になれ。 ーMahatma Gandhi（1869-1948）\\n本学は、東京都が設置した専門職大学院であり、国内外の産業技術分野において活躍できる高度で専門的な知識・スキルと実務遂行能力を備えた高度専門職業人を養成することを目的とします。\\n本学の産業技術専攻は3コース制をとっています。すなわち、起業、企業内新規事業、事業承継を通して未来の価値づくりを担う「事業イノベーター」を育成する事業設計工学コース、情報系の上流工程のマネジメント能力を備え高度なIT技術者である「情報アーキテクト」を育成する情報アーキテクチャコース、デザインとAI・データサイエンス技術を融合して価値創造をもたらす「ものづくりアーキテクト」を育成する創造技術コースがあります。\\n本学の教員組織は、学術的研究を担える教員に加えて産業界の実学を伝えることのできる教員から構成されており、学生みなさんが、研究だけではなく、産業技術分野において新たな価値を示すことのできる能力獲得が行えるような教育プログラムを実施しています。\\n本学は多様性を重んじています。この多様性とは、学生みなさんの背景が社会人技術者・管理職、学部卒、企業経営者、スタートアップを志す方等、および、年齢層が多様であること。本学が輩出するキャリアモデルの資質、知識、スキル、能力が学際的に多様であること。個々人の創造性、独自性、価値観が多様であること。これらを本学は受容した上で、独自の教育研究と社会貢献を実施しています。\\n本学に入学されて、この多様な価値観に触れることで、新鮮な啓発や気付きを得られることでしょう。これにより、深い学びの価値に気付くでしょう。そして、学ぶことでみなさんの才能は開花するでしょう。その才能の発揮は、社会や環境そして人の価値観をより良く変えるために行われる、そのような人材を本学は世に送り出します。\\nみなさんの入学をお待ちしています。\\n\\n東京都立産業技術大学院大学\\u3000学長橋本\\u3000洋志\\n\\n\\n\\n\\n\\n大学案内\\n\\n\\n\\n学長あいさつ\\n\\n\\n\\n歴代学長\\n\\n\\n\\n\\n大学概要\\n\\n\\n教育情報の公表\\n\\n\\n運営諮問会議\\n\\n\\n寄附金のお申込方法\\n\\n\\n図書館\\n\\n\\nアクセス\\n\\n\\n\\n\\n\\n\\n\\nPAGE TOP\\n\\n\\n\\n\\n教育情報の公表\\n\\n\\nお問い合わせ\\n\\n\\nプライバシーポリシー\\n\\n\\nサイトポリシー\\n\\n\\nソーシャルメディアポリシー\\n\\n\\nリンク集\\n\\n\\nサイトマップ\\n\\n\\n\\n\\n東京都公立大学法人\\n\\n\\n東京都立大学\\n\\n\\n東京都立産業技術高等専門学校\\n\\n\\nAPEN\\n\\n\\n教員採用情報\\n\\n\\n職員採用情報\\n\\n\\n\\nCopyright © Advanced Institute of Industrial Technology All Rights Reserved.\\n\\n\\n\\n'"
      ]
     },
     "execution_count": 8,
     "metadata": {},
     "output_type": "execute_result"
    }
   ],
   "source": [
    "# テキストの抽出\n",
    "text = soup.get_text()\n",
    "\n",
    "# 結果の確認\n",
    "text"
   ]
  },
  {
   "cell_type": "code",
   "execution_count": 9,
   "id": "fe2875ce-f95e-4dea-852d-1fd387434c3c",
   "metadata": {},
   "outputs": [
    {
     "data": {
      "text/plain": [
       "'学長あいさつ | 大学案内 | AIIT東京都立産業技術大学院大学このページの本文へメインメニューへ（フォーカスすると下層リンクが展開されます）「大学案内」のサブメニューへHOME大学案内教育の特色専攻・コース学生生活・キャリア支援研究活動・産学連携入学案内受験生・社会人の方へ企業の方へ修了生の方へAIITポータルアクセス資料請求お問い合わせEnglishHOME大学案内学長あいさつ学長あいさつ高い志を持った学生が集う大学院がここにあります世の中で起こってほしい変化を起こす人になれ。 ーMahatma Gandhi（1869-1948）本学は、東京都が設置した専門職大学院であり、国内外の産業技術分野において活躍できる高度で専門的な知識・スキルと実務遂行能力を備えた高度専門職業人を養成することを目的とします。本学の産業技術専攻は3コース制をとっています。すなわち、起業、企業内新規事業、事業承継を通して未来の価値づくりを担う「事業イノベーター」を育成する事業設計工学コース、情報系の上流工程のマネジメント能力を備え高度なIT技術者である「情報アーキテクト」を育成する情報アーキテクチャコース、デザインとAI・データサイエンス技術を融合して価値創造をもたらす「ものづくりアーキテクト」を育成する創造技術コースがあります。本学の教員組織は、学術的研究を担える教員に加えて産業界の実学を伝えることのできる教員から構成されており、学生みなさんが、研究だけではなく、産業技術分野において新たな価値を示すことのできる能力獲得が行えるような教育プログラムを実施しています。本学は多様性を重んじています。この多様性とは、学生みなさんの背景が社会人技術者・管理職、学部卒、企業経営者、スタートアップを志す方等、および、年齢層が多様であること。本学が輩出するキャリアモデルの資質、知識、スキル、能力が学際的に多様であること。個々人の創造性、独自性、価値観が多様であること。これらを本学は受容した上で、独自の教育研究と社会貢献を実施しています。本学に入学されて、この多様な価値観に触れることで、新鮮な啓発や気付きを得られることでしょう。これにより、深い学びの価値に気付くでしょう。そして、学ぶことでみなさんの才能は開花するでしょう。その才能の発揮は、社会や環境そして人の価値観をより良く変えるために行われる、そのような人材を本学は世に送り出します。みなさんの入学をお待ちしています。東京都立産業技術大学院大学 学長橋本 洋志大学案内学長あいさつ歴代学長大学概要教育情報の公表運営諮問会議寄附金のお申込方法図書館アクセスPAGE TOP教育情報の公表お問い合わせプライバシーポリシーサイトポリシーソーシャルメディアポリシーリンク集サイトマップ東京都公立大学法人東京都立大学東京都立産業技術高等専門学校APEN教員採用情報職員採用情報Copyright © Advanced Institute of Industrial Technology All Rights Reserved.'"
      ]
     },
     "execution_count": 9,
     "metadata": {},
     "output_type": "execute_result"
    }
   ],
   "source": [
    "# 不要な文字コードの置換\n",
    "# - 改行 \\n\n",
    "# - 全角スペース \\u3000\n",
    "text.replace('\\n', '').replace('\\u3000', ' ')"
   ]
  },
  {
   "cell_type": "markdown",
   "id": "21c5167d-7174-4bce-b2fc-6cf655193609",
   "metadata": {},
   "source": [
    "### 主要なコンテンツのテキスト\n",
    "\n",
    "Webページの主要なコンテンツ部分は `<main> ~ </main>` に配置する（のが一般的）：\n",
    "```\n",
    "   <main id=\"mainContents\">\n",
    "    <article>\n",
    "     <h1>\n",
    "      学長あいさつ\n",
    "     </h1>\n",
    "     ・・・本文・・・\n",
    "    </article>\n",
    "   </main>\n",
    "```"
   ]
  },
  {
   "cell_type": "code",
   "execution_count": 10,
   "id": "f3b7e591-9240-4700-a9cb-3f5e9625158c",
   "metadata": {},
   "outputs": [
    {
     "data": {
      "text/plain": [
       "'\\n\\n学長あいさつ\\n高い志を持った学生が集う大学院がここにあります\\n\\n\\n\\n\\n\\n\\n世の中で起こってほしい変化を起こす人になれ。 ーMahatma Gandhi（1869-1948）\\n本学は、東京都が設置した専門職大学院であり、国内外の産業技術分野において活躍できる高度で専門的な知識・スキルと実務遂行能力を備えた高度専門職業人を養成することを目的とします。\\n本学の産業技術専攻は3コース制をとっています。すなわち、起業、企業内新規事業、事業承継を通して未来の価値づくりを担う「事業イノベーター」を育成する事業設計工学コース、情報系の上流工程のマネジメント能力を備え高度なIT技術者である「情報アーキテクト」を育成する情報アーキテクチャコース、デザインとAI・データサイエンス技術を融合して価値創造をもたらす「ものづくりアーキテクト」を育成する創造技術コースがあります。\\n本学の教員組織は、学術的研究を担える教員に加えて産業界の実学を伝えることのできる教員から構成されており、学生みなさんが、研究だけではなく、産業技術分野において新たな価値を示すことのできる能力獲得が行えるような教育プログラムを実施しています。\\n本学は多様性を重んじています。この多様性とは、学生みなさんの背景が社会人技術者・管理職、学部卒、企業経営者、スタートアップを志す方等、および、年齢層が多様であること。本学が輩出するキャリアモデルの資質、知識、スキル、能力が学際的に多様であること。個々人の創造性、独自性、価値観が多様であること。これらを本学は受容した上で、独自の教育研究と社会貢献を実施しています。\\n本学に入学されて、この多様な価値観に触れることで、新鮮な啓発や気付きを得られることでしょう。これにより、深い学びの価値に気付くでしょう。そして、学ぶことでみなさんの才能は開花するでしょう。その才能の発揮は、社会や環境そして人の価値観をより良く変えるために行われる、そのような人材を本学は世に送り出します。\\nみなさんの入学をお待ちしています。\\n\\n東京都立産業技術大学院大学\\u3000学長橋本\\u3000洋志\\n\\n'"
      ]
     },
     "execution_count": 10,
     "metadata": {},
     "output_type": "execute_result"
    }
   ],
   "source": [
    "# main要素からテキストの抽出\n",
    "main_text = soup.main.get_text()\n",
    "\n",
    "# 結果の確認\n",
    "main_text"
   ]
  },
  {
   "cell_type": "markdown",
   "id": "c87b664f-a735-4087-ab79-d8001303c355",
   "metadata": {},
   "source": [
    "### 必要なデータだけ抽出\n",
    "\n",
    "- find(), find_all()の引数に要素名を指定"
   ]
  },
  {
   "cell_type": "code",
   "execution_count": 11,
   "id": "d52454a7-9a9b-494b-9170-675125426b2e",
   "metadata": {},
   "outputs": [
    {
     "data": {
      "text/plain": [
       "<h1>学長あいさつ</h1>"
      ]
     },
     "execution_count": 11,
     "metadata": {},
     "output_type": "execute_result"
    }
   ],
   "source": [
    "# 一致する最初の要素\n",
    "soup.find('h1')"
   ]
  },
  {
   "cell_type": "code",
   "execution_count": 12,
   "id": "849bcf2b-fb8e-42af-b98f-62a47a2ddcc9",
   "metadata": {},
   "outputs": [
    {
     "data": {
      "text/plain": [
       "'学長あいさつ'"
      ]
     },
     "execution_count": 12,
     "metadata": {},
     "output_type": "execute_result"
    }
   ],
   "source": [
    "# テキスト部分\n",
    "h1 = soup.find('h1')\n",
    "h1.text"
   ]
  },
  {
   "cell_type": "code",
   "execution_count": 13,
   "id": "1490dedb-d236-490f-869e-ad895781a9fe",
   "metadata": {},
   "outputs": [
    {
     "data": {
      "text/plain": [
       "[<a href=\"#mainContents\">このページの本文へ</a>,\n",
       " <a href=\"#globalNav\">メインメニューへ（フォーカスすると下層リンクが展開されます）</a>,\n",
       " <a href=\"#localNav\">「大学案内」のサブメニューへ</a>,\n",
       " <a href=\"/\">\n",
       " <img alt=\"東京都立産業技術大学院大学\" src=\"/assets/img/logo_aiit_jp.svg\"/></a>,\n",
       " <a href=\"/\">HOME</a>,\n",
       " <a href=\"/about/\">大学案内</a>,\n",
       " <a href=\"/education/\">教育の特色</a>,\n",
       " <a href=\"/master_program/\">専攻・コース</a>,\n",
       " <a href=\"/support/\">学生生活・キャリア支援</a>,\n",
       " <a href=\"/research_collab/\">研究活動・産学連携</a>,\n",
       " <a href=\"/admission/\">入学案内</a>,\n",
       " <a href=\"/prospective/\">受験生・社会人の方へ</a>,\n",
       " <a href=\"/company/\">企業の方へ</a>,\n",
       " <a href=\"/alumni/\">修了生の方へ</a>,\n",
       " <a href=\"/student/\">AIITポータル</a>,\n",
       " <a href=\"/about/access/\">アクセス</a>,\n",
       " <a href=\"/admission/document.html\">資料請求</a>,\n",
       " <a href=\"/contact/\">お問い合わせ</a>,\n",
       " <a href=\"/english/\">English</a>,\n",
       " <a href=\"/\" itemprop=\"item\">\n",
       " <span itemprop=\"name\">HOME</span></a>,\n",
       " <a href=\"/about/\" itemprop=\"item\">\n",
       " <span itemprop=\"name\">大学案内</span></a>,\n",
       " <a href=\"/about/message/\" itemprop=\"item\">\n",
       " <span itemprop=\"name\">学長あいさつ</span></a>,\n",
       " <a href=\"/about/\">大学案内</a>,\n",
       " <a href=\"/about/message/\">学長あいさつ</a>,\n",
       " <a href=\"/about/message/successive.html\">歴代学長</a>,\n",
       " <a href=\"/about/overview/\">大学概要</a>,\n",
       " <a href=\"/about/education/\">教育情報の公表</a>,\n",
       " <a href=\"/about/council/\">運営諮問会議</a>,\n",
       " <a href=\"/about/donation/\">寄附金のお申込方法</a>,\n",
       " <a href=\"/about/library/\">図書館</a>,\n",
       " <a href=\"/about/access/\">アクセス</a>,\n",
       " <a href=\"#pagetop\">PAGE TOP</a>,\n",
       " <a href=\"/about/education/\">教育情報の公表</a>,\n",
       " <a href=\"/contact/\">お問い合わせ</a>,\n",
       " <a href=\"/privacy/\">プライバシーポリシー</a>,\n",
       " <a href=\"/site_policy/\">サイトポリシー</a>,\n",
       " <a href=\"/social_media/\">ソーシャルメディアポリシー</a>,\n",
       " <a href=\"/links/\">リンク集</a>,\n",
       " <a href=\"/sitemap/\">サイトマップ</a>,\n",
       " <a href=\"http://www.houjin-tmu.ac.jp/\" target=\"_blank\">東京都公立大学法人</a>,\n",
       " <a href=\"http://www.tmu.ac.jp/\" target=\"_blank\">東京都立大学</a>,\n",
       " <a href=\"http://www.metro-cit.ac.jp/\" target=\"_blank\">東京都立産業技術高等専門学校</a>,\n",
       " <a href=\"https://sites.google.com/view/apenweb/ \" target=\"_blank\">APEN</a>,\n",
       " <a href=\"https://www.houjin-tmu.ac.jp/recruit_teacher/\" target=\"_blank\">教員採用情報</a>,\n",
       " <a href=\"https://www.houjin-tmu.ac.jp/recruit_staff/\" target=\"_blank\">職員採用情報</a>]"
      ]
     },
     "execution_count": 13,
     "metadata": {},
     "output_type": "execute_result"
    }
   ],
   "source": [
    "# 全ての a 要素\n",
    "soup.find_all('a')"
   ]
  },
  {
   "cell_type": "code",
   "execution_count": 14,
   "id": "f180def7-f119-480e-8840-2b299a093b5a",
   "metadata": {},
   "outputs": [
    {
     "name": "stdout",
     "output_type": "stream",
     "text": [
      "text(このページの本文へ) href(#mainContents)\n"
     ]
    }
   ],
   "source": [
    "# 最初の a 要素のテキスト部分と URL (href) の取得\n",
    "a = soup.find('a')\n",
    "print('text({}) href({})'.format(a.text, a['href']))"
   ]
  },
  {
   "cell_type": "code",
   "execution_count": 15,
   "id": "08269aac-81fe-4bd9-b6a5-90069564a0d0",
   "metadata": {},
   "outputs": [
    {
     "data": {
      "text/plain": [
       "'このページの本文へメインメニューへ（フォーカスすると下層リンクが展開されます）「大学案内」のサブメニューへ\\n\\nHOME\\nHOME大学案内教育の特色専攻・コース学生生活・キャリア支援研究活動・産学連携入学案内受験生・社会人の方へ企業の方へ修了生の方へAIITポータルアクセス資料請求お問い合わせ\\nEnglish\\nEnglish\\nHOME\\n大学案内\\n学長あいさつ学長あいさつ高い志を持った学生が集う大学院がここにあります世の中で起こってほしい変化を起こす人になれ。 ーMahatma Gandhi（1869-1948）本学は、東京都が設置した専門職大学院であり、国内外の産業技術分野において活躍できる高度で専門的な知識・スキルと実務遂行能力を備えた高度専門職業人を養成することを目的とします。本学の産業技術専攻は3コース制をとっています。すなわち、起業、企業内新規事業、事業承継を通して未来の価値づくりを担う「事業イノベーター」を育成する事業設計工学コース、情報系の上流工程のマネジメント能力を備え高度なIT技術者である「情報アーキテクト」を育成する情報アーキテクチャコース、デザインとAI・データサイエンス技術を融合して価値創造をもたらす「ものづくりアーキテクト」を育成する創造技術コースがあります。本学の教員組織は、学術的研究を担える教員に加えて産業界の実学を伝えることのできる教員から構成されており、学生みなさんが、研究だけではなく、産業技術分野において新たな価値を示すことのできる能力獲得が行えるような教育プログラムを実施しています。本学は多様性を重んじています。この多様性とは、学生みなさんの背景が社会人技術者・管理職、学部卒、企業経営者、スタートアップを志す方等、および、年齢層が多様であること。本学が輩出するキャリアモデルの資質、知識、スキル、能力が学際的に多様であること。個々人の創造性、独自性、価値観が多様であること。これらを本学は受容した上で、独自の教育研究と社会貢献を実施しています。本学に入学されて、この多様な価値観に触れることで、新鮮な啓発や気付きを得られることでしょう。これにより、深い学びの価値に気付くでしょう。そして、学ぶことでみなさんの才能は開花するでしょう。その才能の発揮は、社会や環境そして人の価値観をより良く変えるために行われる、そのような人材を本学は世に送り出します。みなさんの入学をお待ちしています。東京都立産業技術大学院大学\\u3000学長橋本\\u3000洋志大学案内学長あいさつ歴代学長大学概要教育情報の公表運営諮問会議寄附金のお申込方法図書館アクセス\\nPAGE TOP\\nPAGE TOP教育情報の公表お問い合わせプライバシーポリシーサイトポリシーソーシャルメディアポリシーリンク集サイトマップ東京都公立大学法人東京都立大学東京都立産業技術高等専門学校APEN教員採用情報職員採用情報\\nCopyright © Advanced Institute of Industrial Technology All Rights Reserved.\\n'"
      ]
     },
     "execution_count": 15,
     "metadata": {},
     "output_type": "execute_result"
    }
   ],
   "source": [
    "# 複数の要素をリストで指定して全ての要素を取得\n",
    "elements = soup.find_all(['h1', 'h2', 'a', 'p'])\n",
    "\n",
    "# 空のリストを作成\n",
    "text_list = []\n",
    "\n",
    "# 各要素のテキストをリストに追加\n",
    "for e in elements:\n",
    "    text_list.append(e.text)\n",
    "\n",
    "# リストを結合\n",
    "''.join(text_list)"
   ]
  }
 ],
 "metadata": {
  "kernelspec": {
   "display_name": "base",
   "language": "python",
   "name": "python3"
  },
  "language_info": {
   "codemirror_mode": {
    "name": "ipython",
    "version": 3
   },
   "file_extension": ".py",
   "mimetype": "text/x-python",
   "name": "python",
   "nbconvert_exporter": "python",
   "pygments_lexer": "ipython3",
   "version": "3.9.13 (main, Aug 25 2022, 18:24:45) \n[Clang 12.0.0 ]"
  },
  "vscode": {
   "interpreter": {
    "hash": "d451e6fd3e3a90eb92742bb146e8e20c8a00180dad068226f141e79828259f8f"
   }
  }
 },
 "nbformat": 4,
 "nbformat_minor": 5
}
