{
 "cells": [
  {
   "cell_type": "markdown",
   "id": "0c4fdb31-57a7-405f-b5b7-980c007c7867",
   "metadata": {},
   "source": [
    "## Joblib パッケージを用いた並列処理\n",
    "\n",
    "### 複数プロセスの生成\n",
    "\n",
    "- 複数のプロセスからなるプロセスプール（ワーカプロセス）を作成\n",
    "- プロセスで関数を実行、結果を受け取る"
   ]
  },
  {
   "cell_type": "code",
   "execution_count": null,
   "id": "d69263e3-5a92-4486-b54a-ccfab6f20d52",
   "metadata": {},
   "outputs": [],
   "source": [
    "from joblib import Parallel, delayed\n",
    "from random import randint\n",
    "import os\n",
    "\n",
    "# 子プロセスに実行させる関数\n",
    "# - print に flush=True を付けないと（すぐに）出力されない\n",
    "def do_some_work(pid, n):\n",
    "    print('pid({}) Process #{} work({})'.format(os.getpid(), pid, n), flush=True)\n",
    "    return (pid, sum(range(1, n + 1)))\n",
    "\n",
    "# 複数プロセスの生成\n",
    "# - n_jobs: 生成するプロセス数\n",
    "#   - 生成されたプロセスは再利用（セルを何度か実行しても、また別のセルでも、同じプロセスIDが表示される）\n",
    "# - delayed: Parallelの引数を生成するジェネレータを作成する関数\n",
    "#   - randint(100, 10000) を do_some_work() 内に置くと、全て同じ値になってしまう\n",
    "Parallel(n_jobs=4)(delayed(do_some_work)(i, randint(100, 10000)) for i in range(10))"
   ]
  },
  {
   "cell_type": "code",
   "execution_count": null,
   "id": "5dfe5570-c0b2-4fe6-9528-57264f2b6a2d",
   "metadata": {},
   "outputs": [],
   "source": [
    "# 分解して以下のように記述も可能\n",
    "# - multiprocessing での記述と類似\n",
    "\n",
    "# プロセスプールの作成\n",
    "p = Parallel(n_jobs=4)\n",
    "\n",
    "# ジェネレータを作成する関数\n",
    "f = delayed(do_some_work)\n",
    "\n",
    "# ジェネレータを作成\n",
    "args = (f(i, randint(100, 10000)) for i in range(10))\n",
    "\n",
    "# args をプロセスに割り当て実行\n",
    "p(args)"
   ]
  },
  {
   "cell_type": "markdown",
   "id": "eda674ce-409a-419c-8a11-1b0efa4dc3b2",
   "metadata": {},
   "source": [
    "### デバッグ用出力"
   ]
  },
  {
   "cell_type": "code",
   "execution_count": null,
   "id": "65638213-d021-4572-ba98-f3a50c9641d7",
   "metadata": {},
   "outputs": [],
   "source": [
    "# Parallel の引数\n",
    "# - verbose: 11 より大きくするとすべてのログを出力\n",
    "Parallel(n_jobs=4, verbose=11)(delayed(do_some_work)(i, randint(100, 10000)) for i in range(10))"
   ]
  },
  {
   "cell_type": "code",
   "execution_count": null,
   "id": "b47d2a14-43cf-4a88-b5d9-f5468a953a07",
   "metadata": {},
   "outputs": [],
   "source": []
  }
 ],
 "metadata": {
  "kernelspec": {
   "display_name": "Python 3 (ipykernel)",
   "language": "python",
   "name": "python3"
  },
  "language_info": {
   "codemirror_mode": {
    "name": "ipython",
    "version": 3
   },
   "file_extension": ".py",
   "mimetype": "text/x-python",
   "name": "python",
   "nbconvert_exporter": "python",
   "pygments_lexer": "ipython3",
   "version": "3.9.12"
  }
 },
 "nbformat": 4,
 "nbformat_minor": 5
}
