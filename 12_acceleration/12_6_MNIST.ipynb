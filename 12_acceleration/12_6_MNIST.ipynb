{
 "cells": [
  {
   "cell_type": "markdown",
   "id": "3960ec2e-c0de-4652-85a0-5ddd02da2ac2",
   "metadata": {},
   "source": [
    "## Joblib パッケージを用いた並列処理の例\n",
    "\n",
    "- Scikit-Learn は内部で並列処理\n",
    "- 大量のファイル等を扱う前処理では並列処理が有効な場合がある（かもしれない）\n"
   ]
  },
  {
   "cell_type": "markdown",
   "id": "4f333c4f-dff7-423a-af7c-bb84af3530b4",
   "metadata": {},
   "source": [
    "### MNISTの数字画像を個別の画像ファイルに保存（手順の確認）\n",
    "\n",
    "- まずは処理手順の確認\n",
    "- 並列処理化は次のノートブック"
   ]
  },
  {
   "cell_type": "code",
   "execution_count": null,
   "id": "c40be629-f56f-46db-b219-9e730f085ea2",
   "metadata": {},
   "outputs": [],
   "source": [
    "from sklearn.datasets import fetch_openml\n",
    "import matplotlib.pyplot as plt\n",
    "\n",
    "# MNISTデータの読み込み\n",
    "X, _ = fetch_openml('mnist_784', version=1, return_X_y=True, as_frame=False)\n",
    "\n",
    "# 確認\n",
    "X_0 = X[0].reshape(28, 28)\n",
    "plt.gray()\n",
    "plt.axis(\"off\")\n",
    "plt.imshow(X_0)"
   ]
  },
  {
   "cell_type": "code",
   "execution_count": null,
   "id": "45c9ee8d-d326-4745-89f7-0fe9302615a3",
   "metadata": {},
   "outputs": [],
   "source": [
    "from PIL import Image\n",
    "\n",
    "# PILデータに変換\n",
    "pil_img = Image.fromarray(X_0)\n",
    "\n",
    "# 確認\n",
    "plt.axis(\"off\")\n",
    "plt.imshow(pil_img)"
   ]
  },
  {
   "cell_type": "code",
   "execution_count": null,
   "id": "ffe5743f-6033-4b71-b76b-6ca9a0e41bc6",
   "metadata": {},
   "outputs": [],
   "source": [
    "import os, shutil\n",
    "\n",
    "# 保存用フォルダの消去・作成\n",
    "DIR = 'MNIST'\n",
    "try:\n",
    "    shutil.rmtree(DIR)\n",
    "except:\n",
    "    pass\n",
    "os.makedirs(DIR, exist_ok=True)"
   ]
  },
  {
   "cell_type": "code",
   "execution_count": null,
   "id": "731724d9-a333-489d-8604-dadcd1254698",
   "metadata": {},
   "outputs": [],
   "source": [
    "# ファイルに書き込み\n",
    "# - convert('L'): PNGが必要とする mode （データ表現）に変換\n",
    "# - save(): suffix (png) からフォーマットを判定\n",
    "X_0_pngfile = DIR + '/X_0.png'\n",
    "pil_img.convert('L').save(X_0_pngfile)\n",
    "\n",
    "# 作成したファイルを読み出し、表示\n",
    "png_img = Image.open(X_0_pngfile)\n",
    "plt.axis(\"off\")\n",
    "plt.imshow(png_img)"
   ]
  }
 ],
 "metadata": {
  "kernelspec": {
   "display_name": "Python 3 (ipykernel)",
   "language": "python",
   "name": "python3"
  },
  "language_info": {
   "codemirror_mode": {
    "name": "ipython",
    "version": 3
   },
   "file_extension": ".py",
   "mimetype": "text/x-python",
   "name": "python",
   "nbconvert_exporter": "python",
   "pygments_lexer": "ipython3",
   "version": "3.9.15"
  }
 },
 "nbformat": 4,
 "nbformat_minor": 5
}
