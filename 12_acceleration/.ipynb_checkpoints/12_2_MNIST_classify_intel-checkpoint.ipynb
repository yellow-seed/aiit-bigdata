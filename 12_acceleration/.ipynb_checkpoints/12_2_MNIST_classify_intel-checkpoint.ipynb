{
 "cells": [
  {
   "cell_type": "markdown",
   "metadata": {},
   "source": [
    "## 実行時間が長いMNISTデータセットの分類\n",
    "\n",
    "Intel性能向上用ソフトウェアの利用\n",
    "\n",
    "### インストール\n",
    "\n",
    "```\n",
    "conda create -n intelpython -c intel python=3.9 intelpython3_full jupyterlab seaborn\n",
    "```\n",
    "https://anaconda.org/intel/intelpython3_full<br>\n",
    "EULA: Intel Simplified Software License<br>\n",
    "https://www.intel.com/content/dam/develop/external/us/en/documents/pdf/intel-simplified-software-license.pdf\n",
    "\n",
    "または\n",
    "\n",
    "```\n",
    "conda create -n intelex -c intel python=3.9 scikit-learn-intelex jupyterlab seaborn\n",
    "```\n",
    "https://intel.github.io/scikit-learn-intelex/installation.html<br>\n",
    "https://anaconda.org/conda-forge/scikit-learn-intelex<br>\n",
    "EULA: Apache-2.0\n",
    "\n",
    "### Intelの高速化機能を有効化\n",
    "\n",
    "最初に実行する必要"
   ]
  },
  {
   "cell_type": "code",
   "execution_count": null,
   "metadata": {},
   "outputs": [],
   "source": [
    "from sklearnex import patch_sklearn\n",
    "patch_sklearn()"
   ]
  },
  {
   "cell_type": "markdown",
   "metadata": {},
   "source": [
    "以下は全く同じ"
   ]
  },
  {
   "cell_type": "code",
   "execution_count": null,
   "metadata": {},
   "outputs": [],
   "source": [
    "from sklearn.datasets import fetch_openml\n",
    "from sklearn.model_selection import train_test_split\n",
    "\n",
    "X, Y_str = fetch_openml('mnist_784', version=1, return_X_y=True, as_frame=False)\n",
    "\n",
    "# 正解ラベルは文字列で渡されるため数値に変換\n",
    "Y = Y_str.astype('int')\n",
    "\n",
    "# 教師データとテストデータに分割\n",
    "# - データ数が多くCVやグリッドサーチでは時間がかかるので、ここではホールドアウト法を用いる\n",
    "X_train, X_test, Y_train, Y_test = train_test_split(X, Y, test_size=0.3, random_state=1)"
   ]
  },
  {
   "cell_type": "markdown",
   "metadata": {},
   "source": [
    "### 分類器をテストする関数 test_model() の定義\n",
    "\n",
    "1. 教師データを学習\n",
    "2. 予測値を計算\n",
    "3. 精度の表示"
   ]
  },
  {
   "cell_type": "code",
   "execution_count": null,
   "metadata": {},
   "outputs": [],
   "source": [
    "import numpy as np\n",
    "import seaborn as sns\n",
    "import matplotlib.pyplot as plt\n",
    "from sklearn.metrics import classification_report, confusion_matrix\n",
    "\n",
    "def test_model(model):\n",
    "    # 教師データを学習\n",
    "    model.fit(X_train, Y_train)\n",
    "\n",
    "    # テストデータについてモデルからの予測値を計算\n",
    "    Y_predict = model.predict(X_test)\n",
    "\n",
    "    # 精度の表示\n",
    "    print(classification_report(Y_test, Y_predict, digits=3))"
   ]
  },
  {
   "cell_type": "markdown",
   "metadata": {},
   "source": [
    "### 高速な分類器\n",
    "\n",
    "- ナイーブベイズ\n",
    "- ランダムフォレスト"
   ]
  },
  {
   "cell_type": "code",
   "execution_count": null,
   "metadata": {},
   "outputs": [],
   "source": [
    "%%time\n",
    "from sklearn.naive_bayes import BernoulliNB\n",
    "\n",
    "# ナイーブベイズ\n",
    "model = BernoulliNB()\n",
    "# 分類器の精度検証\n",
    "test_model(model)"
   ]
  },
  {
   "cell_type": "code",
   "execution_count": null,
   "metadata": {},
   "outputs": [],
   "source": [
    "%%time\n",
    "from sklearn.ensemble import RandomForestClassifier\n",
    "\n",
    "# ランダムフォレスト\n",
    "model = RandomForestClassifier(n_jobs=-1)\n",
    "# 分類器の精度検証\n",
    "test_model(model)"
   ]
  },
  {
   "cell_type": "markdown",
   "metadata": {},
   "source": [
    "### 実行時間が長い分類器"
   ]
  },
  {
   "cell_type": "code",
   "execution_count": null,
   "metadata": {},
   "outputs": [],
   "source": [
    "%%time\n",
    "from sklearn.linear_model import LogisticRegression\n",
    "\n",
    "# ロジスティック回帰\n",
    "model = LogisticRegression(max_iter=2500)\n",
    "# 分類器の精度検証\n",
    "test_model(model)"
   ]
  },
  {
   "cell_type": "markdown",
   "metadata": {},
   "source": [
    "【注意】SVM (SVC) は Linux, Mac では実行できましたが、Windows ではエラーが出て実行できないことが多いようです。IntelのGPUドライバをインストールすることにより解決できるとの情報もありますが未確認です。"
   ]
  },
  {
   "cell_type": "code",
   "execution_count": null,
   "metadata": {},
   "outputs": [],
   "source": [
    "%%time\n",
    "from sklearn.svm import SVC\n",
    "\n",
    "# SVM\n",
    "model = SVC()\n",
    "# 分類器の精度検証\n",
    "test_model(model)"
   ]
  },
  {
   "cell_type": "code",
   "execution_count": null,
   "metadata": {},
   "outputs": [],
   "source": [
    "%%time\n",
    "from sklearn.neighbors import KNeighborsClassifier\n",
    "\n",
    "# kNN分類器を作成\n",
    "model = KNeighborsClassifier(n_neighbors=3, n_jobs=-1)\n",
    "# 分類器の精度検証\n",
    "test_model(model)"
   ]
  },
  {
   "cell_type": "markdown",
   "metadata": {},
   "source": [
    "### パラメータのチューニング"
   ]
  },
  {
   "cell_type": "code",
   "execution_count": null,
   "metadata": {},
   "outputs": [],
   "source": [
    "%%time\n",
    "from sklearn.model_selection import GridSearchCV\n",
    "\n",
    "# kNN分類器を作成\n",
    "model = KNeighborsClassifier(n_jobs=-1)\n",
    "\n",
    "# 探索パラメータ、グリッドの設定\n",
    "param_range = list(range(1, 10, 1))\n",
    "grid = [{'n_neighbors': param_range}]\n",
    "\n",
    "# グリッドサーチの作成、実行\n",
    "gs = GridSearchCV(model, param_grid=grid, scoring='accuracy', cv=5, n_jobs=-1)\n",
    "gs.fit(X, Y)\n",
    "\n",
    "# 結果の表示\n",
    "print('best accuracy={:.3f}'.format(gs.best_score_))\n",
    "print('parameter:', gs.best_params_)"
   ]
  },
  {
   "cell_type": "markdown",
   "metadata": {},
   "source": [
    "- 上のセルでは n_jobs=-1 を指定しているため大量に（実際のCPU数以上に）プロセスを生成\n",
    "- 下のセルでは n_jobs=-1 を削除"
   ]
  },
  {
   "cell_type": "code",
   "execution_count": null,
   "metadata": {},
   "outputs": [],
   "source": [
    "%%time\n",
    "from sklearn.model_selection import GridSearchCV\n",
    "\n",
    "# kNN分類器を作成\n",
    "model = KNeighborsClassifier()\n",
    "\n",
    "# 探索パラメータ、グリッドの設定\n",
    "param_range = list(range(1, 10, 1))\n",
    "grid = [{'n_neighbors': param_range}]\n",
    "\n",
    "# グリッドサーチの作成、実行\n",
    "gs = GridSearchCV(model, param_grid=grid, scoring='accuracy', cv=5)\n",
    "gs.fit(X, Y)\n",
    "\n",
    "# 結果の表示\n",
    "print('best accuracy={:.3f}'.format(gs.best_score_))\n",
    "print('parameter:', gs.best_params_)"
   ]
  }
 ],
 "metadata": {
  "kernelspec": {
   "display_name": "Python 3 (ipykernel)",
   "language": "python",
   "name": "python3"
  },
  "language_info": {
   "codemirror_mode": {
    "name": "ipython",
    "version": 3
   },
   "file_extension": ".py",
   "mimetype": "text/x-python",
   "name": "python",
   "nbconvert_exporter": "python",
   "pygments_lexer": "ipython3",
   "version": "3.9.15"
  }
 },
 "nbformat": 4,
 "nbformat_minor": 4
}
