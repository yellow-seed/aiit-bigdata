{
 "cells": [
  {
   "cell_type": "markdown",
   "id": "d0c031dc-62db-4970-83c2-71a92c148311",
   "metadata": {},
   "source": [
    "## Multiprocessing\n",
    "\n",
    "- Pythonの言語仕様でサポートされている機能\n",
    "- オペレーティングシステムが提供するプロセスのインタフェース（システムコール）に近い\n",
    "  - システムコールは os モジュールから呼び出し可能\n",
    "- 汎用性は高い一方で、使いやすくはない\n",
    "\n",
    "multiprocessing モジュールは JupyterLab と一緒に使えないため、以下では同様のインタフェースを提供する multiprocess を用いる。\n",
    "\n",
    "### インストール\n",
    "\n",
    "（2022年度）\n",
    "multiprocess をインストールすると Python 本体も conda-forge からインストールされてしまう。\n",
    "conda-forge の Python を用いる影響が不明のため、仮想環境を作成してインストールする。\n",
    "\n",
    "```\n",
    "conda create -n multiprocess -c conda-forge python=3.9 jupyterlab multiprocess\n",
    "```\n",
    "https://anaconda.org/conda-forge/multiprocess\n",
    "\n",
    "### プロセスの生成"
   ]
  },
  {
   "cell_type": "code",
   "execution_count": null,
   "id": "7041e333-1c94-45f8-8873-d9270801c1b8",
   "metadata": {},
   "outputs": [],
   "source": [
    "from multiprocess import Process\n",
    "import os\n",
    "\n",
    "# プロセスIDの表示\n",
    "def do_print(str):\n",
    "    print('pid({}) Process {}'.format(os.getpid(), str))\n",
    "\n",
    "# 親プロセス（自分）のプロセスID\n",
    "do_print('Parent')\n",
    "\n",
    "# プロセス制御オブジェクトの作成\n",
    "# - target: 子プロセスで実行する関数\n",
    "# - args: 引数のタプル ('Child',) と , の後に何もないのは要素が1つのタプルであるため\n",
    "p = Process(target=do_print, args=('Child',))\n",
    "\n",
    "# 子プロセスの実行開始\n",
    "p.start()\n",
    "\n",
    "print('Wating for child process...')\n",
    "\n",
    "# 子プロセスの終了待機\n",
    "p.join()"
   ]
  },
  {
   "cell_type": "markdown",
   "id": "4a6f00e2-6ba7-40e1-a896-8d85dfc61e76",
   "metadata": {},
   "source": [
    "### 複数プロセスの生成\n",
    "\n",
    "- 複数のプロセスからなるプロセスプール（ワーカプロセス）を作成\n",
    "- 作成したプロセスで関数を実行、結果を受け取る\n",
    "\n",
    "以下は Windows では実行不可（Mac, Linux では可能）"
   ]
  },
  {
   "cell_type": "code",
   "execution_count": null,
   "id": "c29f0cbf-5773-4168-88c9-2ec009e7d170",
   "metadata": {},
   "outputs": [],
   "source": [
    "from multiprocess import Pool\n",
    "from random import randint\n",
    "\n",
    "# 子プロセスに実行させる関数\n",
    "# - 1からランダムに生成された整数までの総和を計算\n",
    "def do_some_work(pid):\n",
    "    n = randint(100, 10000)\n",
    "    print('pid({}) Process #{} work({})'.format(os.getpid(), pid, n))\n",
    "    return (pid, sum(range(1, n + 1)))\n",
    "\n",
    "# プロセスプールの作成\n",
    "# - 引数は作成するプロセス数\n",
    "p = Pool(4)\n",
    "\n",
    "# プロセスプールのプロセスに仕事を割り当てる\n",
    "# - 第2引数のイテラブルが消費されるまで割り当てを続ける\n",
    "result = p.map_async(do_some_work, range(10))\n",
    "\n",
    "# 結果を受け取る\n",
    "# - timeout=None: 例外を発生させるタイムアウトを設定しない\n",
    "result.get(timeout=None)"
   ]
  },
  {
   "cell_type": "code",
   "execution_count": null,
   "id": "4f1e8758-899d-450f-9a6e-cf1f817da49c",
   "metadata": {},
   "outputs": [],
   "source": []
  }
 ],
 "metadata": {
  "kernelspec": {
   "display_name": "Python 3 (ipykernel)",
   "language": "python",
   "name": "python3"
  },
  "language_info": {
   "codemirror_mode": {
    "name": "ipython",
    "version": 3
   },
   "file_extension": ".py",
   "mimetype": "text/x-python",
   "name": "python",
   "nbconvert_exporter": "python",
   "pygments_lexer": "ipython3",
   "version": "3.9.15"
  }
 },
 "nbformat": 4,
 "nbformat_minor": 5
}
