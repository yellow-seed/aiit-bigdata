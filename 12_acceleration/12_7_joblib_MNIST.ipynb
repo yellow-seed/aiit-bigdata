{
 "cells": [
  {
   "cell_type": "markdown",
   "id": "3960ec2e-c0de-4652-85a0-5ddd02da2ac2",
   "metadata": {},
   "source": [
    "## Joblib パッケージを用いた並列処理の例\n",
    "\n",
    "- Scikit-Learn は内部で並列処理\n",
    "- 大量のファイル等を扱う前処理では並列処理が有効な場合がある（かもしれない）\n"
   ]
  },
  {
   "cell_type": "markdown",
   "id": "4f333c4f-dff7-423a-af7c-bb84af3530b4",
   "metadata": {},
   "source": [
    "### MNISTの数字画像を個別の画像ファイルに保存"
   ]
  },
  {
   "cell_type": "code",
   "execution_count": null,
   "id": "c40be629-f56f-46db-b219-9e730f085ea2",
   "metadata": {},
   "outputs": [],
   "source": [
    "from sklearn.datasets import fetch_openml\n",
    "import os, shutil\n",
    "import matplotlib.pyplot as plt\n",
    "\n",
    "# 保存用フォルダの消去・作成\n",
    "DIR = 'MNIST'\n",
    "try:\n",
    "    shutil.rmtree(DIR)\n",
    "except:\n",
    "    pass\n",
    "os.makedirs(DIR, exist_ok=True)\n",
    "\n",
    "# MNISTデータの読み込み\n",
    "X, _ = fetch_openml('mnist_784', version=1, return_X_y=True, as_frame=False)"
   ]
  },
  {
   "cell_type": "code",
   "execution_count": null,
   "id": "7fadb726-f002-42b2-bca0-b1913acc467e",
   "metadata": {},
   "outputs": [],
   "source": [
    "from PIL import Image\n",
    "\n",
    "def save_img_file(n):\n",
    "    print('Converting X[{}]'.format(n), flush=True)\n",
    "    x = X[n].reshape(28, 28)\n",
    "    pil_img = Image.fromarray(x)\n",
    "    pil_img.convert('L').save(DIR + '/X_{}.png'.format(n))"
   ]
  },
  {
   "cell_type": "code",
   "execution_count": null,
   "id": "b477bbbf-c724-4e1a-b22b-f5541f4694f6",
   "metadata": {},
   "outputs": [],
   "source": [
    "from joblib import Parallel, delayed\n",
    "\n",
    "# 処理するファイル数\n",
    "N = 20\n",
    "\n",
    "# 並列処理\n",
    "_ = Parallel(n_jobs=4)(delayed(save_img_file)(i) for i in range(N))"
   ]
  },
  {
   "cell_type": "code",
   "execution_count": null,
   "id": "cab8ba0c-2101-4b4f-b620-cd5a5fc1ef01",
   "metadata": {},
   "outputs": [],
   "source": [
    "from random import randint\n",
    "# 確認\n",
    "n = randint(0, N)\n",
    "\n",
    "# 元データから表示\n",
    "plt.gray()\n",
    "plt.axis(\"off\")\n",
    "plt.imshow(X[n].reshape(28, 28))\n",
    "plt.show()\n",
    "\n",
    "# 作成したファイルを読み出し、表示\n",
    "png_img = Image.open(DIR + '/X_{}.png'.format(n))\n",
    "plt.axis(\"off\")\n",
    "plt.imshow(png_img)"
   ]
  }
 ],
 "metadata": {
  "kernelspec": {
   "display_name": "Python 3 (ipykernel)",
   "language": "python",
   "name": "python3"
  },
  "language_info": {
   "codemirror_mode": {
    "name": "ipython",
    "version": 3
   },
   "file_extension": ".py",
   "mimetype": "text/x-python",
   "name": "python",
   "nbconvert_exporter": "python",
   "pygments_lexer": "ipython3",
   "version": "3.9.15"
  }
 },
 "nbformat": 4,
 "nbformat_minor": 5
}
