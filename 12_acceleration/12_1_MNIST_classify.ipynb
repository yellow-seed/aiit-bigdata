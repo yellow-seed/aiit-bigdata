{
 "cells": [
  {
   "cell_type": "markdown",
   "metadata": {},
   "source": [
    "## 実行時間が長いMNISTデータセットの分類\n",
    "\n",
    "- 7_MNIST/Clf_3_MNIST_classify.ipynb を変更（ヒートマップによる混同行列の可視化を削除）\n",
    "- 各セルの実行時間を表示\n",
    "\n",
    "以下はIntel修正版との性能比較のための時間計測"
   ]
  },
  {
   "cell_type": "code",
   "execution_count": null,
   "metadata": {},
   "outputs": [],
   "source": [
    "from sklearn.datasets import fetch_openml\n",
    "from sklearn.model_selection import train_test_split\n",
    "\n",
    "X, Y_str = fetch_openml('mnist_784', version=1, return_X_y=True, as_frame=False)\n",
    "\n",
    "# 正解ラベルは文字列で渡されるため数値に変換\n",
    "Y = Y_str.astype('int')\n",
    "\n",
    "# 教師データとテストデータに分割\n",
    "# - データ数が多くCVやグリッドサーチでは時間がかかるので、ここではホールドアウト法を用いる\n",
    "X_train, X_test, Y_train, Y_test = train_test_split(X, Y, test_size=0.3, random_state=1)"
   ]
  },
  {
   "cell_type": "markdown",
   "metadata": {},
   "source": [
    "### 分類器をテストする関数 test_model() の定義\n",
    "\n",
    "1. 教師データを学習\n",
    "2. 予測値を計算\n",
    "3. 精度の表示"
   ]
  },
  {
   "cell_type": "code",
   "execution_count": null,
   "metadata": {},
   "outputs": [],
   "source": [
    "import numpy as np\n",
    "import seaborn as sns\n",
    "import matplotlib.pyplot as plt\n",
    "from sklearn.metrics import classification_report, confusion_matrix\n",
    "\n",
    "def test_model(model):\n",
    "    # 教師データを学習\n",
    "    model.fit(X_train, Y_train)\n",
    "\n",
    "    # テストデータについてモデルからの予測値を計算\n",
    "    Y_predict = model.predict(X_test)\n",
    "\n",
    "    # 精度の表示\n",
    "    print(classification_report(Y_test, Y_predict, digits=3))"
   ]
  },
  {
   "cell_type": "markdown",
   "metadata": {},
   "source": [
    "### 高速な分類器\n",
    "\n",
    "- ナイーブベイズ\n",
    "- ランダムフォレスト"
   ]
  },
  {
   "cell_type": "code",
   "execution_count": null,
   "metadata": {},
   "outputs": [],
   "source": [
    "%%time\n",
    "from sklearn.naive_bayes import BernoulliNB\n",
    "\n",
    "# ナイーブベイズ\n",
    "model = BernoulliNB()\n",
    "# 分類器の精度検証\n",
    "test_model(model)"
   ]
  },
  {
   "cell_type": "code",
   "execution_count": null,
   "metadata": {},
   "outputs": [],
   "source": [
    "%%time\n",
    "from sklearn.ensemble import RandomForestClassifier\n",
    "\n",
    "# ランダムフォレスト\n",
    "model = RandomForestClassifier(n_jobs=-1)\n",
    "# 分類器の精度検証\n",
    "test_model(model)"
   ]
  },
  {
   "cell_type": "markdown",
   "metadata": {},
   "source": [
    "### 実行時間が長い分類器"
   ]
  },
  {
   "cell_type": "code",
   "execution_count": null,
   "metadata": {},
   "outputs": [],
   "source": [
    "%%time\n",
    "from sklearn.linear_model import LogisticRegression\n",
    "\n",
    "# ロジスティック回帰\n",
    "model = LogisticRegression(max_iter=2500)\n",
    "# 分類器の精度検証\n",
    "test_model(model)"
   ]
  },
  {
   "cell_type": "code",
   "execution_count": null,
   "metadata": {},
   "outputs": [],
   "source": [
    "%%time\n",
    "from sklearn.svm import SVC\n",
    "\n",
    "# SVM\n",
    "model = SVC()\n",
    "# 分類器の精度検証\n",
    "test_model(model)"
   ]
  },
  {
   "cell_type": "code",
   "execution_count": null,
   "metadata": {},
   "outputs": [],
   "source": [
    "%%time\n",
    "from sklearn.neighbors import KNeighborsClassifier\n",
    "\n",
    "# kNN分類器を作成\n",
    "model = KNeighborsClassifier(n_neighbors=3, n_jobs=-1)\n",
    "# 分類器の精度検証\n",
    "test_model(model)"
   ]
  },
  {
   "cell_type": "markdown",
   "metadata": {},
   "source": [
    "### パラメータのチューニング"
   ]
  },
  {
   "cell_type": "code",
   "execution_count": null,
   "metadata": {},
   "outputs": [],
   "source": [
    "%%time\n",
    "from sklearn.model_selection import GridSearchCV\n",
    "\n",
    "# kNN分類器を作成\n",
    "model = KNeighborsClassifier(n_jobs=-1)\n",
    "\n",
    "# 探索パラメータ、グリッドの設定\n",
    "param_range = list(range(1, 10, 1))\n",
    "grid = [{'n_neighbors': param_range}]\n",
    "\n",
    "# グリッドサーチの作成、実行\n",
    "gs = GridSearchCV(model, param_grid=grid, scoring='accuracy', cv=5, n_jobs=-1)\n",
    "gs.fit(X, Y)\n",
    "\n",
    "# 結果の表示\n",
    "print('best accuracy={:.3f}'.format(gs.best_score_))\n",
    "print('parameter:', gs.best_params_)"
   ]
  },
  {
   "cell_type": "code",
   "execution_count": null,
   "metadata": {},
   "outputs": [],
   "source": []
  }
 ],
 "metadata": {
  "kernelspec": {
   "display_name": "base",
   "language": "python",
   "name": "python3"
  },
  "language_info": {
   "codemirror_mode": {
    "name": "ipython",
    "version": 3
   },
   "file_extension": ".py",
   "mimetype": "text/x-python",
   "name": "python",
   "nbconvert_exporter": "python",
   "pygments_lexer": "ipython3",
   "version": "3.9.13 (main, Aug 25 2022, 18:24:45) \n[Clang 12.0.0 ]"
  },
  "vscode": {
   "interpreter": {
    "hash": "d451e6fd3e3a90eb92742bb146e8e20c8a00180dad068226f141e79828259f8f"
   }
  }
 },
 "nbformat": 4,
 "nbformat_minor": 4
}
