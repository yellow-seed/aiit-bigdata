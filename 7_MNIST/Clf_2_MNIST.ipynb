{
 "cells": [
  {
   "cell_type": "markdown",
   "metadata": {},
   "source": [
    "## MNISTデータセット\n",
    "\n",
    "MNISTデータセットの内容を確認\n",
    "- 1画像1文字に整形済み\n",
    "- 28x28 のグレースケール画像\n",
    "- 合計で 70,000 枚\n",
    "- 正解ラベル付き"
   ]
  },
  {
   "cell_type": "code",
   "execution_count": null,
   "metadata": {},
   "outputs": [],
   "source": [
    "import matplotlib.pyplot as plt\n",
    "from sklearn.datasets import fetch_openml\n",
    "\n",
    "X, Y_str = fetch_openml('mnist_784', version=1, return_X_y=True, as_frame=False)\n",
    "# 正解ラベルは文字列で渡されるため数値に変換\n",
    "Y = Y_str.astype('int')"
   ]
  },
  {
   "cell_type": "code",
   "execution_count": null,
   "metadata": {},
   "outputs": [],
   "source": [
    "len(X[0])"
   ]
  },
  {
   "cell_type": "code",
   "execution_count": null,
   "metadata": {},
   "outputs": [],
   "source": [
    "# 画像データは1次元配列で格納\n",
    "print(28*28)"
   ]
  },
  {
   "cell_type": "code",
   "execution_count": null,
   "metadata": {},
   "outputs": [],
   "source": [
    "len(X)"
   ]
  },
  {
   "cell_type": "code",
   "execution_count": null,
   "metadata": {},
   "outputs": [],
   "source": [
    "# 最初の10個の画像を表示\n",
    "for i in range(0, 10):\n",
    "    print('[{}] = {}'.format(i, Y[i]))\n",
    "    plt.figure(figsize=(2, 2))\n",
    "    # reshape(28, 28) により 28x28 の2次元配列に変換\n",
    "    plt.imshow(X[i].reshape(28, 28), cmap='gray_r')\n",
    "    plt.show()"
   ]
  },
  {
   "cell_type": "markdown",
   "metadata": {},
   "source": [
    "### インデックス\n",
    "\n",
    "- 0 の画像：1\n",
    "- 1 の画像：3, 6, 8\n",
    "- 2 の画像：5\n",
    "- 3 の画像：7\n",
    "- 4 の画像：2, 9\n",
    "- 5 の画像：0\n",
    "- 9 の画像：4\n",
    "\n",
    "### 画像の類似度"
   ]
  },
  {
   "cell_type": "code",
   "execution_count": null,
   "metadata": {},
   "outputs": [],
   "source": [
    "from scipy.spatial.distance import euclidean\n",
    "from scipy.spatial.distance import cosine\n",
    "\n",
    "# ユークリッド類似度（1を足して値の逆数）\n",
    "def similarity_euclide(d1, d2):\n",
    "    return 1 / (1 + euclidean(d1, d2))\n",
    "\n",
    "# コサイン類似度（= 1 - コサイン距離）\n",
    "def similarity_cosine(d1, d2):\n",
    "    return 1 - cosine(d1, d2)\n",
    "\n",
    "def similarity(d1, d2):\n",
    "    print('euclide: {:.5f}'.format(similarity_euclide(d1, d2)))\n",
    "    print('cosine : {:.5f}'.format(similarity_cosine(d1, d2)))"
   ]
  },
  {
   "cell_type": "code",
   "execution_count": null,
   "metadata": {},
   "outputs": [],
   "source": [
    "# 1 と 1\n",
    "similarity(X[3], X[6])"
   ]
  },
  {
   "cell_type": "code",
   "execution_count": null,
   "metadata": {},
   "outputs": [],
   "source": [
    "# 1 と 1\n",
    "similarity(X[6], X[8])"
   ]
  },
  {
   "cell_type": "code",
   "execution_count": null,
   "metadata": {},
   "outputs": [],
   "source": [
    "# 4 と 4\n",
    "similarity(X[2], X[9])"
   ]
  }
 ],
 "metadata": {
  "kernelspec": {
   "display_name": "base",
   "language": "python",
   "name": "python3"
  },
  "language_info": {
   "codemirror_mode": {
    "name": "ipython",
    "version": 3
   },
   "file_extension": ".py",
   "mimetype": "text/x-python",
   "name": "python",
   "nbconvert_exporter": "python",
   "pygments_lexer": "ipython3",
   "version": "3.9.13 (main, Aug 25 2022, 18:24:45) \n[Clang 12.0.0 ]"
  },
  "vscode": {
   "interpreter": {
    "hash": "d451e6fd3e3a90eb92742bb146e8e20c8a00180dad068226f141e79828259f8f"
   }
  }
 },
 "nbformat": 4,
 "nbformat_minor": 4
}
