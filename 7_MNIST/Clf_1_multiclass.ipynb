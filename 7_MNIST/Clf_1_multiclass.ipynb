{
 "cells": [
  {
   "cell_type": "markdown",
   "metadata": {},
   "source": [
    "## 多クラスへの分類\n",
    "\n",
    "- 目的変数が2クラスの分類\n",
    "- 目的変数が2クラスより多い場合の分類"
   ]
  },
  {
   "cell_type": "code",
   "execution_count": 1,
   "metadata": {},
   "outputs": [
    {
     "data": {
      "text/html": [
       "<div>\n",
       "<style scoped>\n",
       "    .dataframe tbody tr th:only-of-type {\n",
       "        vertical-align: middle;\n",
       "    }\n",
       "\n",
       "    .dataframe tbody tr th {\n",
       "        vertical-align: top;\n",
       "    }\n",
       "\n",
       "    .dataframe thead th {\n",
       "        text-align: right;\n",
       "    }\n",
       "</style>\n",
       "<table border=\"1\" class=\"dataframe\">\n",
       "  <thead>\n",
       "    <tr style=\"text-align: right;\">\n",
       "      <th></th>\n",
       "      <th>sepal_length</th>\n",
       "      <th>sepal_width</th>\n",
       "      <th>petal_length</th>\n",
       "      <th>petal_width</th>\n",
       "      <th>species</th>\n",
       "    </tr>\n",
       "  </thead>\n",
       "  <tbody>\n",
       "    <tr>\n",
       "      <th>0</th>\n",
       "      <td>5.1</td>\n",
       "      <td>3.5</td>\n",
       "      <td>1.4</td>\n",
       "      <td>0.2</td>\n",
       "      <td>setosa</td>\n",
       "    </tr>\n",
       "    <tr>\n",
       "      <th>50</th>\n",
       "      <td>7.0</td>\n",
       "      <td>3.2</td>\n",
       "      <td>4.7</td>\n",
       "      <td>1.4</td>\n",
       "      <td>versicolor</td>\n",
       "    </tr>\n",
       "    <tr>\n",
       "      <th>100</th>\n",
       "      <td>6.3</td>\n",
       "      <td>3.3</td>\n",
       "      <td>6.0</td>\n",
       "      <td>2.5</td>\n",
       "      <td>virginica</td>\n",
       "    </tr>\n",
       "  </tbody>\n",
       "</table>\n",
       "</div>"
      ],
      "text/plain": [
       "     sepal_length  sepal_width  petal_length  petal_width     species\n",
       "0             5.1          3.5           1.4          0.2      setosa\n",
       "50            7.0          3.2           4.7          1.4  versicolor\n",
       "100           6.3          3.3           6.0          2.5   virginica"
      ]
     },
     "execution_count": 1,
     "metadata": {},
     "output_type": "execute_result"
    }
   ],
   "source": [
    "import pandas as pd\n",
    "import seaborn as sns\n",
    "import matplotlib.pyplot as plt\n",
    "\n",
    "# Iris データセット\n",
    "iris = sns.load_dataset('iris')\n",
    "\n",
    "# - 0, 50, 100 行目を表示\n",
    "iris.iloc[[0, 50, 100]]"
   ]
  },
  {
   "cell_type": "markdown",
   "metadata": {},
   "source": [
    "### 目的変数が2クラスの分類"
   ]
  },
  {
   "cell_type": "code",
   "execution_count": 2,
   "metadata": {},
   "outputs": [
    {
     "data": {
      "text/html": [
       "<div>\n",
       "<style scoped>\n",
       "    .dataframe tbody tr th:only-of-type {\n",
       "        vertical-align: middle;\n",
       "    }\n",
       "\n",
       "    .dataframe tbody tr th {\n",
       "        vertical-align: top;\n",
       "    }\n",
       "\n",
       "    .dataframe thead th {\n",
       "        text-align: right;\n",
       "    }\n",
       "</style>\n",
       "<table border=\"1\" class=\"dataframe\">\n",
       "  <thead>\n",
       "    <tr style=\"text-align: right;\">\n",
       "      <th></th>\n",
       "      <th>sepal_length</th>\n",
       "      <th>sepal_width</th>\n",
       "      <th>petal_length</th>\n",
       "      <th>petal_width</th>\n",
       "      <th>species_virginica</th>\n",
       "    </tr>\n",
       "  </thead>\n",
       "  <tbody>\n",
       "    <tr>\n",
       "      <th>50</th>\n",
       "      <td>7.0</td>\n",
       "      <td>3.2</td>\n",
       "      <td>4.7</td>\n",
       "      <td>1.4</td>\n",
       "      <td>0</td>\n",
       "    </tr>\n",
       "    <tr>\n",
       "      <th>100</th>\n",
       "      <td>6.3</td>\n",
       "      <td>3.3</td>\n",
       "      <td>6.0</td>\n",
       "      <td>2.5</td>\n",
       "      <td>1</td>\n",
       "    </tr>\n",
       "  </tbody>\n",
       "</table>\n",
       "</div>"
      ],
      "text/plain": [
       "     sepal_length  sepal_width  petal_length  petal_width  species_virginica\n",
       "50            7.0          3.2           4.7          1.4                  0\n",
       "100           6.3          3.3           6.0          2.5                  1"
      ]
     },
     "execution_count": 2,
     "metadata": {},
     "output_type": "execute_result"
    }
   ],
   "source": [
    "# 2値データへの分類のため、species から setosa を除外\n",
    "df = iris.query('species!=\"setosa\"')\n",
    "\n",
    "# speciesを 0, 1 にするためにダミー変数化\n",
    "df = pd.get_dummies(data=df, drop_first=True)\n",
    "\n",
    "# versicolor, virginica だけになっていることを確認\n",
    "# - 0, 50 行目を表示\n",
    "df.iloc[[0, 50]]"
   ]
  },
  {
   "cell_type": "code",
   "execution_count": 3,
   "metadata": {},
   "outputs": [],
   "source": [
    "from sklearn.model_selection import train_test_split\n",
    "from sklearn.naive_bayes import GaussianNB\n",
    "from sklearn.metrics import classification_report\n",
    "\n",
    "# 説明変数、目的変数の設定\n",
    "# - 説明変数の選択に特に意味は無い\n",
    "X = df[['sepal_length', 'petal_length']]\n",
    "Y = df.species_virginica\n",
    "\n",
    "# 教師データとテストデータに分割\n",
    "# - ホールドアウト法\n",
    "X_train, X_test, Y_train, Y_test = train_test_split(X, Y, test_size=0.3)\n",
    "\n",
    "# ナイーブベイズ\n",
    "model = GaussianNB()\n",
    "\n",
    "# 教師データを学習\n",
    "model.fit(X_train, Y_train)\n",
    "\n",
    "# テストデータについてモデルからの予測値を計算\n",
    "Y_predict = model.predict(X_test)"
   ]
  },
  {
   "cell_type": "markdown",
   "metadata": {},
   "source": [
    "### 2クラス分類の結果\n",
    "\n",
    "![accuracy](slides/6_27.png)"
   ]
  },
  {
   "cell_type": "code",
   "execution_count": 4,
   "metadata": {},
   "outputs": [
    {
     "name": "stdout",
     "output_type": "stream",
     "text": [
      "              precision    recall  f1-score   support\n",
      "\n",
      "  versicolor      0.947     0.900     0.923        20\n",
      "   virginica      0.818     0.900     0.857        10\n",
      "\n",
      "    accuracy                          0.900        30\n",
      "   macro avg      0.883     0.900     0.890        30\n",
      "weighted avg      0.904     0.900     0.901        30\n",
      "\n"
     ]
    }
   ],
   "source": [
    "# species は versicolor, virginica の2種類\n",
    "# - virginica が 1 = 陽性\n",
    "species_dict = {\n",
    "    'versicolor': 0,\n",
    "    'virginica': 1\n",
    "}\n",
    "\n",
    "# 精度の表示\n",
    "# - ランダムに教師データとテストデータを選択するホールドアウト法の結果は、実行ごとに変わることに注意\n",
    "# classification_report()\n",
    "# - Y_test: 正解\n",
    "# - Y_predict: 予測値\n",
    "print(classification_report(Y_test, Y_predict, target_names=species_dict, digits=3))"
   ]
  },
  {
   "cell_type": "markdown",
   "metadata": {},
   "source": [
    "classification_report の結果\n",
    "\n",
    "virginica\n",
    "- virginica を陽性として算出した precision, recall, f1-score（調和平均）\n",
    "  - 2つ下のセルの結果 precision, recall と値が同じ\n",
    "- support\n",
    "  - クラスのサンプル数\n",
    "\n",
    "accuracy\n",
    "- 陽性、陰性 (TP, TN) が逆になっても値は同じため、別の行に表示\n",
    "- 2つ下のセルの結果 accuracy と値が同じ\n",
    "\n",
    "macro avg（マクロ平均）\n",
    "- 各クラスの精度の平均\n",
    "\n",
    "weighted avg（support で重み付けをした平均）\n",
    "- 各クラスの精度とそのサンプル数 (support) の積の合計をサンプル数の合計で割った値"
   ]
  },
  {
   "cell_type": "code",
   "execution_count": 5,
   "metadata": {},
   "outputs": [
    {
     "data": {
      "text/html": [
       "<div>\n",
       "<style scoped>\n",
       "    .dataframe tbody tr th:only-of-type {\n",
       "        vertical-align: middle;\n",
       "    }\n",
       "\n",
       "    .dataframe tbody tr th {\n",
       "        vertical-align: top;\n",
       "    }\n",
       "\n",
       "    .dataframe thead th {\n",
       "        text-align: right;\n",
       "    }\n",
       "</style>\n",
       "<table border=\"1\" class=\"dataframe\">\n",
       "  <thead>\n",
       "    <tr style=\"text-align: right;\">\n",
       "      <th></th>\n",
       "      <th>versicolor</th>\n",
       "      <th>virginica</th>\n",
       "      <th>accuracy</th>\n",
       "      <th>macro avg</th>\n",
       "      <th>weighted avg</th>\n",
       "    </tr>\n",
       "  </thead>\n",
       "  <tbody>\n",
       "    <tr>\n",
       "      <th>precision</th>\n",
       "      <td>0.947368</td>\n",
       "      <td>0.818182</td>\n",
       "      <td>0.9</td>\n",
       "      <td>0.882775</td>\n",
       "      <td>0.904306</td>\n",
       "    </tr>\n",
       "    <tr>\n",
       "      <th>recall</th>\n",
       "      <td>0.900000</td>\n",
       "      <td>0.900000</td>\n",
       "      <td>0.9</td>\n",
       "      <td>0.900000</td>\n",
       "      <td>0.900000</td>\n",
       "    </tr>\n",
       "    <tr>\n",
       "      <th>f1-score</th>\n",
       "      <td>0.923077</td>\n",
       "      <td>0.857143</td>\n",
       "      <td>0.9</td>\n",
       "      <td>0.890110</td>\n",
       "      <td>0.901099</td>\n",
       "    </tr>\n",
       "    <tr>\n",
       "      <th>support</th>\n",
       "      <td>20.000000</td>\n",
       "      <td>10.000000</td>\n",
       "      <td>0.9</td>\n",
       "      <td>30.000000</td>\n",
       "      <td>30.000000</td>\n",
       "    </tr>\n",
       "  </tbody>\n",
       "</table>\n",
       "</div>"
      ],
      "text/plain": [
       "           versicolor  virginica  accuracy  macro avg  weighted avg\n",
       "precision    0.947368   0.818182       0.9   0.882775      0.904306\n",
       "recall       0.900000   0.900000       0.9   0.900000      0.900000\n",
       "f1-score     0.923077   0.857143       0.9   0.890110      0.901099\n",
       "support     20.000000  10.000000       0.9  30.000000     30.000000"
      ]
     },
     "execution_count": 5,
     "metadata": {},
     "output_type": "execute_result"
    }
   ],
   "source": [
    "# DataFrame に変換して表示\n",
    "pd.DataFrame(classification_report(Y_test, Y_predict, target_names=species_dict,\n",
    "                                   output_dict=True))"
   ]
  },
  {
   "cell_type": "code",
   "execution_count": 6,
   "metadata": {},
   "outputs": [
    {
     "name": "stdout",
     "output_type": "stream",
     "text": [
      "precision: 0.818, recall: 0.900\n",
      "accuracy: 0.900\n"
     ]
    }
   ],
   "source": [
    "# 正確度、適合度、再現率（感度）、特異度\n",
    "# - virginica を陽性として算出\n",
    "from sklearn.metrics import accuracy_score, precision_score, recall_score\n",
    "\n",
    "print('precision: {:.3f}, recall: {:.3f}'.format(\n",
    "      precision_score(Y_test, Y_predict), recall_score(Y_test, Y_predict)))\n",
    "print('accuracy: {:.3f}'.format(accuracy_score(Y_test, Y_predict)))"
   ]
  },
  {
   "cell_type": "code",
   "execution_count": 7,
   "metadata": {},
   "outputs": [
    {
     "name": "stdout",
     "output_type": "stream",
     "text": [
      "[[18  2]\n",
      " [ 1  9]]\n"
     ]
    }
   ],
   "source": [
    "from sklearn.metrics import confusion_matrix\n",
    "\n",
    "# 混同行列の表示\n",
    "print(confusion_matrix(Y_test, Y_predict))"
   ]
  },
  {
   "cell_type": "markdown",
   "metadata": {},
   "source": [
    "混同行列\n",
    "- 1行目1列：実際が0、予測が0 (真陰性：TN)\n",
    "- 1行目2列：実際が0、予測が1 (偽陽性：FP)\n",
    "- 2行目1列：実際が1、予測が0 (偽陰性：FN)\n",
    "- 2行目2列：実際が1、予測が1 (真陽性：TP)\n",
    "\n",
    "classification_report の support の値\n",
    "- versicolor: 1行目の合計値\n",
    "- virginica : 2行目の合計値"
   ]
  },
  {
   "cell_type": "code",
   "execution_count": 8,
   "metadata": {},
   "outputs": [
    {
     "data": {
      "image/png": "[encoded data removed]",
      "text/plain": [
       "<Figure size 640x480 with 2 Axes>"
      ]
     },
     "metadata": {},
     "output_type": "display_data"
    }
   ],
   "source": [
    "# 混同行列の可視化\n",
    "sns.heatmap(confusion_matrix(Y_test, Y_predict),\n",
    "            square=True, cbar=True, annot=True, cmap='Blues')\n",
    "plt.xlabel('Predicted Class')\n",
    "plt.ylabel('True Class')\n",
    "plt.show()"
   ]
  },
  {
   "cell_type": "markdown",
   "metadata": {},
   "source": [
    "### 多クラスへの分類"
   ]
  },
  {
   "cell_type": "code",
   "execution_count": 9,
   "metadata": {},
   "outputs": [
    {
     "data": {
      "text/html": [
       "<div>\n",
       "<style scoped>\n",
       "    .dataframe tbody tr th:only-of-type {\n",
       "        vertical-align: middle;\n",
       "    }\n",
       "\n",
       "    .dataframe tbody tr th {\n",
       "        vertical-align: top;\n",
       "    }\n",
       "\n",
       "    .dataframe thead th {\n",
       "        text-align: right;\n",
       "    }\n",
       "</style>\n",
       "<table border=\"1\" class=\"dataframe\">\n",
       "  <thead>\n",
       "    <tr style=\"text-align: right;\">\n",
       "      <th></th>\n",
       "      <th>sepal_length</th>\n",
       "      <th>sepal_width</th>\n",
       "      <th>petal_length</th>\n",
       "      <th>petal_width</th>\n",
       "      <th>species</th>\n",
       "      <th>species_int</th>\n",
       "    </tr>\n",
       "  </thead>\n",
       "  <tbody>\n",
       "    <tr>\n",
       "      <th>0</th>\n",
       "      <td>5.1</td>\n",
       "      <td>3.5</td>\n",
       "      <td>1.4</td>\n",
       "      <td>0.2</td>\n",
       "      <td>setosa</td>\n",
       "      <td>0</td>\n",
       "    </tr>\n",
       "    <tr>\n",
       "      <th>50</th>\n",
       "      <td>7.0</td>\n",
       "      <td>3.2</td>\n",
       "      <td>4.7</td>\n",
       "      <td>1.4</td>\n",
       "      <td>versicolor</td>\n",
       "      <td>1</td>\n",
       "    </tr>\n",
       "    <tr>\n",
       "      <th>100</th>\n",
       "      <td>6.3</td>\n",
       "      <td>3.3</td>\n",
       "      <td>6.0</td>\n",
       "      <td>2.5</td>\n",
       "      <td>virginica</td>\n",
       "      <td>2</td>\n",
       "    </tr>\n",
       "  </tbody>\n",
       "</table>\n",
       "</div>"
      ],
      "text/plain": [
       "     sepal_length  sepal_width  petal_length  petal_width     species  \\\n",
       "0             5.1          3.5           1.4          0.2      setosa   \n",
       "50            7.0          3.2           4.7          1.4  versicolor   \n",
       "100           6.3          3.3           6.0          2.5   virginica   \n",
       "\n",
       "     species_int  \n",
       "0              0  \n",
       "50             1  \n",
       "100            2  "
      ]
     },
     "execution_count": 9,
     "metadata": {},
     "output_type": "execute_result"
    }
   ],
   "source": [
    "# 目的変数 species を数値化\n",
    "# - 0, 1, 2 の値をとるようにする\n",
    "\n",
    "# species は setosa, versicolor, virginica の3種類\n",
    "species_dict = {\n",
    "    'setosa': 0,\n",
    "    'versicolor': 1,\n",
    "    'virginica': 2\n",
    "}\n",
    "\n",
    "# species を、文字列から数値へ変換\n",
    "iris['species_int'] = iris['species'].map(lambda x: species_dict[x])\n",
    "\n",
    "# 確認\n",
    "# - 0, 50, 100 行目を表示\n",
    "iris.iloc[[0, 50, 100]]"
   ]
  },
  {
   "cell_type": "code",
   "execution_count": 10,
   "metadata": {},
   "outputs": [],
   "source": [
    "# 説明変数、目的変数の設定\n",
    "# - 説明変数の選択に特に意味は無い\n",
    "X = iris[['sepal_length', 'petal_length']]\n",
    "Y = iris.species_int\n",
    "\n",
    "# 教師データとテストデータに分割\n",
    "X_train, X_test, Y_train, Y_test = train_test_split(X, Y, test_size=0.3)\n",
    "\n",
    "# ナイーブベイズ\n",
    "model = GaussianNB()\n",
    "\n",
    "# 教師データを学習\n",
    "model.fit(X_train, Y_train)\n",
    "\n",
    "# テストデータについてモデルからの予測値を計算\n",
    "Y_predict = model.predict(X_test)"
   ]
  },
  {
   "cell_type": "markdown",
   "metadata": {},
   "source": [
    "### 多クラス分類の結果\n",
    "\n",
    "![accuracy](slides/7_11.png)"
   ]
  },
  {
   "cell_type": "code",
   "execution_count": 11,
   "metadata": {},
   "outputs": [
    {
     "name": "stdout",
     "output_type": "stream",
     "text": [
      "[[14  0  0]\n",
      " [ 0 16  3]\n",
      " [ 0  1 11]]\n"
     ]
    },
    {
     "data": {
      "image/png": "[encoded data removed]",
      "text/plain": [
       "<Figure size 640x480 with 2 Axes>"
      ]
     },
     "metadata": {},
     "output_type": "display_data"
    }
   ],
   "source": [
    "# 混同行列の可視化\n",
    "print(confusion_matrix(Y_test, Y_predict))\n",
    "sns.heatmap(confusion_matrix(Y_test, Y_predict),\n",
    "            square=True, cbar=True, annot=True, cmap='Blues')\n",
    "plt.xlabel('Predicted Class')\n",
    "plt.ylabel('True Class')\n",
    "plt.show()"
   ]
  },
  {
   "cell_type": "markdown",
   "metadata": {},
   "source": [
    "実際のクラス 1 (versicolor) について\n",
    "\n",
    "適合度 (precision) …縦を見る\n",
    "- TP (True Class 1, Predicted Class 1) / TP + FP (True Class 0 & 2, Predicted Class 1)\n",
    "\n",
    "感度 (recall) …横を見る\n",
    "- TP (True Class 1, Predicted Class 1) / TP + FN (True Class 1, Predicted Class 0 & 2)\n",
    "\n",
    "f1-score（適合度と感度の調和平均）\n",
    "- 2•precision•recall / (precision + recall)"
   ]
  },
  {
   "cell_type": "code",
   "execution_count": 12,
   "metadata": {},
   "outputs": [
    {
     "name": "stdout",
     "output_type": "stream",
     "text": [
      "              precision    recall  f1-score   support\n",
      "\n",
      "      setosa      1.000     1.000     1.000        14\n",
      "  versicolor      0.941     0.842     0.889        19\n",
      "   virginica      0.786     0.917     0.846        12\n",
      "\n",
      "    accuracy                          0.911        45\n",
      "   macro avg      0.909     0.920     0.912        45\n",
      "weighted avg      0.918     0.911     0.912        45\n",
      "\n"
     ]
    }
   ],
   "source": [
    "# 結果の表示\n",
    "print(classification_report(Y_test, Y_predict, target_names=species_dict, digits=3))"
   ]
  },
  {
   "cell_type": "code",
   "execution_count": 13,
   "metadata": {},
   "outputs": [
    {
     "data": {
      "text/html": [
       "<div>\n",
       "<style scoped>\n",
       "    .dataframe tbody tr th:only-of-type {\n",
       "        vertical-align: middle;\n",
       "    }\n",
       "\n",
       "    .dataframe tbody tr th {\n",
       "        vertical-align: top;\n",
       "    }\n",
       "\n",
       "    .dataframe thead th {\n",
       "        text-align: right;\n",
       "    }\n",
       "</style>\n",
       "<table border=\"1\" class=\"dataframe\">\n",
       "  <thead>\n",
       "    <tr style=\"text-align: right;\">\n",
       "      <th></th>\n",
       "      <th>setosa</th>\n",
       "      <th>versicolor</th>\n",
       "      <th>virginica</th>\n",
       "      <th>accuracy</th>\n",
       "      <th>macro avg</th>\n",
       "      <th>weighted avg</th>\n",
       "    </tr>\n",
       "  </thead>\n",
       "  <tbody>\n",
       "    <tr>\n",
       "      <th>precision</th>\n",
       "      <td>1.0</td>\n",
       "      <td>0.941176</td>\n",
       "      <td>0.785714</td>\n",
       "      <td>0.911111</td>\n",
       "      <td>0.908964</td>\n",
       "      <td>0.918021</td>\n",
       "    </tr>\n",
       "    <tr>\n",
       "      <th>recall</th>\n",
       "      <td>1.0</td>\n",
       "      <td>0.842105</td>\n",
       "      <td>0.916667</td>\n",
       "      <td>0.911111</td>\n",
       "      <td>0.919591</td>\n",
       "      <td>0.911111</td>\n",
       "    </tr>\n",
       "    <tr>\n",
       "      <th>f1-score</th>\n",
       "      <td>1.0</td>\n",
       "      <td>0.888889</td>\n",
       "      <td>0.846154</td>\n",
       "      <td>0.911111</td>\n",
       "      <td>0.911681</td>\n",
       "      <td>0.912061</td>\n",
       "    </tr>\n",
       "    <tr>\n",
       "      <th>support</th>\n",
       "      <td>14.0</td>\n",
       "      <td>19.000000</td>\n",
       "      <td>12.000000</td>\n",
       "      <td>0.911111</td>\n",
       "      <td>45.000000</td>\n",
       "      <td>45.000000</td>\n",
       "    </tr>\n",
       "  </tbody>\n",
       "</table>\n",
       "</div>"
      ],
      "text/plain": [
       "           setosa  versicolor  virginica  accuracy  macro avg  weighted avg\n",
       "precision     1.0    0.941176   0.785714  0.911111   0.908964      0.918021\n",
       "recall        1.0    0.842105   0.916667  0.911111   0.919591      0.911111\n",
       "f1-score      1.0    0.888889   0.846154  0.911111   0.911681      0.912061\n",
       "support      14.0   19.000000  12.000000  0.911111  45.000000     45.000000"
      ]
     },
     "execution_count": 13,
     "metadata": {},
     "output_type": "execute_result"
    }
   ],
   "source": [
    "# DataFrame に変換して表示\n",
    "pd.DataFrame(classification_report(Y_test, Y_predict, target_names=species_dict,\n",
    "                                   output_dict=True))"
   ]
  },
  {
   "cell_type": "code",
   "execution_count": null,
   "metadata": {},
   "outputs": [],
   "source": []
  }
 ],
 "metadata": {
  "kernelspec": {
   "display_name": "base",
   "language": "python",
   "name": "python3"
  },
  "language_info": {
   "codemirror_mode": {
    "name": "ipython",
    "version": 3
   },
   "file_extension": ".py",
   "mimetype": "text/x-python",
   "name": "python",
   "nbconvert_exporter": "python",
   "pygments_lexer": "ipython3",
   "version": "3.9.13 (main, Aug 25 2022, 18:24:45) \n[Clang 12.0.0 ]"
  },
  "vscode": {
   "interpreter": {
    "hash": "d451e6fd3e3a90eb92742bb146e8e20c8a00180dad068226f141e79828259f8f"
   }
  }
 },
 "nbformat": 4,
 "nbformat_minor": 4
}
