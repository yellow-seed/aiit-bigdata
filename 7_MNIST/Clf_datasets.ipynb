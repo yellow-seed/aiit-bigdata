{
 "cells": [
  {
   "cell_type": "markdown",
   "metadata": {},
   "source": [
    "# MNISTデータセットのダウンロード\n",
    "\n",
    "Scikit-Learn が提供しているデータを使用\n",
    "- 初回はダウンロードするため時間が必要"
   ]
  },
  {
   "cell_type": "code",
   "execution_count": 1,
   "metadata": {},
   "outputs": [],
   "source": [
    "from sklearn.datasets import fetch_openml\n",
    "\n",
    "X, Y_str = fetch_openml('mnist_784', version=1, return_X_y=True, as_frame=False)"
   ]
  },
  {
   "cell_type": "code",
   "execution_count": 2,
   "metadata": {},
   "outputs": [
    {
     "data": {
      "text/plain": [
       "<matplotlib.image.AxesImage at 0x1529f3d90>"
      ]
     },
     "execution_count": 2,
     "metadata": {},
     "output_type": "execute_result"
    },
    {
     "data": {
      "image/png": "[encoded data removed]",
      "text/plain": [
       "<Figure size 640x480 with 1 Axes>"
      ]
     },
     "metadata": {},
     "output_type": "display_data"
    }
   ],
   "source": [
    "import matplotlib.pyplot as plt\n",
    "\n",
    "# 各画像は1次元配列のため 28x28 の2次元配列に変換して表示 \n",
    "plt.imshow(X[0].reshape(28, 28), cmap='gray_r') "
   ]
  },
  {
   "cell_type": "code",
   "execution_count": 3,
   "metadata": {},
   "outputs": [
    {
     "data": {
      "text/plain": [
       "'5'"
      ]
     },
     "execution_count": 3,
     "metadata": {},
     "output_type": "execute_result"
    }
   ],
   "source": [
    "# 上記画像の正解ラベル\n",
    "Y_str[0]"
   ]
  },
  {
   "cell_type": "markdown",
   "metadata": {},
   "source": [
    "# GTZAN Genre Collection のダウンロード\n",
    "\n",
    "- ジャンルに分類された音楽データセット（約1.2GB）\n",
    "  - 10分野、各100曲（約30秒）\n",
    "\n",
    "1. 配布元\n",
    "\n",
    "http://marsyas.info/downloads/datasets.html\n",
    "- http://opihi.cs.uvic.ca/sound/genres.tar.gz\n",
    "- tar.gz ファイルの解凍\n",
    "  - Windows: 7.zip\n",
    "  - Windows 10: tar -xzvf genres.tar.gz\n",
    "  - Mac: ダブルクリックして標準ユーティリティで解凍可能\n",
    "\n",
    "2. Kaggle\n",
    "\n",
    "https://www.kaggle.com/datasets/andradaolteanu/gtzan-dataset-music-genre-classification\n",
    "\n",
    "- 右上の Download (1GB) をクリック\n",
    "  - ログインが必要、AIIT (Google) でログインが簡単\n",
    "- archive.zip を解凍\n",
    "  - Data/genres_original の中が音楽データ\n",
    "\n",
    "3. ファイルの配置\n",
    "\n",
    "7_MNIST/data/genres として配置\n",
    "- genres 以下に、blues, classical 等のフォルダがある状態"
   ]
  }
 ],
 "metadata": {
  "kernelspec": {
   "display_name": "base",
   "language": "python",
   "name": "python3"
  },
  "language_info": {
   "codemirror_mode": {
    "name": "ipython",
    "version": 3
   },
   "file_extension": ".py",
   "mimetype": "text/x-python",
   "name": "python",
   "nbconvert_exporter": "python",
   "pygments_lexer": "ipython3",
   "version": "3.9.13"
  },
  "vscode": {
   "interpreter": {
    "hash": "d451e6fd3e3a90eb92742bb146e8e20c8a00180dad068226f141e79828259f8f"
   }
  }
 },
 "nbformat": 4,
 "nbformat_minor": 4
}
