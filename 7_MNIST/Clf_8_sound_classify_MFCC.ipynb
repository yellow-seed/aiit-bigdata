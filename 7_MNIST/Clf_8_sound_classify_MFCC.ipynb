{
 "cells": [
  {
   "cell_type": "markdown",
   "metadata": {},
   "source": [
    "# 音楽データセットの分類 (3)\n",
    "\n",
    "- MFCC: メル周波数ケプストラム係数\n",
    "  - 音声認識で用いられることが多い方法\n",
    "  \n",
    "### ソフトウェアのインストール\n",
    "\n",
    "librosa のインストール<br>\n",
    "- https://librosa.org\n",
    "- https://anaconda.org/conda-forge/librosa\n",
    "\n",
    "1. pythonがconda-forgeに置き換えられてしまっても構わなければ、普通にインストールも可能\n",
    "\n",
    "```\n",
    "conda install -c conda-forge librosa \n",
    "```\n",
    "\n",
    "2. 仮想環境を作成してインストール\n",
    "\n",
    "```\n",
    "conda create -n librosa -c conda-forge python=3.9 scikit-learn scipy numpy pandas seaborn matplotlib jupyterlab librosa\n",
    "```\n",
    "\n",
    "- 仮想環境への移動<br>\n",
    "```\n",
    "conda activate librosa\n",
    "```\n",
    "\n",
    "- 仮想環境の終了<br>\n",
    "```\n",
    "conda deactivate\n",
    "```\n",
    "\n",
    "- 仮想環境の削除<br>\n",
    "```\n",
    "conda env remove -n librosa\n",
    "```"
   ]
  },
  {
   "cell_type": "code",
   "execution_count": null,
   "metadata": {},
   "outputs": [],
   "source": [
    "import numpy as np\n",
    "from sklearn.model_selection import train_test_split\n",
    "import librosa\n",
    "\n",
    "# ジャンル名のリスト\n",
    "genre_list = ['classical', 'jazz', 'pop', 'rock']\n",
    "path = 'data/genres/'\n",
    "nfiles = 100\n",
    "\n",
    "_X = []\n",
    "_Y = []\n",
    "\n",
    "# 各ジャンルごとに100曲読み込み\n",
    "for g in genre_list:\n",
    "    for i in range(0, nfiles):\n",
    "        file = '{}{}/{}.{:05}.wav'.format(path, g, g, i)\n",
    "        data, sampling_rate = librosa.load(file, mono=True)\n",
    "        mfcc = librosa.feature.mfcc(y=data, sr=sampling_rate)\n",
    "        # 各次元の平均値を用いる\n",
    "        _X.append(mfcc.mean(axis=1))\n",
    "        _Y.append(genre_list.index(g))\n",
    "\n",
    "# NumPyの配列に変換\n",
    "X = np.array(_X)\n",
    "Y = np.array(_Y)\n",
    "\n",
    "# 教師データとテストデータに分割\n",
    "# - データのサイズが大きく処理時間がかかるので、ここではホールドアウト法を用いる\n",
    "X_train, X_test, Y_train, Y_test = train_test_split(X, Y, test_size=0.3, random_state=1)"
   ]
  },
  {
   "cell_type": "markdown",
   "metadata": {},
   "source": [
    "分類器をテストする関数の定義\n",
    "\n",
    "- 正確度の表示\n",
    "- 混同行列の可視化"
   ]
  },
  {
   "cell_type": "code",
   "execution_count": null,
   "metadata": {},
   "outputs": [],
   "source": [
    "import seaborn as sns\n",
    "import matplotlib.pyplot as plt\n",
    "from sklearn.metrics import classification_report, confusion_matrix\n",
    "\n",
    "def test_model(model):\n",
    "    # 教師データを学習\n",
    "    model.fit(X_train, Y_train)\n",
    "    # テストデータについてモデルからの予測値を計算\n",
    "    Y_predict = model.predict(X_test)\n",
    "    # 結果の表示\n",
    "    print(classification_report(Y_test, Y_predict, target_names=genre_list, digits=3))\n",
    "    # 混同行列の可視化\n",
    "    plt.figure(figsize=(8, 6))\n",
    "    sns.heatmap(confusion_matrix(Y_test, Y_predict),\n",
    "                xticklabels=genre_list, yticklabels=genre_list, \n",
    "                square=True, cbar=True, annot=True, cmap='Blues')\n",
    "    plt.xlabel('Predicted Class')\n",
    "    plt.ylabel('True Class')\n",
    "    plt.show()"
   ]
  },
  {
   "cell_type": "markdown",
   "metadata": {},
   "source": [
    "いくつかの分類器での精度の検証\n",
    "\n",
    "- ナイーブベイズ\n",
    "- ランダムフォレスト"
   ]
  },
  {
   "cell_type": "code",
   "execution_count": null,
   "metadata": {},
   "outputs": [],
   "source": [
    "%%time\n",
    "from sklearn.naive_bayes import GaussianNB\n",
    "\n",
    "# ナイーブベイズ\n",
    "model = GaussianNB()\n",
    "# 分類器の精度検証\n",
    "test_model(model)"
   ]
  },
  {
   "cell_type": "code",
   "execution_count": null,
   "metadata": {},
   "outputs": [],
   "source": [
    "%%time\n",
    "from sklearn.ensemble import RandomForestClassifier\n",
    "\n",
    "# ランダムフォレスト\n",
    "model = RandomForestClassifier(n_jobs=-1)\n",
    "# 分類器の精度検証\n",
    "test_model(model)"
   ]
  },
  {
   "cell_type": "code",
   "execution_count": null,
   "metadata": {},
   "outputs": [],
   "source": []
  }
 ],
 "metadata": {
  "kernelspec": {
   "display_name": "Python 3 (ipykernel)",
   "language": "python",
   "name": "python3"
  },
  "language_info": {
   "codemirror_mode": {
    "name": "ipython",
    "version": 3
   },
   "file_extension": ".py",
   "mimetype": "text/x-python",
   "name": "python",
   "nbconvert_exporter": "python",
   "pygments_lexer": "ipython3",
   "version": "3.9.15"
  }
 },
 "nbformat": 4,
 "nbformat_minor": 4
}
