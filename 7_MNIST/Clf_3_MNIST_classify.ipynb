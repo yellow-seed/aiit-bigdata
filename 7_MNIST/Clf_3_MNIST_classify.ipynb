{
 "cells": [
  {
   "cell_type": "markdown",
   "metadata": {},
   "source": [
    "## MNISTデータセットの分類"
   ]
  },
  {
   "cell_type": "code",
   "execution_count": null,
   "metadata": {},
   "outputs": [],
   "source": [
    "from sklearn.datasets import fetch_openml\n",
    "from sklearn.model_selection import train_test_split\n",
    "\n",
    "X, Y_str = fetch_openml('mnist_784', version=1, return_X_y=True, as_frame=False)\n",
    "\n",
    "# 正解ラベルは文字列で渡されるため数値に変換\n",
    "Y = Y_str.astype('int')\n",
    "\n",
    "# 教師データとテストデータに分割\n",
    "# - データ数が多くCVやグリッドサーチでは時間がかかるので、ここではホールドアウト法を用いる\n",
    "X_train, X_test, Y_train, Y_test = train_test_split(X, Y, test_size=0.3, random_state=1)"
   ]
  },
  {
   "cell_type": "markdown",
   "metadata": {},
   "source": [
    "### 分類器をテストする関数 test_model() の定義\n",
    "\n",
    "1. 教師データを学習\n",
    "2. 予測値を計算\n",
    "3. 精度の表示\n",
    "4. 混同行列の可視化"
   ]
  },
  {
   "cell_type": "code",
   "execution_count": null,
   "metadata": {},
   "outputs": [],
   "source": [
    "import numpy as np\n",
    "import seaborn as sns\n",
    "import matplotlib.pyplot as plt\n",
    "from sklearn.metrics import classification_report, confusion_matrix\n",
    "\n",
    "def test_model(model):\n",
    "    # 教師データを学習\n",
    "    model.fit(X_train, Y_train)\n",
    "\n",
    "    # テストデータについてモデルからの予測値を計算\n",
    "    Y_predict = model.predict(X_test)\n",
    "\n",
    "    # 精度の表示\n",
    "    print(classification_report(Y_test, Y_predict, digits=3))\n",
    "\n",
    "    # 混同行列の可視化\n",
    "    plt.figure(figsize=(12, 10))\n",
    "    sns.heatmap(confusion_matrix(Y_test, Y_predict),\n",
    "                square=True, cbar=True, annot=True, cmap='Blues')\n",
    "    plt.xlabel('Predicted Class')\n",
    "    plt.ylabel('True Class')\n",
    "    plt.show()"
   ]
  },
  {
   "cell_type": "markdown",
   "metadata": {},
   "source": [
    "### いくつかの分類器での精度の検証\n",
    "\n",
    "高速な分類器\n",
    "\n",
    "- ナイーブベイズ\n",
    "- ランダムフォレスト"
   ]
  },
  {
   "cell_type": "code",
   "execution_count": null,
   "metadata": {},
   "outputs": [],
   "source": [
    "from sklearn.naive_bayes import BernoulliNB\n",
    "\n",
    "# ナイーブベイズ\n",
    "model = BernoulliNB()\n",
    "# 分類器の精度検証\n",
    "test_model(model)"
   ]
  },
  {
   "cell_type": "code",
   "execution_count": null,
   "metadata": {},
   "outputs": [],
   "source": [
    "from sklearn.ensemble import RandomForestClassifier\n",
    "\n",
    "# ランダムフォレスト\n",
    "model = RandomForestClassifier(n_jobs=-1)\n",
    "# 分類器の精度検証\n",
    "test_model(model)"
   ]
  },
  {
   "cell_type": "markdown",
   "metadata": {},
   "source": [
    "### パラメータのチューニング\n",
    "\n",
    "グリッドサーチによるパラメータ（木の深さ）の検索\n",
    "- 時間がかかるので各自で実行\n",
    "\n",
    "グリッドサーチの結果\n",
    "- best accuracy=0.968\n",
    "- parameter: {'max_depth': 39}<br>（40という結果が出たことも）"
   ]
  },
  {
   "cell_type": "code",
   "execution_count": null,
   "metadata": {},
   "outputs": [],
   "source": [
    "%%time\n",
    "# MacBook Pro M1 Pro 2021 で約3分\n",
    "from sklearn.model_selection import GridSearchCV\n",
    "\n",
    "# ランダムフォレスト\n",
    "model = RandomForestClassifier()\n",
    "\n",
    "# 探索パラメータ、グリッドの設定\n",
    "param_range = list(range(35, 45, 1))\n",
    "grid = [{'max_depth': param_range}]\n",
    "\n",
    "# グリッドサーチの作成、実行\n",
    "gs = GridSearchCV(model, param_grid=grid, scoring='accuracy', cv=5, n_jobs=-1)\n",
    "gs.fit(X, Y)\n",
    "\n",
    "# 結果の表示\n",
    "print('best accuracy={:.3f}'.format(gs.best_score_))\n",
    "print('parameter:', gs.best_params_)"
   ]
  },
  {
   "cell_type": "markdown",
   "metadata": {},
   "source": [
    "### 実行時間が長い分類器"
   ]
  },
  {
   "cell_type": "code",
   "execution_count": null,
   "metadata": {},
   "outputs": [],
   "source": [
    "%%time\n",
    "from sklearn.linear_model import LogisticRegression\n",
    "\n",
    "# ロジスティック回帰\n",
    "model = LogisticRegression(C=10000.0, max_iter=10000)\n",
    "# 分類器の精度検証\n",
    "test_model(model)"
   ]
  },
  {
   "cell_type": "code",
   "execution_count": null,
   "metadata": {},
   "outputs": [],
   "source": [
    "%%time\n",
    "from sklearn.svm import SVC\n",
    "\n",
    "# SVM\n",
    "model = SVC()\n",
    "# 分類器の精度検証\n",
    "test_model(model)"
   ]
  },
  {
   "cell_type": "code",
   "execution_count": null,
   "metadata": {},
   "outputs": [],
   "source": [
    "%%time\n",
    "from sklearn.neighbors import KNeighborsClassifier\n",
    "\n",
    "# kNN分類器を作成\n",
    "model = KNeighborsClassifier(n_neighbors=5, n_jobs=-1)\n",
    "# 分類器の精度検証\n",
    "test_model(model)"
   ]
  },
  {
   "cell_type": "code",
   "execution_count": null,
   "metadata": {},
   "outputs": [],
   "source": []
  }
 ],
 "metadata": {
  "kernelspec": {
   "display_name": "Python 3 (ipykernel)",
   "language": "python",
   "name": "python3"
  },
  "language_info": {
   "codemirror_mode": {
    "name": "ipython",
    "version": 3
   },
   "file_extension": ".py",
   "mimetype": "text/x-python",
   "name": "python",
   "nbconvert_exporter": "python",
   "pygments_lexer": "ipython3",
   "version": "3.9.7"
  }
 },
 "nbformat": 4,
 "nbformat_minor": 4
}
