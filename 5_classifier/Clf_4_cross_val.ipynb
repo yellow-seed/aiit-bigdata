{
 "cells": [
  {
   "cell_type": "markdown",
   "metadata": {},
   "source": [
    "# 交差検証法（クロスバリデーション）によるパラメータチューニング\n",
    "\n",
    "- 教師データに対するあてはまりではなく、テストデータに対する予測精度の方が重要\n",
    "- クロスバリデーションにより、テストデータでパラメータチューニング"
   ]
  },
  {
   "cell_type": "code",
   "execution_count": 1,
   "metadata": {},
   "outputs": [
    {
     "data": {
      "text/html": [
       "<div>\n",
       "<style scoped>\n",
       "    .dataframe tbody tr th:only-of-type {\n",
       "        vertical-align: middle;\n",
       "    }\n",
       "\n",
       "    .dataframe tbody tr th {\n",
       "        vertical-align: top;\n",
       "    }\n",
       "\n",
       "    .dataframe thead th {\n",
       "        text-align: right;\n",
       "    }\n",
       "</style>\n",
       "<table border=\"1\" class=\"dataframe\">\n",
       "  <thead>\n",
       "    <tr style=\"text-align: right;\">\n",
       "      <th></th>\n",
       "      <th>sepal_length</th>\n",
       "      <th>sepal_width</th>\n",
       "      <th>petal_length</th>\n",
       "      <th>petal_width</th>\n",
       "      <th>species_virginica</th>\n",
       "    </tr>\n",
       "  </thead>\n",
       "  <tbody>\n",
       "    <tr>\n",
       "      <th>50</th>\n",
       "      <td>7.0</td>\n",
       "      <td>3.2</td>\n",
       "      <td>4.7</td>\n",
       "      <td>1.4</td>\n",
       "      <td>0</td>\n",
       "    </tr>\n",
       "    <tr>\n",
       "      <th>100</th>\n",
       "      <td>6.3</td>\n",
       "      <td>3.3</td>\n",
       "      <td>6.0</td>\n",
       "      <td>2.5</td>\n",
       "      <td>1</td>\n",
       "    </tr>\n",
       "  </tbody>\n",
       "</table>\n",
       "</div>"
      ],
      "text/plain": [
       "     sepal_length  sepal_width  petal_length  petal_width  species_virginica\n",
       "50            7.0          3.2           4.7          1.4                  0\n",
       "100           6.3          3.3           6.0          2.5                  1"
      ]
     },
     "execution_count": 1,
     "metadata": {},
     "output_type": "execute_result"
    }
   ],
   "source": [
    "import pandas as pd\n",
    "import seaborn as sns\n",
    "\n",
    "# Iris データセット\n",
    "iris = sns.load_dataset('iris')\n",
    "\n",
    "# species が setosa のデータを除去\n",
    "df = iris.query('species!=\"setosa\"')\n",
    "# speciesを 0, 1 にするためにダミー変数化\n",
    "df = pd.get_dummies(data=df, drop_first=True)\n",
    "\n",
    "# データセットの確認\n",
    "df.iloc[[0, 50]]"
   ]
  },
  {
   "cell_type": "markdown",
   "metadata": {},
   "source": [
    "### 交差検証法\n",
    "\n",
    "cross_val_score() にモデルとデータセットを渡し予測精度を測定\n",
    "- ```cv=10``` 10分割で実行\n",
    "- ```scoring='roc_auc'``` 精度はAUC<br>\n",
    "指定できる精度指標は以下を参照<br>\n",
    "https://scikit-learn.org/stable/modules/model_evaluation.html"
   ]
  },
  {
   "cell_type": "code",
   "execution_count": 2,
   "metadata": {},
   "outputs": [
    {
     "name": "stdout",
     "output_type": "stream",
     "text": [
      "AUC=0.984 (+/- 0.027)\n"
     ]
    }
   ],
   "source": [
    "from sklearn.svm import SVC\n",
    "from sklearn.model_selection import cross_val_score\n",
    "\n",
    "# 説明変数と目的変数\n",
    "X = df[['petal_length', 'petal_width']]\n",
    "Y = df.species_virginica\n",
    "\n",
    "# SVMモデル\n",
    "model = SVC()\n",
    "\n",
    "# 交差検証の実行\n",
    "score = cross_val_score(model, X, Y, cv=10, scoring='roc_auc')\n",
    "print('AUC={:.3f} (+/- {:.3f})'.format(score.mean(), score.std()))"
   ]
  },
  {
   "cell_type": "markdown",
   "metadata": {},
   "source": [
    "### 交差検証法によるパラメータチューニング\n",
    "\n",
    "SVMのパラメータチューニングは、kernelの種類によって、指定したいオプションが異なる。\n",
    "\n",
    "`kernel='linear'`\n",
    "- `C=[0.1, 1.0, 10.0]`\n",
    "\n",
    "`kernel='rbf'`\n",
    "- `C=[0.1, 1.0, 10.0]`\n",
    "- `gamma=[0.1, 1.0, 10.0]`\n",
    "\n",
    "`kernel='poly'`\n",
    "- `C=[0.1, 1.0, 10.0]`\n",
    "- `degree=[3, 6, 9]`\n"
   ]
  },
  {
   "cell_type": "code",
   "execution_count": null,
   "metadata": {},
   "outputs": [],
   "source": [
    "# 異なるパラメータを設定したモデルのリストの作成\n",
    "models = [\n",
    "    SVC(kernel='linear', C=0.1),\n",
    "    SVC(kernel='linear', C=1.0),\n",
    "    SVC(kernel='linear', C=10.0),\n",
    "    SVC(kernel='rbf', C=0.1, gamma=0.1),\n",
    "    SVC(kernel='rbf', C=0.1, gamma=1.0),\n",
    "    SVC(kernel='rbf', C=0.1, gamma=10.0),\n",
    "    SVC(kernel='rbf', C=1.0, gamma=0.1),\n",
    "    SVC(kernel='rbf', C=1.0, gamma=1.0),\n",
    "    SVC(kernel='rbf', C=1.0, gamma=10.0),\n",
    "    SVC(kernel='rbf', C=10.0, gamma=0.1),\n",
    "    SVC(kernel='rbf', C=10.0, gamma=1.0),\n",
    "    SVC(kernel='rbf', C=10.0, gamma=10.0),\n",
    "    SVC(kernel='poly', C=0.1, degree=3),\n",
    "    SVC(kernel='poly', C=0.1, degree=6),\n",
    "    SVC(kernel='poly', C=0.1, degree=9),\n",
    "    SVC(kernel='poly', C=1.0, degree=3),\n",
    "    SVC(kernel='poly', C=1.0, degree=6),\n",
    "    SVC(kernel='poly', C=1.0, degree=9),\n",
    "    SVC(kernel='poly', C=10.0, degree=3),\n",
    "    SVC(kernel='poly', C=10.0, degree=6),\n",
    "    SVC(kernel='poly', C=10.0, degree=9)\n",
    "]\n",
    "\n",
    "for i in range(0, len(models)):\n",
    "    # モデルの選択\n",
    "    model = models[i]\n",
    "\n",
    "    # 交差検証の実行\n",
    "    score = cross_val_score(model, X, Y, cv=10, scoring='roc_auc')\n",
    "    print('{}: AUC={:.3f} (+/- {:.3f})'.format(i, score.mean(), score.std()))"
   ]
  },
  {
   "cell_type": "markdown",
   "metadata": {},
   "source": [
    "### 引数を dict 型で渡す方法\n",
    "\n",
    "可変長引数の仕組み (kwargs) を用い、引数を dict 型で定義し渡すこともできる。"
   ]
  },
  {
   "cell_type": "code",
   "execution_count": null,
   "metadata": {},
   "outputs": [],
   "source": [
    "# 異なるパラメータを設定したモデルのリストの作成\n",
    "args_dict = [\n",
    "    {'kernel': 'linear', 'C': 0.1},\n",
    "    {'kernel': 'linear', 'C': 1.0},\n",
    "    {'kernel': 'linear', 'C': 10.0},\n",
    "    {'kernel': 'rbf', 'C': 0.1, 'gamma': 0.1},\n",
    "    {'kernel': 'rbf', 'C': 0.1, 'gamma': 1.0},\n",
    "    {'kernel': 'rbf', 'C': 0.1, 'gamma': 10.0},\n",
    "    {'kernel': 'rbf', 'C': 1.0, 'gamma': 0.1},\n",
    "    {'kernel': 'rbf', 'C': 1.0, 'gamma': 1.0},\n",
    "    {'kernel': 'rbf', 'C': 1.0, 'gamma': 10.0},\n",
    "    {'kernel': 'rbf', 'C': 10.0, 'gamma': 0.1},\n",
    "    {'kernel': 'rbf', 'C': 10.0, 'gamma': 1.0},\n",
    "    {'kernel': 'rbf', 'C': 10.0, 'gamma': 10.0},\n",
    "    {'kernel': 'poly', 'C': 0.1, 'degree': 3},\n",
    "    {'kernel': 'poly', 'C': 0.1, 'degree': 6},\n",
    "    {'kernel': 'poly', 'C': 0.1, 'degree': 9},\n",
    "    {'kernel': 'poly', 'C': 1.0, 'degree': 3},\n",
    "    {'kernel': 'poly', 'C': 1.0, 'degree': 6},\n",
    "    {'kernel': 'poly', 'C': 1.0, 'degree': 9},\n",
    "    {'kernel': 'poly', 'C': 10.0, 'degree': 3},\n",
    "    {'kernel': 'poly', 'C': 10.0, 'degree': 6},\n",
    "    {'kernel': 'poly', 'C': 10.0, 'degree': 9}\n",
    "]\n",
    "\n",
    "for args in args_dict:\n",
    "    # モデルの選択\n",
    "    model = SVC(**args)\n",
    "\n",
    "    # 交差検証の実行\n",
    "    score = cross_val_score(model, X, Y, cv=10, scoring='roc_auc')\n",
    "    print('{}: AUC={:.3f} (+/- {:.3f})'.format(args, score.mean(), score.std()))"
   ]
  }
 ],
 "metadata": {
  "kernelspec": {
   "display_name": "base",
   "language": "python",
   "name": "python3"
  },
  "language_info": {
   "codemirror_mode": {
    "name": "ipython",
    "version": 3
   },
   "file_extension": ".py",
   "mimetype": "text/x-python",
   "name": "python",
   "nbconvert_exporter": "python",
   "pygments_lexer": "ipython3",
   "version": "3.9.13 (main, Aug 25 2022, 18:24:45) \n[Clang 12.0.0 ]"
  },
  "vscode": {
   "interpreter": {
    "hash": "d451e6fd3e3a90eb92742bb146e8e20c8a00180dad068226f141e79828259f8f"
   }
  }
 },
 "nbformat": 4,
 "nbformat_minor": 4
}
