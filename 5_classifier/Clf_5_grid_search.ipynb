{
 "cells": [
  {
   "cell_type": "markdown",
   "metadata": {},
   "source": [
    "![GridSearch](slides/7_29.png)\n",
    "\n",
    "![GridSearch](slides/7_30.png)"
   ]
  },
  {
   "cell_type": "code",
   "execution_count": 1,
   "metadata": {},
   "outputs": [],
   "source": [
    "import pandas as pd\n",
    "import seaborn as sns\n",
    "\n",
    "# Iris データセット\n",
    "iris = sns.load_dataset('iris')\n",
    "\n",
    "# species が setosa のデータを除去\n",
    "df = iris.query('species!=\"setosa\"')\n",
    "# speciesを 0, 1 にするためにダミー変数化\n",
    "df = pd.get_dummies(data=df, drop_first=True)\n",
    "\n",
    "# データセットの確認\n",
    "df.iloc[[0, 50]]\n",
    "\n",
    "# 説明変数、目的変数を作成\n",
    "X = df[['petal_length', 'petal_width']]\n",
    "Y = df.species_virginica"
   ]
  },
  {
   "cell_type": "markdown",
   "metadata": {},
   "source": [
    "### グリッドサーチによるパラメータのチューニング\n",
    "\n",
    "GridSearchCV() にモデルとパラメータを渡し fit() を実行するだけ。\n",
    "\n",
    "- cv=10: 10分割で実行\n",
    "- scoring='roc_auc': 精度はAUC\n",
    "\n",
    "指定できる精度指標は以下を参照<br>\n",
    "https://scikit-learn.org/stable/modules/model_evaluation.html"
   ]
  },
  {
   "cell_type": "code",
   "execution_count": 2,
   "metadata": {},
   "outputs": [
    {
     "name": "stdout",
     "output_type": "stream",
     "text": [
      "best AUC=0.996\n",
      "parameter: {'C': 10.0, 'gamma': 1.0, 'kernel': 'rbf'}\n"
     ]
    }
   ],
   "source": [
    "from sklearn.svm import SVC\n",
    "from sklearn.model_selection import GridSearchCV\n",
    "\n",
    "# SVM Classifier を作成\n",
    "model = SVC()\n",
    "\n",
    "# 探索パラメータの設定例 (1)\n",
    "#param_range = [0.0001, 0.001, 0.01, 0.1, 1.0, 10.0, 100.0, 1000.0]\n",
    "#param_degree = list(range(3, 25, 3))\n",
    "\n",
    "# 探索パラメータの設定例 (2)\n",
    "# - 実行時間短縮のためパラメータも簡略化\n",
    "param_range = [0.01, 0.1, 1.0, 10.0]\n",
    "param_degree = list(range(3, 10, 3))\n",
    "\n",
    "# グリッドの設定\n",
    "grid = [{'kernel': ['linear'], 'C': param_range},\n",
    "        {'kernel': ['rbf'], 'C': param_range, 'gamma': param_range},\n",
    "        {'kernel': ['poly'], 'C': param_range, 'degree': param_degree}]\n",
    "\n",
    "# グリッドサーチの作成、実行 # n_jobs=-1は計算資源をできるだけ多く使う\n",
    "gs = GridSearchCV(model, param_grid=grid, scoring='roc_auc', cv=10, n_jobs=-1)\n",
    "gs.fit(X, Y)\n",
    "\n",
    "# 結果の表示\n",
    "print('best AUC={:.3f}'.format(gs.best_score_))\n",
    "print('parameter:', gs.best_params_)"
   ]
  },
  {
   "cell_type": "markdown",
   "metadata": {},
   "source": [
    "グリッドサーチの実行結果は表 cv_results_ にまとめられている。<br>\n",
    "pandas DataFrame に変換し、AUCが上位のパラメータを取得することもできる。"
   ]
  },
  {
   "cell_type": "code",
   "execution_count": 3,
   "metadata": {},
   "outputs": [
    {
     "data": {
      "text/html": [
       "<div>\n",
       "<style scoped>\n",
       "    .dataframe tbody tr th:only-of-type {\n",
       "        vertical-align: middle;\n",
       "    }\n",
       "\n",
       "    .dataframe tbody tr th {\n",
       "        vertical-align: top;\n",
       "    }\n",
       "\n",
       "    .dataframe thead th {\n",
       "        text-align: right;\n",
       "    }\n",
       "</style>\n",
       "<table border=\"1\" class=\"dataframe\">\n",
       "  <thead>\n",
       "    <tr style=\"text-align: right;\">\n",
       "      <th></th>\n",
       "      <th>mean_test_score</th>\n",
       "      <th>params</th>\n",
       "    </tr>\n",
       "  </thead>\n",
       "  <tbody>\n",
       "    <tr>\n",
       "      <th>27</th>\n",
       "      <td>0.996</td>\n",
       "      <td>{'C': 1.0, 'degree': 6, 'kernel': 'poly'}</td>\n",
       "    </tr>\n",
       "    <tr>\n",
       "      <th>22</th>\n",
       "      <td>0.996</td>\n",
       "      <td>{'C': 0.01, 'degree': 9, 'kernel': 'poly'}</td>\n",
       "    </tr>\n",
       "    <tr>\n",
       "      <th>18</th>\n",
       "      <td>0.996</td>\n",
       "      <td>{'C': 10.0, 'gamma': 1.0, 'kernel': 'rbf'}</td>\n",
       "    </tr>\n",
       "    <tr>\n",
       "      <th>31</th>\n",
       "      <td>0.992</td>\n",
       "      <td>{'C': 10.0, 'degree': 9, 'kernel': 'poly'}</td>\n",
       "    </tr>\n",
       "    <tr>\n",
       "      <th>28</th>\n",
       "      <td>0.992</td>\n",
       "      <td>{'C': 1.0, 'degree': 9, 'kernel': 'poly'}</td>\n",
       "    </tr>\n",
       "  </tbody>\n",
       "</table>\n",
       "</div>"
      ],
      "text/plain": [
       "    mean_test_score                                      params\n",
       "27            0.996   {'C': 1.0, 'degree': 6, 'kernel': 'poly'}\n",
       "22            0.996  {'C': 0.01, 'degree': 9, 'kernel': 'poly'}\n",
       "18            0.996  {'C': 10.0, 'gamma': 1.0, 'kernel': 'rbf'}\n",
       "31            0.992  {'C': 10.0, 'degree': 9, 'kernel': 'poly'}\n",
       "28            0.992   {'C': 1.0, 'degree': 9, 'kernel': 'poly'}"
      ]
     },
     "execution_count": 3,
     "metadata": {},
     "output_type": "execute_result"
    }
   ],
   "source": [
    "df = pd.DataFrame(gs.cv_results_).sort_values('mean_test_score', ascending=False)\n",
    "df[['mean_test_score', 'params']].head(5)"
   ]
  },
  {
   "cell_type": "markdown",
   "metadata": {},
   "source": [
    "### GridSearchCV を用いた交差検証法の実行\n",
    "\n",
    "- 最良のパラメータを知りたいだけならば GridSearchCV を用いて交差検証法の実行可能"
   ]
  },
  {
   "cell_type": "code",
   "execution_count": 4,
   "metadata": {},
   "outputs": [
    {
     "name": "stdout",
     "output_type": "stream",
     "text": [
      "best AUC=0.952\n",
      "parameter: {'max_depth': 2}\n"
     ]
    }
   ],
   "source": [
    "from sklearn.tree import DecisionTreeClassifier\n",
    "\n",
    "# 決定木を作成\n",
    "model = DecisionTreeClassifier()\n",
    "\n",
    "# 探索パラメータ、グリッドの設定\n",
    "param_range = list(range(1, 16, 1))\n",
    "grid = [{'max_depth': param_range}]\n",
    "\n",
    "# グリッドサーチの作成、実行\n",
    "gs = GridSearchCV(model, param_grid=grid, scoring='roc_auc', cv=10, n_jobs=-1)\n",
    "gs.fit(X, Y)\n",
    "\n",
    "# 結果の表示\n",
    "print('best AUC={:.3f}'.format(gs.best_score_))\n",
    "print('parameter:', gs.best_params_)"
   ]
  },
  {
   "cell_type": "code",
   "execution_count": 5,
   "metadata": {},
   "outputs": [
    {
     "data": {
      "text/html": [
       "<div>\n",
       "<style scoped>\n",
       "    .dataframe tbody tr th:only-of-type {\n",
       "        vertical-align: middle;\n",
       "    }\n",
       "\n",
       "    .dataframe tbody tr th {\n",
       "        vertical-align: top;\n",
       "    }\n",
       "\n",
       "    .dataframe thead th {\n",
       "        text-align: right;\n",
       "    }\n",
       "</style>\n",
       "<table border=\"1\" class=\"dataframe\">\n",
       "  <thead>\n",
       "    <tr style=\"text-align: right;\">\n",
       "      <th></th>\n",
       "      <th>mean_test_score</th>\n",
       "      <th>params</th>\n",
       "    </tr>\n",
       "  </thead>\n",
       "  <tbody>\n",
       "    <tr>\n",
       "      <th>1</th>\n",
       "      <td>0.952</td>\n",
       "      <td>{'max_depth': 2}</td>\n",
       "    </tr>\n",
       "    <tr>\n",
       "      <th>2</th>\n",
       "      <td>0.938</td>\n",
       "      <td>{'max_depth': 3}</td>\n",
       "    </tr>\n",
       "    <tr>\n",
       "      <th>3</th>\n",
       "      <td>0.938</td>\n",
       "      <td>{'max_depth': 4}</td>\n",
       "    </tr>\n",
       "    <tr>\n",
       "      <th>4</th>\n",
       "      <td>0.938</td>\n",
       "      <td>{'max_depth': 5}</td>\n",
       "    </tr>\n",
       "    <tr>\n",
       "      <th>5</th>\n",
       "      <td>0.938</td>\n",
       "      <td>{'max_depth': 6}</td>\n",
       "    </tr>\n",
       "  </tbody>\n",
       "</table>\n",
       "</div>"
      ],
      "text/plain": [
       "   mean_test_score            params\n",
       "1            0.952  {'max_depth': 2}\n",
       "2            0.938  {'max_depth': 3}\n",
       "3            0.938  {'max_depth': 4}\n",
       "4            0.938  {'max_depth': 5}\n",
       "5            0.938  {'max_depth': 6}"
      ]
     },
     "execution_count": 5,
     "metadata": {},
     "output_type": "execute_result"
    }
   ],
   "source": [
    "df = pd.DataFrame(gs.cv_results_).sort_values('mean_test_score', ascending=False)\n",
    "df[['mean_test_score', 'params']].head(5)"
   ]
  }
 ],
 "metadata": {
  "kernelspec": {
   "display_name": "base",
   "language": "python",
   "name": "python3"
  },
  "language_info": {
   "codemirror_mode": {
    "name": "ipython",
    "version": 3
   },
   "file_extension": ".py",
   "mimetype": "text/x-python",
   "name": "python",
   "nbconvert_exporter": "python",
   "pygments_lexer": "ipython3",
   "version": "3.9.15 | packaged by conda-forge | (main, Nov 22 2022, 08:52:10) \n[Clang 14.0.6 ]"
  },
  "vscode": {
   "interpreter": {
    "hash": "d451e6fd3e3a90eb92742bb146e8e20c8a00180dad068226f141e79828259f8f"
   }
  }
 },
 "nbformat": 4,
 "nbformat_minor": 4
}
