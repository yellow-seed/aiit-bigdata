{
 "cells": [
  {
   "cell_type": "markdown",
   "metadata": {},
   "source": [
    "# SVMによる分類"
   ]
  },
  {
   "cell_type": "code",
   "execution_count": null,
   "metadata": {},
   "outputs": [],
   "source": [
    "import pandas as pd\n",
    "import seaborn as sns\n",
    "import matplotlib.pyplot as plt\n",
    "\n",
    "# matplotlib: 日本語フォントの設定\n",
    "from matplotlib import rcParams\n",
    "rcParams['font.family'] = 'sans-serif'\n",
    "rcParams['font.sans-serif'] = ['Hiragino Maru Gothic Pro', 'Yu Gothic', 'Meirio', \n",
    "                               'Takao', 'IPAexGothic', 'IPAPGothic', 'Noto Sans CJK JP']\n",
    "\n",
    "# Iris データセット\n",
    "iris = sns.load_dataset('iris')\n",
    "\n",
    "# species が setosa のデータを除去\n",
    "df = iris.query('species!=\"setosa\"')\n",
    "# speciesを 0, 1 にするためにダミー変数化\n",
    "df = pd.get_dummies(data=df, drop_first=True)\n",
    "\n",
    "# データセットの確認\n",
    "df.iloc[[0, 50]]"
   ]
  },
  {
   "cell_type": "markdown",
   "metadata": {},
   "source": [
    "<hr>\n",
    "\n",
    "### SVMの精度の比較\n",
    "\n",
    "説明変数\n",
    "\n",
    "1. 一番重なりが少なそうな petal_width だけ\n",
    "2. かなりの重なりがある petal_width だけ\n",
    "3. 全部 (sepal_length, sepal_width, petal_length, petal_width)"
   ]
  },
  {
   "cell_type": "code",
   "execution_count": null,
   "metadata": {},
   "outputs": [],
   "source": [
    "from sklearn.metrics import accuracy_score, precision_score, recall_score, confusion_matrix\n",
    "from sklearn.metrics import roc_curve, auc\n",
    "from sklearn.svm import SVC\n",
    "\n",
    "# 説明変数のリストと目的変数の設定\n",
    "X_labels_list = [\n",
    "    ['petal_width'],\n",
    "    ['sepal_width'],\n",
    "    ['sepal_length', 'sepal_width', 'petal_length', 'petal_width']\n",
    "]\n",
    "Y = df.species_virginica\n",
    "\n",
    "# SVM Classifier の作成\n",
    "# - probability=True: predict_proba を呼び出し可能にするためのオプション\n",
    "model = SVC(probability=True)\n",
    "\n",
    "for i in range(0, len(X_labels_list)):\n",
    "    # ラベルから説明変数の設定\n",
    "    X_labels = X_labels_list[i]\n",
    "    X = df[X_labels]\n",
    "    # 学習\n",
    "    model.fit(X, Y)\n",
    "    # 教師データについてモデルからの予測値を計算\n",
    "    Y_predict = model.predict(X)\n",
    "\n",
    "    # 特異度の計算\n",
    "    matrix = confusion_matrix(Y, Y_predict)\n",
    "    specificity = matrix[0, 0] / (matrix[0, 1] + matrix[0, 0])\n",
    "    # 精度\n",
    "    print('{}: {}'.format(i, X_labels))\n",
    "    print('正確度: {:.3f}, 適合度: {:.3f}, 再現率: {:.3f}, 特異度: {:.3f}'.format(\n",
    "        accuracy_score(Y, Y_predict), precision_score(Y, Y_predict),\n",
    "        recall_score(Y, Y_predict), specificity))\n",
    "    # ROC, AUC\n",
    "    Y_proba = model.predict_proba(X)\n",
    "    fpr, tpr, thresholds = roc_curve(Y, Y_proba[:, 1])\n",
    "    plt.plot(fpr, tpr, label='{}: AUC={:.3f}'.format(i, auc(fpr, tpr)))\n",
    "\n",
    "plt.xlabel('偽陽性率 (FP率)')\n",
    "plt.ylabel('真陽性率 (TP率)')\n",
    "plt.title('ROC曲線')\n",
    "plt.legend()\n",
    "plt.show()"
   ]
  },
  {
   "cell_type": "markdown",
   "metadata": {},
   "source": [
    "<hr>\n",
    "\n",
    "### カーネルの比較\n",
    "\n",
    "- 説明変数はランダムフォレストで情報利得が大きい petal_length, petal_width を選択。\n",
    "- SVMのカーネル (kernel) を変更。\n",
    "  - linear: 線形\n",
    "  - rbf: ガウスカーネル\n",
    "  - poly: 多項式カーネル"
   ]
  },
  {
   "cell_type": "code",
   "execution_count": null,
   "metadata": {},
   "outputs": [],
   "source": [
    "X = df[['petal_length', 'petal_width']]\n",
    "Y = df.species_virginica\n",
    "\n",
    "# カーネルのリストを作成\n",
    "kernels = ['linear', 'rbf', 'poly']\n",
    "\n",
    "for k in kernels:\n",
    "    # カーネルの選択\n",
    "    model = SVC(kernel=k, probability=True)\n",
    "    # 学習\n",
    "    model.fit(X, Y)\n",
    "    # 教師データについてモデルからの予測値を計算\n",
    "    Y_predict = model.predict(X)\n",
    "\n",
    "    # 特異度の計算\n",
    "    matrix = confusion_matrix(Y, Y_predict)\n",
    "    specificity = matrix[0, 0] / (matrix[0, 1] + matrix[0, 0])\n",
    "    # 精度\n",
    "    print('{}: 正確度: {:.3f}, 適合度: {:.3f}, 再現率: {:.3f}, 特異度: {:.3f}'.format(\n",
    "        k, accuracy_score(Y, Y_predict), precision_score(Y, Y_predict),\n",
    "        recall_score(Y, Y_predict), specificity))\n",
    "    # ROC, AUC\n",
    "    Y_proba = model.predict_proba(X)\n",
    "    fpr, tpr, thresholds = roc_curve(Y, Y_proba[:, 1])\n",
    "    plt.plot(fpr, tpr, label='{}: AUC={:.3f}'.format(k, auc(fpr, tpr)))\n",
    "\n",
    "plt.xlabel('偽陽性率 (FP率)')\n",
    "plt.ylabel('真陽性率 (TP率)')\n",
    "plt.title('ROC曲線')\n",
    "plt.legend()\n",
    "plt.show()"
   ]
  },
  {
   "cell_type": "markdown",
   "metadata": {},
   "source": [
    "<hr>\n",
    "\n",
    "### パラメータの比較\n",
    "\n",
    "- 説明変数はランダムフォレストで情報利得が大きい petal_length, petal_width を選択。\n",
    "- SVMのパラメータを変更。\n",
    "  - kernel: 多項式カーネル (poly)\n",
    "  - degree: 次元が大きいと、複雑な分類境界を形成\n",
    "  - C: 大きいと、誤分類を減らす方を優先、分類境界は複雑化"
   ]
  },
  {
   "cell_type": "code",
   "execution_count": null,
   "metadata": {},
   "outputs": [],
   "source": [
    "X = df[['petal_length', 'petal_width']]\n",
    "Y = df.species_virginica\n",
    "\n",
    "# 異なるパラメータを設定したモデルのリストの作成\n",
    "models = [\n",
    "    SVC(kernel='poly', degree=3, C=1.0, probability=True),\n",
    "    SVC(kernel='poly', degree=10, C=1.0, probability=True),\n",
    "    SVC(kernel='poly', degree=3, C=100.0, probability=True),\n",
    "    SVC(kernel='poly', degree=10, C=100.0, probability=True)\n",
    "]\n",
    "\n",
    "for i in range(0, len(models)):\n",
    "    # モデルの選択\n",
    "    model = models[i]\n",
    "    # 学習\n",
    "    model.fit(X, Y)\n",
    "    # 教師データについてモデルからの予測値を計算\n",
    "    Y_predict = model.predict(X)\n",
    "\n",
    "    # 特異度の計算\n",
    "    matrix = confusion_matrix(Y, Y_predict)\n",
    "    specificity = matrix[0, 0] / (matrix[0, 1] + matrix[0, 0])\n",
    "    # 精度\n",
    "    print('{}: 正確度: {:.3f}, 適合度: {:.3f}, 再現率: {:.3f}, 特異度: {:.3f}'.format(\n",
    "        i, accuracy_score(Y, Y_predict), precision_score(Y, Y_predict),\n",
    "        recall_score(Y, Y_predict), specificity))\n",
    "    # ROC, AUC\n",
    "    Y_proba = model.predict_proba(X)\n",
    "    fpr, tpr, thresholds = roc_curve(Y, Y_proba[:, 1])\n",
    "    plt.plot(fpr, tpr, label='{}: AUC={:.3f}'.format(i, auc(fpr, tpr)))\n",
    "\n",
    "plt.xlabel('偽陽性率 (FP率)')\n",
    "plt.ylabel('真陽性率 (TP率)')\n",
    "plt.title('ROC曲線')\n",
    "plt.legend()\n",
    "plt.show()"
   ]
  },
  {
   "cell_type": "code",
   "execution_count": null,
   "metadata": {},
   "outputs": [],
   "source": []
  }
 ],
 "metadata": {
  "kernelspec": {
   "display_name": "base",
   "language": "python",
   "name": "python3"
  },
  "language_info": {
   "codemirror_mode": {
    "name": "ipython",
    "version": 3
   },
   "file_extension": ".py",
   "mimetype": "text/x-python",
   "name": "python",
   "nbconvert_exporter": "python",
   "pygments_lexer": "ipython3",
   "version": "3.9.13 (main, Aug 25 2022, 18:24:45) \n[Clang 12.0.0 ]"
  },
  "vscode": {
   "interpreter": {
    "hash": "d451e6fd3e3a90eb92742bb146e8e20c8a00180dad068226f141e79828259f8f"
   }
  }
 },
 "nbformat": 4,
 "nbformat_minor": 4
}
