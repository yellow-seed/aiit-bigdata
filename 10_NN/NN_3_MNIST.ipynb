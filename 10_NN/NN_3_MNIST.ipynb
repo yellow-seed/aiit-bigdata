{
 "cells": [
  {
   "cell_type": "markdown",
   "metadata": {},
   "source": [
    "# Scikit-Learn のニューラルネットワーク (2)\n",
    "\n",
    "Scikit-Learn の2層ニューラルネットワークでMNISTデータセットを分類。\n",
    "\n",
    "### MNISTデータセット"
   ]
  },
  {
   "cell_type": "code",
   "execution_count": null,
   "metadata": {},
   "outputs": [],
   "source": [
    "import numpy as np\n",
    "from sklearn.datasets import fetch_openml\n",
    "from sklearn.model_selection import train_test_split\n",
    "\n",
    "X, Y_str = fetch_openml('mnist_784', version=1, return_X_y=True, as_frame=False)\n",
    "\n",
    "# 正規化（最小値: 0, 最大値: 1）\n",
    "# - もとデータは 最小値: 0, 最大値: 255\n",
    "X_scale = X / 255.\n",
    "# - 最小値: -1, 最大値: 1 とする場合\n",
    "#X_scale = ((X / 255.) - .5) * 2\n",
    "\n",
    "# 正解ラベルは文字列で渡されるため数値に変換\n",
    "Y = Y_str.astype('int')\n",
    "\n",
    "# 教師データとテストデータに分割\n",
    "# - データ数が多くCVやグリッドサーチでは時間がかかるので、ここではホールドアウト法を用いる\n",
    "X_train, X_test, Y_train, Y_test = train_test_split(X_scale, Y, test_size=0.3, random_state=1)"
   ]
  },
  {
   "cell_type": "markdown",
   "metadata": {},
   "source": [
    "### ニューラルネットワークの作成・学習\n",
    "\n",
    "- 指定された繰り返し数に達しても十分にコストが収束していない場合、警告 ConvergenceWarning が表示される。"
   ]
  },
  {
   "cell_type": "code",
   "execution_count": null,
   "metadata": {},
   "outputs": [],
   "source": [
    "from sklearn.neural_network import MLPClassifier\n",
    "# Multi-layer Perceptron classifier\n",
    "# - max_iter: 50（処理時間を短くするため繰り返しを小さくしている）\n",
    "# - hidden_layer_sizes: 隠れ層のニューロン数、多層にする場合は各層のニューロン数を指定 eg. [4, 4]\n",
    "# - learning_rate: 'adaptive' （学習率を適応的に変更）\n",
    "model = MLPClassifier(max_iter=50, hidden_layer_sizes=[100], learning_rate='adaptive')\n",
    "\n",
    "# 学習\n",
    "model.fit(X_train, Y_train)"
   ]
  },
  {
   "cell_type": "markdown",
   "metadata": {},
   "source": [
    "### 分類精度\n",
    "\n",
    "- 正確度の表示\n",
    "- 混同行列の可視化"
   ]
  },
  {
   "cell_type": "code",
   "execution_count": null,
   "metadata": {},
   "outputs": [],
   "source": [
    "import seaborn as sns\n",
    "import matplotlib.pyplot as plt\n",
    "from sklearn.metrics import classification_report, confusion_matrix\n",
    "\n",
    "# テストデータについてモデルからの予測値を計算\n",
    "Y_predict = model.predict(X_test)\n",
    "\n",
    "# 結果の表示\n",
    "print(classification_report(Y_test, Y_predict, digits=3))\n",
    "\n",
    "# 混同行列の可視化\n",
    "plt.figure(figsize=(12, 10))\n",
    "sns.heatmap(confusion_matrix(Y_test, Y_predict),\n",
    "            square=True, cbar=True, annot=True, cmap='Blues')\n",
    "plt.xlabel('Predicted Class')\n",
    "plt.ylabel('True Class')\n",
    "plt.show()"
   ]
  },
  {
   "cell_type": "code",
   "execution_count": null,
   "metadata": {},
   "outputs": [],
   "source": []
  }
 ],
 "metadata": {
  "kernelspec": {
   "display_name": "base",
   "language": "python",
   "name": "python3"
  },
  "language_info": {
   "codemirror_mode": {
    "name": "ipython",
    "version": 3
   },
   "file_extension": ".py",
   "mimetype": "text/x-python",
   "name": "python",
   "nbconvert_exporter": "python",
   "pygments_lexer": "ipython3",
   "version": "3.9.13 (main, Aug 25 2022, 18:24:45) \n[Clang 12.0.0 ]"
  },
  "vscode": {
   "interpreter": {
    "hash": "d451e6fd3e3a90eb92742bb146e8e20c8a00180dad068226f141e79828259f8f"
   }
  }
 },
 "nbformat": 4,
 "nbformat_minor": 4
}
