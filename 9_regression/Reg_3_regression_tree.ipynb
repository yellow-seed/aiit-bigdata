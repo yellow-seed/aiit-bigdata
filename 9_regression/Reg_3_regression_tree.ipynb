{
 "cells": [
  {
   "cell_type": "markdown",
   "metadata": {},
   "source": [
    "# 回帰木\n",
    "\n",
    "- 決定木を用いた回帰"
   ]
  },
  {
   "cell_type": "code",
   "execution_count": 1,
   "metadata": {},
   "outputs": [
    {
     "data": {
      "text/html": [
       "<div>\n",
       "<style scoped>\n",
       "    .dataframe tbody tr th:only-of-type {\n",
       "        vertical-align: middle;\n",
       "    }\n",
       "\n",
       "    .dataframe tbody tr th {\n",
       "        vertical-align: top;\n",
       "    }\n",
       "\n",
       "    .dataframe thead th {\n",
       "        text-align: right;\n",
       "    }\n",
       "</style>\n",
       "<table border=\"1\" class=\"dataframe\">\n",
       "  <thead>\n",
       "    <tr style=\"text-align: right;\">\n",
       "      <th></th>\n",
       "      <th>sepal_length</th>\n",
       "      <th>sepal_width</th>\n",
       "      <th>petal_length</th>\n",
       "      <th>petal_width</th>\n",
       "      <th>species_setosa</th>\n",
       "      <th>species_versicolor</th>\n",
       "      <th>species_virginica</th>\n",
       "    </tr>\n",
       "  </thead>\n",
       "  <tbody>\n",
       "    <tr>\n",
       "      <th>0</th>\n",
       "      <td>5.1</td>\n",
       "      <td>3.5</td>\n",
       "      <td>1.4</td>\n",
       "      <td>0.2</td>\n",
       "      <td>1</td>\n",
       "      <td>0</td>\n",
       "      <td>0</td>\n",
       "    </tr>\n",
       "    <tr>\n",
       "      <th>50</th>\n",
       "      <td>7.0</td>\n",
       "      <td>3.2</td>\n",
       "      <td>4.7</td>\n",
       "      <td>1.4</td>\n",
       "      <td>0</td>\n",
       "      <td>1</td>\n",
       "      <td>0</td>\n",
       "    </tr>\n",
       "    <tr>\n",
       "      <th>100</th>\n",
       "      <td>6.3</td>\n",
       "      <td>3.3</td>\n",
       "      <td>6.0</td>\n",
       "      <td>2.5</td>\n",
       "      <td>0</td>\n",
       "      <td>0</td>\n",
       "      <td>1</td>\n",
       "    </tr>\n",
       "  </tbody>\n",
       "</table>\n",
       "</div>"
      ],
      "text/plain": [
       "     sepal_length  sepal_width  petal_length  petal_width  species_setosa  \\\n",
       "0             5.1          3.5           1.4          0.2               1   \n",
       "50            7.0          3.2           4.7          1.4               0   \n",
       "100           6.3          3.3           6.0          2.5               0   \n",
       "\n",
       "     species_versicolor  species_virginica  \n",
       "0                     0                  0  \n",
       "50                    1                  0  \n",
       "100                   0                  1  "
      ]
     },
     "execution_count": 1,
     "metadata": {},
     "output_type": "execute_result"
    }
   ],
   "source": [
    "import pandas as pd\n",
    "import seaborn as sns\n",
    "\n",
    "# Iris データセット\n",
    "iris = sns.load_dataset('iris')\n",
    "\n",
    "# species のダミー変数化\n",
    "df = pd.get_dummies(data=iris)\n",
    "# 確認\n",
    "df.iloc[[0, 50, 100]]"
   ]
  },
  {
   "cell_type": "markdown",
   "metadata": {},
   "source": [
    "<hr>\n",
    "\n",
    "![kNN](slides/8_37.png)\n",
    "\n",
    "### 一番相関がある petal_length を目的変数として回帰木を作成"
   ]
  },
  {
   "cell_type": "code",
   "execution_count": 2,
   "metadata": {},
   "outputs": [
    {
     "name": "stdout",
     "output_type": "stream",
     "text": [
      "MSE=0.034, R^2=0.989\n"
     ]
    }
   ],
   "source": [
    "from sklearn.tree import DecisionTreeRegressor\n",
    "from sklearn.metrics import mean_squared_error, r2_score\n",
    "\n",
    "# 説明変数、目的変数の設定\n",
    "Y_label = 'petal_length'\n",
    "X = df.drop([Y_label], axis=1)\n",
    "Y = df[Y_label]\n",
    "\n",
    "# 回帰木を作成\n",
    "# - max_depth: 最大深さ\n",
    "model = DecisionTreeRegressor(max_depth=5)\n",
    "# 学習\n",
    "model.fit(X, Y)\n",
    "\n",
    "# MSE: 平均二乗誤差\n",
    "# R^2: 決定係数\n",
    "Y_predict = model.predict(X)\n",
    "print('MSE={:.3f}, R^2={:.3f}'.format(\n",
    "    mean_squared_error(Y, Y_predict), r2_score(Y, Y_predict)))"
   ]
  },
  {
   "cell_type": "markdown",
   "metadata": {},
   "source": [
    "<hr>\n",
    "\n",
    "### 回帰木の精度の比較\n",
    "\n",
    "目的変数\n",
    "\n",
    "1. petal_length: 他の変数とかなり強く相関\n",
    "2. sepal_width: 他の変数との相関が弱い"
   ]
  },
  {
   "cell_type": "code",
   "execution_count": 3,
   "metadata": {},
   "outputs": [
    {
     "name": "stdout",
     "output_type": "stream",
     "text": [
      "0: petal_length\tMSE=0.034, R^2=0.989\n",
      "1: sepal_width\tMSE=0.040, R^2=0.786\n"
     ]
    }
   ],
   "source": [
    "# 目的変数のリスト\n",
    "Y_labels_list = ['petal_length', 'sepal_width']\n",
    "\n",
    "# 回帰木を作成\n",
    "model = DecisionTreeRegressor(max_depth=5)\n",
    "\n",
    "for i in range(0, len(Y_labels_list)):\n",
    "    # 説明変数、目的変数の設定\n",
    "    Y_label = Y_labels_list[i]\n",
    "    X = df.drop([Y_label], axis=1)\n",
    "    Y = df[Y_label]\n",
    "    # 学習\n",
    "    model.fit(X, Y)\n",
    "    # 教師データについてモデルからの予測値を計算\n",
    "    Y_predict = model.predict(X)\n",
    "\n",
    "    # 精度\n",
    "    print('{}: {}\\tMSE={:.3f}, R^2={:.3f}'.format(i, Y_label,\n",
    "        mean_squared_error(Y, Y_predict), r2_score(Y, Y_predict)))"
   ]
  },
  {
   "cell_type": "markdown",
   "metadata": {},
   "source": [
    "<hr>\n",
    "\n",
    "### GridSearchCV を用いた交差検証法の実行\n",
    "\n",
    "- 未知のデータに対する予測精度の検証"
   ]
  },
  {
   "cell_type": "code",
   "execution_count": 4,
   "metadata": {},
   "outputs": [
    {
     "name": "stdout",
     "output_type": "stream",
     "text": [
      "best R2=0.185\n",
      "parameter: {'max_depth': 4}\n"
     ]
    }
   ],
   "source": [
    "from sklearn.model_selection import GridSearchCV\n",
    "\n",
    "# 説明変数、目的変数の設定\n",
    "Y_label = 'petal_length'\n",
    "X = df.drop([Y_label], axis=1)\n",
    "Y = df[Y_label]\n",
    "\n",
    "# 回帰木を作成\n",
    "model = DecisionTreeRegressor()\n",
    "\n",
    "# 探索パラメータ、グリッドの設定\n",
    "param_range = list(range(1, 20, 1))\n",
    "grid = [{'max_depth': param_range}]\n",
    "\n",
    "# グリッドサーチの作成、実行\n",
    "gs = GridSearchCV(model, param_grid=grid, scoring='r2', cv=10, n_jobs=-1)\n",
    "gs.fit(X, Y)\n",
    "\n",
    "# 結果の表示\n",
    "print('best R2={:.3f}'.format(gs.best_score_))\n",
    "print('parameter:', gs.best_params_)"
   ]
  },
  {
   "cell_type": "code",
   "execution_count": null,
   "metadata": {},
   "outputs": [],
   "source": []
  }
 ],
 "metadata": {
  "kernelspec": {
   "display_name": "base",
   "language": "python",
   "name": "python3"
  },
  "language_info": {
   "codemirror_mode": {
    "name": "ipython",
    "version": 3
   },
   "file_extension": ".py",
   "mimetype": "text/x-python",
   "name": "python",
   "nbconvert_exporter": "python",
   "pygments_lexer": "ipython3",
   "version": "3.9.13"
  },
  "vscode": {
   "interpreter": {
    "hash": "d451e6fd3e3a90eb92742bb146e8e20c8a00180dad068226f141e79828259f8f"
   }
  }
 },
 "nbformat": 4,
 "nbformat_minor": 4
}
