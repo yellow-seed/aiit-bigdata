{
 "cells": [
  {
   "cell_type": "markdown",
   "metadata": {},
   "source": [
    "<img src=\"slides/8_30.png\">"
   ]
  },
  {
   "cell_type": "code",
   "execution_count": null,
   "metadata": {},
   "outputs": [],
   "source": [
    "import pandas as pd\n",
    "import seaborn as sns\n",
    "\n",
    "# Iris データセット\n",
    "iris = sns.load_dataset('iris')\n",
    "\n",
    "# species が setosa のデータを除去\n",
    "df = iris.query('species!=\"setosa\"')\n",
    "# speciesを 0, 1 にするためにダミー変数化\n",
    "df = pd.get_dummies(data=df, drop_first=True)\n",
    "\n",
    "# データセットの確認\n",
    "df.iloc[[0, 50]]\n",
    "\n",
    "# 説明変数、目的変数を作成\n",
    "X = df[['sepal_length', 'sepal_width', 'petal_length', 'petal_width']]\n",
    "Y = df.species_virginica"
   ]
  },
  {
   "cell_type": "markdown",
   "metadata": {},
   "source": [
    "### ホールドアウトにより予測精度を検証\n",
    "\n",
    "```train_test_split()``` によりデータセットを分割\n",
    "\n",
    "- ```test_size=0.3``` 30% をテストデータとして分割\n",
    "- ```X_train, X_test``` 教師データ\n",
    "- ```Y_train, Y_test``` テストデータ\n",
    "\n",
    "```model.fit(X_train, Y_train)```\n",
    "\n",
    "- 教師データで決定木を作成\n",
    "\n",
    "```Y_predict = model.predict(X_test)```<br>\n",
    "```Y_proba = model.predict_proba(X_test)```\n",
    "\n",
    "- テストデータで目的変数を予測"
   ]
  },
  {
   "cell_type": "code",
   "execution_count": null,
   "metadata": {},
   "outputs": [],
   "source": [
    "from sklearn.tree import DecisionTreeClassifier\n",
    "from sklearn.metrics import roc_curve, auc\n",
    "from sklearn.model_selection import train_test_split\n",
    "\n",
    "def classify(depth):\n",
    "    # データを分割\n",
    "    X_train, X_test, Y_train, Y_test = train_test_split(X, Y, test_size=0.3)\n",
    "    # 決定木を作成\n",
    "    model = DecisionTreeClassifier(criterion='entropy', max_depth=depth)\n",
    "    model.fit(X_train, Y_train)\n",
    "\n",
    "    # 正確度、適合度、再現率（感度）、AUCの算出\n",
    "    Y_predict = model.predict(X_test)\n",
    "    Y_proba = model.predict_proba(X_test)\n",
    "    fpr, tpr, thresholds = roc_curve(Y_test, Y_proba[:, 1])\n",
    "    print('depth={:2}: AUC={:.3f}'.format(depth, auc(fpr, tpr)))"
   ]
  },
  {
   "cell_type": "markdown",
   "metadata": {},
   "source": [
    "### 決定木の深さの数値を変更して実行\n",
    "\n",
    "1 から 16 未満まで値を変更しながら、決定木を作成し、精度、AUCを確認"
   ]
  },
  {
   "cell_type": "code",
   "execution_count": null,
   "metadata": {},
   "outputs": [],
   "source": [
    "for d in range(1, 16, 1):\n",
    "    classify(d)"
   ]
  },
  {
   "cell_type": "markdown",
   "metadata": {},
   "source": [
    "- AUC は上がったり、下がったり\n",
    "\n",
    "データセットの分割はランダムに行われるため常に同じ結果は出ない\n",
    "\n",
    "<hr>\n",
    "\n",
    "<img src=\"slides/8_31.png\">"
   ]
  }
 ],
 "metadata": {
  "kernelspec": {
   "display_name": "base",
   "language": "python",
   "name": "python3"
  },
  "language_info": {
   "codemirror_mode": {
    "name": "ipython",
    "version": 3
   },
   "file_extension": ".py",
   "mimetype": "text/x-python",
   "name": "python",
   "nbconvert_exporter": "python",
   "pygments_lexer": "ipython3",
   "version": "3.9.15 | packaged by conda-forge | (main, Nov 22 2022, 08:52:10) \n[Clang 14.0.6 ]"
  },
  "vscode": {
   "interpreter": {
    "hash": "d451e6fd3e3a90eb92742bb146e8e20c8a00180dad068226f141e79828259f8f"
   }
  }
 },
 "nbformat": 4,
 "nbformat_minor": 4
}
