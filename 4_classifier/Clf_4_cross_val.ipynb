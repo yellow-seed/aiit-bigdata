{
 "cells": [
  {
   "cell_type": "markdown",
   "metadata": {},
   "source": [
    "<img src=\"slides/10.png\">"
   ]
  },
  {
   "cell_type": "code",
   "execution_count": null,
   "metadata": {},
   "outputs": [],
   "source": [
    "import pandas as pd\n",
    "import seaborn as sns\n",
    "\n",
    "# Iris データセット\n",
    "iris = sns.load_dataset('iris')\n",
    "\n",
    "# species が setosa のデータを除去\n",
    "df = iris.query('species!=\"setosa\"')\n",
    "# speciesを 0, 1 にするためにダミー変数化\n",
    "df = pd.get_dummies(data=df, drop_first=True)\n",
    "\n",
    "# データセットの確認\n",
    "df.iloc[[0, 50]]\n",
    "\n",
    "# 説明変数、目的変数を作成\n",
    "X = df[['sepal_length', 'sepal_width', 'petal_length', 'petal_width']]\n",
    "Y = df.species_virginica"
   ]
  },
  {
   "cell_type": "markdown",
   "metadata": {},
   "source": [
    "### 交差検証法により予測精度を検証\n",
    "\n",
    "```cross_val_score()``` にモデルとデータセットを渡すだけ\n",
    "\n",
    "- ```cv=10``` 10分割で実行\n",
    "- ```scoring='roc_auc'``` 精度はAUC<br>\n",
    "指定できる精度指標は以下を参照<br>\n",
    "https://scikit-learn.org/stable/modules/model_evaluation.html"
   ]
  },
  {
   "cell_type": "code",
   "execution_count": null,
   "metadata": {},
   "outputs": [],
   "source": [
    "from sklearn.tree import DecisionTreeClassifier\n",
    "from sklearn.metrics import roc_curve, auc\n",
    "from sklearn.model_selection import cross_val_score\n",
    "\n",
    "def classify(depth):\n",
    "    # 決定木を作成\n",
    "    model = DecisionTreeClassifier(criterion='entropy', max_depth=depth)\n",
    "\n",
    "    # 交差検証の実行\n",
    "    score = cross_val_score(model, X, Y, cv=10, scoring='roc_auc')\n",
    "    print('depth={:2}: AUC={:.3f} (+/- {:.3f})'.format(depth, score.mean(), score.std()))"
   ]
  },
  {
   "cell_type": "markdown",
   "metadata": {},
   "source": [
    "### 決定木の深さの数値を変更して実行\n",
    "\n",
    "1 から 16 未満まで値を変更しながら、決定木を作成し、交差検証法でのAUCを確認"
   ]
  },
  {
   "cell_type": "code",
   "execution_count": null,
   "metadata": {},
   "outputs": [],
   "source": [
    "for d in range(1, 16, 1):\n",
    "    classify(d)"
   ]
  },
  {
   "cell_type": "markdown",
   "metadata": {},
   "source": [
    "- 決定木の深さが 2 の時にAUCは最大\n",
    "- 複数に分割して実行した結果のため、かなり安定した検証結果が得られる\n",
    "- 決定木の深さの値を変更する範囲は、試行錯誤して決める必要"
   ]
  }
 ],
 "metadata": {
  "kernelspec": {
   "display_name": "Python 3 (ipykernel)",
   "language": "python",
   "name": "python3"
  },
  "language_info": {
   "codemirror_mode": {
    "name": "ipython",
    "version": 3
   },
   "file_extension": ".py",
   "mimetype": "text/x-python",
   "name": "python",
   "nbconvert_exporter": "python",
   "pygments_lexer": "ipython3",
   "version": "3.8.11"
  }
 },
 "nbformat": 4,
 "nbformat_minor": 4
}
