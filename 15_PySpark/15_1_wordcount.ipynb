{
 "cells": [
  {
   "cell_type": "markdown",
   "metadata": {},
   "source": [
    "![Spark WordCount](slides/16.png)"
   ]
  },
  {
   "cell_type": "code",
   "execution_count": null,
   "metadata": {},
   "outputs": [],
   "source": [
    "# https://github.com/apache/spark/blob/master/examples/src/main/python/wordcount.py を改変\n",
    "from operator import add\n",
    "from pyspark.sql import SparkSession\n",
    "\n",
    "# 入力データ\n",
    "filename = 'data/output_en.csv'\n",
    "\n",
    "# SparkSessionインスタンスを生成\n",
    "spark = SparkSession.builder.appName(\"PythonWordCount\").getOrCreate()\n",
    "\n",
    "# filenameの読み込み\n",
    "file = spark.read.text(filename)\n",
    "\n",
    "# RDDに読み込み\n",
    "lines = file.rdd.map(lambda r: r[0])\n",
    "\n",
    "# FlatMap, Map, ReduceByKey\n",
    "counts = lines.flatMap(lambda x: x.split(' ')) \\\n",
    "              .map(lambda x: (x, 1)) \\\n",
    "              .reduceByKey(add)\n",
    "\n",
    "# 結果の回収\n",
    "output = counts.collect()\n",
    "\n",
    "# 出力\n",
    "for (word, count) in output:\n",
    "    print(\"%s: %i\" % (word, count))\n",
    "\n",
    "# SparkSessionの終了\n",
    "spark.stop()"
   ]
  },
  {
   "cell_type": "code",
   "execution_count": null,
   "metadata": {},
   "outputs": [],
   "source": []
  }
 ],
 "metadata": {
  "kernelspec": {
   "display_name": "Python 3 (ipykernel)",
   "language": "python",
   "name": "python3"
  },
  "language_info": {
   "codemirror_mode": {
    "name": "ipython",
    "version": 3
   },
   "file_extension": ".py",
   "mimetype": "text/x-python",
   "name": "python",
   "nbconvert_exporter": "python",
   "pygments_lexer": "ipython3",
   "version": "3.9.7"
  }
 },
 "nbformat": 4,
 "nbformat_minor": 4
}
