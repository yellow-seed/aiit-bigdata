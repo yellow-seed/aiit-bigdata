{
 "cells": [
  {
   "cell_type": "code",
   "execution_count": null,
   "metadata": {},
   "outputs": [],
   "source": [
    "import pandas as pd\n",
    "import seaborn as sns\n",
    "from pyspark.sql import SparkSession\n",
    "\n",
    "iris = sns.load_dataset('iris')\n",
    "df = iris.drop(['sepal_length', 'sepal_width'], axis=1)\n",
    "X_labels = ['petal_length', 'petal_width']\n",
    "Y_label = 'species'\n",
    "\n",
    "# SparkSessionインスタンスを生成\n",
    "spark = SparkSession.builder.appName(\"RandomForest-Iris\").getOrCreate()\n",
    "# Spark DataFrame の作成\n",
    "sdf = spark.createDataFrame(pd.DataFrame(df))"
   ]
  },
  {
   "cell_type": "code",
   "execution_count": null,
   "metadata": {},
   "outputs": [],
   "source": [
    "from pyspark.ml import Pipeline\n",
    "from pyspark.ml.feature import StringIndexer, VectorAssembler\n",
    "from pyspark.ml.classification import RandomForestClassifier\n",
    "\n",
    "# Speciesを数値に変換\n",
    "labelIndexer = StringIndexer(inputCol=Y_label, outputCol='label').fit(sdf)\n",
    "# feature vector への変換\n",
    "featureAssembler = VectorAssembler(inputCols=X_labels, outputCol='features')\n",
    "# RandomForest\n",
    "classifier = RandomForestClassifier(labelCol='label', featuresCol='features')\n",
    "# Pipeline\n",
    "pipeline = Pipeline(stages=[labelIndexer, featureAssembler, classifier])"
   ]
  },
  {
   "cell_type": "code",
   "execution_count": null,
   "metadata": {},
   "outputs": [],
   "source": [
    "model = pipeline.fit(sdf)\n",
    "predictions = model.transform(sdf)\n",
    "predictions.show(5)"
   ]
  },
  {
   "cell_type": "code",
   "execution_count": null,
   "metadata": {},
   "outputs": [],
   "source": [
    "df = predictions.select('*').toPandas()\n",
    "df"
   ]
  },
  {
   "cell_type": "code",
   "execution_count": null,
   "metadata": {},
   "outputs": [],
   "source": [
    "from sklearn.metrics import accuracy_score, precision_score, recall_score\n",
    "print('正確度={:.3f}, 適合度={:.3f}, 再現率={:.3f}'.format(\n",
    "    accuracy_score(df.label, df.prediction),\n",
    "    precision_score(df.label, df.prediction, average='micro'),\n",
    "    recall_score(df.label, df.prediction, average='micro')))"
   ]
  },
  {
   "cell_type": "code",
   "execution_count": null,
   "metadata": {},
   "outputs": [],
   "source": [
    "precision_score(df.label, df.prediction, average=None)"
   ]
  },
  {
   "cell_type": "code",
   "execution_count": null,
   "metadata": {},
   "outputs": [],
   "source": [
    "recall_score(df.label, df.prediction, average=None)"
   ]
  },
  {
   "cell_type": "code",
   "execution_count": null,
   "metadata": {},
   "outputs": [],
   "source": []
  }
 ],
 "metadata": {
  "kernelspec": {
   "display_name": "base",
   "language": "python",
   "name": "python3"
  },
  "language_info": {
   "codemirror_mode": {
    "name": "ipython",
    "version": 3
   },
   "file_extension": ".py",
   "mimetype": "text/x-python",
   "name": "python",
   "nbconvert_exporter": "python",
   "pygments_lexer": "ipython3",
   "version": "3.9.15 | packaged by conda-forge | (main, Nov 22 2022, 08:52:10) \n[Clang 14.0.6 ]"
  },
  "vscode": {
   "interpreter": {
    "hash": "d451e6fd3e3a90eb92742bb146e8e20c8a00180dad068226f141e79828259f8f"
   }
  }
 },
 "nbformat": 4,
 "nbformat_minor": 4
}
