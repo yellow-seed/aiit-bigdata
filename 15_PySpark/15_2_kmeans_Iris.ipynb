{
 "cells": [
  {
   "cell_type": "code",
   "execution_count": null,
   "metadata": {},
   "outputs": [],
   "source": [
    "import pandas as pd\n",
    "import seaborn as sns\n",
    "from pyspark.sql import SparkSession\n",
    "\n",
    "iris = sns.load_dataset('iris')\n",
    "df = iris.drop(['sepal_length', 'sepal_width', 'species'], axis=1)\n",
    "\n",
    "# SparkSessionインスタンスを生成\n",
    "spark = SparkSession.builder.appName(\"KMeans-Iris\").getOrCreate()\n",
    "# Spark DataFrame の作成\n",
    "sdf = spark.createDataFrame(pd.DataFrame(df))"
   ]
  },
  {
   "cell_type": "code",
   "execution_count": null,
   "metadata": {},
   "outputs": [],
   "source": [
    "from pyspark.ml import Pipeline\n",
    "from pyspark.ml.feature import VectorAssembler\n",
    "from pyspark.ml.clustering import KMeans\n",
    "\n",
    "# feature vector への変換\n",
    "vectorAssembler = VectorAssembler(inputCols=sdf.columns, outputCol='features')\n",
    "# KMeans\n",
    "clustering = KMeans().setK(3).setSeed(1)\n",
    "# Pipeline\n",
    "pipeline = Pipeline(stages=[vectorAssembler, clustering])"
   ]
  },
  {
   "cell_type": "code",
   "execution_count": null,
   "metadata": {},
   "outputs": [],
   "source": [
    "model = pipeline.fit(sdf)\n",
    "predictions = model.transform(sdf)\n",
    "predictions.show(10)"
   ]
  },
  {
   "cell_type": "code",
   "execution_count": null,
   "metadata": {},
   "outputs": [],
   "source": [
    "df = predictions.select('*').toPandas()\n",
    "df['species'] = iris.species\n",
    "df"
   ]
  },
  {
   "cell_type": "code",
   "execution_count": null,
   "metadata": {},
   "outputs": [],
   "source": [
    "sns.scatterplot(x=df.petal_length, y=df.petal_width, hue=df.prediction)"
   ]
  },
  {
   "cell_type": "code",
   "execution_count": null,
   "metadata": {},
   "outputs": [],
   "source": [
    "sns.scatterplot(x=df.petal_length, y=df.petal_width, hue=df.species)"
   ]
  },
  {
   "cell_type": "code",
   "execution_count": null,
   "metadata": {},
   "outputs": [],
   "source": []
  }
 ],
 "metadata": {
  "kernelspec": {
   "display_name": "Python 3 (ipykernel)",
   "language": "python",
   "name": "python3"
  },
  "language_info": {
   "codemirror_mode": {
    "name": "ipython",
    "version": 3
   },
   "file_extension": ".py",
   "mimetype": "text/x-python",
   "name": "python",
   "nbconvert_exporter": "python",
   "pygments_lexer": "ipython3",
   "version": "3.9.7"
  }
 },
 "nbformat": 4,
 "nbformat_minor": 4
}
