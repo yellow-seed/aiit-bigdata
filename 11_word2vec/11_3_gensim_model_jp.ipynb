{
 "cells": [
  {
   "cell_type": "markdown",
   "metadata": {},
   "source": [
    "# 学習済みの分散表現（日本語モデル）の利用 (2)\n",
    "\n",
    "spaCyの日本語モデルをgensimに取り込み、gensimのAPIで利用\n",
    "\n",
    "- 単語の類似度\n",
    "- 類似単語の検索\n",
    "- 単語の類推 (Word Analogy)\n",
    "- 仲間はずれ探し\n",
    "- 短い文の類似度\n",
    "\n",
    "### ソフトウェアのインストール\n",
    "\n",
    "gensim\n",
    "```\n",
    "conda install gensim python-levenshtein\n",
    "```\n",
    "- https://radimrehurek.com/gensim/\n",
    "- https://anaconda.org/anaconda/gensim"
   ]
  },
  {
   "cell_type": "code",
   "execution_count": 1,
   "metadata": {},
   "outputs": [],
   "source": [
    "import spacy\n",
    "from gensim.models.keyedvectors import KeyedVectors\n",
    "\n",
    "# Spacyの日本語のモデルをロード\n",
    "nlp = spacy.load('ja_core_news_lg')\n",
    "\n",
    "# Spacyのモデルをgensimに取り込む\n",
    "word_list =[]\n",
    "vector_list = []\n",
    "\n",
    "# Spacyのモデルの単語とベクトルと取得\n",
    "for key in nlp.vocab.vectors:\n",
    "    word_list.append(nlp.vocab.strings[key])\n",
    "    vector_list.append(nlp.vocab.vectors[key])\n",
    "\n",
    "# gensimへの取り込み\n",
    "model = KeyedVectors(nlp.vocab.vectors_length)\n",
    "model.add_vectors(word_list, vector_list)"
   ]
  },
  {
   "cell_type": "markdown",
   "metadata": {},
   "source": [
    "### 単語の類似度"
   ]
  },
  {
   "cell_type": "code",
   "execution_count": 2,
   "metadata": {},
   "outputs": [
    {
     "data": {
      "text/plain": [
       "0.72710896"
      ]
     },
     "execution_count": 2,
     "metadata": {},
     "output_type": "execute_result"
    }
   ],
   "source": [
    "model.similarity('猫', '犬')"
   ]
  },
  {
   "cell_type": "markdown",
   "metadata": {},
   "source": [
    "### 類似単語の検索"
   ]
  },
  {
   "cell_type": "code",
   "execution_count": 3,
   "metadata": {},
   "outputs": [
    {
     "data": {
      "text/plain": [
       "[('にゃんこ', 0.8090305328369141),\n",
       " ('子猫', 0.7787354588508606),\n",
       " ('飼い猫', 0.7328758239746094),\n",
       " ('犬', 0.7271090149879456),\n",
       " ('にゃん', 0.7149522304534912),\n",
       " ('野良猫', 0.7057712078094482),\n",
       " ('ニャン', 0.7000690698623657),\n",
       " ('愛猫', 0.6995570659637451),\n",
       " ('三毛', 0.6949921250343323),\n",
       " ('家猫', 0.6937754154205322)]"
      ]
     },
     "execution_count": 3,
     "metadata": {},
     "output_type": "execute_result"
    }
   ],
   "source": [
    "model.most_similar('猫')"
   ]
  },
  {
   "cell_type": "markdown",
   "metadata": {},
   "source": [
    "### 単語の類推 (Word Analogy)"
   ]
  },
  {
   "cell_type": "code",
   "execution_count": 4,
   "metadata": {},
   "outputs": [
    {
     "data": {
      "text/plain": [
       "[('王女', 0.5787477493286133),\n",
       " ('王様', 0.5546433329582214),\n",
       " ('王妃', 0.5514032244682312),\n",
       " ('王家', 0.5387033820152283),\n",
       " ('女王', 0.532050609588623),\n",
       " ('大王', 0.5048933625221252),\n",
       " ('国王', 0.5021144151687622),\n",
       " ('妃', 0.5001500844955444),\n",
       " ('王位', 0.4905719459056854),\n",
       " ('聖王', 0.4854174852371216)]"
      ]
     },
     "execution_count": 4,
     "metadata": {},
     "output_type": "execute_result"
    }
   ],
   "source": [
    "# 男にとっての王は、女にとっては何か？\n",
    "# king - man + woman\n",
    "model.most_similar(positive=['王', '女'], negative=['男'])"
   ]
  },
  {
   "cell_type": "code",
   "execution_count": 5,
   "metadata": {},
   "outputs": [
    {
     "data": {
      "text/plain": [
       "[('王', 0.9089677333831787),\n",
       " ('王女', 0.6004545092582703),\n",
       " ('王様', 0.5963025689125061),\n",
       " ('王妃', 0.5767136812210083),\n",
       " ('王家', 0.5543460249900818),\n",
       " ('女王', 0.5533928275108337),\n",
       " ('国王', 0.5370110273361206),\n",
       " ('大王', 0.5363385081291199),\n",
       " ('王位', 0.5277222394943237),\n",
       " ('妃', 0.5097085237503052)]"
      ]
     },
     "execution_count": 5,
     "metadata": {},
     "output_type": "execute_result"
    }
   ],
   "source": [
    "# 男にとっての王は、女にとっては何か？\n",
    "king = model['王']\n",
    "man = model['男']\n",
    "woman = model['女']\n",
    "\n",
    "# 類推したベクトル\n",
    "analogy = king - man + woman\n",
    "\n",
    "# 類推結果に類似する単語\n",
    "model.similar_by_vector(analogy)"
   ]
  },
  {
   "cell_type": "markdown",
   "metadata": {},
   "source": [
    "### 仲間はずれ探し"
   ]
  },
  {
   "cell_type": "code",
   "execution_count": 6,
   "metadata": {},
   "outputs": [
    {
     "data": {
      "text/plain": [
       "'car'"
      ]
     },
     "execution_count": 6,
     "metadata": {},
     "output_type": "execute_result"
    }
   ],
   "source": [
    "model.doesnt_match(('cat', 'dog', 'car'))"
   ]
  },
  {
   "cell_type": "markdown",
   "metadata": {},
   "source": [
    "### 短い文の類似度\n",
    "\n",
    "gensim ではテキストの類似度を計算できないが、単語の集合間の類似度は計算できる。"
   ]
  },
  {
   "cell_type": "code",
   "execution_count": 7,
   "metadata": {},
   "outputs": [
    {
     "data": {
      "text/plain": [
       "0.9043428"
      ]
     },
     "execution_count": 7,
     "metadata": {},
     "output_type": "execute_result"
    }
   ],
   "source": [
    "model.n_similarity(['犬', '可愛い'], ['猫', '可愛い'])"
   ]
  },
  {
   "cell_type": "markdown",
   "metadata": {},
   "source": [
    "# その他の学習済みモデル\n",
    "\n",
    "日本語 Wikipedia エンティティベクトル（東北大学）\n",
    "- http://www.cl.ecei.tohoku.ac.jp/~m-suzuki/jawiki_vector/\n",
    "\n",
    "Facebook\n",
    "- https://fasttext.cc/docs/en/crawl-vectors.html\n",
    "\n",
    "朝日新聞単語ベクトル\n",
    "- https://cl.asahi.com/api_data/wordembedding.html"
   ]
  },
  {
   "cell_type": "code",
   "execution_count": null,
   "metadata": {},
   "outputs": [],
   "source": []
  },
  {
   "cell_type": "code",
   "execution_count": 8,
   "metadata": {},
   "outputs": [
    {
     "data": {
      "text/plain": [
       "[('プラズマ', 0.4164362847805023),\n",
       " ('パルボウイルス', 0.3846541941165924),\n",
       " ('フレア', 0.38262057304382324),\n",
       " ('corona', 0.37614893913269043),\n",
       " ('パルサー', 0.37256649136543274),\n",
       " ('スパーク', 0.37229326367378235),\n",
       " ('インフルエンザウィルス', 0.3701728582382202),\n",
       " ('ラズマ', 0.3674834370613098),\n",
       " ('磁気圏', 0.3592141568660736),\n",
       " ('アリオン', 0.35874685645103455)]"
      ]
     },
     "execution_count": 8,
     "metadata": {},
     "output_type": "execute_result"
    }
   ],
   "source": [
    "model.most_similar('コロナ')"
   ]
  },
  {
   "cell_type": "code",
   "execution_count": 9,
   "metadata": {},
   "outputs": [
    {
     "data": {
      "text/plain": [
       "[('大統領', 0.71452796459198),\n",
       " ('米大統領', 0.7036280035972595),\n",
       " ('外相', 0.6789396405220032),\n",
       " ('長官', 0.6777855753898621),\n",
       " ('副大統領', 0.6705291271209717),\n",
       " ('バイデン', 0.6682686805725098),\n",
       " ('オバマ', 0.6670960187911987),\n",
       " ('国務', 0.6610805988311768),\n",
       " ('クリントン', 0.6603100299835205),\n",
       " ('閣僚', 0.6554257273674011)]"
      ]
     },
     "execution_count": 9,
     "metadata": {},
     "output_type": "execute_result"
    }
   ],
   "source": [
    "model.most_similar(positive=['首相', '米国'], negative=['日本'])"
   ]
  }
 ],
 "metadata": {
  "kernelspec": {
   "display_name": "base",
   "language": "python",
   "name": "python3"
  },
  "language_info": {
   "codemirror_mode": {
    "name": "ipython",
    "version": 3
   },
   "file_extension": ".py",
   "mimetype": "text/x-python",
   "name": "python",
   "nbconvert_exporter": "python",
   "pygments_lexer": "ipython3",
   "version": "3.9.13 (main, Aug 25 2022, 18:24:45) \n[Clang 12.0.0 ]"
  },
  "vscode": {
   "interpreter": {
    "hash": "d451e6fd3e3a90eb92742bb146e8e20c8a00180dad068226f141e79828259f8f"
   }
  }
 },
 "nbformat": 4,
 "nbformat_minor": 4
}
