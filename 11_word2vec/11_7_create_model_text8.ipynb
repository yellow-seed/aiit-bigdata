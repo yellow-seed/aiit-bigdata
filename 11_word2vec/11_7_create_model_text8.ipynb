{
 "cells": [
  {
   "cell_type": "markdown",
   "metadata": {},
   "source": [
    "# 分散表現の作成 (2)\n",
    "\n",
    "- gensimを用いた分散表現の作成\n",
    "\n",
    "<a href=\"https://github.com/Hironsan/ja.text8\">ja.text8</a> のダウンロード（必要ならば解凍）<br>\n",
    "https://s3-ap-northeast-1.amazonaws.com/dev.tech-sketch.jp/chakki/public/ja.text8.zip\n",
    "- 日本語Wikipediaから作成された100MBのテキスト"
   ]
  },
  {
   "cell_type": "code",
   "execution_count": null,
   "metadata": {},
   "outputs": [],
   "source": [
    "import logging\n",
    "from gensim.models import word2vec\n",
    "\n",
    "# 途中経過の出力設定\n",
    "logging.basicConfig(format='%(asctime)s : %(levelname)s : %(message)s', level=logging.INFO)\n",
    "\n",
    "# ja.text8 の読み込み\n",
    "sentences = word2vec.Text8Corpus('data/ja.text8')\n",
    "\n",
    "# vector_size: 次元数 を指定してモデルを作成\n",
    "# sg: 1 を指定すると skip-gram モデルを作成\n",
    "model = word2vec.Word2Vec(sentences, vector_size=200)"
   ]
  },
  {
   "cell_type": "markdown",
   "metadata": {},
   "source": [
    "### 類似単語の検索"
   ]
  },
  {
   "cell_type": "code",
   "execution_count": null,
   "metadata": {},
   "outputs": [],
   "source": [
    "model.wv.most_similar('猫')"
   ]
  },
  {
   "cell_type": "markdown",
   "metadata": {},
   "source": [
    "### 単語の類推 (Word Analogy)"
   ]
  },
  {
   "cell_type": "code",
   "execution_count": null,
   "metadata": {},
   "outputs": [],
   "source": [
    "# 男にとっての王は、女にとっては何か？\n",
    "# king - man + woman\n",
    "model.wv.most_similar(positive=['王', '女'], negative=['男'])"
   ]
  },
  {
   "cell_type": "code",
   "execution_count": null,
   "metadata": {},
   "outputs": [],
   "source": [
    "# 日本にとっての首相は、アメリカ（米国）にとっては何か？\n",
    "# 首相 - 日本 + 米国\n",
    "model.wv.most_similar(positive=['首相', '米国'], negative=['日本'])"
   ]
  }
 ],
 "metadata": {
  "kernelspec": {
   "display_name": "base",
   "language": "python",
   "name": "python3"
  },
  "language_info": {
   "codemirror_mode": {
    "name": "ipython",
    "version": 3
   },
   "file_extension": ".py",
   "mimetype": "text/x-python",
   "name": "python",
   "nbconvert_exporter": "python",
   "pygments_lexer": "ipython3",
   "version": "3.9.13 (main, Aug 25 2022, 18:24:45) \n[Clang 12.0.0 ]"
  },
  "vscode": {
   "interpreter": {
    "hash": "d451e6fd3e3a90eb92742bb146e8e20c8a00180dad068226f141e79828259f8f"
   }
  }
 },
 "nbformat": 4,
 "nbformat_minor": 4
}
