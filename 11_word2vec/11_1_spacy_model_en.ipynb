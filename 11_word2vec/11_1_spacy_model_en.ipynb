{
 "cells": [
  {
   "cell_type": "markdown",
   "metadata": {},
   "source": [
    "# 学習済みの分散表現（英語モデル）の利用\n",
    "\n",
    "大量の文書から分散表現 (word2vec) を作成するのは計算量が非常に多いため、一般的に作成済みの word2vec を用いられることが多い。\n",
    "\n",
    "- 単語の類似度\n",
    "- 類似単語の検索\n",
    "- 単語の類推 (Word Analogy)\n",
    "- 類似度の可視化\n",
    "- 短い文の類似度\n",
    "\n",
    "<a href='https://colab.research.google.com/drive/1X3XmmomQZrR-rPGbo_w6yydDbui86tzK'>Word2Vec Application Tutorial</a> をもとに作成\n",
    "\n",
    "### ソフトウェアのインストール\n",
    "\n",
    "3_text_en/3_2_vectorize_spacy.ipynb で英語モデルをダウンロードしていなければ、以下を実行：\n",
    "```\n",
    "python -m spacy download en_core_web_lg\n",
    "```\n",
    "\n",
    "以下のセルでエラーが出たら、ノートブックをリスタート"
   ]
  },
  {
   "cell_type": "code",
   "execution_count": 3,
   "metadata": {},
   "outputs": [],
   "source": [
    "import spacy\n",
    "import numpy as np\n",
    "import seaborn as sns\n",
    "\n",
    "# 別の英語モデルのダウンロード方法\n",
    "# python -m spacy download en_core_web_lg がうまくいかない場合はコメントアウト\n",
    "# spacy.cli.download(\"en_core_web_lg\")\n",
    "\n",
    "# 英語のモデルをロード\n",
    "nlp = spacy.load('en_core_web_lg')"
   ]
  },
  {
   "cell_type": "code",
   "execution_count": 4,
   "metadata": {},
   "outputs": [
    {
     "name": "stdout",
     "output_type": "stream",
     "text": [
      "dimension: 300\n",
      "[-0.15067   -0.024468  -0.23368   -0.23378   -0.18382    0.32711\n",
      " -0.22084   -0.28777    0.12759    1.1656    -0.64163   -0.098455\n",
      " -0.62397    0.010431  -0.25653    0.31799    0.037779   1.1904\n",
      " -0.17714   -0.2595    -0.31461    0.038825  -0.15713   -0.13484\n",
      "  0.36936   -0.30562   -0.40619   -0.38965    0.3686     0.013963\n",
      " -0.6895     0.004066  -0.1367     0.32564    0.24688   -0.14011\n",
      "  0.53889   -0.80441   -0.1777    -0.12922    0.16303    0.14917\n",
      " -0.068429  -0.33922    0.18495   -0.082544  -0.46892    0.39581\n",
      " -0.13742   -0.35132    0.22223   -0.144     -0.048287   0.3379\n",
      " -0.31916    0.20526    0.098624  -0.23877    0.045338   0.43941\n",
      "  0.030385  -0.013821  -0.093273  -0.18178    0.19438   -0.3782\n",
      "  0.70144    0.16236    0.0059111  0.024898  -0.13613   -0.11425\n",
      " -0.31598   -0.14209    0.028194   0.5419    -0.42413   -0.599\n",
      "  0.24976   -0.27003    0.14964    0.29287   -0.31281    0.16543\n",
      " -0.21045   -0.4408     1.2174     0.51236    0.56209    0.14131\n",
      "  0.092514   0.71396   -0.021051  -0.33704   -0.20275   -0.36181\n",
      "  0.22055   -0.25665    0.28425   -0.16968    0.058029   0.61182\n",
      "  0.31576   -0.079185   0.35538   -0.51236    0.4235    -0.30033\n",
      " -0.22376    0.15223   -0.048292   0.23532    0.46507   -0.67579\n",
      " -0.32905    0.08446   -0.22123   -0.045333   0.34463   -0.1455\n",
      " -0.18047   -0.17887    0.96879   -1.0028    -0.47343    0.28542\n",
      "  0.56382   -0.33211   -0.38275   -0.2749    -0.22955   -0.24265\n",
      " -0.37689    0.24822    0.36941    0.14651   -0.37864    0.31134\n",
      " -0.28449    0.36948   -2.8174    -0.38319   -0.022373   0.56376\n",
      "  0.40131   -0.42131   -0.11311   -0.17317    0.1411    -0.13194\n",
      "  0.18494    0.097692  -0.097341  -0.23987    0.16631   -0.28556\n",
      "  0.0038654  0.53292   -0.32367   -0.38744    0.27011   -0.34181\n",
      " -0.27702   -0.67279   -0.10771   -0.062189  -0.24783   -0.070884\n",
      " -0.20898    0.062404   0.022372   0.13408    0.1305    -0.19546\n",
      " -0.46849    0.77731   -0.043978   0.3827    -0.23376    1.0457\n",
      " -0.14371   -0.3565    -0.080713  -0.31047   -0.57822   -0.28067\n",
      " -0.069678   0.068929  -0.16227   -0.63934   -0.62149    0.11222\n",
      " -0.16969   -0.54637    0.49661    0.46565    0.088294  -0.48496\n",
      "  0.69263   -0.068977  -0.53709    0.20802   -0.42987   -0.11921\n",
      "  0.1174    -0.18443    0.43797   -0.1236     0.3607    -0.19608\n",
      " -0.35366    0.18808   -0.5061     0.14455   -0.024368  -0.10772\n",
      " -0.0115     0.58634   -0.054461   0.0076487 -0.056297   0.27193\n",
      "  0.23096   -0.29296   -0.24325    0.10317   -0.10014    0.7089\n",
      "  0.17402   -0.0037509 -0.46304    0.11806   -0.16457   -0.38609\n",
      "  0.14524    0.098122  -0.12352   -0.1047     0.39047   -0.3063\n",
      " -0.65375   -0.0044248 -0.033876   0.037114  -0.27472    0.0053147\n",
      "  0.30737    0.12528   -0.19527   -0.16461    0.087518  -0.051107\n",
      " -0.16323    0.521      0.10822   -0.060379  -0.71735   -0.064327\n",
      "  0.37043   -0.41054   -0.2728    -0.30217    0.015771  -0.43056\n",
      "  0.35647    0.17188   -0.54598   -0.21541   -0.044889  -0.10597\n",
      " -0.54391    0.53908    0.070938   0.097839   0.097908   0.17805\n",
      "  0.18995    0.49962   -0.18529    0.051234   0.019574   0.24805\n",
      "  0.3144    -0.29304    0.54235    0.46672    0.26017   -0.44705\n",
      "  0.28287   -0.033345  -0.33181   -0.10902   -0.023324   0.2106\n",
      " -0.29633    0.81506    0.038524   0.46004    0.17187   -0.29804  ]\n"
     ]
    }
   ],
   "source": [
    "# cat の分散表現\n",
    "cat = nlp.vocab['cat']\n",
    "print('dimension:', len(cat.vector))\n",
    "print(cat.vector)"
   ]
  },
  {
   "cell_type": "markdown",
   "metadata": {},
   "source": [
    "### 単語の類似度\n",
    "\n",
    "- spaCyに組み込みの関数"
   ]
  },
  {
   "cell_type": "code",
   "execution_count": 5,
   "metadata": {},
   "outputs": [
    {
     "data": {
      "text/plain": [
       "0.8016854524612427"
      ]
     },
     "execution_count": 5,
     "metadata": {},
     "output_type": "execute_result"
    }
   ],
   "source": [
    "# cat と dog の類似度\n",
    "dog = nlp.vocab['dog']\n",
    "cat.similarity(dog)"
   ]
  },
  {
   "cell_type": "code",
   "execution_count": 6,
   "metadata": {},
   "outputs": [
    {
     "data": {
      "text/plain": [
       "0.34036731719970703"
      ]
     },
     "execution_count": 6,
     "metadata": {},
     "output_type": "execute_result"
    }
   ],
   "source": [
    "# cat と human\n",
    "cat.similarity(nlp.vocab['human'])"
   ]
  },
  {
   "cell_type": "code",
   "execution_count": 7,
   "metadata": {},
   "outputs": [
    {
     "data": {
      "text/plain": [
       "0.05801314860582352"
      ]
     },
     "execution_count": 7,
     "metadata": {},
     "output_type": "execute_result"
    }
   ],
   "source": [
    "# cat と mathematics\n",
    "cat.similarity(nlp.vocab['mathematics'])"
   ]
  },
  {
   "cell_type": "markdown",
   "metadata": {},
   "source": [
    "### 類似度の計算内容の確認\n",
    "\n",
    "- コサイン類似度（= 1 - コサイン距離）の関数を定義して比較"
   ]
  },
  {
   "cell_type": "code",
   "execution_count": 8,
   "metadata": {},
   "outputs": [],
   "source": [
    "from scipy.spatial.distance import cosine\n",
    "\n",
    "def similarity_cosine(w1, w2):\n",
    "    return 1 - cosine(w1, w2)"
   ]
  },
  {
   "cell_type": "code",
   "execution_count": 9,
   "metadata": {},
   "outputs": [
    {
     "data": {
      "text/plain": [
       "0.8016855120658875"
      ]
     },
     "execution_count": 9,
     "metadata": {},
     "output_type": "execute_result"
    }
   ],
   "source": [
    "# コサイン類似度の関数を用いて計算\n",
    "similarity_cosine(cat.vector, dog.vector)"
   ]
  },
  {
   "cell_type": "markdown",
   "metadata": {},
   "source": [
    "### 類似単語の検索\n",
    "\n",
    "allwords\n",
    "- ベクトルに含まれている全ての単語（小文字のみ）\n",
    "\n",
    "similar_words()\n",
    "- allwords から類似度が大きい単語の上位をソートして取り出す関数を定義\n",
    "- 計算量は多い\n",
    "  - ベクトルに含まれている全ての単語との類似度を計算\n",
    "  - 全ての単語の類似度をソート"
   ]
  },
  {
   "cell_type": "code",
   "execution_count": 10,
   "metadata": {},
   "outputs": [],
   "source": [
    "# ベクトルに含まれている単語\n",
    "allwords = [nlp.vocab[key] for key in nlp.vocab.vectors if nlp.vocab[key].is_lower]\n",
    "\n",
    "# 類似単語の検索\n",
    "def similar_words(word, n=10):\n",
    "    word_lexeme = nlp.vocab[word]\n",
    "    candidates = sorted(allwords, key=lambda w: word_lexeme.similarity(w), reverse=True)\n",
    "    return [w.text for w in candidates[:n] if w != word_lexeme.lower_]"
   ]
  },
  {
   "cell_type": "code",
   "execution_count": 11,
   "metadata": {},
   "outputs": [
    {
     "data": {
      "text/plain": [
       "['cats', 'kitten', 'dog', 'kitty', 'pet', 'puppy', 'kittens', 'feline', 'dogs']"
      ]
     },
     "execution_count": 11,
     "metadata": {},
     "output_type": "execute_result"
    }
   ],
   "source": [
    "similar_words('cat')"
   ]
  },
  {
   "cell_type": "code",
   "execution_count": 12,
   "metadata": {},
   "outputs": [
    {
     "data": {
      "text/plain": [
       "['cars',\n",
       " 'vehicle',\n",
       " 'automobile',\n",
       " 'truck',\n",
       " 'auto',\n",
       " 'driving',\n",
       " 'vehicles',\n",
       " 'dealership',\n",
       " 'rental']"
      ]
     },
     "execution_count": 12,
     "metadata": {},
     "output_type": "execute_result"
    }
   ],
   "source": [
    "similar_words('car')"
   ]
  },
  {
   "cell_type": "markdown",
   "metadata": {},
   "source": [
    "### 単語の類推 (Word Analogy)\n",
    "\n",
    "similar_words_by_vec()\n",
    "- 単語のベクトルを計算して得られた値とコサイン類似度が大きい（コサイン距離が近い）単語の上位をソートして取り出す関数を定義"
   ]
  },
  {
   "cell_type": "code",
   "execution_count": 13,
   "metadata": {},
   "outputs": [],
   "source": [
    "# ベクトルから類似単語の検索\n",
    "def similar_words_by_vec(vector, exclude_list=[], n=15):\n",
    "    candidates = sorted(allwords, key=lambda w: similarity_cosine(vector, w.vector),\n",
    "                        reverse=True)\n",
    "    return [w.text for w in candidates[:n] if w not in exclude_list]"
   ]
  },
  {
   "cell_type": "markdown",
   "metadata": {},
   "source": [
    "単語のベクトルを加減することによる類推"
   ]
  },
  {
   "cell_type": "code",
   "execution_count": 14,
   "metadata": {},
   "outputs": [
    {
     "data": {
      "text/plain": [
       "0.7880843877792358"
      ]
     },
     "execution_count": 14,
     "metadata": {},
     "output_type": "execute_result"
    }
   ],
   "source": [
    "# man にとっての king は、woman にとっては何か？\n",
    "king = nlp.vocab['king']\n",
    "man = nlp.vocab['man']\n",
    "woman = nlp.vocab['woman']\n",
    "\n",
    "# 類推したベクトル\n",
    "analogy = king.vector - man.vector + woman.vector\n",
    "\n",
    "# 上記の類推結果と queen との類似度\n",
    "queen = nlp.vocab['queen']\n",
    "similarity_cosine(analogy, queen.vector)"
   ]
  },
  {
   "cell_type": "code",
   "execution_count": 15,
   "metadata": {},
   "outputs": [
    {
     "data": {
      "text/plain": [
       "['queen',\n",
       " 'prince',\n",
       " 'princess',\n",
       " 'royal',\n",
       " 'throne',\n",
       " 'queens',\n",
       " 'monarch',\n",
       " 'kingdom',\n",
       " 'empress',\n",
       " 'lady',\n",
       " 'princes',\n",
       " 'mother']"
      ]
     },
     "execution_count": 15,
     "metadata": {},
     "output_type": "execute_result"
    }
   ],
   "source": [
    "# 類推結果に類似する単語\n",
    "similar_words_by_vec(analogy, ['king', 'kings', 'man', 'woman'])"
   ]
  },
  {
   "cell_type": "code",
   "execution_count": 16,
   "metadata": {},
   "outputs": [
    {
     "data": {
      "text/plain": [
       "['swimmers',\n",
       " 'running',\n",
       " 'swims',\n",
       " 'swimming',\n",
       " 'swam',\n",
       " 'swimmer',\n",
       " 'ran',\n",
       " 'triathlon',\n",
       " 'diving',\n",
       " 'dive',\n",
       " 'varsity',\n",
       " 'volleyball',\n",
       " 'swimsuit']"
      ]
     },
     "execution_count": 16,
     "metadata": {},
     "output_type": "execute_result"
    }
   ],
   "source": [
    "# walk にとっての run は、swim にとっては何か？\n",
    "w1 = nlp.vocab['run']\n",
    "w2 = nlp.vocab['walk']\n",
    "w3 = nlp.vocab['swim']\n",
    "\n",
    "# 類推したベクトル\n",
    "analogy = w1.vector - w2.vector + w3.vector\n",
    "\n",
    "# 類推結果に類似する単語\n",
    "similar_words_by_vec(analogy, ['run', 'walk', 'swim'])"
   ]
  },
  {
   "cell_type": "markdown",
   "metadata": {},
   "source": [
    "### 類似度の可視化\n",
    "\n",
    "spacy のベクトルは300次元のため、可視化には次元圧縮する必要がある。平面上にプロットできるように2次元に圧縮する。"
   ]
  },
  {
   "cell_type": "code",
   "execution_count": 17,
   "metadata": {},
   "outputs": [
    {
     "data": {
      "image/png": "[encoded data removed]",
      "text/plain": [
       "<Figure size 640x480 with 1 Axes>"
      ]
     },
     "metadata": {},
     "output_type": "display_data"
    }
   ],
   "source": [
    "from sklearn.decomposition import PCA\n",
    "\n",
    "def plot2d(labels):\n",
    "    # ラベルのベクトル化\n",
    "    data = np.array(list(map(lambda x: nlp.vocab[x].vector, labels)))\n",
    "\n",
    "    # 2次元に圧縮\n",
    "    pca = PCA(n_components=2)\n",
    "    data_2d = pca.fit_transform(data)\n",
    "\n",
    "    # 散布図\n",
    "    ax = sns.scatterplot(x=data_2d[:, 0], y=data_2d[:, 1])\n",
    "    # 各点にラベルを付ける\n",
    "    for i in range(len(data_2d)):\n",
    "        crd = data_2d[i]\n",
    "        ax.text(crd[0] + 0.2, crd[1], labels[i])\n",
    "\n",
    "plot2d(['king', 'man', 'queen', 'woman'])"
   ]
  },
  {
   "cell_type": "code",
   "execution_count": 18,
   "metadata": {},
   "outputs": [
    {
     "data": {
      "image/png": "[encoded data removed]",
      "text/plain": [
       "<Figure size 640x480 with 1 Axes>"
      ]
     },
     "metadata": {},
     "output_type": "display_data"
    }
   ],
   "source": [
    "plot2d(['king', 'man', 'queen', 'woman', 'cat', 'dog'])"
   ]
  },
  {
   "cell_type": "markdown",
   "metadata": {},
   "source": [
    "### 短い文の類似度\n",
    "\n",
    "- 文の各単語ベクトルの平均値の類似度。\n",
    "- 長文になると値が平均化して、類似度が高くなりやすい。"
   ]
  },
  {
   "cell_type": "code",
   "execution_count": 19,
   "metadata": {},
   "outputs": [
    {
     "data": {
      "text/plain": [
       "0.9056070520420546"
      ]
     },
     "execution_count": 19,
     "metadata": {},
     "output_type": "execute_result"
    }
   ],
   "source": [
    "s1 = nlp('King is a man.')\n",
    "s2 = nlp('Queen is a woman.')\n",
    "s1.similarity(s2)"
   ]
  },
  {
   "cell_type": "code",
   "execution_count": 20,
   "metadata": {},
   "outputs": [
    {
     "data": {
      "text/plain": [
       "0.7574695817284507"
      ]
     },
     "execution_count": 20,
     "metadata": {},
     "output_type": "execute_result"
    }
   ],
   "source": [
    "s3 = nlp('A black cat crosses your path.')\n",
    "s1.similarity(s3)"
   ]
  },
  {
   "cell_type": "code",
   "execution_count": null,
   "metadata": {},
   "outputs": [],
   "source": []
  }
 ],
 "metadata": {
  "kernelspec": {
   "display_name": "base",
   "language": "python",
   "name": "python3"
  },
  "language_info": {
   "codemirror_mode": {
    "name": "ipython",
    "version": 3
   },
   "file_extension": ".py",
   "mimetype": "text/x-python",
   "name": "python",
   "nbconvert_exporter": "python",
   "pygments_lexer": "ipython3",
   "version": "3.9.13 (main, Aug 25 2022, 18:24:45) \n[Clang 12.0.0 ]"
  },
  "vscode": {
   "interpreter": {
    "hash": "d451e6fd3e3a90eb92742bb146e8e20c8a00180dad068226f141e79828259f8f"
   }
  }
 },
 "nbformat": 4,
 "nbformat_minor": 4
}
