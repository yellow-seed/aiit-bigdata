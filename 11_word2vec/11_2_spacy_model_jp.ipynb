{
 "cells": [
  {
   "cell_type": "markdown",
   "metadata": {},
   "source": [
    "# 学習済みの分散表現（日本語モデル）の利用\n",
    "\n",
    "- 単語の類似度\n",
    "- 類似単語の検索\n",
    "- 単語の類推 (Word Analogy)\n",
    "- 短い文の類似度\n",
    "\n",
    "<a href='https://colab.research.google.com/drive/1X3XmmomQZrR-rPGbo_w6yydDbui86tzK'>Word2Vec Application Tutorial</a> をもとに作成\n",
    "\n",
    "### ソフトウェアのインストール\n",
    "\n",
    "spaCy, 日本語モデル (ja_core_news_lg) は 6_1_preprocess_jp.ipynb でインストール済み"
   ]
  },
  {
   "cell_type": "code",
   "execution_count": 1,
   "metadata": {},
   "outputs": [],
   "source": [
    "import spacy\n",
    "import numpy as np\n",
    "import seaborn as sns\n",
    "\n",
    "# 日本語のモデルをロード\n",
    "nlp = spacy.load('ja_core_news_lg')"
   ]
  },
  {
   "cell_type": "markdown",
   "metadata": {},
   "source": [
    "### 単語の類似度"
   ]
  },
  {
   "cell_type": "code",
   "execution_count": 2,
   "metadata": {},
   "outputs": [
    {
     "data": {
      "text/plain": [
       "0.7271089553833008"
      ]
     },
     "execution_count": 2,
     "metadata": {},
     "output_type": "execute_result"
    }
   ],
   "source": [
    "# 猫と犬の類似度\n",
    "cat = nlp.vocab['猫']\n",
    "dog = nlp.vocab['犬']\n",
    "cat.similarity(dog)"
   ]
  },
  {
   "cell_type": "code",
   "execution_count": 3,
   "metadata": {},
   "outputs": [
    {
     "data": {
      "text/plain": [
       "0.327217161655426"
      ]
     },
     "execution_count": 3,
     "metadata": {},
     "output_type": "execute_result"
    }
   ],
   "source": [
    "# 猫と人\n",
    "cat.similarity(nlp.vocab['人'])"
   ]
  },
  {
   "cell_type": "markdown",
   "metadata": {},
   "source": [
    "### 類似単語の検索"
   ]
  },
  {
   "cell_type": "code",
   "execution_count": 4,
   "metadata": {},
   "outputs": [],
   "source": [
    "# 検索対象とする単語\n",
    "def words_to_include(key, exclude_list=[]):\n",
    "    return nlp.vocab.strings[key] not in exclude_list\n",
    "\n",
    "# ベクトルに含まれている単語\n",
    "allwords = [nlp.vocab[key] for key in nlp.vocab.vectors]\n",
    "\n",
    "# 類似単語の検索\n",
    "def similar_words(word, n=10):\n",
    "    word_lexeme = nlp.vocab[word]\n",
    "    candidates = sorted(allwords, key=lambda w: word_lexeme.similarity(w), reverse=True)\n",
    "    return [w.text for w in candidates[:n]]"
   ]
  },
  {
   "cell_type": "code",
   "execution_count": null,
   "metadata": {},
   "outputs": [],
   "source": [
    "similar_words('猫')"
   ]
  },
  {
   "cell_type": "markdown",
   "metadata": {},
   "source": [
    "### 単語の類推 (Word Analogy)"
   ]
  },
  {
   "cell_type": "code",
   "execution_count": null,
   "metadata": {},
   "outputs": [],
   "source": [
    "# コサイン類似度（= 1 - コサイン距離）\n",
    "from scipy.spatial.distance import cosine\n",
    "def similarity_cosine(w1, w2):\n",
    "    return 1 - cosine(w1, w2)\n",
    "\n",
    "# ベクトルから類似単語の検索\n",
    "def similar_words_by_vec(vector, exclude_list=[], n=15):\n",
    "    candidates = sorted(allwords, key=lambda w: similarity_cosine(vector, w.vector),\n",
    "                        reverse=True)\n",
    "    return [w.text for w in candidates[:n] if w not in exclude_list]"
   ]
  },
  {
   "cell_type": "code",
   "execution_count": null,
   "metadata": {},
   "outputs": [],
   "source": [
    "# 男にとっての王は、女にとっては何か？\n",
    "king = nlp.vocab['王']\n",
    "man = nlp.vocab['男']\n",
    "woman = nlp.vocab['女']\n",
    "\n",
    "# 類推したベクトル\n",
    "analogy = king.vector - man.vector + woman.vector\n",
    "\n",
    "# 上記の類推結果と queen との類似度\n",
    "queen = nlp.vocab['女王']\n",
    "similarity_cosine(analogy, queen.vector)"
   ]
  },
  {
   "cell_type": "code",
   "execution_count": null,
   "metadata": {},
   "outputs": [],
   "source": [
    "# 類推結果に類似する単語\n",
    "similar_words_by_vec(analogy, ['王', '王様', '男', '女'])"
   ]
  },
  {
   "cell_type": "markdown",
   "metadata": {},
   "source": [
    "### 短い文の類似度\n",
    "\n",
    "- 文の各単語ベクトルの平均値の類似度。\n",
    "- 長文になると値が平均化して、類似度が高くなりやすい。"
   ]
  },
  {
   "cell_type": "code",
   "execution_count": null,
   "metadata": {},
   "outputs": [],
   "source": [
    "s1 = nlp('猫は可愛い。')\n",
    "s2 = nlp('犬も可愛い。')\n",
    "s1.similarity(s2)"
   ]
  },
  {
   "cell_type": "code",
   "execution_count": null,
   "metadata": {},
   "outputs": [],
   "source": []
  }
 ],
 "metadata": {
  "kernelspec": {
   "display_name": "base",
   "language": "python",
   "name": "python3"
  },
  "language_info": {
   "codemirror_mode": {
    "name": "ipython",
    "version": 3
   },
   "file_extension": ".py",
   "mimetype": "text/x-python",
   "name": "python",
   "nbconvert_exporter": "python",
   "pygments_lexer": "ipython3",
   "version": "3.9.13 (main, Aug 25 2022, 18:24:45) \n[Clang 12.0.0 ]"
  },
  "vscode": {
   "interpreter": {
    "hash": "d451e6fd3e3a90eb92742bb146e8e20c8a00180dad068226f141e79828259f8f"
   }
  }
 },
 "nbformat": 4,
 "nbformat_minor": 4
}
