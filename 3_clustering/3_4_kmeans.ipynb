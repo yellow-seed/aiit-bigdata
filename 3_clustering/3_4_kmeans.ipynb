{
 "cells": [
  {
   "cell_type": "markdown",
   "metadata": {},
   "source": [
    "# 非階層的クラスタリング\n",
    "\n",
    "クラスタ数は推定結果に合わせて調整してください。"
   ]
  },
  {
   "cell_type": "code",
   "execution_count": null,
   "metadata": {},
   "outputs": [],
   "source": [
    "import numpy as np\n",
    "import pandas as pd\n",
    "import re\n",
    "import nltk\n",
    "from nltk.corpus import wordnet\n",
    "from sklearn.feature_extraction.text import TfidfVectorizer\n",
    "import seaborn as sns\n",
    "import matplotlib.pyplot as plt\n",
    "from sklearn.cluster import KMeans\n",
    "\n",
    "# フィードデータの読み込み\n",
    "feeds = pd.read_csv('data/output_en.csv')\n",
    "\n",
    "# title と summary を結合して text 列を作成\n",
    "feeds['text'] = feeds['title'].str.cat(feeds['summary'], sep='. ', na_rep='')\n",
    "\n",
    "# 不要になった列を削除した処理用の DataFrame\n",
    "df = feeds.drop(['title', 'summary'], axis=1)\n",
    "\n",
    "# 確認\n",
    "df"
   ]
  },
  {
   "cell_type": "markdown",
   "metadata": {},
   "source": [
    "### 英語テキストに対する前処理\n",
    "\n",
    "以下をまとめて行う関数 preprocess() を定義\n",
    "- トークン化（単語に分割）\n",
    "- 小文字化\n",
    "- ストップワードの除去\n",
    "- ステミング\n",
    "- 見出し語化"
   ]
  },
  {
   "cell_type": "code",
   "execution_count": null,
   "metadata": {},
   "outputs": [],
   "source": [
    "symbols_to_remove = r'[\"`,.' + r\"'\" + r']'\n",
    "stop_words = nltk.corpus.stopwords.words('english')\n",
    "stop_words += [\"'\", '\"', ':', ';', '.', ',', '-', '!', '?', \"'s\", '`', '•', '%']\n",
    "stop_words += ['–', '—', '‘', '’', '“', '”', '…', '|', '#', '$', '&', \"''\", '(', ')']\n",
    "stemmer = nltk.stem.porter.PorterStemmer()\n",
    "lemmatizer = nltk.stem.wordnet.WordNetLemmatizer()\n",
    "\n",
    "# 品詞の名称を変換\n",
    "def wordnet_tag(tag):\n",
    "    if tag.startswith('J'):\n",
    "        return wordnet.ADJ\n",
    "    elif tag.startswith('V'):\n",
    "        return wordnet.VERB\n",
    "    elif tag.startswith('N'):\n",
    "        return wordnet.NOUN\n",
    "    elif tag.startswith('R'):\n",
    "        return wordnet.ADV\n",
    "    return None\n",
    "\n",
    "def preprocess(text):\n",
    "    tokens = []\n",
    "    # 品詞のタグ付けをした各トークンについて\n",
    "    for t in nltk.pos_tag(nltk.tokenize.word_tokenize(text.replace('-', ' '))):\n",
    "        # 小文字化\n",
    "        t0 = t[0].lower()\n",
    "        # 不要な文字の削除\n",
    "        t0 = re.sub(symbols_to_remove, '', t0)\n",
    "        # 空文字列になったら次へ\n",
    "        if t0 == '':\n",
    "            continue\n",
    "        # stop_words に含まれていないトークンのみを残す\n",
    "        if t0 in stop_words:\n",
    "            continue\n",
    "        # カンマ区切りが入った数値からカンマを削除\n",
    "        if t[1] == 'CD':\n",
    "            t0 = t0.replace(',', '')\n",
    "        # 見出し語化\n",
    "        tag = wordnet_tag(t[1])\n",
    "        if tag is None:\n",
    "            t0 = lemmatizer.lemmatize(t0)\n",
    "        else:\n",
    "            t0 = lemmatizer.lemmatize(t0, tag)\n",
    "        # ステミング\n",
    "        t0 = stemmer.stem(t0)\n",
    "        # リストに追加\n",
    "        tokens.append(t0)\n",
    "    # トークンのリストを返す\n",
    "    return tokens"
   ]
  },
  {
   "cell_type": "markdown",
   "metadata": {},
   "source": [
    "### テキストのベクトル化\n",
    "\n",
    "- TF-IDF"
   ]
  },
  {
   "cell_type": "code",
   "execution_count": null,
   "metadata": {},
   "outputs": [],
   "source": [
    "# TfidfVectorizer によりベクトル化\n",
    "vectorizer = TfidfVectorizer(tokenizer=preprocess)\n",
    "vector = vectorizer.fit_transform(df.text)"
   ]
  },
  {
   "cell_type": "markdown",
   "metadata": {},
   "source": [
    "### クラスタ数の推定\n",
    "\n",
    "- 非階層的クラスタ分析ではクラスタ数を決めてデータをグループに分割\n",
    " - エルボー法\n",
    " - シルエット分析"
   ]
  },
  {
   "cell_type": "code",
   "execution_count": null,
   "metadata": {},
   "outputs": [],
   "source": [
    "# エルボー法\n",
    "# https://github.com/rasbt/python-machine-learning-book-2nd-edition/blob/master/code/ch11/ch11.py\n",
    "x_range = range(1, 25)\n",
    "distortions = []\n",
    "for n in x_range:\n",
    "    model = KMeans(n_clusters=n, random_state=0)\n",
    "    model.fit(vector)\n",
    "    distortions.append(model.inertia_)\n",
    "\n",
    "sns.lineplot(x=x_range, y=distortions, marker='o')\n",
    "plt.xlabel('Number of Clusters')\n",
    "plt.show()"
   ]
  },
  {
   "cell_type": "code",
   "execution_count": null,
   "metadata": {},
   "outputs": [],
   "source": [
    "# シルエット分析\n",
    "# https://github.com/rasbt/python-machine-learning-book-2nd-edition/blob/master/code/ch11/ch11.py\n",
    "from sklearn.metrics import silhouette_samples\n",
    "from matplotlib import cm\n",
    "\n",
    "def silhouette(X, n, plot=True):\n",
    "    model = KMeans(n_clusters=n, random_state=0)\n",
    "    model.fit(X)\n",
    "    cluster_labels = set(model.labels_)\n",
    "    n_clusters = len(cluster_labels)\n",
    "    silhouette_vals = silhouette_samples(X, model.labels_, metric='euclidean')\n",
    "    if plot:\n",
    "        y_lower, y_upper = 0, 0\n",
    "        yticks = []\n",
    "        for i, c in enumerate(cluster_labels):\n",
    "            c_silhouette_vals = silhouette_vals[model.labels_ == c]\n",
    "            c_silhouette_vals.sort()\n",
    "            y_upper += len(c_silhouette_vals)\n",
    "            color = cm.jet(float(i) / n_clusters)\n",
    "            plt.barh(range(y_lower, y_upper), c_silhouette_vals, height=1.0,\n",
    "                     edgecolor='none', color=color)\n",
    "            yticks.append((y_lower + y_upper) / 2.)\n",
    "            y_lower += len(c_silhouette_vals)\n",
    "\n",
    "    silhouette_avg = np.mean(silhouette_vals)\n",
    "    if plot:\n",
    "        plt.axvline(silhouette_avg, color=\"red\", linestyle=\"--\")\n",
    "        plt.show()\n",
    "    print('{} Clusters: Average silhouette coefficient: {:.3f}'.format(n, silhouette_avg))\n",
    "\n",
    "for n in range(20, 25):\n",
    "    silhouette(vector, n, plot=False)"
   ]
  },
  {
   "cell_type": "markdown",
   "metadata": {},
   "source": [
    "### 非階層的クラスタリング"
   ]
  },
  {
   "cell_type": "code",
   "execution_count": null,
   "metadata": {},
   "outputs": [],
   "source": [
    "# KMeans の初期化\n",
    "# - n_clusters=22: クラスタ数は 22\n",
    "clusters = KMeans(n_clusters=22).fit_predict(vector)\n",
    "\n",
    "# 結果を DataFrame にまとめる\n",
    "df_cluster = pd.DataFrame(clusters, columns=['cluster'])\n",
    "df_cluster['text'] = df.text\n",
    "\n",
    "# 確認\n",
    "df_cluster"
   ]
  },
  {
   "cell_type": "code",
   "execution_count": null,
   "metadata": {},
   "outputs": [],
   "source": [
    "# クラスタ 0 のテキスト\n",
    "df_cluster.query('cluster==0')"
   ]
  },
  {
   "cell_type": "code",
   "execution_count": null,
   "metadata": {},
   "outputs": [],
   "source": [
    "# クラスタ 1 のテキスト\n",
    "df_cluster.query('cluster==1')"
   ]
  },
  {
   "cell_type": "code",
   "execution_count": null,
   "metadata": {},
   "outputs": [],
   "source": [
    "# クラスタ 2 のテキスト\n",
    "df_cluster.query('cluster==2')"
   ]
  }
 ],
 "metadata": {
  "kernelspec": {
   "display_name": "base",
   "language": "python",
   "name": "python3"
  },
  "language_info": {
   "codemirror_mode": {
    "name": "ipython",
    "version": 3
   },
   "file_extension": ".py",
   "mimetype": "text/x-python",
   "name": "python",
   "nbconvert_exporter": "python",
   "pygments_lexer": "ipython3",
   "version": "3.9.13 (main, Aug 25 2022, 18:24:45) \n[Clang 12.0.0 ]"
  },
  "vscode": {
   "interpreter": {
    "hash": "d451e6fd3e3a90eb92742bb146e8e20c8a00180dad068226f141e79828259f8f"
   }
  }
 },
 "nbformat": 4,
 "nbformat_minor": 4
}
