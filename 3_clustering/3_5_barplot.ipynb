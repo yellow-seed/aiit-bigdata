{
 "cells": [
  {
   "cell_type": "markdown",
   "metadata": {},
   "source": [
    "# 棒グラフの描画方法\n",
    "\n",
    "単語の出現頻度を棒グラフで描画する 3_6_barplot_BoW.ipynb で使用するため、棒グラフの描画方法を確認。"
   ]
  },
  {
   "cell_type": "code",
   "execution_count": null,
   "metadata": {},
   "outputs": [],
   "source": [
    "import pandas as pd\n",
    "import seaborn as sns\n",
    "\n",
    "# 単語と頻度\n",
    "data = [\n",
    "    ['this', 5],\n",
    "    ['is', 3],\n",
    "    ['a', 10],\n",
    "    ['pen', 2]\n",
    "]\n",
    "\n",
    "# DataFrame の作成\n",
    "df = pd.DataFrame(data)\n",
    "# 列インデックスの設定\n",
    "df.columns = ['word', 'counts']\n",
    "# 確認\n",
    "df"
   ]
  },
  {
   "cell_type": "code",
   "execution_count": null,
   "metadata": {},
   "outputs": [],
   "source": [
    "# 棒グラフの描画\n",
    "sns.barplot(x=df.word, y=df.counts)"
   ]
  },
  {
   "cell_type": "code",
   "execution_count": null,
   "metadata": {},
   "outputs": [],
   "source": [
    "# 横向きに描画\n",
    "sns.barplot(x=df.counts, y=df.word, orient='h')"
   ]
  },
  {
   "cell_type": "code",
   "execution_count": null,
   "metadata": {},
   "outputs": [],
   "source": []
  }
 ],
 "metadata": {
  "kernelspec": {
   "display_name": "base",
   "language": "python",
   "name": "python3"
  },
  "language_info": {
   "codemirror_mode": {
    "name": "ipython",
    "version": 3
   },
   "file_extension": ".py",
   "mimetype": "text/x-python",
   "name": "python",
   "nbconvert_exporter": "python",
   "pygments_lexer": "ipython3",
   "version": "3.9.13 (main, Aug 25 2022, 18:24:45) \n[Clang 12.0.0 ]"
  },
  "vscode": {
   "interpreter": {
    "hash": "d451e6fd3e3a90eb92742bb146e8e20c8a00180dad068226f141e79828259f8f"
   }
  }
 },
 "nbformat": 4,
 "nbformat_minor": 4
}
