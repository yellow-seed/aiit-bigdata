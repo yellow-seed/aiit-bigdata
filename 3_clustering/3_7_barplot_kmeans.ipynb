{
 "cells": [
  {
   "cell_type": "markdown",
   "metadata": {},
   "source": [
    "# テキストデータのクラスタリング結果の可視化 (2)\n",
    "\n",
    "- 単語の頻度およびTF-IDFの棒グラフをクラスタごとに結果を確認"
   ]
  },
  {
   "cell_type": "code",
   "execution_count": null,
   "metadata": {},
   "outputs": [],
   "source": [
    "import numpy as np\n",
    "import pandas as pd\n",
    "import seaborn as sns\n",
    "import matplotlib.pyplot as plt\n",
    "import re\n",
    "import nltk\n",
    "from nltk.corpus import wordnet\n",
    "from sklearn.feature_extraction.text import CountVectorizer\n",
    "from sklearn.feature_extraction.text import TfidfVectorizer\n",
    "from sklearn.cluster import KMeans\n",
    "\n",
    "# フィードデータの読み込み\n",
    "feeds = pd.read_csv('data/output_en.csv')\n",
    "\n",
    "# title と summary を結合して text 列を作成\n",
    "# str.cat() により複数列の文字列を結合\n",
    "# - sep=' ': 間に挟む文字列\n",
    "# - na_rep='': NaN は空文字列に変換（指定しないと結合結果が NaN になる）\n",
    "feeds['text'] = feeds['title'].str.cat(feeds['summary'], sep='. ', na_rep='')\n",
    "\n",
    "# 不要になった列を削除した処理用の DataFrame\n",
    "df = feeds.drop(['title', 'summary'], axis=1)"
   ]
  },
  {
   "cell_type": "markdown",
   "metadata": {},
   "source": [
    "### 英語テキストに対する前処理\n",
    "\n",
    "- トークン化（単語に分割）\n",
    "- 小文字化\n",
    "- ストップワードの除去\n",
    "- ステミング\n",
    "- 見出し語化"
   ]
  },
  {
   "cell_type": "code",
   "execution_count": null,
   "metadata": {},
   "outputs": [],
   "source": [
    "symbols_to_remove = r'[\"`,.' + r\"'\" + r']'\n",
    "stop_words = nltk.corpus.stopwords.words('english')\n",
    "stop_words += [\"'\", '\"', ':', ';', '.', ',', '-', '!', '?', \"'s\", '`', '•', '%']\n",
    "stop_words += ['–', '—', '‘', '’', '“', '”', '…', '|', '#', '$', '&', \"''\", '(', ')']\n",
    "stemmer = nltk.stem.porter.PorterStemmer()\n",
    "lemmatizer = nltk.stem.wordnet.WordNetLemmatizer()\n",
    "\n",
    "# 品詞の名称を変換\n",
    "def wordnet_tag(tag):\n",
    "    if tag.startswith('J'):\n",
    "        return wordnet.ADJ\n",
    "    elif tag.startswith('V'):\n",
    "        return wordnet.VERB\n",
    "    elif tag.startswith('N'):\n",
    "        return wordnet.NOUN\n",
    "    elif tag.startswith('R'):\n",
    "        return wordnet.ADV\n",
    "    return None\n",
    "\n",
    "def preprocess(text):\n",
    "    tokens = []\n",
    "    # 品詞のタグ付けをした各トークンについて\n",
    "    for t in nltk.pos_tag(nltk.tokenize.word_tokenize(text.replace('-', ' '))):\n",
    "        # 小文字化\n",
    "        t0 = t[0].lower()\n",
    "        # 不要な文字の削除\n",
    "        t0 = re.sub(symbols_to_remove, '', t0)\n",
    "        # 空文字列になったら次へ\n",
    "        if t0 == '':\n",
    "            continue\n",
    "        # stop_words に含まれていないトークンのみを残す\n",
    "        if t0 in stop_words:\n",
    "            continue\n",
    "        # カンマ区切りが入った数値からカンマを削除\n",
    "        if t[1] == 'CD':\n",
    "            t0 = t0.replace(',', '')\n",
    "        # 見出し語化\n",
    "        tag = wordnet_tag(t[1])\n",
    "        if tag is None:\n",
    "            t0 = lemmatizer.lemmatize(t0)\n",
    "        else:\n",
    "            t0 = lemmatizer.lemmatize(t0, tag)\n",
    "        # ステミング\n",
    "        t0 = stemmer.stem(t0)\n",
    "        # リストに追加\n",
    "        tokens.append(t0)\n",
    "    # トークンのリストを返す\n",
    "    return tokens"
   ]
  },
  {
   "cell_type": "markdown",
   "metadata": {},
   "source": [
    "### テキストのベクトル化"
   ]
  },
  {
   "cell_type": "code",
   "execution_count": null,
   "metadata": {},
   "outputs": [],
   "source": [
    "# BoW でベクトル化\n",
    "vectorizer_bow = CountVectorizer(tokenizer=preprocess)\n",
    "vector_bow = vectorizer_bow.fit_transform(df.text)\n",
    "\n",
    "# TF-IDF でベクトル化\n",
    "vectorizer_tfidf = TfidfVectorizer(tokenizer=preprocess)\n",
    "vector_tfidf = vectorizer_tfidf.fit_transform(df.text)"
   ]
  },
  {
   "cell_type": "markdown",
   "metadata": {},
   "source": [
    "### 非階層的クラスタリング\n",
    "\n",
    "- TF-IDF の結果をクラスタリング"
   ]
  },
  {
   "cell_type": "code",
   "execution_count": null,
   "metadata": {},
   "outputs": [],
   "source": [
    "# クラスタ数\n",
    "N_clusters = 10\n",
    "\n",
    "# KMeans の初期化\n",
    "clusters = KMeans(n_clusters=N_clusters).fit_predict(vector_tfidf)\n",
    "\n",
    "# 結果を DataFrame にまとめる\n",
    "df_cluster = pd.DataFrame(clusters, columns=['cluster'])"
   ]
  },
  {
   "cell_type": "markdown",
   "metadata": {},
   "source": [
    "### クラスタごとの結果を確認\n",
    "\n",
    "- クラスタごとに、頻度とTF-IDFの棒グラフを描画"
   ]
  },
  {
   "cell_type": "code",
   "execution_count": null,
   "metadata": {},
   "outputs": [],
   "source": [
    "# 単語の DataFrame (BoW)\n",
    "df_words_bow = pd.DataFrame(vectorizer_bow.get_feature_names_out())\n",
    "\n",
    "# テキストを BoW ベクトル化した結果を DataFrame\n",
    "df_vector_bow = pd.DataFrame.sparse.from_spmatrix(vector_bow)\n",
    "\n",
    "# 単語の DataFrame (TF-IDF)\n",
    "df_words_tfidf = pd.DataFrame(vectorizer_tfidf.get_feature_names_out())\n",
    "\n",
    "# テキストをベクトル化した結果の DataFrame\n",
    "df_vector_tfidf = pd.DataFrame.sparse.from_spmatrix(vector_tfidf)\n",
    "\n",
    "for i in range(0, N_clusters):\n",
    "    print('Cluster', i)\n",
    "    _cdf = df_cluster[df_cluster['cluster'] == i]\n",
    "\n",
    "    # 頻度の棒グラフ\n",
    "    df_counts = pd.concat([df_words_bow, df_vector_bow.iloc[_cdf.index].sum()], axis=1)\n",
    "    df_counts.columns=['word', 'counts']\n",
    "    df_bar_bow = df_counts.sort_values('counts', ascending=False).head(10)\n",
    "    sns.barplot(x=df_bar_bow.counts, y=df_bar_bow.word, orient='h')\n",
    "    plt.show()\n",
    "    \n",
    "    # TF-IDFの棒グラフ\n",
    "    _cdf_max = df_vector_tfidf.iloc[_cdf.index].max()\n",
    "    df_max = pd.concat([df_words_tfidf, _cdf_max], axis=1)\n",
    "    df_max.columns=['word', 'max']\n",
    "    df_bar_tfidf = df_max.sort_values('max', ascending=False).head(10)\n",
    "    sns.barplot(x=df_bar_tfidf['max'], y=df_bar_tfidf.word, orient='h')\n",
    "    plt.show()"
   ]
  },
  {
   "cell_type": "code",
   "execution_count": null,
   "metadata": {},
   "outputs": [],
   "source": []
  }
 ],
 "metadata": {
  "kernelspec": {
   "display_name": "Python 3.9.13 ('base')",
   "language": "python",
   "name": "python3"
  },
  "language_info": {
   "codemirror_mode": {
    "name": "ipython",
    "version": 3
   },
   "file_extension": ".py",
   "mimetype": "text/x-python",
   "name": "python",
   "nbconvert_exporter": "python",
   "pygments_lexer": "ipython3",
   "version": "3.9.13 (main, Aug 25 2022, 18:24:45) \n[Clang 12.0.0 ]"
  },
  "vscode": {
   "interpreter": {
    "hash": "d451e6fd3e3a90eb92742bb146e8e20c8a00180dad068226f141e79828259f8f"
   }
  }
 },
 "nbformat": 4,
 "nbformat_minor": 4
}
