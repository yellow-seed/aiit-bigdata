{
 "cells": [
  {
   "cell_type": "markdown",
   "metadata": {},
   "source": [
    "# spaCy を用いた英語テキストの前処理\n",
    "\n",
    "### ソフトウェアのインストール\n",
    "\n",
    "spaCy\n",
    "```\n",
    "conda install spacy\n",
    "python -m spacy download en_core_web_lg\n",
    "```\n",
    "- https://spacy.io/usage\n",
    "- https://anaconda.org/anaconda/spacy\n",
    "\n",
    "### 処理内容\n",
    "\n",
    "- 前処理\n",
    "- ベクトル化\n",
    "\n",
    "### spaCy の日本語モデル\n",
    "\n",
    "- 以下の spaCy の英語モデルのロードでエラーが出る場合はノートブックをリスタート"
   ]
  },
  {
   "cell_type": "code",
   "execution_count": null,
   "metadata": {},
   "outputs": [],
   "source": [
    "import spacy\n",
    "\n",
    "# 英語モデル\n",
    "nlp = spacy.load('en_core_web_lg')"
   ]
  },
  {
   "cell_type": "code",
   "execution_count": null,
   "metadata": {},
   "outputs": [],
   "source": [
    "import pandas as pd\n",
    "import re\n",
    "\n",
    "# フィードデータの読み込み\n",
    "feeds = pd.read_csv('data/output_en.csv')\n",
    "\n",
    "# title と summary を結合して text 列を作成\n",
    "feeds['text'] = feeds['title'].str.cat(feeds['summary'], sep='. ', na_rep='')\n",
    "\n",
    "# 不要になった列を削除した処理用の DataFrame\n",
    "df = feeds.drop(['title', 'summary'], axis=1)\n",
    "\n",
    "# 確認\n",
    "df"
   ]
  },
  {
   "cell_type": "markdown",
   "metadata": {},
   "source": [
    "### 英語テキストに対する前処理\n",
    "\n",
    "以下をまとめて行う関数 preprocess() を定義\n",
    "- トークン化（単語に分割）\n",
    "- 小文字化\n",
    "- ストップワードの除去\n",
    "- 見出し語化\n",
    "\n",
    "（spaCyは、ステミング機能を提供していない）"
   ]
  },
  {
   "cell_type": "code",
   "execution_count": null,
   "metadata": {},
   "outputs": [],
   "source": [
    "# 不要な単語を除去\n",
    "# - ストップワード (is_stop)\n",
    "# - いくつかの品詞\n",
    "#     PUNCT: 句読点\n",
    "#     SPACE: 空白文字\n",
    "#     SYM: 記号\n",
    "#     X: その他\n",
    "stop_pos = ['PUNCT', 'SPACE', 'SYM', 'X']\n",
    "# うまく取り除けない単語や文字があれば追加\n",
    "stop_words = []\n",
    "\n",
    "def token_to_add(w):\n",
    "    t = w.text    # 単語\n",
    "    p = w.pos_    # 品詞\n",
    "    l = w.lemma_  # 原型\n",
    "\n",
    "    # ストップワードは None を返す\n",
    "    if w.is_stop:\n",
    "        return None\n",
    "    if p in stop_pos:\n",
    "        return None\n",
    "    if l in stop_words:\n",
    "        return None\n",
    "\n",
    "    if len(l) == 0:\n",
    "        return t\n",
    "    return l\n",
    "\n",
    "def preprocess(text):\n",
    "    tokens = []\n",
    "    \n",
    "    for w in nlp(text):\n",
    "        t = token_to_add(w)\n",
    "        if t is not None:\n",
    "            tokens.append(t)\n",
    "\n",
    "    # トークンのリストを返す\n",
    "    return tokens"
   ]
  },
  {
   "cell_type": "markdown",
   "metadata": {},
   "source": [
    "### テキストのベクトル化 (1)\n",
    "\n",
    "- Bag of Words (BoW)"
   ]
  },
  {
   "cell_type": "code",
   "execution_count": null,
   "metadata": {},
   "outputs": [],
   "source": [
    "from sklearn.feature_extraction.text import CountVectorizer\n",
    "\n",
    "# 例として最初の2行のテキストを処理\n",
    "text_list = [df['text'].iloc[0], df['text'].iloc[1]]\n",
    "\n",
    "# CountVectorizer\n",
    "# - tokenizer=preprocess: トークン化処理に上で定義した preprocess を使用することを指定\n",
    "vectorizer = CountVectorizer(tokenizer=preprocess)\n",
    "\n",
    "# ベクトル化\n",
    "vector = vectorizer.fit_transform(text_list)"
   ]
  },
  {
   "cell_type": "code",
   "execution_count": null,
   "metadata": {},
   "outputs": [],
   "source": [
    "# 1行目\n",
    "print(text_list[0])\n",
    "print(vector[0])"
   ]
  },
  {
   "cell_type": "code",
   "execution_count": null,
   "metadata": {},
   "outputs": [],
   "source": [
    "# ベクトルの単語との対応\n",
    "for i in vector[0].indices:\n",
    "    # print()\n",
    "    # - end=' ': 改行の代わりに空白を出力\n",
    "    print(vectorizer.get_feature_names_out()[i], end=' ')"
   ]
  },
  {
   "cell_type": "code",
   "execution_count": null,
   "metadata": {},
   "outputs": [],
   "source": [
    "# 単語と頻度\n",
    "[[vectorizer.get_feature_names_out()[i], vector[0, i]] for i in vector[0].indices]"
   ]
  },
  {
   "cell_type": "code",
   "execution_count": null,
   "metadata": {},
   "outputs": [],
   "source": [
    "# 2行目\n",
    "print(text_list[1])\n",
    "print(vector[1])"
   ]
  },
  {
   "cell_type": "code",
   "execution_count": null,
   "metadata": {},
   "outputs": [],
   "source": [
    "# ベクトルの単語との対応\n",
    "for i in vector[1].indices:\n",
    "    print(vectorizer.get_feature_names_out()[i], end=' ')"
   ]
  },
  {
   "cell_type": "code",
   "execution_count": null,
   "metadata": {},
   "outputs": [],
   "source": [
    "# 単語と頻度\n",
    "[[vectorizer.get_feature_names_out()[i], vector[1, i]] for i in vector[1].indices]"
   ]
  },
  {
   "cell_type": "markdown",
   "metadata": {},
   "source": [
    "### テキストのベクトル化 (2)\n",
    "\n",
    "- TF-IDF"
   ]
  },
  {
   "cell_type": "code",
   "execution_count": null,
   "metadata": {},
   "outputs": [],
   "source": [
    "from sklearn.feature_extraction.text import TfidfVectorizer\n",
    "\n",
    "# 例として最初の2行のテキストを処理\n",
    "text_list = [df['text'].iloc[0], df['text'].iloc[1]]\n",
    "\n",
    "# TfidfVectorizer\n",
    "# - tokenizer=preprocess: トークン化処理に上で定義した preprocess を使用することを指定\n",
    "vectorizer = TfidfVectorizer(tokenizer=preprocess)\n",
    "\n",
    "# ベクトル化\n",
    "vector = vectorizer.fit_transform(text_list)"
   ]
  },
  {
   "cell_type": "code",
   "execution_count": null,
   "metadata": {},
   "outputs": [],
   "source": [
    "# 1行目\n",
    "print(text_list[0])\n",
    "print(vector[0])"
   ]
  },
  {
   "cell_type": "code",
   "execution_count": null,
   "metadata": {},
   "outputs": [],
   "source": [
    "# ベクトルの単語との対応\n",
    "for i in vector[0].indices:\n",
    "    print(vectorizer.get_feature_names_out()[i], end=' ')"
   ]
  },
  {
   "cell_type": "code",
   "execution_count": null,
   "metadata": {},
   "outputs": [],
   "source": [
    "# 単語とTF-IDF\n",
    "[[vectorizer.get_feature_names_out()[i], vector[0, i]] for i in vector[0].indices]"
   ]
  }
 ],
 "metadata": {
  "kernelspec": {
   "display_name": "base",
   "language": "python",
   "name": "python3"
  },
  "language_info": {
   "codemirror_mode": {
    "name": "ipython",
    "version": 3
   },
   "file_extension": ".py",
   "mimetype": "text/x-python",
   "name": "python",
   "nbconvert_exporter": "python",
   "pygments_lexer": "ipython3",
   "version": "3.9.13 (main, Aug 25 2022, 18:24:45) \n[Clang 12.0.0 ]"
  },
  "vscode": {
   "interpreter": {
    "hash": "d451e6fd3e3a90eb92742bb146e8e20c8a00180dad068226f141e79828259f8f"
   }
  }
 },
 "nbformat": 4,
 "nbformat_minor": 4
}
