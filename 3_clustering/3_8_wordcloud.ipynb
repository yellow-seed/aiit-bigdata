{
 "cells": [
  {
   "cell_type": "markdown",
   "metadata": {},
   "source": [
    "# ワードクラウドの描画方法\n",
    "\n",
    "wordcloud によるワードクラウドの描画\n",
    "\n",
    "### ソフトウェアのインストール\n",
    "\n",
    "wordcloud のインストール<br>\n",
    "https://anaconda.org/conda-forge/wordcloud\n",
    "\n",
    "1. pythonがconda-forgeに置き換えられてしまっても構わなければ、普通にインストールも可能\n",
    "\n",
    "```\n",
    "conda install -c conda-forge wordcloud \n",
    "```\n",
    "\n",
    "2. 仮想環境を作成してインストール\n",
    "\n",
    "```\n",
    "conda create -n wordcloud -c conda-forge python=3.9 wordcloud matplotlib pandas jupyterlab nltk scikit-learn\n",
    "```\n",
    "\n",
    "仮想環境への移動\n",
    "```\n",
    "conda activate wordcloud\n",
    "```\n",
    "\n",
    "仮想環境の終了\n",
    "```\n",
    "conda deactivate\n",
    "```"
   ]
  },
  {
   "cell_type": "code",
   "execution_count": null,
   "metadata": {},
   "outputs": [],
   "source": [
    "import pandas as pd\n",
    "import matplotlib.pyplot as plt\n",
    "from wordcloud import WordCloud\n",
    "\n",
    "# 単語と頻度\n",
    "data = [\n",
    "    ['this', 5],\n",
    "    ['is', 3],\n",
    "    ['a', 10],\n",
    "    ['pen', 2]\n",
    "]\n",
    "\n",
    "# DataFrame の作成\n",
    "df = pd.DataFrame(data)\n",
    "# 列インデックスの設定\n",
    "df.columns = ['word', 'counts']\n",
    "# 確認\n",
    "df"
   ]
  },
  {
   "cell_type": "code",
   "execution_count": null,
   "metadata": {},
   "outputs": [],
   "source": [
    "# dict 型に変換\n",
    "freq = df.set_index('word').to_dict()['counts']\n",
    "# 確認\n",
    "freq"
   ]
  },
  {
   "cell_type": "code",
   "execution_count": null,
   "metadata": {},
   "outputs": [],
   "source": [
    "# ワードクラウドの作成\n",
    "wordcloud = WordCloud(background_color='white').fit_words(freq)\n",
    "# 軸を消す\n",
    "plt.axis('off')\n",
    "# 描画\n",
    "plt.imshow(wordcloud)"
   ]
  },
  {
   "cell_type": "code",
   "execution_count": null,
   "metadata": {},
   "outputs": [],
   "source": []
  }
 ],
 "metadata": {
  "kernelspec": {
   "display_name": "Python 3.9.13 ('base')",
   "language": "python",
   "name": "python3"
  },
  "language_info": {
   "codemirror_mode": {
    "name": "ipython",
    "version": 3
   },
   "file_extension": ".py",
   "mimetype": "text/x-python",
   "name": "python",
   "nbconvert_exporter": "python",
   "pygments_lexer": "ipython3",
   "version": "3.9.13 (main, Aug 25 2022, 18:24:45) \n[Clang 12.0.0 ]"
  },
  "vscode": {
   "interpreter": {
    "hash": "d451e6fd3e3a90eb92742bb146e8e20c8a00180dad068226f141e79828259f8f"
   }
  }
 },
 "nbformat": 4,
 "nbformat_minor": 4
}
