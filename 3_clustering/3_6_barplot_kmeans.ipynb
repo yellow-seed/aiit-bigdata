{
 "cells": [
  {
   "cell_type": "markdown",
   "metadata": {},
   "source": [
    "# テキストデータのクラスタリング結果の可視化\n",
    "\n",
    "- 単語の頻度およびTF-IDFの棒グラフによるクラスタリング結果の可視化の手順"
   ]
  },
  {
   "cell_type": "code",
   "execution_count": null,
   "metadata": {},
   "outputs": [],
   "source": [
    "import numpy as np\n",
    "import pandas as pd\n",
    "import seaborn as sns\n",
    "import matplotlib.pyplot as plt\n",
    "import re\n",
    "import nltk\n",
    "from nltk.corpus import wordnet\n",
    "from sklearn.feature_extraction.text import CountVectorizer\n",
    "from sklearn.feature_extraction.text import TfidfVectorizer\n",
    "from sklearn.cluster import KMeans\n",
    "\n",
    "# フィードデータの読み込み\n",
    "feeds = pd.read_csv('data/output_en.csv')\n",
    "\n",
    "# title と summary を結合して text 列を作成\n",
    "feeds['text'] = feeds['title'].str.cat(feeds['summary'], sep='. ', na_rep='')\n",
    "\n",
    "# 不要になった列を削除した処理用の DataFrame\n",
    "df = feeds.drop(['title', 'summary'], axis=1)"
   ]
  },
  {
   "cell_type": "markdown",
   "metadata": {},
   "source": [
    "### 英語テキストに対する前処理\n",
    "\n",
    "- トークン化（単語に分割）\n",
    "- 小文字化\n",
    "- ストップワードの除去\n",
    "- ステミング\n",
    "- 見出し語化"
   ]
  },
  {
   "cell_type": "code",
   "execution_count": null,
   "metadata": {},
   "outputs": [],
   "source": [
    "symbols_to_remove = r'[\"`,.' + r\"'\" + r']'\n",
    "stop_words = nltk.corpus.stopwords.words('english')\n",
    "stop_words += [\"'\", '\"', ':', ';', '.', ',', '-', '!', '?', \"'s\", '`', '•', '%']\n",
    "stop_words += ['–', '—', '‘', '’', '“', '”', '…', '|', '#', '$', '&', \"''\", '(', ')']\n",
    "stemmer = nltk.stem.porter.PorterStemmer()\n",
    "lemmatizer = nltk.stem.wordnet.WordNetLemmatizer()\n",
    "\n",
    "# 品詞の名称を変換\n",
    "def wordnet_tag(tag):\n",
    "    if tag.startswith('J'):\n",
    "        return wordnet.ADJ\n",
    "    elif tag.startswith('V'):\n",
    "        return wordnet.VERB\n",
    "    elif tag.startswith('N'):\n",
    "        return wordnet.NOUN\n",
    "    elif tag.startswith('R'):\n",
    "        return wordnet.ADV\n",
    "    return None\n",
    "\n",
    "def preprocess(text):\n",
    "    tokens = []\n",
    "    # 品詞のタグ付けをした各トークンについて\n",
    "    for t in nltk.pos_tag(nltk.tokenize.word_tokenize(text.replace('-', ' '))):\n",
    "        # 小文字化\n",
    "        t0 = t[0].lower()\n",
    "        # 不要な文字の削除\n",
    "        t0 = re.sub(symbols_to_remove, '', t0)\n",
    "        # 空文字列になったら次へ\n",
    "        if t0 == '':\n",
    "            continue\n",
    "        # stop_words に含まれていないトークンのみを残す\n",
    "        if t0 in stop_words:\n",
    "            continue\n",
    "        # カンマ区切りが入った数値からカンマを削除\n",
    "        if t[1] == 'CD':\n",
    "            t0 = t0.replace(',', '')\n",
    "        # 見出し語化\n",
    "        tag = wordnet_tag(t[1])\n",
    "        if tag is None:\n",
    "            t0 = lemmatizer.lemmatize(t0)\n",
    "        else:\n",
    "            t0 = lemmatizer.lemmatize(t0, tag)\n",
    "        # ステミング\n",
    "        t0 = stemmer.stem(t0)\n",
    "        # リストに追加\n",
    "        tokens.append(t0)\n",
    "    # トークンのリストを返す\n",
    "    return tokens"
   ]
  },
  {
   "cell_type": "markdown",
   "metadata": {},
   "source": [
    "### テキストのベクトル化"
   ]
  },
  {
   "cell_type": "code",
   "execution_count": null,
   "metadata": {},
   "outputs": [],
   "source": [
    "# BoW でベクトル化\n",
    "vectorizer_bow = CountVectorizer(tokenizer=preprocess)\n",
    "vector_bow = vectorizer_bow.fit_transform(df.text)\n",
    "\n",
    "# TF-IDF でベクトル化\n",
    "vectorizer_tfidf = TfidfVectorizer(tokenizer=preprocess)\n",
    "vector_tfidf = vectorizer_tfidf.fit_transform(df.text)"
   ]
  },
  {
   "cell_type": "markdown",
   "metadata": {},
   "source": [
    "### 非階層的クラスタリング\n",
    "\n",
    "TF-IDF の結果をクラスタリング"
   ]
  },
  {
   "cell_type": "code",
   "execution_count": null,
   "metadata": {},
   "outputs": [],
   "source": [
    "# KMeans の初期化\n",
    "# - クラスタ数：10\n",
    "clusters = KMeans(n_clusters=10).fit_predict(vector_tfidf)\n",
    "\n",
    "# 結果を DataFrame にまとめる\n",
    "df_cluster = pd.DataFrame(clusters, columns=['cluster'])\n",
    "\n",
    "# 確認しやすいようにテキストを追加（棒グラフの描画には不要）\n",
    "df_cluster['text'] = df.text\n",
    "\n",
    "# 確認\n",
    "df_cluster"
   ]
  },
  {
   "cell_type": "code",
   "execution_count": null,
   "metadata": {},
   "outputs": [],
   "source": [
    "# クラスタ 0 のテキスト\n",
    "df_cluster.query('cluster==0')"
   ]
  },
  {
   "cell_type": "markdown",
   "metadata": {},
   "source": [
    "### クラスタごとの棒グラフ（頻度）\n",
    "\n",
    "特定のクラスタのみの単語の頻度の棒グラフを描画し、手順を確認。\n",
    "\n",
    "1. テキストの BoW ベクトルの DataFrame を作成\n",
    "2. クラスタ 0 の DataFrame を作成\n",
    "3. クラスタ 0 に含まれる行の BoW ベクトルを取り出し、頻度を合計\n",
    "4. 単語の DataFrame を作成\n",
    "5. 3で作成した頻度の合計と、4で作成した単語の DataFrame を結合し、単語とその頻度からなる DataFrame を作成\n",
    "6. 降順でソートして、頻度が上位の単語を棒グラフで描画"
   ]
  },
  {
   "cell_type": "code",
   "execution_count": null,
   "metadata": {},
   "outputs": [],
   "source": [
    "# テキストを BoW ベクトル化した結果を DataFrame にする\n",
    "# - vector が疎行列であるため pd.DataFrame.sparse.from_spmatrix を用いる\n",
    "df_vector_bow = pd.DataFrame.sparse.from_spmatrix(vector_bow)\n",
    "# 確認\n",
    "df_vector_bow"
   ]
  },
  {
   "cell_type": "code",
   "execution_count": null,
   "metadata": {},
   "outputs": [],
   "source": [
    "# クラスタ 0 を取り出し DataFrame にする\n",
    "_cdf = df_cluster.query('cluster==0')\n",
    "# 確認\n",
    "_cdf"
   ]
  },
  {
   "cell_type": "code",
   "execution_count": null,
   "metadata": {},
   "outputs": [],
   "source": [
    "# クラスタ 0 に含まれる行の BoW ベクトル\n",
    "df_vector_bow.iloc[_cdf.index]"
   ]
  },
  {
   "cell_type": "code",
   "execution_count": null,
   "metadata": {},
   "outputs": [],
   "source": [
    "# 単語特徴量ベクトルの頻度の合計\n",
    "_cdf_sum = df_vector_bow.iloc[_cdf.index].sum()\n",
    "# 確認\n",
    "_cdf_sum"
   ]
  },
  {
   "cell_type": "code",
   "execution_count": null,
   "metadata": {},
   "outputs": [],
   "source": [
    "# 単語を DataFrame にする\n",
    "df_words_bow = pd.DataFrame(vectorizer_bow.get_feature_names_out())\n",
    "# 確認\n",
    "df_words_bow"
   ]
  },
  {
   "cell_type": "code",
   "execution_count": null,
   "metadata": {},
   "outputs": [],
   "source": [
    "# 単語と頻度を結合した DataFrame を作成\n",
    "df_counts = pd.concat([df_words_bow, _cdf_sum], axis=1)\n",
    "\n",
    "# 列インデックスを付ける\n",
    "df_counts.columns=['word', 'counts']\n",
    "\n",
    "# 頻度 counts で降順でソートし、多く現れる単語 10 個を取得\n",
    "df_bar_bow = df_counts.sort_values('counts', ascending=False).head(10)\n",
    "\n",
    "# 確認\n",
    "df_bar_bow"
   ]
  },
  {
   "cell_type": "code",
   "execution_count": null,
   "metadata": {},
   "outputs": [],
   "source": [
    "sns.barplot(x=df_bar_bow.counts, y=df_bar_bow.word, orient='h')"
   ]
  },
  {
   "cell_type": "markdown",
   "metadata": {},
   "source": [
    "### クラスタごとの棒グラフ（TF-IDF）\n",
    "\n",
    "BoW と異なる点\n",
    "- BoW では単語ごとの頻度の合計 `df_vector.iloc[_cdf.index].sum()`\n",
    "- TF-IDF では単語ごとの最大値 `df_vector.iloc[_cdf.index].max()`"
   ]
  },
  {
   "cell_type": "code",
   "execution_count": null,
   "metadata": {},
   "outputs": [],
   "source": [
    "# 単語の DataFrame\n",
    "df_words_tfidf = pd.DataFrame(vectorizer_tfidf.get_feature_names_out())\n",
    "\n",
    "# テキストをベクトル化した結果の DataFrame\n",
    "df_vector_tfidf = pd.DataFrame.sparse.from_spmatrix(vector_tfidf)\n",
    "\n",
    "# TF-IDFの棒グラフ\n",
    "_cdf = df_cluster[df_cluster['cluster'] == 0]\n",
    "_cdf_max = df_vector_tfidf.iloc[_cdf.index].max()\n",
    "df_max = pd.concat([df_words_tfidf, _cdf_max], axis=1)\n",
    "df_max.columns=['word', 'max']\n",
    "df_bar_tfidf = df_max.sort_values('max', ascending=False).head(10)\n",
    "sns.barplot(x=df_bar_tfidf['max'], y=df_bar_tfidf.word, orient='h')\n",
    "plt.show()"
   ]
  },
  {
   "cell_type": "code",
   "execution_count": null,
   "metadata": {},
   "outputs": [],
   "source": []
  }
 ],
 "metadata": {
  "kernelspec": {
   "display_name": "base",
   "language": "python",
   "name": "python3"
  },
  "language_info": {
   "codemirror_mode": {
    "name": "ipython",
    "version": 3
   },
   "file_extension": ".py",
   "mimetype": "text/x-python",
   "name": "python",
   "nbconvert_exporter": "python",
   "pygments_lexer": "ipython3",
   "version": "3.9.13 (main, Aug 25 2022, 18:24:45) \n[Clang 12.0.0 ]"
  },
  "vscode": {
   "interpreter": {
    "hash": "d451e6fd3e3a90eb92742bb146e8e20c8a00180dad068226f141e79828259f8f"
   }
  }
 },
 "nbformat": 4,
 "nbformat_minor": 4
}
