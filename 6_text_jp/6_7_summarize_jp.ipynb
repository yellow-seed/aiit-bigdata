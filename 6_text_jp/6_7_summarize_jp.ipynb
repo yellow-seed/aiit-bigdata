{
 "cells": [
  {
   "cell_type": "markdown",
   "metadata": {},
   "source": [
    "# 要約\n",
    "\n",
    "### ソフトウェアのインストール\n",
    "\n",
    "sumy, tinysegmenter\n",
    "```\n",
    "conda install -c conda-forge sumy tinysegmenter\n",
    "```\n",
    "- https://anaconda.org/conda-forge/sumy\n",
    "- https://anaconda.org/conda-forge/tinysegmenter\n",
    "\n",
    "### テキストデータ\n",
    "\n",
    "青空文庫　北大路魯山人「料理の秘訣」<br>\n",
    "https://www.aozora.gr.jp/cards/001403/card54988.html\n",
    "- テキストファイル 54988_ruby_50511.zip をダウンロード\n",
    "- 最初と最後の本文以外を削除\n",
    "\n",
    "参考\n",
    "- https://www.inoue-kobo.com/ai_ml/sumy-aozora/index.html\n",
    "- http://maruo51.com/2019/07/07/python-sumy/"
   ]
  },
  {
   "cell_type": "code",
   "execution_count": null,
   "metadata": {},
   "outputs": [],
   "source": [
    "import pandas as pd\n",
    "import re\n",
    "import spacy\n",
    "\n",
    "file = 'data/ryorino_hiketsu.txt'\n",
    "\n",
    "with open(file, 'r', encoding='shift_jis') as f:\n",
    "    text = f.read()\n",
    "\n",
    "# ルビ、注釈を削除\n",
    "text = re.sub(r'《.+?》', '', text)\n",
    "text = re.sub(r'［＃.+?］', '', text)\n",
    "text = re.sub(r'\\n', '', text)"
   ]
  },
  {
   "cell_type": "markdown",
   "metadata": {},
   "source": [
    "### テキストの準備"
   ]
  },
  {
   "cell_type": "code",
   "execution_count": null,
   "metadata": {},
   "outputs": [],
   "source": [
    "# 日本語モデル\n",
    "nlp = spacy.load('ja_core_news_lg')\n",
    "\n",
    "# 1行ずつ、分かち書きに変換\n",
    "corpus = []\n",
    "original = []\n",
    "doc = nlp(text)\n",
    "for s in doc.sents:\n",
    "    original.append(s)\n",
    "    tokens = []\n",
    "    for t in s:\n",
    "        if t.pos_ not in ['SPACE']:\n",
    "            tokens.append(t.lemma_)\n",
    "    corpus.append(' '.join(tokens))\n",
    "\n",
    "# サイズの確認\n",
    "print(len(corpus))\n",
    "print(len(original))"
   ]
  },
  {
   "cell_type": "markdown",
   "metadata": {},
   "source": [
    "### 要約の作成\n",
    "\n",
    "- 頻出単語を含む文を選択\n",
    "- 文を作成しているわけではない"
   ]
  },
  {
   "cell_type": "code",
   "execution_count": null,
   "metadata": {},
   "outputs": [],
   "source": [
    "from sumy.parsers.plaintext import PlaintextParser\n",
    "from sumy.nlp.tokenizers import Tokenizer\n",
    "from sumy.summarizers.lex_rank import LexRankSummarizer\n",
    "\n",
    "# corpusをトークン化\n",
    "parser = PlaintextParser.from_string(''.join(corpus), Tokenizer('japanese'))\n",
    "\n",
    "# 初期化\n",
    "summarizer = LexRankSummarizer()\n",
    "# 空白を除外\n",
    "summarizer.stop_words = [' ']\n",
    "\n",
    "# 要約\n",
    "# - sentences_count=3: 3行に要約\n",
    "summary = summarizer(document=parser.document, sentences_count=3)\n",
    "\n",
    "# 元の文を表示\n",
    "# - 見出し語 (lemma) の分かち書きから、元の文を検索して表示\n",
    "for sentence in summary:\n",
    "    print(original[corpus.index(sentence.__str__())])"
   ]
  },
  {
   "cell_type": "markdown",
   "metadata": {},
   "source": [
    "<hr>\n",
    "\n",
    "注意\n",
    "- 文章によってうまくいくものと、いかないものがある\n",
    "- 上記は、いくつか試したなかで、うまくいったもの"
   ]
  }
 ],
 "metadata": {
  "kernelspec": {
   "display_name": "Python 3 (ipykernel)",
   "language": "python",
   "name": "python3"
  },
  "language_info": {
   "codemirror_mode": {
    "name": "ipython",
    "version": 3
   },
   "file_extension": ".py",
   "mimetype": "text/x-python",
   "name": "python",
   "nbconvert_exporter": "python",
   "pygments_lexer": "ipython3",
   "version": "3.9.15"
  }
 },
 "nbformat": 4,
 "nbformat_minor": 4
}
