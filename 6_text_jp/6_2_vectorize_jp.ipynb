{
 "cells": [
  {
   "cell_type": "markdown",
   "metadata": {},
   "source": [
    "# 日本語テキストのベクトル化\n",
    "\n",
    "- 日本語テキストに対する前処理を preprocess() として定義\n",
    "- CountVectorizer, TfidfVectorizer から preprocess() を呼び出し"
   ]
  },
  {
   "cell_type": "code",
   "execution_count": 2,
   "metadata": {},
   "outputs": [
    {
     "data": {
      "text/html": [
       "<div>\n",
       "<style scoped>\n",
       "    .dataframe tbody tr th:only-of-type {\n",
       "        vertical-align: middle;\n",
       "    }\n",
       "\n",
       "    .dataframe tbody tr th {\n",
       "        vertical-align: top;\n",
       "    }\n",
       "\n",
       "    .dataframe thead th {\n",
       "        text-align: right;\n",
       "    }\n",
       "</style>\n",
       "<table border=\"1\" class=\"dataframe\">\n",
       "  <thead>\n",
       "    <tr style=\"text-align: right;\">\n",
       "      <th></th>\n",
       "      <th>url</th>\n",
       "      <th>text</th>\n",
       "    </tr>\n",
       "  </thead>\n",
       "  <tbody>\n",
       "    <tr>\n",
       "      <th>0</th>\n",
       "      <td>https://www.nhk.or.jp/rss/news/cat0.xml</td>\n",
       "      <td>大阪 クリニック放火事件からまもなく1年 遺族が手記公開。大阪のビルでクリニックが放火され、...</td>\n",
       "    </tr>\n",
       "    <tr>\n",
       "      <th>1</th>\n",
       "      <td>https://www.nhk.or.jp/rss/news/cat0.xml</td>\n",
       "      <td>ワールドカップ 日本 森保監督 今大会の成果と今後の課題は。サッカーのワールドカップカタール...</td>\n",
       "    </tr>\n",
       "    <tr>\n",
       "      <th>2</th>\n",
       "      <td>https://www.nhk.or.jp/rss/news/cat0.xml</td>\n",
       "      <td>ロシア空軍基地に“ウクライナ軍の無人機攻撃” 大きな打撃か。ロシア国内の複数の空軍基地で爆発...</td>\n",
       "    </tr>\n",
       "    <tr>\n",
       "      <th>3</th>\n",
       "      <td>https://www.nhk.or.jp/rss/news/cat0.xml</td>\n",
       "      <td>サッカー日本代表 たどり着いたもう1つの“新しい景色”。11月20日に開幕したサッカーのワー...</td>\n",
       "    </tr>\n",
       "    <tr>\n",
       "      <th>4</th>\n",
       "      <td>https://www.nhk.or.jp/rss/news/cat0.xml</td>\n",
       "      <td>北朝鮮 日本海向け約100発砲撃 2日連続 “米韓両軍への警告”。韓国軍は、北朝鮮が6日、日...</td>\n",
       "    </tr>\n",
       "  </tbody>\n",
       "</table>\n",
       "</div>"
      ],
      "text/plain": [
       "                                       url  \\\n",
       "0  https://www.nhk.or.jp/rss/news/cat0.xml   \n",
       "1  https://www.nhk.or.jp/rss/news/cat0.xml   \n",
       "2  https://www.nhk.or.jp/rss/news/cat0.xml   \n",
       "3  https://www.nhk.or.jp/rss/news/cat0.xml   \n",
       "4  https://www.nhk.or.jp/rss/news/cat0.xml   \n",
       "\n",
       "                                                text  \n",
       "0  大阪 クリニック放火事件からまもなく1年 遺族が手記公開。大阪のビルでクリニックが放火され、...  \n",
       "1  ワールドカップ 日本 森保監督 今大会の成果と今後の課題は。サッカーのワールドカップカタール...  \n",
       "2  ロシア空軍基地に“ウクライナ軍の無人機攻撃” 大きな打撃か。ロシア国内の複数の空軍基地で爆発...  \n",
       "3  サッカー日本代表 たどり着いたもう1つの“新しい景色”。11月20日に開幕したサッカーのワー...  \n",
       "4  北朝鮮 日本海向け約100発砲撃 2日連続 “米韓両軍への警告”。韓国軍は、北朝鮮が6日、日...  "
      ]
     },
     "execution_count": 2,
     "metadata": {},
     "output_type": "execute_result"
    }
   ],
   "source": [
    "import pandas as pd\n",
    "import re\n",
    "import spacy\n",
    "\n",
    "# 日本語モデル\n",
    "nlp = spacy.load('ja_core_news_lg')\n",
    "\n",
    "# フィードデータの読み込み、確認\n",
    "feeds = pd.read_csv('data/output_jp.csv')\n",
    "\n",
    "# title と summary を結合\n",
    "# str.cat() により複数列の文字列を結合\n",
    "# - sep=' ': 間に挟む文字列\n",
    "# - na_rep='': NaN は空文字列に変換（指定しないと結合結果が NaN になる）\n",
    "feeds['text'] = feeds['title'].str.cat(feeds['summary'], sep='。', na_rep='')\n",
    "\n",
    "# 不要になった列を削除した処理用の DataFrame\n",
    "df = feeds.drop(['title', 'summary'], axis=1)\n",
    "\n",
    "# 確認\n",
    "df.head()"
   ]
  },
  {
   "cell_type": "markdown",
   "metadata": {},
   "source": [
    "### 日本語テキストに対する前処理\n",
    "\n",
    "preprocess(text) として定義\n",
    "- 表記の正規化\n",
    "- トークン化（形態素解析）\n",
    "- ストップワードの除去\n",
    "- 見出し語化"
   ]
  },
  {
   "cell_type": "code",
   "execution_count": 3,
   "metadata": {},
   "outputs": [],
   "source": [
    "# 不要な単語を除去\n",
    "# - ストップワード (is_stop)\n",
    "# - いくつかの品詞\n",
    "#     AUX: 助動詞\n",
    "#     PUNCT: 句読点\n",
    "#     SPACE: 空白文字\n",
    "#     SYM: 記号\n",
    "#     X: その他\n",
    "# - うまく取り除けない単語や文字\n",
    "stop_pos = ['AUX', 'PUNCT', 'SPACE', 'SYM', 'X']\n",
    "stop_words = ['.']\n",
    "\n",
    "def token_to_add(w):\n",
    "    t = w.text    # 単語\n",
    "    p = w.pos_    # 品詞\n",
    "    l = w.lemma_  # 原型\n",
    "\n",
    "    # ストップワードは None を返す\n",
    "    if w.is_stop:\n",
    "        return None\n",
    "    if p in stop_pos:\n",
    "        return None\n",
    "    if l in stop_words:\n",
    "        return None\n",
    "\n",
    "    if len(l) == 0:\n",
    "        return t\n",
    "    return l\n",
    "\n",
    "def preprocess(text):\n",
    "    tokens = []\n",
    "    \n",
    "    for w in nlp(text):\n",
    "        t = token_to_add(w)\n",
    "        if t is not None:\n",
    "            tokens.append(t)\n",
    "\n",
    "    # トークンのリストを返す\n",
    "    return tokens"
   ]
  },
  {
   "cell_type": "markdown",
   "metadata": {},
   "source": [
    "### テキストのベクトル化 (1)\n",
    "\n",
    "- Bag of Words (BoW)"
   ]
  },
  {
   "cell_type": "code",
   "execution_count": 4,
   "metadata": {},
   "outputs": [
    {
     "name": "stdout",
     "output_type": "stream",
     "text": [
      "大阪 クリニック放火事件からまもなく1年 遺族が手記公開。大阪のビルでクリニックが放火され、巻き込まれた26人が亡くなった事件からまもなく1年となるのを前に、被害者の遺族2人が報道陣に手記を寄せました。「いまだに現実を受け入れられていません」などと心情を記し、犯罪被害者の遺族への国の支援が十分でない実情を訴えています。\n",
      "  (0, 29)\t2\n",
      "  (0, 6)\t2\n",
      "  (0, 41)\t2\n",
      "  (0, 12)\t2\n",
      "  (0, 0)\t2\n",
      "  (0, 33)\t2\n",
      "  (0, 57)\t3\n",
      "  (0, 38)\t2\n",
      "  (0, 20)\t1\n",
      "  (0, 10)\t1\n",
      "  (0, 32)\t1\n",
      "  (0, 55)\t1\n",
      "  (0, 1)\t1\n",
      "  (0, 14)\t1\n",
      "  (0, 13)\t1\n",
      "  (0, 21)\t1\n",
      "  (0, 51)\t2\n",
      "  (0, 50)\t2\n",
      "  (0, 2)\t1\n",
      "  (0, 27)\t1\n",
      "  (0, 58)\t1\n",
      "  (0, 31)\t1\n",
      "  (0, 3)\t1\n",
      "  (0, 48)\t1\n",
      "  (0, 24)\t1\n",
      "  (0, 19)\t1\n",
      "  (0, 34)\t1\n",
      "  (0, 52)\t1\n",
      "  (0, 47)\t1\n",
      "  (0, 26)\t1\n",
      "  (0, 40)\t1\n",
      "  (0, 22)\t1\n",
      "  (0, 30)\t1\n",
      "  (0, 53)\t1\n"
     ]
    }
   ],
   "source": [
    "from sklearn.feature_extraction.text import CountVectorizer\n",
    "\n",
    "# 例として最初の2行のテキストを処理\n",
    "text_list = [df['text'].iloc[0], df['text'].iloc[1]]\n",
    "\n",
    "# 初期化\n",
    "# - tokenizer=preprocess: トークン化処理に上で定義した preprocess を使用することを指定\n",
    "vectorizer = CountVectorizer(tokenizer=preprocess)\n",
    "\n",
    "# ベクトル化\n",
    "vector = vectorizer.fit_transform(text_list)\n",
    "\n",
    "# 1行目\n",
    "print(text_list[0])\n",
    "print(vector[0])"
   ]
  },
  {
   "cell_type": "code",
   "execution_count": 5,
   "metadata": {},
   "outputs": [
    {
     "name": "stdout",
     "output_type": "stream",
     "text": [
      "大阪 クリニック 放火 事件 1 年 遺族 手記 公開 ビル 巻く 込む 26 人 亡くなる 前 被害 者 2人 報道 陣 寄せる いまだ 現実 受ける 入れる 心情 記す 犯罪 国 支援 十分 実情 訴える "
     ]
    }
   ],
   "source": [
    "# ベクトルの単語との対応\n",
    "for i in vector[0].indices:\n",
    "    # print()\n",
    "    # - end=' ': 改行の代わりに空白を出力\n",
    "    print(vectorizer.get_feature_names_out()[i], end=' ')"
   ]
  },
  {
   "cell_type": "code",
   "execution_count": 6,
   "metadata": {},
   "outputs": [
    {
     "data": {
      "text/plain": [
       "[['大阪', 2],\n",
       " ['クリニック', 2],\n",
       " ['放火', 2],\n",
       " ['事件', 2],\n",
       " ['1', 2],\n",
       " ['年', 2],\n",
       " ['遺族', 3],\n",
       " ['手記', 2],\n",
       " ['公開', 1],\n",
       " ['ビル', 1],\n",
       " ['巻く', 1],\n",
       " ['込む', 1],\n",
       " ['26', 1],\n",
       " ['人', 1],\n",
       " ['亡くなる', 1],\n",
       " ['前', 1],\n",
       " ['被害', 2],\n",
       " ['者', 2],\n",
       " ['2人', 1],\n",
       " ['報道', 1],\n",
       " ['陣', 1],\n",
       " ['寄せる', 1],\n",
       " ['いまだ', 1],\n",
       " ['現実', 1],\n",
       " ['受ける', 1],\n",
       " ['入れる', 1],\n",
       " ['心情', 1],\n",
       " ['記す', 1],\n",
       " ['犯罪', 1],\n",
       " ['国', 1],\n",
       " ['支援', 1],\n",
       " ['十分', 1],\n",
       " ['実情', 1],\n",
       " ['訴える', 1]]"
      ]
     },
     "execution_count": 6,
     "metadata": {},
     "output_type": "execute_result"
    }
   ],
   "source": [
    "# 単語と頻度\n",
    "[[vectorizer.get_feature_names_out()[i], vector[0, i]] for i in vector[0].indices]"
   ]
  },
  {
   "cell_type": "markdown",
   "metadata": {},
   "source": [
    "### テキストのベクトル化 (2)\n",
    "\n",
    "- TF-IDF"
   ]
  },
  {
   "cell_type": "code",
   "execution_count": 7,
   "metadata": {},
   "outputs": [
    {
     "name": "stdout",
     "output_type": "stream",
     "text": [
      "大阪 クリニック放火事件からまもなく1年 遺族が手記公開。大阪のビルでクリニックが放火され、巻き込まれた26人が亡くなった事件からまもなく1年となるのを前に、被害者の遺族2人が報道陣に手記を寄せました。「いまだに現実を受け入れられていません」などと心情を記し、犯罪被害者の遺族への国の支援が十分でない実情を訴えています。\n",
      "  (0, 53)\t0.12214667990407793\n",
      "  (0, 30)\t0.12214667990407793\n",
      "  (0, 22)\t0.12214667990407793\n",
      "  (0, 40)\t0.12214667990407793\n",
      "  (0, 26)\t0.12214667990407793\n",
      "  (0, 47)\t0.12214667990407793\n",
      "  (0, 52)\t0.12214667990407793\n",
      "  (0, 34)\t0.12214667990407793\n",
      "  (0, 19)\t0.12214667990407793\n",
      "  (0, 24)\t0.12214667990407793\n",
      "  (0, 48)\t0.12214667990407793\n",
      "  (0, 3)\t0.12214667990407793\n",
      "  (0, 31)\t0.12214667990407793\n",
      "  (0, 58)\t0.12214667990407793\n",
      "  (0, 27)\t0.12214667990407793\n",
      "  (0, 2)\t0.12214667990407793\n",
      "  (0, 50)\t0.24429335980815586\n",
      "  (0, 51)\t0.24429335980815586\n",
      "  (0, 21)\t0.12214667990407793\n",
      "  (0, 13)\t0.12214667990407793\n",
      "  (0, 14)\t0.12214667990407793\n",
      "  (0, 1)\t0.12214667990407793\n",
      "  (0, 55)\t0.12214667990407793\n",
      "  (0, 32)\t0.12214667990407793\n",
      "  (0, 10)\t0.12214667990407793\n",
      "  (0, 20)\t0.12214667990407793\n",
      "  (0, 38)\t0.24429335980815586\n",
      "  (0, 57)\t0.36644003971223377\n",
      "  (0, 33)\t0.24429335980815586\n",
      "  (0, 0)\t0.1738167375332345\n",
      "  (0, 12)\t0.24429335980815586\n",
      "  (0, 41)\t0.24429335980815586\n",
      "  (0, 6)\t0.24429335980815586\n",
      "  (0, 29)\t0.24429335980815586\n"
     ]
    }
   ],
   "source": [
    "from sklearn.feature_extraction.text import TfidfVectorizer\n",
    "\n",
    "# 例として最初の2行のテキストを処理\n",
    "text_list = [df['text'].iloc[0], df['text'].iloc[1]]\n",
    "\n",
    "# 初期化\n",
    "# - tokenizer=preprocess: トークン化処理に上で定義した preprocess を使用することを指定\n",
    "vectorizer = TfidfVectorizer(tokenizer=preprocess)\n",
    "\n",
    "# ベクトル化\n",
    "vector = vectorizer.fit_transform(text_list)\n",
    "\n",
    "# 1行目\n",
    "print(text_list[0])\n",
    "print(vector[0])"
   ]
  },
  {
   "cell_type": "code",
   "execution_count": 8,
   "metadata": {},
   "outputs": [
    {
     "name": "stdout",
     "output_type": "stream",
     "text": [
      "訴える 実情 十分 支援 国 犯罪 記す 心情 入れる 受ける 現実 いまだ 寄せる 陣 報道 2人 者 被害 前 亡くなる 人 26 込む 巻く ビル 公開 手記 遺族 年 1 事件 放火 クリニック 大阪 "
     ]
    }
   ],
   "source": [
    "# ベクトルの単語との対応\n",
    "for i in vector[0].indices:\n",
    "    # print()\n",
    "    # - end=' ': 改行の代わりに空白を出力\n",
    "    print(vectorizer.get_feature_names_out()[i], end=' ')"
   ]
  },
  {
   "cell_type": "code",
   "execution_count": 9,
   "metadata": {
    "tags": []
   },
   "outputs": [
    {
     "data": {
      "text/plain": [
       "[['訴える', 0.12214667990407793],\n",
       " ['実情', 0.12214667990407793],\n",
       " ['十分', 0.12214667990407793],\n",
       " ['支援', 0.12214667990407793],\n",
       " ['国', 0.12214667990407793],\n",
       " ['犯罪', 0.12214667990407793],\n",
       " ['記す', 0.12214667990407793],\n",
       " ['心情', 0.12214667990407793],\n",
       " ['入れる', 0.12214667990407793],\n",
       " ['受ける', 0.12214667990407793],\n",
       " ['現実', 0.12214667990407793],\n",
       " ['いまだ', 0.12214667990407793],\n",
       " ['寄せる', 0.12214667990407793],\n",
       " ['陣', 0.12214667990407793],\n",
       " ['報道', 0.12214667990407793],\n",
       " ['2人', 0.12214667990407793],\n",
       " ['者', 0.24429335980815586],\n",
       " ['被害', 0.24429335980815586],\n",
       " ['前', 0.12214667990407793],\n",
       " ['亡くなる', 0.12214667990407793],\n",
       " ['人', 0.12214667990407793],\n",
       " ['26', 0.12214667990407793],\n",
       " ['込む', 0.12214667990407793],\n",
       " ['巻く', 0.12214667990407793],\n",
       " ['ビル', 0.12214667990407793],\n",
       " ['公開', 0.12214667990407793],\n",
       " ['手記', 0.24429335980815586],\n",
       " ['遺族', 0.36644003971223377],\n",
       " ['年', 0.24429335980815586],\n",
       " ['1', 0.1738167375332345],\n",
       " ['事件', 0.24429335980815586],\n",
       " ['放火', 0.24429335980815586],\n",
       " ['クリニック', 0.24429335980815586],\n",
       " ['大阪', 0.24429335980815586]]"
      ]
     },
     "execution_count": 9,
     "metadata": {},
     "output_type": "execute_result"
    }
   ],
   "source": [
    "# 単語とTF-IDF\n",
    "[[vectorizer.get_feature_names_out()[i], vector[0, i]] for i in vector[0].indices]"
   ]
  }
 ],
 "metadata": {
  "kernelspec": {
   "display_name": "base",
   "language": "python",
   "name": "python3"
  },
  "language_info": {
   "codemirror_mode": {
    "name": "ipython",
    "version": 3
   },
   "file_extension": ".py",
   "mimetype": "text/x-python",
   "name": "python",
   "nbconvert_exporter": "python",
   "pygments_lexer": "ipython3",
   "version": "3.9.13 (main, Aug 25 2022, 18:24:45) \n[Clang 12.0.0 ]"
  },
  "vscode": {
   "interpreter": {
    "hash": "d451e6fd3e3a90eb92742bb146e8e20c8a00180dad068226f141e79828259f8f"
   }
  }
 },
 "nbformat": 4,
 "nbformat_minor": 4
}
